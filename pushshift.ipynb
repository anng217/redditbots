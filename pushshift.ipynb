{
 "cells": [
  {
   "cell_type": "markdown",
   "metadata": {},
   "source": [
    "### Library\n",
    "To run in any new computer:\n",
    "`pip install pmaw pandas`"
   ]
  },
  {
   "cell_type": "code",
   "execution_count": null,
   "metadata": {},
   "outputs": [],
   "source": [
    "import pandas as pd\n",
    "from pmaw import PushshiftAPI\n",
    "api = PushshiftAPI()\n",
    "import datetime as dt\n",
    "import numpy as np\n",
    "import praw\n",
    "import time\n",
    "#from redditbots_function import flatten_author, author_comments"
   ]
  },
  {
   "cell_type": "markdown",
   "metadata": {},
   "source": [
    "# praw Enhancement  "
   ]
  },
  {
   "cell_type": "code",
   "execution_count": null,
   "metadata": {},
   "outputs": [],
   "source": [
    "reddit = praw.Reddit(\n",
    " client_id='9wXh5oa4cfW07_eUn5Hu3A',\n",
    " client_secret='m3GnhaEvbM5LGCWX3BMghLCatOLN3g',\n",
    " user_agent=f'python: PMAW request enrichment (by u/softyarn)'\n",
    ")"
   ]
  },
  {
   "cell_type": "code",
   "execution_count": null,
   "metadata": {},
   "outputs": [],
   "source": [
    "api_praw = PushshiftAPI(praw=reddit)"
   ]
  },
  {
   "cell_type": "markdown",
   "metadata": {},
   "source": [
    "# pmaw set up"
   ]
  },
  {
   "cell_type": "code",
   "execution_count": null,
   "metadata": {},
   "outputs": [],
   "source": [
    "api = PushshiftAPI(max_sleep = 10)"
   ]
  },
  {
   "cell_type": "markdown",
   "metadata": {},
   "source": [
    "# Function"
   ]
  },
  {
   "cell_type": "code",
   "execution_count": null,
   "metadata": {},
   "outputs": [],
   "source": [
    "# needs replace\n",
    "# def bot_date(year,month,day,duration):\n",
    "#     after = int((dt.datetime(year=year,month=month,day=day)-dt.timedelta(days = duration)).timestamp())\n",
    "#     before = int((dt.datetime(year=year,month=month,day=day)+dt.timedelta(days = duration)).timestamp())\n",
    "#     impl_date = int(dt.datetime(year=year,month=month,day=day).timestamp())\n",
    "#     return after,before,impl_date \n",
    "\n",
    "def get_epoch(bot_epoch, duration):\n",
    "    before = int((dt.datetime.fromtimestamp(bot_epoch)+dt.timedelta(days = duration)).timestamp())\n",
    "    after = int((dt.datetime.fromtimestamp(bot_epoch)-dt.timedelta(days = duration)).timestamp())\n",
    "    return before, after"
   ]
  },
  {
   "cell_type": "code",
   "execution_count": null,
   "metadata": {},
   "outputs": [],
   "source": [
    "def save(save_dir,response):\n",
    "    response.to_csv(save_dir, header=True, index=False, columns=list(response.axes[1]),  encoding = 'utf-8-sig')"
   ]
  },
  {
   "cell_type": "code",
   "execution_count": null,
   "metadata": {},
   "outputs": [],
   "source": [
    "def fetch_comments(subr,save_dir, bot_epoch, duration, limit):\n",
    "    before, after = get_epoch(bot_epoch, duration)\n",
    "    comments = api.search_comments(subreddit=subr, limit=limit, before=before, after=after, safe_mem = True)\n",
    "    res = [c for c in comments]\n",
    "    df = pd.DataFrame(res)\n",
    "    save(save_dir,response=df)\n",
    "    return df"
   ]
  },
  {
   "cell_type": "code",
   "execution_count": null,
   "metadata": {},
   "outputs": [],
   "source": [
    "# def fetch_subm(subr,save_dir,year, month, day, duration, limit):\n",
    "#     after, before, impl_date = bot_date(year,month,day,duration)\n",
    "#     fetched_subm = api.search_submissions(subreddit=subr, limit=limit, before=before, after=after)\n",
    "#     fetched_subm_df = pd.DataFrame(fetched_subm)\n",
    "#     fetched_subm_df['post'] = 1\n",
    "#     fetched_subm_df.loc[fetched_subm_df['created_utc'] < impl_date,'post'] = 0\n",
    "#     save(save_dir,response=fetched_subm_df)\n",
    "#     return fetched_subm_df\n",
    "def fetch_submissions(subr,save_dir, bot_epoch, duration, limit, enhance):\n",
    "    before, after = get_epoch(bot_epoch, duration)\n",
    "    if enhance == True:\n",
    "        submissions = api_praw.search_submissions(subreddit=subr, limit=limit, before=before, after=after, safe_mem = True)\n",
    "    else:\n",
    "        submissions = api.search_submissions(subreddit=subr, limit=limit, before=before, after=after, safe_mem = True)\n",
    "    res = [c for c in submissions]\n",
    "    df = pd.DataFrame(res)\n",
    "    #df['post'] = 1\n",
    "    #df.loc[df['created_utc'] < bot_epoch,'post'] = 0\n",
    "    save(save_dir,response=df)\n",
    "    return df"
   ]
  },
  {
   "cell_type": "markdown",
   "metadata": {},
   "source": [
    "# r/femaledatingstrategy"
   ]
  },
  {
   "cell_type": "code",
   "execution_count": null,
   "metadata": {},
   "outputs": [],
   "source": [
    "#before bot. Date of bot implementation Oct 27 2019. After period\n",
    "after = int(dt.datetime(2019,10,28,8,0).timestamp())\n",
    "before = int(dt.datetime(2020,1,27,7,0).timestamp())"
   ]
  },
  {
   "cell_type": "markdown",
   "metadata": {},
   "source": [
    "# Comments"
   ]
  },
  {
   "cell_type": "code",
   "execution_count": null,
   "metadata": {},
   "outputs": [],
   "source": [
    "subreddit=\"femaledatingstrategy\"\n",
    "limit=1000000\n",
    "comments = api.search_comments(subreddit=subreddit, limit=limit, before=before, after=after)\n",
    "print(f'Retrieved {len(comments)} comments from Pushshift')"
   ]
  },
  {
   "cell_type": "code",
   "execution_count": null,
   "metadata": {},
   "outputs": [],
   "source": [
    "comments_df = pd.DataFrame(comments)\n",
    "# preview the comments data\n",
    "comments_df.head(5)"
   ]
  },
  {
   "cell_type": "code",
   "execution_count": null,
   "metadata": {},
   "outputs": [],
   "source": [
    "comments_df.to_csv('./fds_comments_after.csv', header=True, index=False, columns=list(comments_df.axes[1]))"
   ]
  },
  {
   "cell_type": "markdown",
   "metadata": {},
   "source": [
    "## Submissions"
   ]
  },
  {
   "cell_type": "code",
   "execution_count": null,
   "metadata": {},
   "outputs": [],
   "source": [
    "#set date: BEFORE\n",
    "after = int(dt.datetime(2019,7,27,8,0).timestamp())\n",
    "before = int(dt.datetime(2020,10,27,8,0).timestamp())"
   ]
  },
  {
   "cell_type": "code",
   "execution_count": null,
   "metadata": {},
   "outputs": [],
   "source": [
    "#set date: AFTER\n",
    "after = int(dt.datetime(2019,10,28,8,0).timestamp())\n",
    "before = int(dt.datetime(2020,1,27,7,0).timestamp())"
   ]
  },
  {
   "cell_type": "code",
   "execution_count": null,
   "metadata": {},
   "outputs": [],
   "source": [
    "subreddit=\"femaledatingstrategy\"\n",
    "limit=1000000\n",
    "submissions = api.search_submissions(subreddit=subreddit, limit=limit, before=before, after=after)\n",
    "print(f'Retrieved {len(submissions)} comments from Pushshift')"
   ]
  },
  {
   "cell_type": "code",
   "execution_count": null,
   "metadata": {},
   "outputs": [],
   "source": [
    "submissions_df = pd.DataFrame(submissions)\n",
    "# preview the comments data\n",
    "submissions_df.head(5)"
   ]
  },
  {
   "cell_type": "code",
   "execution_count": null,
   "metadata": {},
   "outputs": [],
   "source": [
    "submissions_df.to_csv('./data/fds_submissions_before.csv', header=True, index=False, columns=list(submissions_df.axes[1]), encoding = 'utf-8-sig')"
   ]
  },
  {
   "cell_type": "markdown",
   "metadata": {},
   "source": [
    "## With func"
   ]
  },
  {
   "cell_type": "code",
   "execution_count": null,
   "metadata": {},
   "outputs": [],
   "source": [
    "fetch_comments(subr='femaledatingstrategy',save_dir='./data/fds/fds_comments.csv', year = 2019, month = 10, day = 27, duration = 90, limit = 100000000000)"
   ]
  },
  {
   "cell_type": "code",
   "execution_count": null,
   "metadata": {},
   "outputs": [],
   "source": [
    "fetch_subm(subr='femaledatingstrategy',save_dir='./data/fds/fds_subm.csv', year = 2019, month = 10, day = 27, duration = 90, limit = 100000000000)"
   ]
  },
  {
   "cell_type": "markdown",
   "metadata": {},
   "source": [
    "# r/women\n",
    "Bot implementation date: June 27 2016"
   ]
  },
  {
   "cell_type": "markdown",
   "metadata": {},
   "source": [
    "## Comments"
   ]
  },
  {
   "cell_type": "code",
   "execution_count": null,
   "metadata": {},
   "outputs": [],
   "source": [
    "fetch_comments(subr='women',save_dir='./data/women/women_comments.csv',year = 2016, month = 6, day = 27, duration = 90, limit = 1000000000)"
   ]
  },
  {
   "cell_type": "markdown",
   "metadata": {},
   "source": [
    "## Submissions"
   ]
  },
  {
   "cell_type": "code",
   "execution_count": null,
   "metadata": {},
   "outputs": [],
   "source": [
    "fetch_subm(subr='women',save_dir='./data/women/women_subm.csv',year = 2016, month = 6, day = 27, duration = 90, limit = 1000000000)"
   ]
  },
  {
   "cell_type": "markdown",
   "metadata": {},
   "source": [
    "# r/feminisms\n",
    "Bot implementation date: Mar 17, 2012"
   ]
  },
  {
   "cell_type": "markdown",
   "metadata": {},
   "source": [
    "### Comments"
   ]
  },
  {
   "cell_type": "code",
   "execution_count": null,
   "metadata": {},
   "outputs": [],
   "source": [
    "fetch_comments(subr = 'feminisms', save_dir = './data/feminisms/fems_comments.csv', year = 2012, month = 3, day = 17, duration = 90, limit = 10000000)"
   ]
  },
  {
   "cell_type": "markdown",
   "metadata": {},
   "source": [
    "## Submissions"
   ]
  },
  {
   "cell_type": "code",
   "execution_count": null,
   "metadata": {},
   "outputs": [],
   "source": [
    "fetch_subm(subr = 'feminisms', save_dir = './data/feminisms/fems_subm.csv', year = 2012, month = 3, day = 17, duration = 90, limit = 10000000)"
   ]
  },
  {
   "cell_type": "markdown",
   "metadata": {},
   "source": [
    "# r/wgtow\n",
    "Bot implementation date:  Apr 29, 2021"
   ]
  },
  {
   "cell_type": "markdown",
   "metadata": {},
   "source": [
    "## Submissions"
   ]
  },
  {
   "cell_type": "code",
   "execution_count": null,
   "metadata": {},
   "outputs": [],
   "source": [
    "fetch_subm(subr = 'wgtow', save_dir = './data/wgtow/wgtow_subm.csv',year = 2021, month = 4, day =29, duration = 90, limit = 1000000)"
   ]
  },
  {
   "cell_type": "markdown",
   "metadata": {},
   "source": [
    "## Comments"
   ]
  },
  {
   "cell_type": "code",
   "execution_count": null,
   "metadata": {},
   "outputs": [],
   "source": [
    "fetch_comments(subr = 'wgtow', save_dir = './data/wgtow/wgtow_comments.csv',year = 2021, month = 4, day =29, duration = 90, limit = 1000000)"
   ]
  },
  {
   "cell_type": "markdown",
   "metadata": {},
   "source": [
    "# r/WitchesVSPatriarchy\n",
    "Bot implementation date: Dec 22, 2020"
   ]
  },
  {
   "cell_type": "code",
   "execution_count": null,
   "metadata": {},
   "outputs": [],
   "source": [
    "subr = 'WitchesVSPatriarchy'"
   ]
  },
  {
   "cell_type": "markdown",
   "metadata": {},
   "source": [
    "## Comments"
   ]
  },
  {
   "cell_type": "code",
   "execution_count": null,
   "metadata": {},
   "outputs": [],
   "source": [
    "save_dir = './data/witchesvspatriarchy/wvsp_comments.csv'\n",
    "fetch_comments(subr = subr, save_dir = save_dir, limit = 10000000, year = 2020, month = 12, day = 22, duration = 90)"
   ]
  },
  {
   "cell_type": "markdown",
   "metadata": {},
   "source": [
    "## Submissions"
   ]
  },
  {
   "cell_type": "code",
   "execution_count": null,
   "metadata": {},
   "outputs": [],
   "source": [
    "save_dir = './data/witchesvspatriarchy/wvsp_subm.csv'\n",
    "fetch_subm(subr = subr, save_dir = save_dir, limit = limit, year = 2020, month = 12, day = 22, duration =90)"
   ]
  },
  {
   "cell_type": "markdown",
   "metadata": {},
   "source": [
    "# r/exfds\n",
    "Bot implementation date: Nov 23, 2020"
   ]
  },
  {
   "cell_type": "markdown",
   "metadata": {},
   "source": [
    "## Comments"
   ]
  },
  {
   "cell_type": "code",
   "execution_count": null,
   "metadata": {},
   "outputs": [],
   "source": [
    "fetch_comments(subr = 'exfds', save_dir = './data/exfds/exfds_comments.csv',year = 2020, month = 11, day =23, duration = 90, limit = 1000000)"
   ]
  },
  {
   "cell_type": "markdown",
   "metadata": {},
   "source": [
    "## Submissions"
   ]
  },
  {
   "cell_type": "code",
   "execution_count": null,
   "metadata": {},
   "outputs": [],
   "source": [
    "fetch_subm(subr = 'exfds', save_dir = './data/exfds/exfds_subm.csv',year = 2020, month = 11, day =23, duration = 90, limit = 1000000)"
   ]
  },
  {
   "cell_type": "markdown",
   "metadata": {},
   "source": [
    "# Control Groups "
   ]
  },
  {
   "cell_type": "markdown",
   "metadata": {},
   "source": [
    "## Using bots eventually"
   ]
  },
  {
   "cell_type": "code",
   "execution_count": null,
   "metadata": {},
   "outputs": [],
   "source": [
    "fetch_comments(subr= 'WitchesVSPatriarchy',save_dir='./data/Control/wvsp.csv',year = 2019,month = 10, day = 28, duration = 30, limit = 1000000000)"
   ]
  },
  {
   "cell_type": "code",
   "execution_count": null,
   "metadata": {},
   "outputs": [],
   "source": [
    "fetch_comments(subr= 'feminism',save_dir='./data/Control/feminism.csv',year = 2019,month = 10, day = 28, duration = 30, limit = 1000000000)"
   ]
  },
  {
   "cell_type": "code",
   "execution_count": null,
   "metadata": {},
   "outputs": [],
   "source": [
    "fetch_comments(subr= 'TwoXChromosomes',save_dir='./data/Control/TwoXChromosomes.csv',year = 2019,month = 10, day = 28, duration = 30, limit = 1000000000)"
   ]
  },
  {
   "cell_type": "code",
   "execution_count": null,
   "metadata": {},
   "outputs": [],
   "source": [
    "fetch_comments(subr= 'MGTOW',save_dir='./data/Control/MGTOW.csv',year = 2019,month = 10, day = 28, duration = 30, limit = 1000000000)"
   ]
  },
  {
   "cell_type": "markdown",
   "metadata": {},
   "source": [
    "## r/TheRedPill"
   ]
  },
  {
   "cell_type": "code",
   "execution_count": null,
   "metadata": {},
   "outputs": [],
   "source": [
    "fetch_comments(subr= 'TheRedPill',save_dir='./data/Control/TheRedPill.csv',year = 2019,month = 10, day = 28, duration = 30, limit = 1000000000)"
   ]
  },
  {
   "cell_type": "markdown",
   "metadata": {},
   "source": [
    "## r/TrollXChromosomes/"
   ]
  },
  {
   "cell_type": "code",
   "execution_count": null,
   "metadata": {},
   "outputs": [],
   "source": [
    "fetch_comments(subr= 'TrollXChromosomes',save_dir='./data/control-fds/trollX.csv',year = 2019,month = 10, day = 28, duration = 30, limit = 1000000000)"
   ]
  },
  {
   "cell_type": "code",
   "execution_count": null,
   "metadata": {},
   "outputs": [],
   "source": [
    "#To take subscribers from feminism\n",
    "feminism_subm = fetch_subm(subr = \"feminism\", save_dir = \"./data/control-fds/feminism_subsc.csv\", year = 2019, month = 10, day = 28, duration = 30, limit = 100000000)"
   ]
  },
  {
   "cell_type": "code",
   "execution_count": null,
   "metadata": {},
   "outputs": [],
   "source": [
    "#To take subscribers from twoX\n",
    "twoX_subm = fetch_subm(subr = \"TwoXChromosomes\", save_dir = \"./data/control-fds/twoX_subsc.csv\", year = 2019, month = 10, day = 28, duration = 30, limit = 100000000)"
   ]
  },
  {
   "cell_type": "code",
   "execution_count": null,
   "metadata": {},
   "outputs": [],
   "source": [
    "#To take subscribers from wVSp\n",
    "wvsp_subm = fetch_subm(subr = \"WitchesVsPatriarchy\", save_dir = \"./data/control-fds/wvsp_subsc.csv\", year = 2019, month = 10, day = 28, duration = 30, limit = 100000000)"
   ]
  },
  {
   "cell_type": "code",
   "execution_count": null,
   "metadata": {},
   "outputs": [],
   "source": [
    "#To take subscribers from TrollX\n",
    "trollX_subm = fetch_subm(subr = \"TrollXChromosomes\", save_dir = \"./data/control-fds/trollX_subsc.csv\", year = 2019, month = 10, day = 28, duration = 30, limit = 100000000)"
   ]
  },
  {
   "cell_type": "code",
   "execution_count": null,
   "metadata": {},
   "outputs": [],
   "source": [
    "#To take subscribers from trp\n",
    "trp_subm = fetch_subm(subr = \"TheRedPill\", save_dir = \"./data/control-fds/trp_subsc.csv\", year = 2019, month = 10, day = 28, duration = 30, limit = 100000000)"
   ]
  },
  {
   "cell_type": "code",
   "execution_count": null,
   "metadata": {},
   "outputs": [],
   "source": [
    "#To take subscribers from MGTOW\n",
    "MGTOW_subm = fetch_subm(subr = \"MGTOW\", save_dir = \"./data/control-fds/MGTOW_subsc.csv\", year = 2019, month = 10, day = 28, duration = 30, limit = 100000000)"
   ]
  },
  {
   "cell_type": "markdown",
   "metadata": {},
   "source": [
    "# AskReddit"
   ]
  },
  {
   "cell_type": "code",
   "execution_count": null,
   "metadata": {},
   "outputs": [],
   "source": [
    "save_dir = \"E:/gihub-data/redditbots/control-fds/askreddit.csv\"\n",
    "subr = 'AskReddit'\n",
    "fetch_comments(subr = subr, save_dir = save_dir, limit = 1000000000, bot_epoch = 1572234835, duration = 30)"
   ]
  },
  {
   "cell_type": "markdown",
   "metadata": {},
   "source": [
    "# Purple Pill Debate"
   ]
  },
  {
   "cell_type": "code",
   "execution_count": null,
   "metadata": {},
   "outputs": [],
   "source": [
    "save_dir = \"E:/gihub-data/redditbots/control-fds/purple.csv\"\n",
    "subr = 'PurplePillDebate'\n",
    "fetch_comments(subr = subr, save_dir = save_dir, limit = 1000000000, bot_epoch = 1572234835, duration = 30)"
   ]
  },
  {
   "cell_type": "code",
   "execution_count": null,
   "metadata": {},
   "outputs": [],
   "source": []
  },
  {
   "cell_type": "markdown",
   "metadata": {},
   "source": [
    "# r/AmItheAsshole"
   ]
  },
  {
   "cell_type": "code",
   "execution_count": null,
   "metadata": {},
   "outputs": [],
   "source": [
    "save_dir = \"E:/gihub-data/redditbots/control-fds/AITA.csv\"\n",
    "subr = 'AmItheAsshole'\n",
    "fetch_comments(subr = subr, save_dir = save_dir, limit = 1000000000, bot_epoch = 1572234835, duration = 30)"
   ]
  },
  {
   "cell_type": "markdown",
   "metadata": {},
   "source": [
    "# unpopularopinion"
   ]
  },
  {
   "cell_type": "code",
   "execution_count": null,
   "metadata": {},
   "outputs": [],
   "source": [
    "save_dir = \"E:/gihub-data/redditbots/control-fds/unpopularopinion.csv\"\n",
    "subr = 'unpopularopinion'\n",
    "fetch_comments(subr = subr, save_dir = save_dir, limit = 1000000000, bot_epoch = 1572234835, duration = 30)"
   ]
  },
  {
   "cell_type": "markdown",
   "metadata": {},
   "source": [
    "# GenderCritical"
   ]
  },
  {
   "cell_type": "code",
   "execution_count": null,
   "metadata": {},
   "outputs": [],
   "source": [
    "save_dir = \"E:/gihub-data/redditbots/control-fds/gendercritical.csv\"\n",
    "subr = 'GenderCritical'\n",
    "fetch_comments(subr = subr, save_dir = save_dir, limit = 1000000000, bot_epoch = 1572234835, duration = 30)"
   ]
  }
 ],
 "metadata": {
  "kernelspec": {
   "display_name": "Python 3.10.4 ('redditbots')",
   "language": "python",
   "name": "python3"
  },
  "language_info": {
   "codemirror_mode": {
    "name": "ipython",
    "version": 3
   },
   "file_extension": ".py",
   "mimetype": "text/x-python",
   "name": "python",
   "nbconvert_exporter": "python",
   "pygments_lexer": "ipython3",
   "version": "3.10.4"
  },
  "orig_nbformat": 4,
  "vscode": {
   "interpreter": {
    "hash": "2b2a55f9055c2400523b349fd3301d5efeb6493fd652ed128c88c237df22f590"
   }
  }
 },
 "nbformat": 4,
 "nbformat_minor": 2
}
