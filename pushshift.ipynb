{
 "cells": [
  {
   "cell_type": "markdown",
   "metadata": {},
   "source": [
    "### Library\n",
    "To run in any new computer:\n",
    "`pip install pmaw pandas`"
   ]
  },
  {
   "cell_type": "code",
   "execution_count": 3,
   "metadata": {},
   "outputs": [],
   "source": [
    "import pandas as pd\n",
    "from pmaw import PushshiftAPI\n",
    "api = PushshiftAPI()\n",
    "import datetime as dt"
   ]
  },
  {
   "cell_type": "markdown",
   "metadata": {},
   "source": [
    "## r/femaledatingstrategy"
   ]
  },
  {
   "cell_type": "code",
   "execution_count": null,
   "metadata": {},
   "outputs": [],
   "source": [
    "#before bot. Date of bot implementation Oct 27 2019. After period\n",
    "after = int(dt.datetime(2019,10,28,8,0).timestamp())\n",
    "before = int(dt.datetime(2020,1,27,7,0).timestamp())"
   ]
  },
  {
   "cell_type": "markdown",
   "metadata": {},
   "source": [
    "### Scraping Comments"
   ]
  },
  {
   "cell_type": "code",
   "execution_count": null,
   "metadata": {},
   "outputs": [],
   "source": [
    "subreddit=\"femaledatingstrategy\"\n",
    "limit=1000000\n",
    "comments = api.search_comments(subreddit=subreddit, limit=limit, before=before, after=after)\n",
    "print(f'Retrieved {len(comments)} comments from Pushshift')"
   ]
  },
  {
   "cell_type": "code",
   "execution_count": null,
   "metadata": {},
   "outputs": [],
   "source": [
    "comments_df = pd.DataFrame(comments)\n",
    "# preview the comments data\n",
    "comments_df.head(5)"
   ]
  },
  {
   "cell_type": "code",
   "execution_count": null,
   "metadata": {},
   "outputs": [],
   "source": [
    "comments_df.to_csv('./fds_comments_after.csv', header=True, index=False, columns=list(comments_df.axes[1]))"
   ]
  },
  {
   "cell_type": "markdown",
   "metadata": {},
   "source": [
    "### Scraping Post"
   ]
  },
  {
   "cell_type": "code",
   "execution_count": null,
   "metadata": {},
   "outputs": [],
   "source": [
    "#set date: BEFORE\n",
    "after = int(dt.datetime(2019,7,27,8,0).timestamp())\n",
    "before = int(dt.datetime(2020,10,27,8,0).timestamp())"
   ]
  },
  {
   "cell_type": "code",
   "execution_count": null,
   "metadata": {},
   "outputs": [],
   "source": [
    "#set date: AFTER\n",
    "after = int(dt.datetime(2019,10,28,8,0).timestamp())\n",
    "before = int(dt.datetime(2020,1,27,7,0).timestamp())"
   ]
  },
  {
   "cell_type": "code",
   "execution_count": null,
   "metadata": {},
   "outputs": [],
   "source": [
    "subreddit=\"femaledatingstrategy\"\n",
    "limit=1000000\n",
    "submissions = api.search_submissions(subreddit=subreddit, limit=limit, before=before, after=after)\n",
    "print(f'Retrieved {len(submissions)} comments from Pushshift')"
   ]
  },
  {
   "cell_type": "code",
   "execution_count": null,
   "metadata": {},
   "outputs": [],
   "source": [
    "submissions_df = pd.DataFrame(submissions)\n",
    "# preview the comments data\n",
    "submissions_df.head(5)"
   ]
  },
  {
   "cell_type": "code",
   "execution_count": null,
   "metadata": {},
   "outputs": [],
   "source": [
    "submissions_df.to_csv('./data/fds_submissions_before.csv', header=True, index=False, columns=list(submissions_df.axes[1]), encoding = 'utf-8-sig')"
   ]
  },
  {
   "cell_type": "markdown",
   "metadata": {},
   "source": [
    "## r/women"
   ]
  },
  {
   "cell_type": "code",
   "execution_count": 4,
   "metadata": {},
   "outputs": [],
   "source": [
    "#before bot. Date of bot implementation June 27 2016.\n",
    "# GMT to EST\n",
    "after = int(dt.datetime(2016,3,27,0,0).timestamp())\n",
    "before = int(dt.datetime(2016,6,26,0,0).timestamp())"
   ]
  },
  {
   "cell_type": "markdown",
   "metadata": {},
   "source": [
    "### Comments"
   ]
  },
  {
   "cell_type": "code",
   "execution_count": 5,
   "metadata": {},
   "outputs": [
    {
     "name": "stderr",
     "output_type": "stream",
     "text": [
      "Not all PushShift shards are active. Query results may be incomplete.\n",
      "Not all PushShift shards are active. Query results may be incomplete.\n",
      "Not all PushShift shards are active. Query results may be incomplete.\n",
      "Not all PushShift shards are active. Query results may be incomplete.\n"
     ]
    },
    {
     "name": "stdout",
     "output_type": "stream",
     "text": [
      "Retrieved 860 comments from Pushshift\n"
     ]
    }
   ],
   "source": [
    "subreddit=\"women\"\n",
    "limit=1000000\n",
    "comments = api.search_comments(subreddit=subreddit, limit=limit, before=before, after=after)\n",
    "print(f'Retrieved {len(comments)} comments from Pushshift')"
   ]
  },
  {
   "cell_type": "code",
   "execution_count": 6,
   "metadata": {},
   "outputs": [
    {
     "data": {
      "text/html": [
       "<div>\n",
       "<style scoped>\n",
       "    .dataframe tbody tr th:only-of-type {\n",
       "        vertical-align: middle;\n",
       "    }\n",
       "\n",
       "    .dataframe tbody tr th {\n",
       "        vertical-align: top;\n",
       "    }\n",
       "\n",
       "    .dataframe thead th {\n",
       "        text-align: right;\n",
       "    }\n",
       "</style>\n",
       "<table border=\"1\" class=\"dataframe\">\n",
       "  <thead>\n",
       "    <tr style=\"text-align: right;\">\n",
       "      <th></th>\n",
       "      <th>author</th>\n",
       "      <th>author_created_utc</th>\n",
       "      <th>author_flair_css_class</th>\n",
       "      <th>author_flair_text</th>\n",
       "      <th>author_fullname</th>\n",
       "      <th>body</th>\n",
       "      <th>controversiality</th>\n",
       "      <th>created_utc</th>\n",
       "      <th>distinguished</th>\n",
       "      <th>gilded</th>\n",
       "      <th>...</th>\n",
       "      <th>parent_id</th>\n",
       "      <th>reply_delay</th>\n",
       "      <th>retrieved_on</th>\n",
       "      <th>score</th>\n",
       "      <th>stickied</th>\n",
       "      <th>subreddit</th>\n",
       "      <th>subreddit_id</th>\n",
       "      <th>edited</th>\n",
       "      <th>mod_removed</th>\n",
       "      <th>user_removed</th>\n",
       "    </tr>\n",
       "  </thead>\n",
       "  <tbody>\n",
       "    <tr>\n",
       "      <th>0</th>\n",
       "      <td>LizzieCLems</td>\n",
       "      <td>1.390551e+09</td>\n",
       "      <td>None</td>\n",
       "      <td>None</td>\n",
       "      <td>t2_eyeq9</td>\n",
       "      <td>I lost almost all of my hair, I had large brea...</td>\n",
       "      <td>0</td>\n",
       "      <td>1460621037</td>\n",
       "      <td>None</td>\n",
       "      <td>0</td>\n",
       "      <td>...</td>\n",
       "      <td>t1_d21cp1h</td>\n",
       "      <td>54748.0</td>\n",
       "      <td>1463433188</td>\n",
       "      <td>1</td>\n",
       "      <td>False</td>\n",
       "      <td>women</td>\n",
       "      <td>t5_2qh8d</td>\n",
       "      <td>NaN</td>\n",
       "      <td>NaN</td>\n",
       "      <td>NaN</td>\n",
       "    </tr>\n",
       "    <tr>\n",
       "      <th>1</th>\n",
       "      <td>kninjaknitter</td>\n",
       "      <td>1.280862e+09</td>\n",
       "      <td>default</td>\n",
       "      <td>None</td>\n",
       "      <td>t2_4884f</td>\n",
       "      <td>Go to an OB gyn. Get checked out. Have an ultr...</td>\n",
       "      <td>0</td>\n",
       "      <td>1460605570</td>\n",
       "      <td>None</td>\n",
       "      <td>0</td>\n",
       "      <td>...</td>\n",
       "      <td>t3_4em3na</td>\n",
       "      <td>43951.0</td>\n",
       "      <td>1463430127</td>\n",
       "      <td>1</td>\n",
       "      <td>False</td>\n",
       "      <td>women</td>\n",
       "      <td>t5_2qh8d</td>\n",
       "      <td>NaN</td>\n",
       "      <td>NaN</td>\n",
       "      <td>NaN</td>\n",
       "    </tr>\n",
       "    <tr>\n",
       "      <th>2</th>\n",
       "      <td>CPCnyc</td>\n",
       "      <td>1.460557e+09</td>\n",
       "      <td>None</td>\n",
       "      <td>None</td>\n",
       "      <td>t2_x53ml</td>\n",
       "      <td>Thanks for the feedback! I also love to talk w...</td>\n",
       "      <td>0</td>\n",
       "      <td>1460589510</td>\n",
       "      <td>None</td>\n",
       "      <td>0</td>\n",
       "      <td>...</td>\n",
       "      <td>t1_d21i780</td>\n",
       "      <td>16313.0</td>\n",
       "      <td>1463424856</td>\n",
       "      <td>1</td>\n",
       "      <td>False</td>\n",
       "      <td>women</td>\n",
       "      <td>t5_2qh8d</td>\n",
       "      <td>NaN</td>\n",
       "      <td>NaN</td>\n",
       "      <td>NaN</td>\n",
       "    </tr>\n",
       "    <tr>\n",
       "      <th>3</th>\n",
       "      <td>blackyoda</td>\n",
       "      <td>1.186102e+09</td>\n",
       "      <td>default</td>\n",
       "      <td>None</td>\n",
       "      <td>t2_2bvg4</td>\n",
       "      <td>that is kind of silly that he was disturbed th...</td>\n",
       "      <td>0</td>\n",
       "      <td>1460581006</td>\n",
       "      <td>None</td>\n",
       "      <td>0</td>\n",
       "      <td>...</td>\n",
       "      <td>t1_d20rpjj</td>\n",
       "      <td>60518.0</td>\n",
       "      <td>1463421970</td>\n",
       "      <td>1</td>\n",
       "      <td>False</td>\n",
       "      <td>women</td>\n",
       "      <td>t5_2qh8d</td>\n",
       "      <td>NaN</td>\n",
       "      <td>NaN</td>\n",
       "      <td>NaN</td>\n",
       "    </tr>\n",
       "    <tr>\n",
       "      <th>4</th>\n",
       "      <td>kerithann</td>\n",
       "      <td>1.458745e+09</td>\n",
       "      <td>None</td>\n",
       "      <td>None</td>\n",
       "      <td>t2_wlnkl</td>\n",
       "      <td>Directed by a woman and starring a woman! Hoor...</td>\n",
       "      <td>0</td>\n",
       "      <td>1460574815</td>\n",
       "      <td>None</td>\n",
       "      <td>0</td>\n",
       "      <td>...</td>\n",
       "      <td>t3_4en5gf</td>\n",
       "      <td>50.0</td>\n",
       "      <td>1463419551</td>\n",
       "      <td>3</td>\n",
       "      <td>False</td>\n",
       "      <td>women</td>\n",
       "      <td>t5_2qh8d</td>\n",
       "      <td>NaN</td>\n",
       "      <td>NaN</td>\n",
       "      <td>NaN</td>\n",
       "    </tr>\n",
       "  </tbody>\n",
       "</table>\n",
       "<p>5 rows × 23 columns</p>\n",
       "</div>"
      ],
      "text/plain": [
       "          author  author_created_utc author_flair_css_class author_flair_text  \\\n",
       "0    LizzieCLems        1.390551e+09                   None              None   \n",
       "1  kninjaknitter        1.280862e+09                default              None   \n",
       "2         CPCnyc        1.460557e+09                   None              None   \n",
       "3      blackyoda        1.186102e+09                default              None   \n",
       "4      kerithann        1.458745e+09                   None              None   \n",
       "\n",
       "  author_fullname                                               body  \\\n",
       "0        t2_eyeq9  I lost almost all of my hair, I had large brea...   \n",
       "1        t2_4884f  Go to an OB gyn. Get checked out. Have an ultr...   \n",
       "2        t2_x53ml  Thanks for the feedback! I also love to talk w...   \n",
       "3        t2_2bvg4  that is kind of silly that he was disturbed th...   \n",
       "4        t2_wlnkl  Directed by a woman and starring a woman! Hoor...   \n",
       "\n",
       "   controversiality  created_utc distinguished  gilded  ...   parent_id  \\\n",
       "0                 0   1460621037          None       0  ...  t1_d21cp1h   \n",
       "1                 0   1460605570          None       0  ...   t3_4em3na   \n",
       "2                 0   1460589510          None       0  ...  t1_d21i780   \n",
       "3                 0   1460581006          None       0  ...  t1_d20rpjj   \n",
       "4                 0   1460574815          None       0  ...   t3_4en5gf   \n",
       "\n",
       "  reply_delay  retrieved_on score  stickied  subreddit  subreddit_id  edited  \\\n",
       "0     54748.0    1463433188     1     False      women      t5_2qh8d     NaN   \n",
       "1     43951.0    1463430127     1     False      women      t5_2qh8d     NaN   \n",
       "2     16313.0    1463424856     1     False      women      t5_2qh8d     NaN   \n",
       "3     60518.0    1463421970     1     False      women      t5_2qh8d     NaN   \n",
       "4        50.0    1463419551     3     False      women      t5_2qh8d     NaN   \n",
       "\n",
       "  mod_removed user_removed  \n",
       "0         NaN          NaN  \n",
       "1         NaN          NaN  \n",
       "2         NaN          NaN  \n",
       "3         NaN          NaN  \n",
       "4         NaN          NaN  \n",
       "\n",
       "[5 rows x 23 columns]"
      ]
     },
     "execution_count": 6,
     "metadata": {},
     "output_type": "execute_result"
    }
   ],
   "source": [
    "comments_df = pd.DataFrame(comments)\n",
    "# preview the comments data\n",
    "comments_df.head(5)"
   ]
  },
  {
   "cell_type": "code",
   "execution_count": 7,
   "metadata": {},
   "outputs": [],
   "source": [
    "comments_df.to_csv('./data/women/women_comments_before.csv', header=True, index=False, columns=list(comments_df.axes[1]))"
   ]
  }
 ],
 "metadata": {
  "kernelspec": {
   "display_name": "Python 3.9.12 ('base')",
   "language": "python",
   "name": "python3"
  },
  "language_info": {
   "codemirror_mode": {
    "name": "ipython",
    "version": 3
   },
   "file_extension": ".py",
   "mimetype": "text/x-python",
   "name": "python",
   "nbconvert_exporter": "python",
   "pygments_lexer": "ipython3",
   "version": "3.9.12"
  },
  "orig_nbformat": 4,
  "vscode": {
   "interpreter": {
    "hash": "960f2ae499b536958d588fcafb5f9e40dd995fc898e4b79db932caf22756042a"
   }
  }
 },
 "nbformat": 4,
 "nbformat_minor": 2
}
