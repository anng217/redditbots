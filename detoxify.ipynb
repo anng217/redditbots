{
 "cells": [
  {
   "cell_type": "code",
   "execution_count": 1,
   "metadata": {},
   "outputs": [
    {
     "name": "stderr",
     "output_type": "stream",
     "text": [
      "c:\\Users\\nguye\\anaconda3\\envs\\redditbots\\lib\\site-packages\\tqdm\\auto.py:22: TqdmWarning: IProgress not found. Please update jupyter and ipywidgets. See https://ipywidgets.readthedocs.io/en/stable/user_install.html\n",
      "  from .autonotebook import tqdm as notebook_tqdm\n"
     ]
    }
   ],
   "source": [
    "from detoxify import Detoxify"
   ]
  },
  {
   "cell_type": "code",
   "execution_count": 3,
   "metadata": {},
   "outputs": [],
   "source": [
    "import pandas as pd"
   ]
  },
  {
   "cell_type": "code",
   "execution_count": 4,
   "metadata": {},
   "outputs": [],
   "source": [
    "import numpy as np"
   ]
  },
  {
   "cell_type": "markdown",
   "metadata": {},
   "source": [
    "## Tutorial"
   ]
  },
  {
   "cell_type": "code",
   "execution_count": 11,
   "metadata": {},
   "outputs": [],
   "source": [
    "# each model takes in either a string or a list of strings\n",
    "results = Detoxify('original').predict('example text')"
   ]
  },
  {
   "cell_type": "code",
   "execution_count": 20,
   "metadata": {},
   "outputs": [],
   "source": [
    "results = Detoxify('unbiased').predict(['example text 1','example text 2'])"
   ]
  },
  {
   "cell_type": "code",
   "execution_count": 14,
   "metadata": {},
   "outputs": [],
   "source": [
    "results = Detoxify('multilingual').predict(['example text','exemple de texte','texto de ejemplo','testo di esempio','texto de exemplo','örnek metin','пример текста'])"
   ]
  },
  {
   "cell_type": "code",
   "execution_count": 13,
   "metadata": {},
   "outputs": [],
   "source": [
    "# to specify the device the model will be allocated on (defaults to cpu), accepts any torch.device input\n",
    "model = Detoxify('original', device='cuda')"
   ]
  },
  {
   "cell_type": "code",
   "execution_count": 3,
   "metadata": {},
   "outputs": [],
   "source": [
    "import pandas as pd"
   ]
  },
  {
   "cell_type": "code",
   "execution_count": 4,
   "metadata": {},
   "outputs": [],
   "source": [
    "results_df = pd.DataFrame(results).round(8)"
   ]
  },
  {
   "cell_type": "code",
   "execution_count": 15,
   "metadata": {},
   "outputs": [
    {
     "data": {
      "text/html": [
       "<div>\n",
       "<style scoped>\n",
       "    .dataframe tbody tr th:only-of-type {\n",
       "        vertical-align: middle;\n",
       "    }\n",
       "\n",
       "    .dataframe tbody tr th {\n",
       "        vertical-align: top;\n",
       "    }\n",
       "\n",
       "    .dataframe thead th {\n",
       "        text-align: right;\n",
       "    }\n",
       "</style>\n",
       "<table border=\"1\" class=\"dataframe\">\n",
       "  <thead>\n",
       "    <tr style=\"text-align: right;\">\n",
       "      <th></th>\n",
       "      <th>toxicity</th>\n",
       "      <th>severe_toxicity</th>\n",
       "      <th>obscene</th>\n",
       "      <th>identity_attack</th>\n",
       "      <th>insult</th>\n",
       "      <th>threat</th>\n",
       "      <th>sexual_explicit</th>\n",
       "    </tr>\n",
       "  </thead>\n",
       "  <tbody>\n",
       "    <tr>\n",
       "      <th>0</th>\n",
       "      <td>0.000196</td>\n",
       "      <td>0.000193</td>\n",
       "      <td>0.001263</td>\n",
       "      <td>0.000323</td>\n",
       "      <td>0.000883</td>\n",
       "      <td>0.000138</td>\n",
       "      <td>0.000090</td>\n",
       "    </tr>\n",
       "    <tr>\n",
       "      <th>1</th>\n",
       "      <td>0.000563</td>\n",
       "      <td>0.004810</td>\n",
       "      <td>0.030099</td>\n",
       "      <td>0.005532</td>\n",
       "      <td>0.026441</td>\n",
       "      <td>0.002134</td>\n",
       "      <td>0.001036</td>\n",
       "    </tr>\n",
       "    <tr>\n",
       "      <th>2</th>\n",
       "      <td>0.000628</td>\n",
       "      <td>0.003142</td>\n",
       "      <td>0.022164</td>\n",
       "      <td>0.003467</td>\n",
       "      <td>0.017627</td>\n",
       "      <td>0.001497</td>\n",
       "      <td>0.000616</td>\n",
       "    </tr>\n",
       "    <tr>\n",
       "      <th>3</th>\n",
       "      <td>0.000992</td>\n",
       "      <td>0.004267</td>\n",
       "      <td>0.033336</td>\n",
       "      <td>0.005408</td>\n",
       "      <td>0.028724</td>\n",
       "      <td>0.001951</td>\n",
       "      <td>0.000833</td>\n",
       "    </tr>\n",
       "    <tr>\n",
       "      <th>4</th>\n",
       "      <td>0.000612</td>\n",
       "      <td>0.001548</td>\n",
       "      <td>0.012159</td>\n",
       "      <td>0.001841</td>\n",
       "      <td>0.009405</td>\n",
       "      <td>0.000858</td>\n",
       "      <td>0.000362</td>\n",
       "    </tr>\n",
       "    <tr>\n",
       "      <th>5</th>\n",
       "      <td>0.000591</td>\n",
       "      <td>0.002832</td>\n",
       "      <td>0.021326</td>\n",
       "      <td>0.003134</td>\n",
       "      <td>0.017865</td>\n",
       "      <td>0.001327</td>\n",
       "      <td>0.000616</td>\n",
       "    </tr>\n",
       "    <tr>\n",
       "      <th>6</th>\n",
       "      <td>0.000535</td>\n",
       "      <td>0.003826</td>\n",
       "      <td>0.026462</td>\n",
       "      <td>0.004030</td>\n",
       "      <td>0.021902</td>\n",
       "      <td>0.001632</td>\n",
       "      <td>0.000747</td>\n",
       "    </tr>\n",
       "  </tbody>\n",
       "</table>\n",
       "</div>"
      ],
      "text/plain": [
       "   toxicity  severe_toxicity   obscene  identity_attack    insult    threat  \\\n",
       "0  0.000196         0.000193  0.001263         0.000323  0.000883  0.000138   \n",
       "1  0.000563         0.004810  0.030099         0.005532  0.026441  0.002134   \n",
       "2  0.000628         0.003142  0.022164         0.003467  0.017627  0.001497   \n",
       "3  0.000992         0.004267  0.033336         0.005408  0.028724  0.001951   \n",
       "4  0.000612         0.001548  0.012159         0.001841  0.009405  0.000858   \n",
       "5  0.000591         0.002832  0.021326         0.003134  0.017865  0.001327   \n",
       "6  0.000535         0.003826  0.026462         0.004030  0.021902  0.001632   \n",
       "\n",
       "   sexual_explicit  \n",
       "0         0.000090  \n",
       "1         0.001036  \n",
       "2         0.000616  \n",
       "3         0.000833  \n",
       "4         0.000362  \n",
       "5         0.000616  \n",
       "6         0.000747  "
      ]
     },
     "execution_count": 15,
     "metadata": {},
     "output_type": "execute_result"
    }
   ],
   "source": [
    "results_df"
   ]
  },
  {
   "cell_type": "code",
   "execution_count": 19,
   "metadata": {},
   "outputs": [
    {
     "data": {
      "text/plain": [
       "0.0005879871428571428"
      ]
     },
     "execution_count": 19,
     "metadata": {},
     "output_type": "execute_result"
    }
   ],
   "source": [
    "#Get Toxicity Mean\n",
    "results_df['toxicity'].mean()"
   ]
  },
  {
   "cell_type": "code",
   "execution_count": 20,
   "metadata": {},
   "outputs": [
    {
     "data": {
      "text/plain": [
       "toxicity           0.000588\n",
       "severe_toxicity    0.002945\n",
       "obscene            0.020973\n",
       "identity_attack    0.003391\n",
       "insult             0.017550\n",
       "threat             0.001362\n",
       "sexual_explicit    0.000614\n",
       "dtype: float64"
      ]
     },
     "execution_count": 20,
     "metadata": {},
     "output_type": "execute_result"
    }
   ],
   "source": [
    "#Get all column Mean\n",
    "results_df.mean()"
   ]
  },
  {
   "cell_type": "markdown",
   "metadata": {},
   "source": [
    "## Analyze FDS"
   ]
  },
  {
   "cell_type": "markdown",
   "metadata": {},
   "source": [
    "## ANALYZE Comments:\n",
    "- Comments by AutoModerator\n",
    "- Comments deleted (deleted by bots) and removed (users removed)"
   ]
  },
  {
   "cell_type": "code",
   "execution_count": 5,
   "metadata": {},
   "outputs": [],
   "source": [
    "#Import BEFORE data\n",
    "fds_b4_1mo =  pd.read_csv('./data/fds_comments_before_1mo.csv')\n"
   ]
  },
  {
   "cell_type": "code",
   "execution_count": 20,
   "metadata": {},
   "outputs": [],
   "source": [
    "#Leave out all 'removed' and 'deleted' comments\n",
    "fds_b4_1mo_df = fds_b4_1mo[(fds_b4_1mo['body'] != '[deleted]') & (fds_b4_1mo['body'] != '[removed]') & (fds_b4_1mo['author'] != 'AutoModerator')]\n",
    "\n",
    "#Flatten to list of string\n",
    "fds_b4_1mo_body = list(fds_b4_1mo_df['body'].values.flatten())"
   ]
  },
  {
   "cell_type": "code",
   "execution_count": 7,
   "metadata": {},
   "outputs": [],
   "source": [
    "#Import AFTER data\n",
    "fds_aft_1mo =  pd.read_csv('./data/fds_comments_after_1mo.csv')"
   ]
  },
  {
   "cell_type": "code",
   "execution_count": 21,
   "metadata": {},
   "outputs": [],
   "source": [
    "#Leave out all 'removed' and 'deleted' comments\n",
    "fds_aft_1mo_df = fds_aft_1mo[(fds_aft_1mo['body'] != '[deleted]') & (fds_aft_1mo['body'] != '[removed]') & (fds_aft_1mo['author'] !='AutoModerator')]\n",
    "\n",
    "#Flatten to list of string\n",
    "fds_aft_1mo_body = list(fds_aft_1mo_df['body'].values.flatten())"
   ]
  },
  {
   "cell_type": "markdown",
   "metadata": {},
   "source": [
    "## ANALYZE Submission\n",
    "Concerns:\n",
    "- Structure of a submission: title, body (`self_text`), images/video link (`domain`)"
   ]
  },
  {
   "cell_type": "code",
   "execution_count": 35,
   "metadata": {},
   "outputs": [],
   "source": [
    "#Import SUBMISSION BEFORE\n",
    "fds_b4_1mo_sub = pd.read_csv('./data/fds_subm_before_1mo.csv')"
   ]
  },
  {
   "cell_type": "code",
   "execution_count": 13,
   "metadata": {},
   "outputs": [
    {
     "data": {
      "text/plain": [
       "1869"
      ]
     },
     "execution_count": 13,
     "metadata": {},
     "output_type": "execute_result"
    }
   ],
   "source": [
    "#Number of no content submissions\n",
    "fds_b4_1mo_sub['selftext'].isnull().sum()"
   ]
  },
  {
   "cell_type": "code",
   "execution_count": 36,
   "metadata": {},
   "outputs": [
    {
     "data": {
      "text/plain": [
       "46.760070052539405"
      ]
     },
     "execution_count": 36,
     "metadata": {},
     "output_type": "execute_result"
    }
   ],
   "source": [
    "#Percentage of no content submissions\n",
    "fds_b4_1mo_sub['selftext'].isnull().sum()/len(fds_b4_1mo_sub['selftext'] != '[removed]')*100"
   ]
  },
  {
   "cell_type": "code",
   "execution_count": 42,
   "metadata": {},
   "outputs": [
    {
     "data": {
      "text/plain": [
       "1136"
      ]
     },
     "execution_count": 42,
     "metadata": {},
     "output_type": "execute_result"
    }
   ],
   "source": [
    "# Condition: domain = i.reddit.it OR imugur AND selftext = \"\"\n",
    "len(fds_b4_1mo_sub[((fds_b4_1mo_sub['domain'] == 'i.redd.it') | (fds_b4_1mo_sub['domain'] == 'i.imgur.com') |  (fds_b4_1mo_sub['domain'] == 'imgur.com'))  & fds_b4_1mo_sub['selftext'].isnull()]) "
   ]
  },
  {
   "cell_type": "code",
   "execution_count": 41,
   "metadata": {},
   "outputs": [
    {
     "data": {
      "text/plain": [
       "1141"
      ]
     },
     "execution_count": 41,
     "metadata": {},
     "output_type": "execute_result"
    }
   ],
   "source": [
    "# Condition: domain = i.reddit.it OR imugur. So basically they are the same.\n",
    "len(fds_b4_1mo_sub[(fds_b4_1mo_sub['domain'] == 'i.redd.it') | (fds_b4_1mo_sub['domain'] == 'i.imgur.com') |  (fds_b4_1mo_sub['domain'] == 'imgur.com')]) "
   ]
  },
  {
   "cell_type": "code",
   "execution_count": 33,
   "metadata": {},
   "outputs": [
    {
     "data": {
      "text/plain": [
       "2185"
      ]
     },
     "execution_count": 33,
     "metadata": {},
     "output_type": "execute_result"
    }
   ],
   "source": [
    "#Number of image submissions\n",
    "len(fds_b4_1mo_sub[(fds_b4_1mo_sub['domain'] == 'self.FemaleDatingStrategy')]) "
   ]
  },
  {
   "cell_type": "code",
   "execution_count": 34,
   "metadata": {},
   "outputs": [],
   "source": [
    "# Save only submissions has written content and not deleted or removed\n",
    "fds_b4_1mo_sub_test = fds_b4_1mo_sub[(fds_b4_1mo_sub['selftext'].astype(bool)) | (fds_b4_1mo_sub['selftext'] == '[removed]')]"
   ]
  },
  {
   "cell_type": "markdown",
   "metadata": {},
   "source": [
    "## Set up Model"
   ]
  },
  {
   "cell_type": "code",
   "execution_count": 22,
   "metadata": {},
   "outputs": [],
   "source": [
    "#Set pre-trained model and run on GPU\n",
    "originalmodel = Detoxify('unbiased', device='cuda')"
   ]
  },
  {
   "cell_type": "markdown",
   "metadata": {},
   "source": [
    "### Example"
   ]
  },
  {
   "cell_type": "code",
   "execution_count": 23,
   "metadata": {},
   "outputs": [],
   "source": [
    "#Run the first batch\n",
    "res = originalmodel.predict(fds_b4_1mo_body[0:100])"
   ]
  },
  {
   "cell_type": "code",
   "execution_count": 24,
   "metadata": {},
   "outputs": [
    {
     "data": {
      "text/html": [
       "<div>\n",
       "<style scoped>\n",
       "    .dataframe tbody tr th:only-of-type {\n",
       "        vertical-align: middle;\n",
       "    }\n",
       "\n",
       "    .dataframe tbody tr th {\n",
       "        vertical-align: top;\n",
       "    }\n",
       "\n",
       "    .dataframe thead th {\n",
       "        text-align: right;\n",
       "    }\n",
       "</style>\n",
       "<table border=\"1\" class=\"dataframe\">\n",
       "  <thead>\n",
       "    <tr style=\"text-align: right;\">\n",
       "      <th></th>\n",
       "      <th>toxicity</th>\n",
       "      <th>severe_toxicity</th>\n",
       "      <th>obscene</th>\n",
       "      <th>identity_attack</th>\n",
       "      <th>insult</th>\n",
       "      <th>threat</th>\n",
       "      <th>sexual_explicit</th>\n",
       "    </tr>\n",
       "  </thead>\n",
       "  <tbody>\n",
       "    <tr>\n",
       "      <th>...It's more of a sarcastic nice-nasty way of saying what you did.</th>\n",
       "      <td>0.31566</td>\n",
       "      <td>0.00002</td>\n",
       "      <td>0.00252</td>\n",
       "      <td>0.00210</td>\n",
       "      <td>0.24342</td>\n",
       "      <td>0.00037</td>\n",
       "      <td>0.00075</td>\n",
       "    </tr>\n",
       "    <tr>\n",
       "      <th>Nope. Men are on average more likely to lie to a woman, so therefore you have to do more to convince me you're not wasting my time. I am not a teenager anymore I am mid 20s</th>\n",
       "      <td>0.01017</td>\n",
       "      <td>0.00004</td>\n",
       "      <td>0.00024</td>\n",
       "      <td>0.00699</td>\n",
       "      <td>0.00209</td>\n",
       "      <td>0.00025</td>\n",
       "      <td>0.00104</td>\n",
       "    </tr>\n",
       "    <tr>\n",
       "      <th>That's exactly it sister. Its setting the tone, and you have to be real clear with men about that otherwise they dupe you fast, every womans learned that the hard way\\r\\n\\r\\nThey know full well why we make them do it, most women are looking to get taken seriously by a man and only sleep with him, however most men are looking to 'pump and dump' so this is just another way of making him put his money where his mouth is, making it more expensive, making him think twice\\r\\n\\r\\nPlus when I've been nothin but genuine to a guy and he turns out to be a rotten lying fuckboy that led me on, I feel better I wasted £300 of his money that weekend ;)</th>\n",
       "      <td>0.65407</td>\n",
       "      <td>0.00356</td>\n",
       "      <td>0.43520</td>\n",
       "      <td>0.04374</td>\n",
       "      <td>0.41763</td>\n",
       "      <td>0.00119</td>\n",
       "      <td>0.04932</td>\n",
       "    </tr>\n",
       "    <tr>\n",
       "      <th>About two-three months. I waited for a few signs. \\r\\n\\r\\n- In the beginning I set expectations clear that I wasn’t dating to mess around, I was dating to find marriage.  He proceeded in dating me after he knew this. \\r\\n\\r\\n- Asked me to be his girlfriend. I said no, but I said it with the caveat that I wasn’t interested in having an LTR; I wanted a husband, remember?  He still proceeded to date me. \\r\\n\\r\\n- Paid for a WONDERFUL trip for my birthday. Absolutely stunning: he took notes and clearly knew what I liked, what I was into, etc.  Planned the whole thing. \\r\\n\\r\\nI slept with him after that. Even then I didn’t do a whole lot of pleasing until closer to our engagement.  Being a pillow princess is fun.</th>\n",
       "      <td>0.00161</td>\n",
       "      <td>0.00000</td>\n",
       "      <td>0.00023</td>\n",
       "      <td>0.00019</td>\n",
       "      <td>0.00042</td>\n",
       "      <td>0.00004</td>\n",
       "      <td>0.00024</td>\n",
       "    </tr>\n",
       "    <tr>\n",
       "      <th>no he was a white guy, but I get this comment from a few rare insecure white men, cos I'm curvier, as in curvier not delusional and overweight (important to point out nowadays lol). I think they get some complex about it , if black men look at me in public and I also think they're wondering what size I've had or some BS...but anyway it really came off as lowkey racist, which is an instant turn off for me. I know what those undertone comments allude to. Tbh he made quite a few OFF key comments during that date</th>\n",
       "      <td>0.21046</td>\n",
       "      <td>0.00039</td>\n",
       "      <td>0.00276</td>\n",
       "      <td>0.24676</td>\n",
       "      <td>0.02893</td>\n",
       "      <td>0.00116</td>\n",
       "      <td>0.00087</td>\n",
       "    </tr>\n",
       "    <tr>\n",
       "      <th>...</th>\n",
       "      <td>...</td>\n",
       "      <td>...</td>\n",
       "      <td>...</td>\n",
       "      <td>...</td>\n",
       "      <td>...</td>\n",
       "      <td>...</td>\n",
       "      <td>...</td>\n",
       "    </tr>\n",
       "    <tr>\n",
       "      <th>Thank you!</th>\n",
       "      <td>0.00047</td>\n",
       "      <td>0.00000</td>\n",
       "      <td>0.00003</td>\n",
       "      <td>0.00007</td>\n",
       "      <td>0.00012</td>\n",
       "      <td>0.00002</td>\n",
       "      <td>0.00001</td>\n",
       "    </tr>\n",
       "    <tr>\n",
       "      <th>You can't negotiate attraction</th>\n",
       "      <td>0.00063</td>\n",
       "      <td>0.00000</td>\n",
       "      <td>0.00002</td>\n",
       "      <td>0.00014</td>\n",
       "      <td>0.00013</td>\n",
       "      <td>0.00003</td>\n",
       "      <td>0.00002</td>\n",
       "    </tr>\n",
       "    <tr>\n",
       "      <th>\\r\\n\\r\\nI said this to another poster and I think it applies to your question: \\r\\n\\r\\nI can see your concern- I love transparency and sharing my feelings; you can’t get what you want if you’re too afraid to speak up for it. All that said- I think of this advice when I’ve said my peace, set my expectations and then these dummies are STILL trying to clown me. I’m not in the business of arguing with men who want to be obtuse.</th>\n",
       "      <td>0.45064</td>\n",
       "      <td>0.00004</td>\n",
       "      <td>0.00325</td>\n",
       "      <td>0.00194</td>\n",
       "      <td>0.45550</td>\n",
       "      <td>0.00015</td>\n",
       "      <td>0.00049</td>\n",
       "    </tr>\n",
       "    <tr>\n",
       "      <th>Honestly, this poor woman has no real sense of herself or what it means to be independent and autonomous as a single woman. I really think she jumped from the frying pan into the fire (another relationship) without giving herself time to understand the dynamics of the previous relationship, as in she can't really be in a healthy relationship without working on herself first, and giving herself time to regroup and heal. Not to mention she's really young, and so is the boyfriend. I think they both need to be enjoying a single life but she especially needs to do some self-examination in therapy with an objective person.</th>\n",
       "      <td>0.00361</td>\n",
       "      <td>0.00001</td>\n",
       "      <td>0.00010</td>\n",
       "      <td>0.00185</td>\n",
       "      <td>0.00094</td>\n",
       "      <td>0.00014</td>\n",
       "      <td>0.00038</td>\n",
       "    </tr>\n",
       "    <tr>\n",
       "      <th>That’s sad for the husband</th>\n",
       "      <td>0.00257</td>\n",
       "      <td>0.00000</td>\n",
       "      <td>0.00016</td>\n",
       "      <td>0.00026</td>\n",
       "      <td>0.00072</td>\n",
       "      <td>0.00012</td>\n",
       "      <td>0.00004</td>\n",
       "    </tr>\n",
       "  </tbody>\n",
       "</table>\n",
       "<p>100 rows × 7 columns</p>\n",
       "</div>"
      ],
      "text/plain": [
       "                                                    toxicity  severe_toxicity  \\\n",
       "...It's more of a sarcastic nice-nasty way of s...   0.31566          0.00002   \n",
       "Nope. Men are on average more likely to lie to ...   0.01017          0.00004   \n",
       "That's exactly it sister. Its setting the tone,...   0.65407          0.00356   \n",
       "About two-three months. I waited for a few sign...   0.00161          0.00000   \n",
       "no he was a white guy, but I get this comment f...   0.21046          0.00039   \n",
       "...                                                      ...              ...   \n",
       "Thank you!                                           0.00047          0.00000   \n",
       "You can't negotiate attraction                       0.00063          0.00000   \n",
       "\\r\\n\\r\\nI said this to another poster and I thi...   0.45064          0.00004   \n",
       "Honestly, this poor woman has no real sense of ...   0.00361          0.00001   \n",
       "That’s sad for the husband                           0.00257          0.00000   \n",
       "\n",
       "                                                    obscene  identity_attack  \\\n",
       "...It's more of a sarcastic nice-nasty way of s...  0.00252          0.00210   \n",
       "Nope. Men are on average more likely to lie to ...  0.00024          0.00699   \n",
       "That's exactly it sister. Its setting the tone,...  0.43520          0.04374   \n",
       "About two-three months. I waited for a few sign...  0.00023          0.00019   \n",
       "no he was a white guy, but I get this comment f...  0.00276          0.24676   \n",
       "...                                                     ...              ...   \n",
       "Thank you!                                          0.00003          0.00007   \n",
       "You can't negotiate attraction                      0.00002          0.00014   \n",
       "\\r\\n\\r\\nI said this to another poster and I thi...  0.00325          0.00194   \n",
       "Honestly, this poor woman has no real sense of ...  0.00010          0.00185   \n",
       "That’s sad for the husband                          0.00016          0.00026   \n",
       "\n",
       "                                                     insult   threat  \\\n",
       "...It's more of a sarcastic nice-nasty way of s...  0.24342  0.00037   \n",
       "Nope. Men are on average more likely to lie to ...  0.00209  0.00025   \n",
       "That's exactly it sister. Its setting the tone,...  0.41763  0.00119   \n",
       "About two-three months. I waited for a few sign...  0.00042  0.00004   \n",
       "no he was a white guy, but I get this comment f...  0.02893  0.00116   \n",
       "...                                                     ...      ...   \n",
       "Thank you!                                          0.00012  0.00002   \n",
       "You can't negotiate attraction                      0.00013  0.00003   \n",
       "\\r\\n\\r\\nI said this to another poster and I thi...  0.45550  0.00015   \n",
       "Honestly, this poor woman has no real sense of ...  0.00094  0.00014   \n",
       "That’s sad for the husband                          0.00072  0.00012   \n",
       "\n",
       "                                                    sexual_explicit  \n",
       "...It's more of a sarcastic nice-nasty way of s...          0.00075  \n",
       "Nope. Men are on average more likely to lie to ...          0.00104  \n",
       "That's exactly it sister. Its setting the tone,...          0.04932  \n",
       "About two-three months. I waited for a few sign...          0.00024  \n",
       "no he was a white guy, but I get this comment f...          0.00087  \n",
       "...                                                             ...  \n",
       "Thank you!                                                  0.00001  \n",
       "You can't negotiate attraction                              0.00002  \n",
       "\\r\\n\\r\\nI said this to another poster and I thi...          0.00049  \n",
       "Honestly, this poor woman has no real sense of ...          0.00038  \n",
       "That’s sad for the husband                                  0.00004  \n",
       "\n",
       "[100 rows x 7 columns]"
      ]
     },
     "execution_count": 24,
     "metadata": {},
     "output_type": "execute_result"
    }
   ],
   "source": [
    "#connect with body text\n",
    "pd.DataFrame(res,fds_b4_1mo_body[0:100]).round(5)"
   ]
  },
  {
   "cell_type": "markdown",
   "metadata": {},
   "source": [
    "### Level of toxicity by 1 month before and after introduction of bot"
   ]
  },
  {
   "cell_type": "markdown",
   "metadata": {},
   "source": [
    "#### Before 1 month"
   ]
  },
  {
   "cell_type": "code",
   "execution_count": 25,
   "metadata": {},
   "outputs": [],
   "source": [
    "i = 0\n",
    "n = len(fds_b4_1mo_body)\n",
    "fds_b4_1mo_body_res = pd.DataFrame()"
   ]
  },
  {
   "cell_type": "code",
   "execution_count": 26,
   "metadata": {},
   "outputs": [],
   "source": [
    "while i < n:\n",
    "    res = originalmodel.predict(fds_b4_1mo_body[i:i+100])\n",
    "    f = pd.DataFrame(res,fds_b4_1mo_body[i:i+100]).round(5)\n",
    "    fds_b4_1mo_body_res = pd.concat([fds_b4_1mo_body_res,f])\n",
    "    i = i + 100"
   ]
  },
  {
   "cell_type": "code",
   "execution_count": 27,
   "metadata": {},
   "outputs": [
    {
     "name": "stdout",
     "output_type": "stream",
     "text": [
      "toxicity                0.239328\n",
      "severe_toxicity         0.005412\n",
      "obscene                 0.133117\n",
      "identity_attack         0.016930\n",
      "insult                  0.118515\n",
      "threat                  0.003724\n",
      "sexual_explicit         0.078196\n",
      "toxicity_flag           0.234986\n",
      "severe_toxicity_flag    0.089187\n",
      "obscene_flag            0.141755\n",
      "threat_flag             0.073236\n",
      "insult_flag             0.101393\n",
      "identity_attack_flag    0.005017\n",
      "dtype: float64\n"
     ]
    }
   ],
   "source": [
    "#Add flag to each comments\n",
    "fds_b4_1mo_body_res['toxicity_flag'] = np.where(fds_b4_1mo_body_res['toxicity']>0.5,1,0)\n",
    "fds_b4_1mo_body_res['severe_toxicity_flag'] = np.where(fds_b4_1mo_body_res['severe_toxicity']>0.01,1,0)\n",
    "fds_b4_1mo_body_res['obscene_flag'] = np.where(fds_b4_1mo_body_res['obscene']>0.5,1,0)\n",
    "fds_b4_1mo_body_res['threat_flag'] = np.where(fds_b4_1mo_body_res['threat']>0.0035,1,0)\n",
    "fds_b4_1mo_body_res['insult_flag'] = np.where(fds_b4_1mo_body_res['insult']>0.5,1,0)\n",
    "fds_b4_1mo_body_res['identity_attack_flag'] = np.where(fds_b4_1mo_body_res['identity_attack']>0.5,1,0)\n",
    "print(fds_b4_1mo_body_res.mean())"
   ]
  },
  {
   "cell_type": "markdown",
   "metadata": {},
   "source": [
    "#### After - 1 month"
   ]
  },
  {
   "cell_type": "code",
   "execution_count": 137,
   "metadata": {},
   "outputs": [],
   "source": [
    "#Import AFTER data\n",
    "fds_aft_1mo =  pd.read_csv('./data/fds_comments_after_1mo.csv')\n",
    "\n",
    "#Leave out all 'removed' and 'deleted' comments\n",
    "fds_aft_1mo = fds_aft_1mo[(fds_aft_1mo['body'] != '[deleted]') & (fds_aft_1mo['body'] != '[removed]')]\n",
    "\n",
    "#Flatten to list of string\n",
    "fds_aft_1mo_body = list(fds_aft_1mo['body'].values.flatten())"
   ]
  },
  {
   "cell_type": "code",
   "execution_count": 138,
   "metadata": {},
   "outputs": [],
   "source": [
    "i = 0\n",
    "n = len(fds_aft_1mo_body)\n",
    "fds_aft_1mo_body_res = pd.DataFrame()\n",
    "while i < n:\n",
    "    res = originalmodel.predict(fds_aft_1mo_body[i:i+100])\n",
    "    f = pd.DataFrame(res,fds_aft_1mo_body[i:i+100]).round(5)\n",
    "    fds_aft_1mo_body_res = pd.concat([fds_aft_1mo_body_res,f])\n",
    "    i = i + 100"
   ]
  },
  {
   "cell_type": "code",
   "execution_count": 197,
   "metadata": {},
   "outputs": [
    {
     "name": "stdout",
     "output_type": "stream",
     "text": [
      "toxicity                0.234422\n",
      "severe_toxicity         0.010200\n",
      "obscene                 0.141388\n",
      "threat                  0.003919\n",
      "insult                  0.080094\n",
      "identity_attack         0.009663\n",
      "toxicity_flag           0.220107\n",
      "severe_toxicity_flag    0.129891\n",
      "obscene_flag            0.143533\n",
      "threat_flag             0.072314\n",
      "insult_flag             0.061525\n",
      "identity_attack_flag    0.002384\n",
      "post                    1.000000\n",
      "dtype: float64\n"
     ]
    }
   ],
   "source": [
    "#Add flag to each comments\n",
    "fds_aft_1mo_body_res['toxicity_flag'] = np.where(fds_aft_1mo_body_res['toxicity']>0.5,1,0)\n",
    "fds_aft_1mo_body_res['severe_toxicity_flag'] = np.where(fds_aft_1mo_body_res['severe_toxicity']>0.01,1,0)\n",
    "fds_aft_1mo_body_res['obscene_flag'] = np.where(fds_aft_1mo_body_res['obscene']>0.5,1,0)\n",
    "fds_aft_1mo_body_res['threat_flag'] = np.where(fds_aft_1mo_body_res['threat']>0.0035,1,0)\n",
    "fds_aft_1mo_body_res['insult_flag'] = np.where(fds_aft_1mo_body_res['insult']>0.5,1,0)\n",
    "fds_aft_1mo_body_res['identity_attack_flag'] = np.where(fds_aft_1mo_body_res['identity_attack']>0.5,1,0)\n",
    "print(fds_aft_1mo_body_res.mean())"
   ]
  },
  {
   "cell_type": "markdown",
   "metadata": {},
   "source": [
    "#### Prelim regression - 1 mo before and after"
   ]
  },
  {
   "cell_type": "code",
   "execution_count": 140,
   "metadata": {},
   "outputs": [],
   "source": [
    "fds_aft_1mo_body_res['post'] = 1\n",
    "fds_b4_1mo_body_res['post'] = 0\n",
    "fds = pd.concat([fds_aft_1mo_body_res, fds_b4_1mo_body_res])"
   ]
  },
  {
   "cell_type": "code",
   "execution_count": 124,
   "metadata": {},
   "outputs": [],
   "source": [
    "import scipy.stats as sts"
   ]
  },
  {
   "cell_type": "markdown",
   "metadata": {},
   "source": [
    "##### Score Difference"
   ]
  },
  {
   "cell_type": "code",
   "execution_count": 171,
   "metadata": {},
   "outputs": [
    {
     "data": {
      "text/plain": [
       "Ttest_indResult(statistic=-3.7724303017310272, pvalue=0.00016189787809350352)"
      ]
     },
     "execution_count": 171,
     "metadata": {},
     "output_type": "execute_result"
    }
   ],
   "source": [
    "sts.ttest_ind(fds_aft_1mo_body_res['toxicity'], fds_b4_1mo_body_res['toxicity'])"
   ]
  },
  {
   "cell_type": "code",
   "execution_count": 190,
   "metadata": {},
   "outputs": [
    {
     "data": {
      "text/plain": [
       "Ttest_indResult(statistic=-2.223479859960319, pvalue=0.026189020922059277)"
      ]
     },
     "execution_count": 190,
     "metadata": {},
     "output_type": "execute_result"
    }
   ],
   "source": [
    "sts.ttest_ind(fds_aft_1mo_body_res['severe_toxicity'], fds_b4_1mo_body_res['severe_toxicity'])"
   ]
  },
  {
   "cell_type": "code",
   "execution_count": 176,
   "metadata": {},
   "outputs": [
    {
     "data": {
      "text/plain": [
       "Ttest_indResult(statistic=-1.1542896016259598, pvalue=0.24838835056994285)"
      ]
     },
     "execution_count": 176,
     "metadata": {},
     "output_type": "execute_result"
    }
   ],
   "source": [
    "sts.ttest_ind(fds_aft_1mo_body_res['obscene'], fds_b4_1mo_body_res['obscene'])"
   ]
  },
  {
   "cell_type": "code",
   "execution_count": 198,
   "metadata": {},
   "outputs": [
    {
     "data": {
      "text/plain": [
       "Ttest_indResult(statistic=1.4622746541176328, pvalue=0.1436738131925582)"
      ]
     },
     "execution_count": 198,
     "metadata": {},
     "output_type": "execute_result"
    }
   ],
   "source": [
    "sts.ttest_ind(fds_aft_1mo_body_res['threat'], fds_b4_1mo_body_res['threat'])"
   ]
  },
  {
   "cell_type": "code",
   "execution_count": 178,
   "metadata": {},
   "outputs": [
    {
     "data": {
      "text/plain": [
       "Ttest_indResult(statistic=-4.466846087339321, pvalue=7.959826618625523e-06)"
      ]
     },
     "execution_count": 178,
     "metadata": {},
     "output_type": "execute_result"
    }
   ],
   "source": [
    "sts.ttest_ind(fds_aft_1mo_body_res['insult'], fds_b4_1mo_body_res['insult'])"
   ]
  },
  {
   "cell_type": "code",
   "execution_count": 179,
   "metadata": {},
   "outputs": [
    {
     "data": {
      "text/plain": [
       "Ttest_indResult(statistic=-5.756451450590391, pvalue=8.652672465096693e-09)"
      ]
     },
     "execution_count": 179,
     "metadata": {},
     "output_type": "execute_result"
    }
   ],
   "source": [
    "sts.ttest_ind(fds_aft_1mo_body_res['identity_attack'], fds_b4_1mo_body_res['identity_attack'])"
   ]
  },
  {
   "cell_type": "markdown",
   "metadata": {},
   "source": [
    "##### Perc Flag Difference"
   ]
  },
  {
   "cell_type": "code",
   "execution_count": 182,
   "metadata": {},
   "outputs": [
    {
     "data": {
      "text/plain": [
       "Ttest_indResult(statistic=-3.193084948735773, pvalue=0.0014087041239313205)"
      ]
     },
     "execution_count": 182,
     "metadata": {},
     "output_type": "execute_result"
    }
   ],
   "source": [
    "sts.ttest_ind(fds_aft_1mo_body_res['toxicity_flag'], fds_b4_1mo_body_res['toxicity_flag'])"
   ]
  },
  {
   "cell_type": "code",
   "execution_count": 191,
   "metadata": {},
   "outputs": [
    {
     "data": {
      "text/plain": [
       "Ttest_indResult(statistic=-2.065185341334117, pvalue=0.0389118910833169)"
      ]
     },
     "execution_count": 191,
     "metadata": {},
     "output_type": "execute_result"
    }
   ],
   "source": [
    "sts.ttest_ind(fds_aft_1mo_body_res['severe_toxicity_flag'], fds_b4_1mo_body_res['severe_toxicity_flag'])"
   ]
  },
  {
   "cell_type": "code",
   "execution_count": 184,
   "metadata": {},
   "outputs": [
    {
     "data": {
      "text/plain": [
       "Ttest_indResult(statistic=-1.0064083867844758, pvalue=0.3142252454463769)"
      ]
     },
     "execution_count": 184,
     "metadata": {},
     "output_type": "execute_result"
    }
   ],
   "source": [
    "sts.ttest_ind(fds_aft_1mo_body_res['obscene_flag'], fds_b4_1mo_body_res['obscene_flag'])"
   ]
  },
  {
   "cell_type": "code",
   "execution_count": 199,
   "metadata": {},
   "outputs": [
    {
     "data": {
      "text/plain": [
       "Ttest_indResult(statistic=-1.997231029203074, pvalue=0.04580685006941343)"
      ]
     },
     "execution_count": 199,
     "metadata": {},
     "output_type": "execute_result"
    }
   ],
   "source": [
    "sts.ttest_ind(fds_aft_1mo_body_res['threat_flag'], fds_b4_1mo_body_res['threat_flag'])"
   ]
  },
  {
   "cell_type": "code",
   "execution_count": 186,
   "metadata": {},
   "outputs": [
    {
     "data": {
      "text/plain": [
       "Ttest_indResult(statistic=-3.9231298449459744, pvalue=8.75518843472234e-05)"
      ]
     },
     "execution_count": 186,
     "metadata": {},
     "output_type": "execute_result"
    }
   ],
   "source": [
    "sts.ttest_ind(fds_aft_1mo_body_res['insult_flag'], fds_b4_1mo_body_res['insult_flag'])"
   ]
  },
  {
   "cell_type": "code",
   "execution_count": 187,
   "metadata": {},
   "outputs": [
    {
     "data": {
      "text/plain": [
       "Ttest_indResult(statistic=-2.5454954886911305, pvalue=0.010915994814353359)"
      ]
     },
     "execution_count": 187,
     "metadata": {},
     "output_type": "execute_result"
    }
   ],
   "source": [
    "sts.ttest_ind(fds_aft_1mo_body_res['identity_attack_flag'], fds_b4_1mo_body_res['identity_attack_flag'])"
   ]
  },
  {
   "cell_type": "markdown",
   "metadata": {},
   "source": [
    "### By Day"
   ]
  },
  {
   "cell_type": "code",
   "execution_count": 223,
   "metadata": {},
   "outputs": [
    {
     "name": "stderr",
     "output_type": "stream",
     "text": [
      "C:\\Users\\nguye\\AppData\\Local\\Temp\\ipykernel_11748\\2339499334.py:2: SettingWithCopyWarning: \n",
      "A value is trying to be set on a copy of a slice from a DataFrame.\n",
      "Try using .loc[row_indexer,col_indexer] = value instead\n",
      "\n",
      "See the caveats in the documentation: https://pandas.pydata.org/pandas-docs/stable/user_guide/indexing.html#returning-a-view-versus-a-copy\n",
      "  fds_aft_1mo_df['Date'] = pd.to_datetime(fds_aft_1mo_df['created_utc'], format='%Y-%m-%d %H:%M:%S')\n"
     ]
    }
   ],
   "source": [
    "####Extract date from before and after files\n",
    "fds_aft_1mo_df['Date'] = pd.to_datetime(fds_aft_1mo_df['created_utc'], format='%Y-%m-%d %H:%M:%S')"
   ]
  },
  {
   "cell_type": "code",
   "execution_count": 234,
   "metadata": {},
   "outputs": [],
   "source": [
    "fds_nov = pd.concat([fds_aft_1mo_body_res.reset_index(),fds_aft_1mo_df['Date'].reset_index()], axis = 1)"
   ]
  },
  {
   "cell_type": "code",
   "execution_count": 215,
   "metadata": {},
   "outputs": [
    {
     "data": {
      "text/html": [
       "<div>\n",
       "<style scoped>\n",
       "    .dataframe tbody tr th:only-of-type {\n",
       "        vertical-align: middle;\n",
       "    }\n",
       "\n",
       "    .dataframe tbody tr th {\n",
       "        vertical-align: top;\n",
       "    }\n",
       "\n",
       "    .dataframe thead th {\n",
       "        text-align: right;\n",
       "    }\n",
       "</style>\n",
       "<table border=\"1\" class=\"dataframe\">\n",
       "  <thead>\n",
       "    <tr style=\"text-align: right;\">\n",
       "      <th></th>\n",
       "      <th>Unnamed: 0</th>\n",
       "      <th>score</th>\n",
       "    </tr>\n",
       "    <tr>\n",
       "      <th>Date</th>\n",
       "      <th></th>\n",
       "      <th></th>\n",
       "    </tr>\n",
       "  </thead>\n",
       "  <tbody>\n",
       "    <tr>\n",
       "      <th>2019-10-28</th>\n",
       "      <td>49512.062914</td>\n",
       "      <td>1.670530</td>\n",
       "    </tr>\n",
       "    <tr>\n",
       "      <th>2019-10-29</th>\n",
       "      <td>48592.601346</td>\n",
       "      <td>1.275862</td>\n",
       "    </tr>\n",
       "    <tr>\n",
       "      <th>2019-10-30</th>\n",
       "      <td>42138.934242</td>\n",
       "      <td>1.034483</td>\n",
       "    </tr>\n",
       "    <tr>\n",
       "      <th>2019-10-31</th>\n",
       "      <td>40132.600719</td>\n",
       "      <td>1.025180</td>\n",
       "    </tr>\n",
       "    <tr>\n",
       "      <th>2019-11-01</th>\n",
       "      <td>26584.033586</td>\n",
       "      <td>1.000000</td>\n",
       "    </tr>\n",
       "    <tr>\n",
       "      <th>2019-11-02</th>\n",
       "      <td>29955.290667</td>\n",
       "      <td>2.314667</td>\n",
       "    </tr>\n",
       "    <tr>\n",
       "      <th>2019-11-03</th>\n",
       "      <td>38198.418579</td>\n",
       "      <td>3.325683</td>\n",
       "    </tr>\n",
       "    <tr>\n",
       "      <th>2019-11-04</th>\n",
       "      <td>34255.598830</td>\n",
       "      <td>2.051462</td>\n",
       "    </tr>\n",
       "    <tr>\n",
       "      <th>2019-11-05</th>\n",
       "      <td>40194.826509</td>\n",
       "      <td>1.029095</td>\n",
       "    </tr>\n",
       "    <tr>\n",
       "      <th>2019-11-06</th>\n",
       "      <td>36807.615523</td>\n",
       "      <td>1.079422</td>\n",
       "    </tr>\n",
       "    <tr>\n",
       "      <th>2019-11-07</th>\n",
       "      <td>43749.458128</td>\n",
       "      <td>2.142857</td>\n",
       "    </tr>\n",
       "    <tr>\n",
       "      <th>2019-11-08</th>\n",
       "      <td>36195.353234</td>\n",
       "      <td>1.330348</td>\n",
       "    </tr>\n",
       "    <tr>\n",
       "      <th>2019-11-09</th>\n",
       "      <td>37576.194925</td>\n",
       "      <td>1.230681</td>\n",
       "    </tr>\n",
       "    <tr>\n",
       "      <th>2019-11-10</th>\n",
       "      <td>41588.764159</td>\n",
       "      <td>1.697380</td>\n",
       "    </tr>\n",
       "    <tr>\n",
       "      <th>2019-11-11</th>\n",
       "      <td>44675.859879</td>\n",
       "      <td>1.189516</td>\n",
       "    </tr>\n",
       "    <tr>\n",
       "      <th>2019-11-12</th>\n",
       "      <td>44909.814286</td>\n",
       "      <td>1.000893</td>\n",
       "    </tr>\n",
       "    <tr>\n",
       "      <th>2019-11-13</th>\n",
       "      <td>42640.260406</td>\n",
       "      <td>1.000000</td>\n",
       "    </tr>\n",
       "    <tr>\n",
       "      <th>2019-11-14</th>\n",
       "      <td>41551.376623</td>\n",
       "      <td>1.000866</td>\n",
       "    </tr>\n",
       "    <tr>\n",
       "      <th>2019-11-15</th>\n",
       "      <td>28948.980263</td>\n",
       "      <td>1.000000</td>\n",
       "    </tr>\n",
       "    <tr>\n",
       "      <th>2019-11-16</th>\n",
       "      <td>35153.550535</td>\n",
       "      <td>1.000000</td>\n",
       "    </tr>\n",
       "    <tr>\n",
       "      <th>2019-11-17</th>\n",
       "      <td>33425.582876</td>\n",
       "      <td>2.772777</td>\n",
       "    </tr>\n",
       "    <tr>\n",
       "      <th>2019-11-18</th>\n",
       "      <td>44535.880658</td>\n",
       "      <td>1.533951</td>\n",
       "    </tr>\n",
       "    <tr>\n",
       "      <th>2019-11-19</th>\n",
       "      <td>52258.107527</td>\n",
       "      <td>1.000717</td>\n",
       "    </tr>\n",
       "    <tr>\n",
       "      <th>2019-11-20</th>\n",
       "      <td>42883.107472</td>\n",
       "      <td>1.012282</td>\n",
       "    </tr>\n",
       "    <tr>\n",
       "      <th>2019-11-21</th>\n",
       "      <td>38831.432139</td>\n",
       "      <td>1.000000</td>\n",
       "    </tr>\n",
       "    <tr>\n",
       "      <th>2019-11-22</th>\n",
       "      <td>32622.749705</td>\n",
       "      <td>1.000000</td>\n",
       "    </tr>\n",
       "    <tr>\n",
       "      <th>2019-11-23</th>\n",
       "      <td>34377.002663</td>\n",
       "      <td>1.009321</td>\n",
       "    </tr>\n",
       "    <tr>\n",
       "      <th>2019-11-24</th>\n",
       "      <td>23090.897837</td>\n",
       "      <td>1.643029</td>\n",
       "    </tr>\n",
       "    <tr>\n",
       "      <th>2019-11-25</th>\n",
       "      <td>40966.973574</td>\n",
       "      <td>1.700974</td>\n",
       "    </tr>\n",
       "    <tr>\n",
       "      <th>2019-11-26</th>\n",
       "      <td>41785.562682</td>\n",
       "      <td>1.007775</td>\n",
       "    </tr>\n",
       "    <tr>\n",
       "      <th>2019-11-27</th>\n",
       "      <td>43669.096886</td>\n",
       "      <td>1.000000</td>\n",
       "    </tr>\n",
       "    <tr>\n",
       "      <th>2019-11-28</th>\n",
       "      <td>44054.319825</td>\n",
       "      <td>1.539978</td>\n",
       "    </tr>\n",
       "    <tr>\n",
       "      <th>2019-11-29</th>\n",
       "      <td>29651.707572</td>\n",
       "      <td>1.027415</td>\n",
       "    </tr>\n",
       "    <tr>\n",
       "      <th>2019-11-30</th>\n",
       "      <td>44734.071355</td>\n",
       "      <td>1.040331</td>\n",
       "    </tr>\n",
       "  </tbody>\n",
       "</table>\n",
       "</div>"
      ],
      "text/plain": [
       "              Unnamed: 0     score\n",
       "Date                              \n",
       "2019-10-28  49512.062914  1.670530\n",
       "2019-10-29  48592.601346  1.275862\n",
       "2019-10-30  42138.934242  1.034483\n",
       "2019-10-31  40132.600719  1.025180\n",
       "2019-11-01  26584.033586  1.000000\n",
       "2019-11-02  29955.290667  2.314667\n",
       "2019-11-03  38198.418579  3.325683\n",
       "2019-11-04  34255.598830  2.051462\n",
       "2019-11-05  40194.826509  1.029095\n",
       "2019-11-06  36807.615523  1.079422\n",
       "2019-11-07  43749.458128  2.142857\n",
       "2019-11-08  36195.353234  1.330348\n",
       "2019-11-09  37576.194925  1.230681\n",
       "2019-11-10  41588.764159  1.697380\n",
       "2019-11-11  44675.859879  1.189516\n",
       "2019-11-12  44909.814286  1.000893\n",
       "2019-11-13  42640.260406  1.000000\n",
       "2019-11-14  41551.376623  1.000866\n",
       "2019-11-15  28948.980263  1.000000\n",
       "2019-11-16  35153.550535  1.000000\n",
       "2019-11-17  33425.582876  2.772777\n",
       "2019-11-18  44535.880658  1.533951\n",
       "2019-11-19  52258.107527  1.000717\n",
       "2019-11-20  42883.107472  1.012282\n",
       "2019-11-21  38831.432139  1.000000\n",
       "2019-11-22  32622.749705  1.000000\n",
       "2019-11-23  34377.002663  1.009321\n",
       "2019-11-24  23090.897837  1.643029\n",
       "2019-11-25  40966.973574  1.700974\n",
       "2019-11-26  41785.562682  1.007775\n",
       "2019-11-27  43669.096886  1.000000\n",
       "2019-11-28  44054.319825  1.539978\n",
       "2019-11-29  29651.707572  1.027415\n",
       "2019-11-30  44734.071355  1.040331"
      ]
     },
     "execution_count": 215,
     "metadata": {},
     "output_type": "execute_result"
    }
   ],
   "source": []
  },
  {
   "cell_type": "code",
   "execution_count": 174,
   "metadata": {},
   "outputs": [
    {
     "data": {
      "text/plain": [
       "toxicity                0.78609\n",
       "severe_toxicity         0.01537\n",
       "obscene                 0.71144\n",
       "threat                  0.00280\n",
       "insult                  0.47489\n",
       "identity_attack         0.02185\n",
       "toxicity_flag           1.00000\n",
       "severe_toxicity_flag    0.00000\n",
       "obscene_flag            1.00000\n",
       "threat_flag             0.00000\n",
       "insult_flag             0.00000\n",
       "identity_attack_flag    0.00000\n",
       "post                    0.00000\n",
       "Name: That's exactly it sister. Its setting the tone, and you have to be real clear with men about that otherwise they dupe you fast, every womans learned that the hard way\\r\\n\\r\\nThey know full well why we make them do it, most women are looking to get taken seriously by a man and only sleep with him, however most men are looking to 'pump and dump' so this is just another way of making him put his money where his mouth is, making it more expensive, making him think twice\\r\\n\\r\\nPlus when I've been nothin but genuine to a guy and he turns out to be a rotten lying fuckboy that led me on, I feel better I wasted £300 of his money that weekend ;), dtype: float64"
      ]
     },
     "execution_count": 174,
     "metadata": {},
     "output_type": "execute_result"
    }
   ],
   "source": [
    "fds_b4_1mo_body_res.iloc[2]"
   ]
  }
 ],
 "metadata": {
  "kernelspec": {
   "display_name": "Python 3.10.4 ('redditbots')",
   "language": "python",
   "name": "python3"
  },
  "language_info": {
   "codemirror_mode": {
    "name": "ipython",
    "version": 3
   },
   "file_extension": ".py",
   "mimetype": "text/x-python",
   "name": "python",
   "nbconvert_exporter": "python",
   "pygments_lexer": "ipython3",
   "version": "3.10.4"
  },
  "orig_nbformat": 4,
  "vscode": {
   "interpreter": {
    "hash": "2b2a55f9055c2400523b349fd3301d5efeb6493fd652ed128c88c237df22f590"
   }
  }
 },
 "nbformat": 4,
 "nbformat_minor": 2
}
