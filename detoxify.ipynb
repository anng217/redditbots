{
 "cells": [
  {
   "cell_type": "code",
   "execution_count": 1,
   "metadata": {},
   "outputs": [
    {
     "name": "stderr",
     "output_type": "stream",
     "text": [
      "c:\\Users\\nguye\\anaconda3\\envs\\redditbots\\lib\\site-packages\\tqdm\\auto.py:22: TqdmWarning: IProgress not found. Please update jupyter and ipywidgets. See https://ipywidgets.readthedocs.io/en/stable/user_install.html\n",
      "  from .autonotebook import tqdm as notebook_tqdm\n"
     ]
    }
   ],
   "source": [
    "from detoxify import Detoxify"
   ]
  },
  {
   "cell_type": "code",
   "execution_count": 2,
   "metadata": {},
   "outputs": [],
   "source": [
    "import pandas as pd"
   ]
  },
  {
   "cell_type": "code",
   "execution_count": 21,
   "metadata": {},
   "outputs": [],
   "source": [
    "import numpy as np"
   ]
  },
  {
   "cell_type": "code",
   "execution_count": 95,
   "metadata": {},
   "outputs": [],
   "source": [
    "import scipy.stats as sts"
   ]
  },
  {
   "cell_type": "markdown",
   "metadata": {},
   "source": [
    "## Tutorial"
   ]
  },
  {
   "cell_type": "code",
   "execution_count": 11,
   "metadata": {},
   "outputs": [],
   "source": [
    "# each model takes in either a string or a list of strings\n",
    "results = Detoxify('original').predict('example text')"
   ]
  },
  {
   "cell_type": "code",
   "execution_count": 20,
   "metadata": {},
   "outputs": [],
   "source": [
    "results = Detoxify('unbiased').predict(['example text 1','example text 2'])"
   ]
  },
  {
   "cell_type": "code",
   "execution_count": 14,
   "metadata": {},
   "outputs": [],
   "source": [
    "results = Detoxify('multilingual').predict(['example text','exemple de texte','texto de ejemplo','testo di esempio','texto de exemplo','örnek metin','пример текста'])"
   ]
  },
  {
   "cell_type": "code",
   "execution_count": 13,
   "metadata": {},
   "outputs": [],
   "source": [
    "# to specify the device the model will be allocated on (defaults to cpu), accepts any torch.device input\n",
    "model = Detoxify('original', device='cuda')"
   ]
  },
  {
   "cell_type": "code",
   "execution_count": 3,
   "metadata": {},
   "outputs": [],
   "source": [
    "import pandas as pd"
   ]
  },
  {
   "cell_type": "code",
   "execution_count": 4,
   "metadata": {},
   "outputs": [],
   "source": [
    "results_df = pd.DataFrame(results).round(8)"
   ]
  },
  {
   "cell_type": "code",
   "execution_count": 15,
   "metadata": {},
   "outputs": [
    {
     "data": {
      "text/html": [
       "<div>\n",
       "<style scoped>\n",
       "    .dataframe tbody tr th:only-of-type {\n",
       "        vertical-align: middle;\n",
       "    }\n",
       "\n",
       "    .dataframe tbody tr th {\n",
       "        vertical-align: top;\n",
       "    }\n",
       "\n",
       "    .dataframe thead th {\n",
       "        text-align: right;\n",
       "    }\n",
       "</style>\n",
       "<table border=\"1\" class=\"dataframe\">\n",
       "  <thead>\n",
       "    <tr style=\"text-align: right;\">\n",
       "      <th></th>\n",
       "      <th>toxicity</th>\n",
       "      <th>severe_toxicity</th>\n",
       "      <th>obscene</th>\n",
       "      <th>identity_attack</th>\n",
       "      <th>insult</th>\n",
       "      <th>threat</th>\n",
       "      <th>sexual_explicit</th>\n",
       "    </tr>\n",
       "  </thead>\n",
       "  <tbody>\n",
       "    <tr>\n",
       "      <th>0</th>\n",
       "      <td>0.000196</td>\n",
       "      <td>0.000193</td>\n",
       "      <td>0.001263</td>\n",
       "      <td>0.000323</td>\n",
       "      <td>0.000883</td>\n",
       "      <td>0.000138</td>\n",
       "      <td>0.000090</td>\n",
       "    </tr>\n",
       "    <tr>\n",
       "      <th>1</th>\n",
       "      <td>0.000563</td>\n",
       "      <td>0.004810</td>\n",
       "      <td>0.030099</td>\n",
       "      <td>0.005532</td>\n",
       "      <td>0.026441</td>\n",
       "      <td>0.002134</td>\n",
       "      <td>0.001036</td>\n",
       "    </tr>\n",
       "    <tr>\n",
       "      <th>2</th>\n",
       "      <td>0.000628</td>\n",
       "      <td>0.003142</td>\n",
       "      <td>0.022164</td>\n",
       "      <td>0.003467</td>\n",
       "      <td>0.017627</td>\n",
       "      <td>0.001497</td>\n",
       "      <td>0.000616</td>\n",
       "    </tr>\n",
       "    <tr>\n",
       "      <th>3</th>\n",
       "      <td>0.000992</td>\n",
       "      <td>0.004267</td>\n",
       "      <td>0.033336</td>\n",
       "      <td>0.005408</td>\n",
       "      <td>0.028724</td>\n",
       "      <td>0.001951</td>\n",
       "      <td>0.000833</td>\n",
       "    </tr>\n",
       "    <tr>\n",
       "      <th>4</th>\n",
       "      <td>0.000612</td>\n",
       "      <td>0.001548</td>\n",
       "      <td>0.012159</td>\n",
       "      <td>0.001841</td>\n",
       "      <td>0.009405</td>\n",
       "      <td>0.000858</td>\n",
       "      <td>0.000362</td>\n",
       "    </tr>\n",
       "    <tr>\n",
       "      <th>5</th>\n",
       "      <td>0.000591</td>\n",
       "      <td>0.002832</td>\n",
       "      <td>0.021326</td>\n",
       "      <td>0.003134</td>\n",
       "      <td>0.017865</td>\n",
       "      <td>0.001327</td>\n",
       "      <td>0.000616</td>\n",
       "    </tr>\n",
       "    <tr>\n",
       "      <th>6</th>\n",
       "      <td>0.000535</td>\n",
       "      <td>0.003826</td>\n",
       "      <td>0.026462</td>\n",
       "      <td>0.004030</td>\n",
       "      <td>0.021902</td>\n",
       "      <td>0.001632</td>\n",
       "      <td>0.000747</td>\n",
       "    </tr>\n",
       "  </tbody>\n",
       "</table>\n",
       "</div>"
      ],
      "text/plain": [
       "   toxicity  severe_toxicity   obscene  identity_attack    insult    threat  \\\n",
       "0  0.000196         0.000193  0.001263         0.000323  0.000883  0.000138   \n",
       "1  0.000563         0.004810  0.030099         0.005532  0.026441  0.002134   \n",
       "2  0.000628         0.003142  0.022164         0.003467  0.017627  0.001497   \n",
       "3  0.000992         0.004267  0.033336         0.005408  0.028724  0.001951   \n",
       "4  0.000612         0.001548  0.012159         0.001841  0.009405  0.000858   \n",
       "5  0.000591         0.002832  0.021326         0.003134  0.017865  0.001327   \n",
       "6  0.000535         0.003826  0.026462         0.004030  0.021902  0.001632   \n",
       "\n",
       "   sexual_explicit  \n",
       "0         0.000090  \n",
       "1         0.001036  \n",
       "2         0.000616  \n",
       "3         0.000833  \n",
       "4         0.000362  \n",
       "5         0.000616  \n",
       "6         0.000747  "
      ]
     },
     "execution_count": 15,
     "metadata": {},
     "output_type": "execute_result"
    }
   ],
   "source": [
    "results_df"
   ]
  },
  {
   "cell_type": "code",
   "execution_count": 19,
   "metadata": {},
   "outputs": [
    {
     "data": {
      "text/plain": [
       "0.0005879871428571428"
      ]
     },
     "execution_count": 19,
     "metadata": {},
     "output_type": "execute_result"
    }
   ],
   "source": [
    "#Get Toxicity Mean\n",
    "results_df['toxicity'].mean()"
   ]
  },
  {
   "cell_type": "code",
   "execution_count": 20,
   "metadata": {},
   "outputs": [
    {
     "data": {
      "text/plain": [
       "toxicity           0.000588\n",
       "severe_toxicity    0.002945\n",
       "obscene            0.020973\n",
       "identity_attack    0.003391\n",
       "insult             0.017550\n",
       "threat             0.001362\n",
       "sexual_explicit    0.000614\n",
       "dtype: float64"
      ]
     },
     "execution_count": 20,
     "metadata": {},
     "output_type": "execute_result"
    }
   ],
   "source": [
    "#Get all column Mean\n",
    "results_df.mean()"
   ]
  },
  {
   "cell_type": "markdown",
   "metadata": {},
   "source": [
    "# Function"
   ]
  },
  {
   "cell_type": "code",
   "execution_count": 76,
   "metadata": {},
   "outputs": [],
   "source": [
    "def detox_loop(df,model):\n",
    "    detox = Detoxify(model, device='cuda')\n",
    "    i = 0\n",
    "    n = len(df)\n",
    "    df_res = pd.DataFrame()\n",
    "    while i < n:\n",
    "        res = detox.predict(df[i:i+100])\n",
    "        f = pd.DataFrame(res,df[i:i+100]).round(5)\n",
    "        df_res = pd.concat([df_res,f])\n",
    "        i = i + 100\n",
    "    return df_res"
   ]
  },
  {
   "cell_type": "code",
   "execution_count": 77,
   "metadata": {},
   "outputs": [],
   "source": [
    "def flag_base(df_res,thresh):\n",
    "    [float(i) for i in thresh]\n",
    "    df_res['toxicity_flag'] = np.where(df_res['toxicity']>thresh[0],1,0)\n",
    "    df_res['severe_toxicity_flag'] = np.where(df_res['severe_toxicity']>thresh[1],1,0)\n",
    "    df_res['obscene_flag'] = np.where(df_res['obscene']>thresh[2],1,0)\n",
    "    df_res['threat_flag'] = np.where(df_res['threat']>thresh[3],1,0)\n",
    "    df_res['insult_flag'] = np.where(df_res['insult']>thresh[4],1,0)\n",
    "    df_res['identity_attack_flag'] = np.where(df_res['identity_attack']>thresh[5],1,0)\n",
    "    return df_res"
   ]
  },
  {
   "cell_type": "code",
   "execution_count": 78,
   "metadata": {},
   "outputs": [],
   "source": [
    "def flag_unbiased(df_res,thresh):\n",
    "    [float(i) for i in thresh]\n",
    "    df_res['toxicity_flag'] = np.where(df_res['toxicity']>thresh[0],1,0)\n",
    "    df_res['severe_toxicity_flag'] = np.where(df_res['severe_toxicity']>thresh[1],1,0)\n",
    "    df_res['obscene_flag'] = np.where(df_res['obscene']>thresh[2],1,0)\n",
    "    df_res['threat_flag'] = np.where(df_res['threat']>thresh[3],1,0)\n",
    "    df_res['insult_flag'] = np.where(df_res['insult']>thresh[4],1,0)\n",
    "    df_res['identity_attack_flag'] = np.where(df_res['identity_attack']>thresh[5],1,0)\n",
    "    df_res['sexual_explicit_flag'] = np.where(df_res['sexual_explicit']>thresh[6],1,0)\n",
    "    return df_res"
   ]
  },
  {
   "cell_type": "code",
   "execution_count": 79,
   "metadata": {},
   "outputs": [],
   "source": [
    "def process(df,model,thresh):\n",
    "    df=list(df['body'].values.flatten())\n",
    "    res = detox_loop(df=df,model=model)\n",
    "    if model == 'original':\n",
    "        res = flag_base(df_res=res, thresh = thresh)\n",
    "    else:\n",
    "        res = flag_unbiased(df_res=res, thresh = thresh)\n",
    "    df_mean = res.mean()\n",
    "    return res,df_mean\n"
   ]
  },
  {
   "cell_type": "code",
   "execution_count": 149,
   "metadata": {},
   "outputs": [],
   "source": [
    "def detox(source_dir,model, thresh):\n",
    "    #keeping separate pre-post list\n",
    "    df = pd.read_csv(source_dir)\n",
    "    df_pre = df[df['post']==0]\n",
    "    df_post = df[df['post']==1]\n",
    " \n",
    "    #pre\n",
    "    pre_res,pre_mean = process(df=df_pre,model=model, thresh=thresh)\n",
    "    print(f'Pre: {pre_mean}')\n",
    "    pre_res = pre_res.reset_index()\n",
    "    pre_res.rename(columns ={'index':'body'})\n",
    "    pre_res = pd.concat(df_pre,pre_res)\n",
    "\n",
    "    #post\n",
    "    post_res,post_mean = process(df=df_post,model=model, thresh=thresh)\n",
    "    print(f'Post: {post_mean}')\n",
    "    post_res = post_res.reset_index()\n",
    "    post_res.rename(columns ={'index':'body'})\n",
    "    post_res = pd.concat(df_post,post_res)\n",
    "\n",
    "    return pre_res,post_res"
   ]
  },
  {
   "cell_type": "code",
   "execution_count": 112,
   "metadata": {},
   "outputs": [],
   "source": [
    "def compare(pre_res,post_res,model):\n",
    "    tox = sts.ttest_ind(pre_res['toxicity'], post_res['toxicity'])\n",
    "    print(f'Toxicity: {tox}')\n",
    "\n",
    "    sev_tox = sts.ttest_ind(pre_res['severe_toxicity'], post_res['severe_toxicity'])\n",
    "    print(f'Severe Toxicity: {sev_tox}')\n",
    "\n",
    "    obscene = sts.ttest_ind(pre_res['obscene'], post_res['obscene'])\n",
    "    print(f'Obscene: {obscene}')\n",
    "\n",
    "    threat = sts.ttest_ind(pre_res['threat'], post_res['threat'])\n",
    "    print(f'Threat: {threat}')\n",
    "\n",
    "    insult = sts.ttest_ind(pre_res['insult'], post_res['insult'])\n",
    "    print(f'Insult: {insult}')\n",
    "\n",
    "    identity = sts.ttest_ind(pre_res['identity_attack'], post_res['identity_attack'])\n",
    "    print(f'Identity Attack: {identity}')\n",
    "\n",
    "    tox_f = sts.ttest_ind(pre_res['toxicity_flag'], post_res['toxicity_flag'])\n",
    "    print(f'Toxicity Flag: {tox_f}')\n",
    "\n",
    "    sev_tox_f = sts.ttest_ind(pre_res['severe_toxicity_flag'], post_res['severe_toxicity_flag'])\n",
    "    print(f'Severe Toxicity Flag: {sev_tox_f}')\n",
    "\n",
    "    obscene_f = sts.ttest_ind(pre_res['obscene_flag'], post_res['obscene_flag'])\n",
    "    print(f'Obscene Flag: {obscene_f}')\n",
    "\n",
    "    threat_f = sts.ttest_ind(pre_res['threat_flag'], post_res['threat_flag'])\n",
    "    print(f'Threat Flag: {threat_f}')\n",
    "\n",
    "    insult_f = sts.ttest_ind(pre_res['insult'], post_res['insult'])\n",
    "    print(f'Insult Flag: {insult_f}')\n",
    "\n",
    "    identity_f = sts.ttest_ind(pre_res['identity_attack_flag'], post_res['identity_attack_flag'])\n",
    "    print(f'Identity Attack Flag: {identity}')\n",
    "    \n",
    "    if model == 'unbiased':\n",
    "        sexual_exp = sts.ttest_ind(pre_res['sexual_explicit'], post_res['sexual_explicit'])\n",
    "        print(f'Sexual Explicit: {sexual_exp}')\n",
    "\n",
    "        sexual_exp_f = sts.ttest_ind(pre_res['sexual_explicit_flag'], post_res['sexual_explicit_flag'])\n",
    "        print(f'Sexual Explicit Flag: {sexual_exp_f}')"
   ]
  },
  {
   "cell_type": "markdown",
   "metadata": {},
   "source": [
    "# Apply"
   ]
  },
  {
   "cell_type": "markdown",
   "metadata": {},
   "source": [
    "## r/feminism"
   ]
  },
  {
   "cell_type": "code",
   "execution_count": 110,
   "metadata": {},
   "outputs": [
    {
     "name": "stdout",
     "output_type": "stream",
     "text": [
      "Pre: toxicity                0.179478\n",
      "severe_toxicity         0.008776\n",
      "obscene                 0.089124\n",
      "threat                  0.004224\n",
      "insult                  0.051553\n",
      "identity_attack         0.018389\n",
      "toxicity_flag           0.162950\n",
      "severe_toxicity_flag    0.001546\n",
      "obscene_flag            0.087437\n",
      "threat_flag             0.002208\n",
      "insult_flag             0.036653\n",
      "identity_attack_flag    0.006403\n",
      "dtype: float64\n",
      "Post: toxicity                0.168009\n",
      "severe_toxicity         0.008474\n",
      "obscene                 0.084894\n",
      "threat                  0.003833\n",
      "insult                  0.051067\n",
      "identity_attack         0.015288\n",
      "toxicity_flag           0.153433\n",
      "severe_toxicity_flag    0.001343\n",
      "obscene_flag            0.079402\n",
      "threat_flag             0.001918\n",
      "insult_flag             0.036824\n",
      "identity_attack_flag    0.005754\n",
      "dtype: float64\n"
     ]
    }
   ],
   "source": [
    "thresh = [.5,.5,.5,.5,.5,.5]\n",
    "thresh = [float(i) for i in thresh]\n",
    "feminism_base_pre,feminism_base_post = detox(source_dir='./data/Control/feminism_clean.csv', model = 'original',thresh = thresh)"
   ]
  },
  {
   "cell_type": "code",
   "execution_count": 113,
   "metadata": {},
   "outputs": [
    {
     "name": "stdout",
     "output_type": "stream",
     "text": [
      "Toxicity: Ttest_indResult(statistic=1.853600213519358, pvalue=0.06382659004506512)\n",
      "Severe Toxicity: Ttest_indResult(statistic=0.3407265465916189, pvalue=0.7333167999434089)\n",
      "Obscene: Ttest_indResult(statistic=0.8803149343337442, pvalue=0.3787104420976326)\n",
      "Threat: Ttest_indResult(statistic=0.5320321206061094, pvalue=0.5947158825402368)\n",
      "Insult: Ttest_indResult(statistic=0.1527983079947721, pvalue=0.8785604968650568)\n",
      "Identity Attack: Ttest_indResult(statistic=2.1791876273363764, pvalue=0.029341610547347192)\n",
      "Toxicity Flag: Ttest_indResult(statistic=1.2849888515759413, pvalue=0.1988267327967718)\n",
      "Severe Toxicity Flag: Ttest_indResult(statistic=0.26388040511235145, pvalue=0.7918776571224689)\n",
      "Obscene Flag: Ttest_indResult(statistic=1.432761808292858, pvalue=0.15195800980732838)\n",
      "Threat Flag: Ttest_indResult(statistic=0.3154951937407536, pvalue=0.7523924583489356)\n",
      "Insult Flag: Ttest_indResult(statistic=0.1527983079947721, pvalue=0.8785604968650568)\n",
      "Identity Attack Flag: Ttest_indResult(statistic=2.1791876273363764, pvalue=0.029341610547347192)\n"
     ]
    }
   ],
   "source": [
    "compare(feminism_base_pre,feminism_base_post, model = 'original')"
   ]
  },
  {
   "cell_type": "code",
   "execution_count": 150,
   "metadata": {},
   "outputs": [
    {
     "name": "stdout",
     "output_type": "stream",
     "text": [
      "Pre: toxicity                0.178182\n",
      "severe_toxicity         0.003853\n",
      "obscene                 0.076309\n",
      "identity_attack         0.032643\n",
      "insult                  0.073435\n",
      "threat                  0.004031\n",
      "sexual_explicit         0.059691\n",
      "toxicity_flag           0.159859\n",
      "severe_toxicity_flag    0.000442\n",
      "obscene_flag            0.078384\n",
      "threat_flag             0.002208\n",
      "insult_flag             0.059837\n",
      "identity_attack_flag    0.014352\n",
      "sexual_explicit_flag    0.052329\n",
      "dtype: float64\n"
     ]
    },
    {
     "name": "stderr",
     "output_type": "stream",
     "text": [
      "C:\\Users\\nguye\\AppData\\Local\\Temp\\ipykernel_15564\\2487416169.py:12: FutureWarning: In a future version of pandas all arguments of concat except for the argument 'objs' will be keyword-only.\n",
      "  pre_res = pd.concat(df_pre,pre_res)\n"
     ]
    },
    {
     "ename": "TypeError",
     "evalue": "first argument must be an iterable of pandas objects, you passed an object of type \"DataFrame\"",
     "output_type": "error",
     "traceback": [
      "\u001b[1;31m---------------------------------------------------------------------------\u001b[0m",
      "\u001b[1;31mTypeError\u001b[0m                                 Traceback (most recent call last)",
      "\u001b[1;32me:\\github\\redditbots\\detoxify.ipynb Cell 26\u001b[0m in \u001b[0;36m<cell line: 3>\u001b[1;34m()\u001b[0m\n\u001b[0;32m      <a href='vscode-notebook-cell:/e%3A/github/redditbots/detoxify.ipynb#ch0000107?line=0'>1</a>\u001b[0m thresh \u001b[39m=\u001b[39m [\u001b[39m.5\u001b[39m,\u001b[39m.5\u001b[39m,\u001b[39m.5\u001b[39m,\u001b[39m.5\u001b[39m,\u001b[39m.5\u001b[39m,\u001b[39m.5\u001b[39m,\u001b[39m.5\u001b[39m]\n\u001b[0;32m      <a href='vscode-notebook-cell:/e%3A/github/redditbots/detoxify.ipynb#ch0000107?line=1'>2</a>\u001b[0m thresh \u001b[39m=\u001b[39m [\u001b[39mfloat\u001b[39m(i) \u001b[39mfor\u001b[39;00m i \u001b[39min\u001b[39;00m thresh]\n\u001b[1;32m----> <a href='vscode-notebook-cell:/e%3A/github/redditbots/detoxify.ipynb#ch0000107?line=2'>3</a>\u001b[0m feminism_unb_pre,feminism_unb_post \u001b[39m=\u001b[39m detox(source_dir\u001b[39m=\u001b[39;49m\u001b[39m'\u001b[39;49m\u001b[39m./data/Control/feminism_clean.csv\u001b[39;49m\u001b[39m'\u001b[39;49m, model \u001b[39m=\u001b[39;49m \u001b[39m'\u001b[39;49m\u001b[39munbiased\u001b[39;49m\u001b[39m'\u001b[39;49m,thresh \u001b[39m=\u001b[39;49m thresh)\n",
      "\u001b[1;32me:\\github\\redditbots\\detoxify.ipynb Cell 26\u001b[0m in \u001b[0;36mdetox\u001b[1;34m(source_dir, model, thresh)\u001b[0m\n\u001b[0;32m     <a href='vscode-notebook-cell:/e%3A/github/redditbots/detoxify.ipynb#ch0000107?line=9'>10</a>\u001b[0m pre_res \u001b[39m=\u001b[39m pre_res\u001b[39m.\u001b[39mreset_index()\n\u001b[0;32m     <a href='vscode-notebook-cell:/e%3A/github/redditbots/detoxify.ipynb#ch0000107?line=10'>11</a>\u001b[0m pre_res\u001b[39m.\u001b[39mrename(columns \u001b[39m=\u001b[39m{\u001b[39m'\u001b[39m\u001b[39mindex\u001b[39m\u001b[39m'\u001b[39m:\u001b[39m'\u001b[39m\u001b[39mbody\u001b[39m\u001b[39m'\u001b[39m})\n\u001b[1;32m---> <a href='vscode-notebook-cell:/e%3A/github/redditbots/detoxify.ipynb#ch0000107?line=11'>12</a>\u001b[0m pre_res \u001b[39m=\u001b[39m pd\u001b[39m.\u001b[39;49mconcat(df_pre,pre_res)\n\u001b[0;32m     <a href='vscode-notebook-cell:/e%3A/github/redditbots/detoxify.ipynb#ch0000107?line=13'>14</a>\u001b[0m \u001b[39m#post\u001b[39;00m\n\u001b[0;32m     <a href='vscode-notebook-cell:/e%3A/github/redditbots/detoxify.ipynb#ch0000107?line=14'>15</a>\u001b[0m post_res,post_mean \u001b[39m=\u001b[39m process(df\u001b[39m=\u001b[39mdf_post,model\u001b[39m=\u001b[39mmodel, thresh\u001b[39m=\u001b[39mthresh)\n",
      "File \u001b[1;32mc:\\Users\\nguye\\anaconda3\\envs\\redditbots\\lib\\site-packages\\pandas\\util\\_decorators.py:311\u001b[0m, in \u001b[0;36mdeprecate_nonkeyword_arguments.<locals>.decorate.<locals>.wrapper\u001b[1;34m(*args, **kwargs)\u001b[0m\n\u001b[0;32m    305\u001b[0m \u001b[39mif\u001b[39;00m \u001b[39mlen\u001b[39m(args) \u001b[39m>\u001b[39m num_allow_args:\n\u001b[0;32m    306\u001b[0m     warnings\u001b[39m.\u001b[39mwarn(\n\u001b[0;32m    307\u001b[0m         msg\u001b[39m.\u001b[39mformat(arguments\u001b[39m=\u001b[39marguments),\n\u001b[0;32m    308\u001b[0m         \u001b[39mFutureWarning\u001b[39;00m,\n\u001b[0;32m    309\u001b[0m         stacklevel\u001b[39m=\u001b[39mstacklevel,\n\u001b[0;32m    310\u001b[0m     )\n\u001b[1;32m--> 311\u001b[0m \u001b[39mreturn\u001b[39;00m func(\u001b[39m*\u001b[39margs, \u001b[39m*\u001b[39m\u001b[39m*\u001b[39mkwargs)\n",
      "File \u001b[1;32mc:\\Users\\nguye\\anaconda3\\envs\\redditbots\\lib\\site-packages\\pandas\\core\\reshape\\concat.py:347\u001b[0m, in \u001b[0;36mconcat\u001b[1;34m(objs, axis, join, ignore_index, keys, levels, names, verify_integrity, sort, copy)\u001b[0m\n\u001b[0;32m    143\u001b[0m \u001b[39m@deprecate_nonkeyword_arguments\u001b[39m(version\u001b[39m=\u001b[39m\u001b[39mNone\u001b[39;00m, allowed_args\u001b[39m=\u001b[39m[\u001b[39m\"\u001b[39m\u001b[39mobjs\u001b[39m\u001b[39m\"\u001b[39m])\n\u001b[0;32m    144\u001b[0m \u001b[39mdef\u001b[39;00m \u001b[39mconcat\u001b[39m(\n\u001b[0;32m    145\u001b[0m     objs: Iterable[NDFrame] \u001b[39m|\u001b[39m Mapping[Hashable, NDFrame],\n\u001b[1;32m   (...)\u001b[0m\n\u001b[0;32m    154\u001b[0m     copy: \u001b[39mbool\u001b[39m \u001b[39m=\u001b[39m \u001b[39mTrue\u001b[39;00m,\n\u001b[0;32m    155\u001b[0m ) \u001b[39m-\u001b[39m\u001b[39m>\u001b[39m DataFrame \u001b[39m|\u001b[39m Series:\n\u001b[0;32m    156\u001b[0m     \u001b[39m\"\"\"\u001b[39;00m\n\u001b[0;32m    157\u001b[0m \u001b[39m    Concatenate pandas objects along a particular axis with optional set logic\u001b[39;00m\n\u001b[0;32m    158\u001b[0m \u001b[39m    along the other axes.\u001b[39;00m\n\u001b[1;32m   (...)\u001b[0m\n\u001b[0;32m    345\u001b[0m \u001b[39m    ValueError: Indexes have overlapping values: ['a']\u001b[39;00m\n\u001b[0;32m    346\u001b[0m \u001b[39m    \"\"\"\u001b[39;00m\n\u001b[1;32m--> 347\u001b[0m     op \u001b[39m=\u001b[39m _Concatenator(\n\u001b[0;32m    348\u001b[0m         objs,\n\u001b[0;32m    349\u001b[0m         axis\u001b[39m=\u001b[39;49maxis,\n\u001b[0;32m    350\u001b[0m         ignore_index\u001b[39m=\u001b[39;49mignore_index,\n\u001b[0;32m    351\u001b[0m         join\u001b[39m=\u001b[39;49mjoin,\n\u001b[0;32m    352\u001b[0m         keys\u001b[39m=\u001b[39;49mkeys,\n\u001b[0;32m    353\u001b[0m         levels\u001b[39m=\u001b[39;49mlevels,\n\u001b[0;32m    354\u001b[0m         names\u001b[39m=\u001b[39;49mnames,\n\u001b[0;32m    355\u001b[0m         verify_integrity\u001b[39m=\u001b[39;49mverify_integrity,\n\u001b[0;32m    356\u001b[0m         copy\u001b[39m=\u001b[39;49mcopy,\n\u001b[0;32m    357\u001b[0m         sort\u001b[39m=\u001b[39;49msort,\n\u001b[0;32m    358\u001b[0m     )\n\u001b[0;32m    360\u001b[0m     \u001b[39mreturn\u001b[39;00m op\u001b[39m.\u001b[39mget_result()\n",
      "File \u001b[1;32mc:\\Users\\nguye\\anaconda3\\envs\\redditbots\\lib\\site-packages\\pandas\\core\\reshape\\concat.py:382\u001b[0m, in \u001b[0;36m_Concatenator.__init__\u001b[1;34m(self, objs, axis, join, keys, levels, names, ignore_index, verify_integrity, copy, sort)\u001b[0m\n\u001b[0;32m    368\u001b[0m \u001b[39mdef\u001b[39;00m \u001b[39m__init__\u001b[39m(\n\u001b[0;32m    369\u001b[0m     \u001b[39mself\u001b[39m,\n\u001b[0;32m    370\u001b[0m     objs: Iterable[NDFrame] \u001b[39m|\u001b[39m Mapping[Hashable, NDFrame],\n\u001b[1;32m   (...)\u001b[0m\n\u001b[0;32m    379\u001b[0m     sort\u001b[39m=\u001b[39m\u001b[39mFalse\u001b[39;00m,\n\u001b[0;32m    380\u001b[0m ):\n\u001b[0;32m    381\u001b[0m     \u001b[39mif\u001b[39;00m \u001b[39misinstance\u001b[39m(objs, (ABCSeries, ABCDataFrame, \u001b[39mstr\u001b[39m)):\n\u001b[1;32m--> 382\u001b[0m         \u001b[39mraise\u001b[39;00m \u001b[39mTypeError\u001b[39;00m(\n\u001b[0;32m    383\u001b[0m             \u001b[39m\"\u001b[39m\u001b[39mfirst argument must be an iterable of pandas \u001b[39m\u001b[39m\"\u001b[39m\n\u001b[0;32m    384\u001b[0m             \u001b[39mf\u001b[39m\u001b[39m'\u001b[39m\u001b[39mobjects, you passed an object of type \u001b[39m\u001b[39m\"\u001b[39m\u001b[39m{\u001b[39;00m\u001b[39mtype\u001b[39m(objs)\u001b[39m.\u001b[39m\u001b[39m__name__\u001b[39m\u001b[39m}\u001b[39;00m\u001b[39m\"\u001b[39m\u001b[39m'\u001b[39m\n\u001b[0;32m    385\u001b[0m         )\n\u001b[0;32m    387\u001b[0m     \u001b[39mif\u001b[39;00m join \u001b[39m==\u001b[39m \u001b[39m\"\u001b[39m\u001b[39mouter\u001b[39m\u001b[39m\"\u001b[39m:\n\u001b[0;32m    388\u001b[0m         \u001b[39mself\u001b[39m\u001b[39m.\u001b[39mintersect \u001b[39m=\u001b[39m \u001b[39mFalse\u001b[39;00m\n",
      "\u001b[1;31mTypeError\u001b[0m: first argument must be an iterable of pandas objects, you passed an object of type \"DataFrame\""
     ]
    }
   ],
   "source": [
    "thresh = [.5,.5,.5,.5,.5,.5,.5]\n",
    "thresh = [float(i) for i in thresh]\n",
    "feminism_unb_pre,feminism_unb_post = detox(source_dir='./data/Control/feminism_clean.csv', model = 'unbiased',thresh = thresh)"
   ]
  },
  {
   "cell_type": "code",
   "execution_count": 116,
   "metadata": {},
   "outputs": [
    {
     "name": "stdout",
     "output_type": "stream",
     "text": [
      "Toxicity: Ttest_indResult(statistic=1.0941068948819561, pvalue=0.2739351526047687)\n",
      "Severe Toxicity: Ttest_indResult(statistic=0.7168714888169526, pvalue=0.4734705832910765)\n",
      "Obscene: Ttest_indResult(statistic=0.08581130396441883, pvalue=0.9316181839735099)\n",
      "Threat: Ttest_indResult(statistic=0.08021507466557824, pvalue=0.9360678487879641)\n",
      "Insult: Ttest_indResult(statistic=-1.6159819226597314, pvalue=0.10613060530521833)\n",
      "Identity Attack: Ttest_indResult(statistic=2.8798243483258084, pvalue=0.00398764079906833)\n",
      "Toxicity Flag: Ttest_indResult(statistic=0.11614791806836147, pvalue=0.9075377069099041)\n",
      "Severe Toxicity Flag: Ttest_indResult(statistic=1.5175768201161466, pvalue=0.1291535654654599)\n",
      "Obscene Flag: Ttest_indResult(statistic=-0.11593915209209593, pvalue=0.9077031559342021)\n",
      "Threat Flag: Ttest_indResult(statistic=0.10432851489020296, pvalue=0.9169107976624281)\n",
      "Insult Flag: Ttest_indResult(statistic=-1.6159819226597314, pvalue=0.10613060530521833)\n",
      "Identity Attack Flag: Ttest_indResult(statistic=2.8798243483258084, pvalue=0.00398764079906833)\n",
      "Sexual Explicit: Ttest_indResult(statistic=3.0117833316380156, pvalue=0.002603843344028322)\n",
      "Sexual Explicit Flag: Ttest_indResult(statistic=2.692944881303577, pvalue=0.007094517165801728)\n"
     ]
    }
   ],
   "source": [
    "compare(feminism_unb_pre,feminism_unb_post, model = 'unbiased')"
   ]
  },
  {
   "cell_type": "code",
   "execution_count": 130,
   "metadata": {},
   "outputs": [],
   "source": [
    "# This part needs to be in func\n",
    "test = pd.read_csv('./data/Control/feminism_clean.csv')"
   ]
  },
  {
   "cell_type": "code",
   "execution_count": 131,
   "metadata": {},
   "outputs": [],
   "source": [
    "test = test[test['post']==0]"
   ]
  },
  {
   "cell_type": "code",
   "execution_count": 134,
   "metadata": {},
   "outputs": [],
   "source": [
    "test_body=list(test['body'].values.flatten())[1:100]"
   ]
  },
  {
   "cell_type": "code",
   "execution_count": 138,
   "metadata": {},
   "outputs": [],
   "source": [
    "test_res = Detoxify('unbiased',device = 'cuda').predict(test_body)"
   ]
  },
  {
   "cell_type": "code",
   "execution_count": 139,
   "metadata": {},
   "outputs": [],
   "source": [
    "test_res = pd.DataFrame(test_res,test_body)"
   ]
  },
  {
   "cell_type": "code",
   "execution_count": 140,
   "metadata": {},
   "outputs": [
    {
     "data": {
      "text/html": [
       "<div>\n",
       "<style scoped>\n",
       "    .dataframe tbody tr th:only-of-type {\n",
       "        vertical-align: middle;\n",
       "    }\n",
       "\n",
       "    .dataframe tbody tr th {\n",
       "        vertical-align: top;\n",
       "    }\n",
       "\n",
       "    .dataframe thead th {\n",
       "        text-align: right;\n",
       "    }\n",
       "</style>\n",
       "<table border=\"1\" class=\"dataframe\">\n",
       "  <thead>\n",
       "    <tr style=\"text-align: right;\">\n",
       "      <th></th>\n",
       "      <th>toxicity</th>\n",
       "      <th>severe_toxicity</th>\n",
       "      <th>obscene</th>\n",
       "      <th>identity_attack</th>\n",
       "      <th>insult</th>\n",
       "      <th>threat</th>\n",
       "      <th>sexual_explicit</th>\n",
       "    </tr>\n",
       "  </thead>\n",
       "  <tbody>\n",
       "    <tr>\n",
       "      <th>“buT MeN chOoSe tO wOrK thOsE jERbs”</th>\n",
       "      <td>0.146783</td>\n",
       "      <td>0.000125</td>\n",
       "      <td>0.023427</td>\n",
       "      <td>0.006523</td>\n",
       "      <td>0.031431</td>\n",
       "      <td>0.000591</td>\n",
       "      <td>0.003193</td>\n",
       "    </tr>\n",
       "    <tr>\n",
       "      <th>Are you my excuse to deem feminists anything other than hot-headed attention seekers lacking in self awareness?</th>\n",
       "      <td>0.106481</td>\n",
       "      <td>0.000040</td>\n",
       "      <td>0.001348</td>\n",
       "      <td>0.036017</td>\n",
       "      <td>0.024539</td>\n",
       "      <td>0.000339</td>\n",
       "      <td>0.003825</td>\n",
       "    </tr>\n",
       "    <tr>\n",
       "      <th>Then do it. \\n\\n“Everyone I’m leaving!”\\n\\n“Bye”</th>\n",
       "      <td>0.001507</td>\n",
       "      <td>0.000002</td>\n",
       "      <td>0.000111</td>\n",
       "      <td>0.000120</td>\n",
       "      <td>0.000194</td>\n",
       "      <td>0.000062</td>\n",
       "      <td>0.000029</td>\n",
       "    </tr>\n",
       "    <tr>\n",
       "      <th>Wait ...let me get this straight. There are actually people who believe rape, gun violence, gang activity, and terrorism are strictly male issues? Is this satire? I can't comprehend how anyone would be dumb enough to buy this ideology. Ill take my ban now, thanks.</th>\n",
       "      <td>0.664137</td>\n",
       "      <td>0.000070</td>\n",
       "      <td>0.002260</td>\n",
       "      <td>0.003002</td>\n",
       "      <td>0.526946</td>\n",
       "      <td>0.000362</td>\n",
       "      <td>0.008923</td>\n",
       "    </tr>\n",
       "    <tr>\n",
       "      <th>And?</th>\n",
       "      <td>0.000583</td>\n",
       "      <td>0.000001</td>\n",
       "      <td>0.000023</td>\n",
       "      <td>0.000123</td>\n",
       "      <td>0.000129</td>\n",
       "      <td>0.000020</td>\n",
       "      <td>0.000009</td>\n",
       "    </tr>\n",
       "    <tr>\n",
       "      <th>...</th>\n",
       "      <td>...</td>\n",
       "      <td>...</td>\n",
       "      <td>...</td>\n",
       "      <td>...</td>\n",
       "      <td>...</td>\n",
       "      <td>...</td>\n",
       "      <td>...</td>\n",
       "    </tr>\n",
       "    <tr>\n",
       "      <th>I'd like to refer you to rules 1,2 and 3 of this subreddit. One of them is it's forbidden to promote regressive agenda.</th>\n",
       "      <td>0.000379</td>\n",
       "      <td>0.000001</td>\n",
       "      <td>0.000024</td>\n",
       "      <td>0.000072</td>\n",
       "      <td>0.000097</td>\n",
       "      <td>0.000018</td>\n",
       "      <td>0.000013</td>\n",
       "    </tr>\n",
       "    <tr>\n",
       "      <th>Again, BDSM and Kinks are not same thing and you don't have the guts to either understand or answer the question. \\n\\nWhat's the most comedic thing is you people don't even understand that equating rape with kinks and BDSM, you people actually are performing kink shaming. And then there are matters of women who got criticised for being a sexual dominatrix by people like you.  People like you who don't know nothing about BDSM, kinks or fetishes dominate online spaces where they use their ill informed notions to shame victims, women and practitioners of kinks themselves when they speak out against rape in real life or porn. \"Oh, you hate rape porn, you must be a kink shamer\"!!!</th>\n",
       "      <td>0.748611</td>\n",
       "      <td>0.002017</td>\n",
       "      <td>0.069258</td>\n",
       "      <td>0.053675</td>\n",
       "      <td>0.178638</td>\n",
       "      <td>0.003149</td>\n",
       "      <td>0.632282</td>\n",
       "    </tr>\n",
       "    <tr>\n",
       "      <th>I'd like to refer you to rules 4 and 5 of this subreddit.</th>\n",
       "      <td>0.000366</td>\n",
       "      <td>0.000001</td>\n",
       "      <td>0.000028</td>\n",
       "      <td>0.000065</td>\n",
       "      <td>0.000092</td>\n",
       "      <td>0.000019</td>\n",
       "      <td>0.000013</td>\n",
       "    </tr>\n",
       "    <tr>\n",
       "      <th>belly breaths! 5 second inhale... 5 second exhale...</th>\n",
       "      <td>0.001771</td>\n",
       "      <td>0.000003</td>\n",
       "      <td>0.000113</td>\n",
       "      <td>0.000209</td>\n",
       "      <td>0.000443</td>\n",
       "      <td>0.000034</td>\n",
       "      <td>0.000102</td>\n",
       "    </tr>\n",
       "    <tr>\n",
       "      <th>This seems like an unlikely case compared to the usual \"it was consentual\"-defence and a relatively minor risk compared to the improvement on communication and consent bdsm activity can bring.</th>\n",
       "      <td>0.000528</td>\n",
       "      <td>0.000002</td>\n",
       "      <td>0.000027</td>\n",
       "      <td>0.000128</td>\n",
       "      <td>0.000116</td>\n",
       "      <td>0.000021</td>\n",
       "      <td>0.000017</td>\n",
       "    </tr>\n",
       "  </tbody>\n",
       "</table>\n",
       "<p>99 rows × 7 columns</p>\n",
       "</div>"
      ],
      "text/plain": [
       "                                                    toxicity  severe_toxicity  \\\n",
       "“buT MeN chOoSe tO wOrK thOsE jERbs”                0.146783         0.000125   \n",
       "Are you my excuse to deem feminists anything ot...  0.106481         0.000040   \n",
       "Then do it. \\n\\n“Everyone I’m leaving!”\\n\\n“Bye”    0.001507         0.000002   \n",
       "Wait ...let me get this straight. There are act...  0.664137         0.000070   \n",
       "And?                                                0.000583         0.000001   \n",
       "...                                                      ...              ...   \n",
       "I'd like to refer you to rules 1,2 and 3 of thi...  0.000379         0.000001   \n",
       "Again, BDSM and Kinks are not same thing and yo...  0.748611         0.002017   \n",
       "I'd like to refer you to rules 4 and 5 of this ...  0.000366         0.000001   \n",
       "belly breaths! 5 second inhale... 5 second exha...  0.001771         0.000003   \n",
       "This seems like an unlikely case compared to th...  0.000528         0.000002   \n",
       "\n",
       "                                                     obscene  identity_attack  \\\n",
       "“buT MeN chOoSe tO wOrK thOsE jERbs”                0.023427         0.006523   \n",
       "Are you my excuse to deem feminists anything ot...  0.001348         0.036017   \n",
       "Then do it. \\n\\n“Everyone I’m leaving!”\\n\\n“Bye”    0.000111         0.000120   \n",
       "Wait ...let me get this straight. There are act...  0.002260         0.003002   \n",
       "And?                                                0.000023         0.000123   \n",
       "...                                                      ...              ...   \n",
       "I'd like to refer you to rules 1,2 and 3 of thi...  0.000024         0.000072   \n",
       "Again, BDSM and Kinks are not same thing and yo...  0.069258         0.053675   \n",
       "I'd like to refer you to rules 4 and 5 of this ...  0.000028         0.000065   \n",
       "belly breaths! 5 second inhale... 5 second exha...  0.000113         0.000209   \n",
       "This seems like an unlikely case compared to th...  0.000027         0.000128   \n",
       "\n",
       "                                                      insult    threat  \\\n",
       "“buT MeN chOoSe tO wOrK thOsE jERbs”                0.031431  0.000591   \n",
       "Are you my excuse to deem feminists anything ot...  0.024539  0.000339   \n",
       "Then do it. \\n\\n“Everyone I’m leaving!”\\n\\n“Bye”    0.000194  0.000062   \n",
       "Wait ...let me get this straight. There are act...  0.526946  0.000362   \n",
       "And?                                                0.000129  0.000020   \n",
       "...                                                      ...       ...   \n",
       "I'd like to refer you to rules 1,2 and 3 of thi...  0.000097  0.000018   \n",
       "Again, BDSM and Kinks are not same thing and yo...  0.178638  0.003149   \n",
       "I'd like to refer you to rules 4 and 5 of this ...  0.000092  0.000019   \n",
       "belly breaths! 5 second inhale... 5 second exha...  0.000443  0.000034   \n",
       "This seems like an unlikely case compared to th...  0.000116  0.000021   \n",
       "\n",
       "                                                    sexual_explicit  \n",
       "“buT MeN chOoSe tO wOrK thOsE jERbs”                       0.003193  \n",
       "Are you my excuse to deem feminists anything ot...         0.003825  \n",
       "Then do it. \\n\\n“Everyone I’m leaving!”\\n\\n“Bye”           0.000029  \n",
       "Wait ...let me get this straight. There are act...         0.008923  \n",
       "And?                                                       0.000009  \n",
       "...                                                             ...  \n",
       "I'd like to refer you to rules 1,2 and 3 of thi...         0.000013  \n",
       "Again, BDSM and Kinks are not same thing and yo...         0.632282  \n",
       "I'd like to refer you to rules 4 and 5 of this ...         0.000013  \n",
       "belly breaths! 5 second inhale... 5 second exha...         0.000102  \n",
       "This seems like an unlikely case compared to th...         0.000017  \n",
       "\n",
       "[99 rows x 7 columns]"
      ]
     },
     "execution_count": 140,
     "metadata": {},
     "output_type": "execute_result"
    }
   ],
   "source": [
    "test_res"
   ]
  },
  {
   "cell_type": "code",
   "execution_count": 151,
   "metadata": {},
   "outputs": [],
   "source": [
    "feminism_base_post = feminism_base_post.reset_index()['index']"
   ]
  },
  {
   "cell_type": "code",
   "execution_count": 152,
   "metadata": {},
   "outputs": [
    {
     "ename": "TypeError",
     "evalue": "Series.rename() got an unexpected keyword argument 'columns'",
     "output_type": "error",
     "traceback": [
      "\u001b[1;31m---------------------------------------------------------------------------\u001b[0m",
      "\u001b[1;31mTypeError\u001b[0m                                 Traceback (most recent call last)",
      "\u001b[1;32me:\\github\\redditbots\\detoxify.ipynb Cell 35\u001b[0m in \u001b[0;36m<cell line: 1>\u001b[1;34m()\u001b[0m\n\u001b[1;32m----> <a href='vscode-notebook-cell:/e%3A/github/redditbots/detoxify.ipynb#ch0000119?line=0'>1</a>\u001b[0m feminism_base_post\u001b[39m.\u001b[39;49mrename(columns \u001b[39m=\u001b[39;49m{\u001b[39m'\u001b[39;49m\u001b[39mindex\u001b[39;49m\u001b[39m'\u001b[39;49m:\u001b[39m'\u001b[39;49m\u001b[39mbody\u001b[39;49m\u001b[39m'\u001b[39;49m})\n",
      "\u001b[1;31mTypeError\u001b[0m: Series.rename() got an unexpected keyword argument 'columns'"
     ]
    }
   ],
   "source": [
    "feminism_base_post.pd.rename(columns ={'index':'body'})"
   ]
  },
  {
   "cell_type": "markdown",
   "metadata": {},
   "source": [
    "# Analyze FDS"
   ]
  },
  {
   "cell_type": "markdown",
   "metadata": {},
   "source": [
    "#### Before comments"
   ]
  },
  {
   "cell_type": "code",
   "execution_count": 5,
   "metadata": {},
   "outputs": [],
   "source": [
    "#Import BEFORE data\n",
    "fds_b4_1mo =  pd.read_csv('./data/fds_comments_before_1mo.csv')\n"
   ]
  },
  {
   "cell_type": "code",
   "execution_count": 20,
   "metadata": {},
   "outputs": [],
   "source": [
    "#Leave out all 'removed' and 'deleted' comments\n",
    "fds_b4_1mo_df = fds_b4_1mo[(fds_b4_1mo['body'] != '[deleted]') & (fds_b4_1mo['body'] != '[removed]') & (fds_b4_1mo['author'] != 'AutoModerator')]\n",
    "\n",
    "#Flatten to list of string\n",
    "fds_b4_1mo_body = list(fds_b4_1mo_df['body'].values.flatten())"
   ]
  },
  {
   "cell_type": "markdown",
   "metadata": {},
   "source": [
    "#### After comments"
   ]
  },
  {
   "cell_type": "code",
   "execution_count": 7,
   "metadata": {},
   "outputs": [],
   "source": [
    "#Import AFTER data\n",
    "fds_aft_1mo =  pd.read_csv('./data/fds_comments_after_1mo.csv')"
   ]
  },
  {
   "cell_type": "code",
   "execution_count": 42,
   "metadata": {},
   "outputs": [],
   "source": [
    "#Leave out all 'removed' and 'deleted' comments\n",
    "fds_aft_1mo_df = fds_aft_1mo[(fds_aft_1mo['body'] != '[deleted]') & (fds_aft_1mo['body'] != '[removed]') & (fds_aft_1mo['author'] !='AutoModerator')]\n",
    "\n",
    "#Flatten to list of string\n",
    "fds_aft_1mo_body = list(fds_aft_1mo_df['body'].values.flatten())"
   ]
  },
  {
   "cell_type": "markdown",
   "metadata": {},
   "source": [
    "## Cleaning Submission\n",
    "Concerns:\n",
    "- Structure of a submission: title, body (`self_text`), images/video link (`domain`)"
   ]
  },
  {
   "cell_type": "code",
   "execution_count": 35,
   "metadata": {},
   "outputs": [],
   "source": [
    "#Import SUBMISSION BEFORE\n",
    "fds_b4_1mo_sub = pd.read_csv('./data/fds_subm_before_1mo.csv')"
   ]
  },
  {
   "cell_type": "code",
   "execution_count": 13,
   "metadata": {},
   "outputs": [
    {
     "data": {
      "text/plain": [
       "1869"
      ]
     },
     "execution_count": 13,
     "metadata": {},
     "output_type": "execute_result"
    }
   ],
   "source": [
    "#Number of no content submissions\n",
    "fds_b4_1mo_sub['selftext'].isnull().sum()"
   ]
  },
  {
   "cell_type": "code",
   "execution_count": 36,
   "metadata": {},
   "outputs": [
    {
     "data": {
      "text/plain": [
       "46.760070052539405"
      ]
     },
     "execution_count": 36,
     "metadata": {},
     "output_type": "execute_result"
    }
   ],
   "source": [
    "#Percentage of no content submissions\n",
    "fds_b4_1mo_sub['selftext'].isnull().sum()/len(fds_b4_1mo_sub['selftext'] != '[removed]')*100"
   ]
  },
  {
   "cell_type": "code",
   "execution_count": 42,
   "metadata": {},
   "outputs": [
    {
     "data": {
      "text/plain": [
       "1136"
      ]
     },
     "execution_count": 42,
     "metadata": {},
     "output_type": "execute_result"
    }
   ],
   "source": [
    "# Condition: domain = i.reddit.it OR imugur AND selftext = \"\"\n",
    "len(fds_b4_1mo_sub[((fds_b4_1mo_sub['domain'] == 'i.redd.it') | (fds_b4_1mo_sub['domain'] == 'i.imgur.com') |  (fds_b4_1mo_sub['domain'] == 'imgur.com'))  & fds_b4_1mo_sub['selftext'].isnull()]) "
   ]
  },
  {
   "cell_type": "code",
   "execution_count": 41,
   "metadata": {},
   "outputs": [
    {
     "data": {
      "text/plain": [
       "1141"
      ]
     },
     "execution_count": 41,
     "metadata": {},
     "output_type": "execute_result"
    }
   ],
   "source": [
    "# Condition: domain = i.reddit.it OR imugur. So basically they are the same.\n",
    "len(fds_b4_1mo_sub[(fds_b4_1mo_sub['domain'] == 'i.redd.it') | (fds_b4_1mo_sub['domain'] == 'i.imgur.com') |  (fds_b4_1mo_sub['domain'] == 'imgur.com')]) "
   ]
  },
  {
   "cell_type": "code",
   "execution_count": 33,
   "metadata": {},
   "outputs": [
    {
     "data": {
      "text/plain": [
       "2185"
      ]
     },
     "execution_count": 33,
     "metadata": {},
     "output_type": "execute_result"
    }
   ],
   "source": [
    "#Number of image submissions\n",
    "len(fds_b4_1mo_sub[(fds_b4_1mo_sub['domain'] == 'self.FemaleDatingStrategy')]) "
   ]
  },
  {
   "cell_type": "code",
   "execution_count": null,
   "metadata": {},
   "outputs": [],
   "source": [
    "fds_b4_1mo_sub_df = fds_b4_1mo_sub[fds_b4_1mo_sub['selftext']]"
   ]
  },
  {
   "cell_type": "code",
   "execution_count": 34,
   "metadata": {},
   "outputs": [],
   "source": [
    "# Save only submissions has written content and not deleted or removed\n",
    "fds_b4_1mo_sub_test = fds_b4_1mo_sub[(fds_b4_1mo_sub['selftext'].astype(bool)) | (fds_b4_1mo_sub['selftext'] == '[removed]')]"
   ]
  },
  {
   "cell_type": "markdown",
   "metadata": {},
   "source": [
    "## Set up Model - Baseline"
   ]
  },
  {
   "cell_type": "code",
   "execution_count": null,
   "metadata": {},
   "outputs": [],
   "source": [
    "#Set pre-trained model and run on GPU\n",
    "originalmodel = Detoxify('original', device='cuda')"
   ]
  },
  {
   "cell_type": "markdown",
   "metadata": {},
   "source": [
    "### Example"
   ]
  },
  {
   "cell_type": "code",
   "execution_count": null,
   "metadata": {},
   "outputs": [],
   "source": [
    "#Run the first batch\n",
    "res = originalmodel.predict(fds_b4_1mo_body[0:100])"
   ]
  },
  {
   "cell_type": "code",
   "execution_count": null,
   "metadata": {},
   "outputs": [],
   "source": [
    "#connect with body text\n",
    "pd.DataFrame(res,fds_b4_1mo_body[0:100]).round(5)"
   ]
  },
  {
   "cell_type": "markdown",
   "metadata": {},
   "source": [
    "### One month"
   ]
  },
  {
   "cell_type": "markdown",
   "metadata": {},
   "source": [
    "#### Before"
   ]
  },
  {
   "cell_type": "code",
   "execution_count": null,
   "metadata": {},
   "outputs": [],
   "source": [
    "i = 0\n",
    "n = len(fds_b4_1mo_body)\n",
    "fds_b4_1mo_body_res_base = pd.DataFrame()\n",
    "while i < n:\n",
    "    res = originalmodel.predict(fds_b4_1mo_body[i:i+100])\n",
    "    f = pd.DataFrame(res,fds_b4_1mo_body_res_base[i:i+100]).round(5)\n",
    "    fds_b4_1mo_body_res_base = pd.concat([fds_b4_1mo_body_res_base,f])\n",
    "    i = i + 100"
   ]
  },
  {
   "cell_type": "code",
   "execution_count": null,
   "metadata": {},
   "outputs": [],
   "source": [
    "#Add flag to each comments\n",
    "fds_b4_1mo_body_res_base['toxicity_flag'] = np.where(fds_b4_1mo_body_res_base['toxicity']>0.5,1,0)\n",
    "fds_b4_1mo_body_res_base['severe_toxicity_flag'] = np.where(fds_b4_1mo_body_res_base['severe_toxicity']>0.01,1,0)\n",
    "fds_b4_1mo_body_res_base['obscene_flag'] = np.where(fds_b4_1mo_body_res_base['obscene']>0.5,1,0)\n",
    "fds_b4_1mo_body_res_base['threat_flag'] = np.where(fds_b4_1mo_body_res_base['threat']>0.5,1,0)\n",
    "fds_b4_1mo_body_res_base['insult_flag'] = np.where(fds_b4_1mo_body_res_base['insult']>0.5,1,0)\n",
    "fds_b4_1mo_body_res_base['identity_attack_flag'] = np.where(fds_b4_1mo_body_res_base['identity_attack']>0.5,1,0)\n",
    "print(fds_b4_1mo_body_res_base.mean())"
   ]
  },
  {
   "cell_type": "markdown",
   "metadata": {},
   "source": [
    "#### After"
   ]
  },
  {
   "cell_type": "code",
   "execution_count": null,
   "metadata": {},
   "outputs": [],
   "source": [
    "i = 0\n",
    "n = len(fds_aft_1mo_body)\n",
    "fds_aft_1mo_body_res_base = pd.DataFrame()\n",
    "while i < n:\n",
    "    res = unbiasedmodel.predict(fds_aft_1mo_body_res_base[i:i+100])\n",
    "    f = pd.DataFrame(res,fds_aft_1mo_body_res_base[i:i+100]).round(5)\n",
    "    fds_aft_1mo_body_res_base = pd.concat([fds_aft_1mo_body_res_base,f])\n",
    "    i = i + 100"
   ]
  },
  {
   "cell_type": "code",
   "execution_count": null,
   "metadata": {},
   "outputs": [],
   "source": [
    "#Add flag to each comments\n",
    "fds_aft_1mo_body_res_base['toxicity_flag'] = np.where(fds_aft_1mo_body_res_base['toxicity']>0.5,1,0)\n",
    "fds_aft_1mo_body_res_base['severe_toxicity_flag'] = np.where(fds_aft_1mo_body_res_base['severe_toxicity']>0.01,1,0)\n",
    "fds_aft_1mo_body_res_base['obscene_flag'] = np.where(fds_aft_1mo_body_res_base['obscene']>0.5,1,0)\n",
    "fds_aft_1mo_body_res_base['threat_flag'] = np.where(fds_aft_1mo_body_res_base['threat']>0.0035,1,0)\n",
    "fds_aft_1mo_body_res_base['insult_flag'] = np.where(fds_aft_1mo_body_res_base['insult']>0.5,1,0)\n",
    "fds_aft_1mo_body_res_base['identity_attack_flag'] = np.where(fds_aft_1mo_body_res_base['identity_attack']>0.5,1,0)\n",
    "fds_aft_1mo_body_res_base['sexual_explicit_flag'] = np.where(fds_aft_1mo_body_res_base['sexual_explicit']>0.5,1,0)\n",
    "print(fds_aft_1mo_body_res_base.mean())"
   ]
  },
  {
   "cell_type": "markdown",
   "metadata": {},
   "source": [
    "#### Prelim Regression"
   ]
  },
  {
   "cell_type": "code",
   "execution_count": null,
   "metadata": {},
   "outputs": [],
   "source": [
    "import scipy.stats as sts"
   ]
  },
  {
   "cell_type": "code",
   "execution_count": null,
   "metadata": {},
   "outputs": [],
   "source": [
    "fds_aft_1mo_body_res_base['post'] = 1\n",
    "fds_b4_1mo_body_res_base['post'] = 0\n",
    "fds = pd.concat([fds_aft_1mo_body_res_base, fds_b4_1mo_body_res_base])"
   ]
  },
  {
   "cell_type": "code",
   "execution_count": null,
   "metadata": {},
   "outputs": [],
   "source": [
    "sts.ttest_ind(fds_aft_1mo_body_res_base['toxicity'], fds_aft_1mo_body_res_base['toxicity'])"
   ]
  },
  {
   "cell_type": "code",
   "execution_count": null,
   "metadata": {},
   "outputs": [],
   "source": [
    "sts.ttest_ind(fds_aft_1mo_body_res_base['severe_toxicity'], fds_aft_1mo_body_res_base['severe_toxicity'])"
   ]
  },
  {
   "cell_type": "code",
   "execution_count": null,
   "metadata": {},
   "outputs": [],
   "source": [
    "sts.ttest_ind(fds_aft_1mo_body_res_base['obscene'], fds_aft_1mo_body_res_base['obscene'])"
   ]
  },
  {
   "cell_type": "code",
   "execution_count": null,
   "metadata": {},
   "outputs": [],
   "source": [
    "sts.ttest_ind(fds_aft_1mo_body_res_base['threat'], fds_aft_1mo_body_res_base['threat'])"
   ]
  },
  {
   "cell_type": "code",
   "execution_count": null,
   "metadata": {},
   "outputs": [],
   "source": [
    "sts.ttest_ind(fds_aft_1mo_body_res_base['insult'], fds_aft_1mo_body_res_base['insult'])"
   ]
  },
  {
   "cell_type": "code",
   "execution_count": null,
   "metadata": {},
   "outputs": [],
   "source": [
    "sts.ttest_ind(fds_aft_1mo_body_res_base['identity_attack'], fds_aft_1mo_body_res_base['identity_attack'])"
   ]
  },
  {
   "cell_type": "code",
   "execution_count": null,
   "metadata": {},
   "outputs": [],
   "source": [
    "sts.ttest_ind(fds_aft_1mo_body_res_base['toxicity_flag'], fds_aft_1mo_body_res_base['toxicity_flag'])"
   ]
  },
  {
   "cell_type": "code",
   "execution_count": null,
   "metadata": {},
   "outputs": [],
   "source": [
    "sts.ttest_ind(fds_aft_1mo_body_res_base['severe_toxicity_flag'], fds_aft_1mo_body_res_base['severe_toxicity_flag'])"
   ]
  },
  {
   "cell_type": "code",
   "execution_count": null,
   "metadata": {},
   "outputs": [],
   "source": [
    "sts.ttest_ind(fds_aft_1mo_body_res_base['obscene_flag'], fds_aft_1mo_body_res_base['obscene_flag'])"
   ]
  },
  {
   "cell_type": "code",
   "execution_count": null,
   "metadata": {},
   "outputs": [],
   "source": [
    "sts.ttest_ind(fds_aft_1mo_body_res_base['threat_flag'], fds_aft_1mo_body_res_base['threat_flag'])"
   ]
  },
  {
   "cell_type": "code",
   "execution_count": null,
   "metadata": {},
   "outputs": [],
   "source": [
    "sts.ttest_ind(fds_aft_1mo_body_res_base['insult_flag'], fds_aft_1mo_body_res_base['insult_flag'])"
   ]
  },
  {
   "cell_type": "code",
   "execution_count": null,
   "metadata": {},
   "outputs": [],
   "source": [
    "sts.ttest_ind(fds_aft_1mo_body_res_base['identity_attack_flag'], fds_aft_1mo_body_res_base['identity_attack_flag'])"
   ]
  },
  {
   "cell_type": "code",
   "execution_count": null,
   "metadata": {},
   "outputs": [],
   "source": [
    "sts.ttest_ind(fds_aft_1mo_body_res_base['sexual_explicit_flag'], fds_aft_1mo_body_res_base['sexual_explicit_flag'])"
   ]
  },
  {
   "cell_type": "markdown",
   "metadata": {},
   "source": [
    "## Set up Model - Unbiased Model"
   ]
  },
  {
   "cell_type": "code",
   "execution_count": 76,
   "metadata": {},
   "outputs": [],
   "source": [
    "#Set pre-trained model and run o\n",
    "unbiasedmodel = Detoxify('unbiased', device='cuda')"
   ]
  },
  {
   "cell_type": "markdown",
   "metadata": {},
   "source": [
    "### One month"
   ]
  },
  {
   "cell_type": "markdown",
   "metadata": {},
   "source": [
    "#### Before 1 month"
   ]
  },
  {
   "cell_type": "code",
   "execution_count": 81,
   "metadata": {},
   "outputs": [],
   "source": [
    "i = 0\n",
    "n = len(fds_b4_1mo_body)\n",
    "fds_b4_1mo_body_res = pd.DataFrame()"
   ]
  },
  {
   "cell_type": "code",
   "execution_count": 82,
   "metadata": {},
   "outputs": [],
   "source": [
    "while i < n:\n",
    "    res = unbiasedmodel.predict(fds_b4_1mo_body[i:i+100])\n",
    "    f = pd.DataFrame(res,fds_b4_1mo_body[i:i+100]).round(5)\n",
    "    fds_b4_1mo_body_res = pd.concat([fds_b4_1mo_body_res,f])\n",
    "    i = i + 100"
   ]
  },
  {
   "cell_type": "code",
   "execution_count": 86,
   "metadata": {},
   "outputs": [
    {
     "name": "stdout",
     "output_type": "stream",
     "text": [
      "toxicity                0.239328\n",
      "severe_toxicity         0.005412\n",
      "obscene                 0.133117\n",
      "identity_attack         0.016930\n",
      "insult                  0.118515\n",
      "threat                  0.003724\n",
      "sexual_explicit         0.078196\n",
      "toxicity_flag           0.234986\n",
      "severe_toxicity_flag    0.089187\n",
      "obscene_flag            0.141755\n",
      "threat_flag             0.002022\n",
      "insult_flag             0.101393\n",
      "identity_attack_flag    0.005017\n",
      "sexual_explicit_flag    0.070990\n",
      "dtype: float64\n"
     ]
    }
   ],
   "source": [
    "#Add flag to each comments\n",
    "fds_b4_1mo_body_res['toxicity_flag'] = np.where(fds_b4_1mo_body_res['toxicity']>0.5,1,0)\n",
    "fds_b4_1mo_body_res['severe_toxicity_flag'] = np.where(fds_b4_1mo_body_res['severe_toxicity']>0.01,1,0)\n",
    "fds_b4_1mo_body_res['obscene_flag'] = np.where(fds_b4_1mo_body_res['obscene']>0.5,1,0)\n",
    "fds_b4_1mo_body_res['threat_flag'] = np.where(fds_b4_1mo_body_res['threat']>0.5,1,0)\n",
    "fds_b4_1mo_body_res['insult_flag'] = np.where(fds_b4_1mo_body_res['insult']>0.5,1,0)\n",
    "fds_b4_1mo_body_res['identity_attack_flag'] = np.where(fds_b4_1mo_body_res['identity_attack']>0.5,1,0)\n",
    "fds_b4_1mo_body_res['sexual_explicit_flag'] = np.where(fds_b4_1mo_body_res['sexual_explicit']>0.5,1,0)\n",
    "print(fds_b4_1mo_body_res.mean())"
   ]
  },
  {
   "cell_type": "markdown",
   "metadata": {},
   "source": [
    "#### After 1 month comments"
   ]
  },
  {
   "cell_type": "code",
   "execution_count": 43,
   "metadata": {},
   "outputs": [],
   "source": [
    "i = 0\n",
    "n = len(fds_aft_1mo_body)\n",
    "fds_aft_1mo_body_res = pd.DataFrame()\n",
    "while i < n:\n",
    "    res = unbiasedmodel.predict(fds_aft_1mo_body[i:i+100])\n",
    "    f = pd.DataFrame(res,fds_aft_1mo_body[i:i+100]).round(5)\n",
    "    fds_aft_1mo_body_res = pd.concat([fds_aft_1mo_body_res,f])\n",
    "    i = i + 100"
   ]
  },
  {
   "cell_type": "code",
   "execution_count": 60,
   "metadata": {},
   "outputs": [
    {
     "name": "stdout",
     "output_type": "stream",
     "text": [
      "toxicity                0.233624\n",
      "severe_toxicity         0.004703\n",
      "obscene                 0.131320\n",
      "identity_attack         0.013421\n",
      "insult                  0.110362\n",
      "threat                  0.004406\n",
      "sexual_explicit         0.078861\n",
      "toxicity_flag           0.230385\n",
      "severe_toxicity_flag    0.085282\n",
      "obscene_flag            0.137574\n",
      "threat_flag             0.074049\n",
      "insult_flag             0.094226\n",
      "identity_attack_flag    0.003203\n",
      "post                    1.000000\n",
      "sexual_explicit_flag    0.072635\n",
      "dtype: float64\n"
     ]
    }
   ],
   "source": [
    "#Add flag to each comments\n",
    "fds_aft_1mo_body_res['toxicity_flag'] = np.where(fds_aft_1mo_body_res['toxicity']>0.5,1,0)\n",
    "fds_aft_1mo_body_res['severe_toxicity_flag'] = np.where(fds_aft_1mo_body_res['severe_toxicity']>0.01,1,0)\n",
    "fds_aft_1mo_body_res['obscene_flag'] = np.where(fds_aft_1mo_body_res['obscene']>0.5,1,0)\n",
    "fds_aft_1mo_body_res['threat_flag'] = np.where(fds_aft_1mo_body_res['threat']>0.0035,1,0)\n",
    "fds_aft_1mo_body_res['insult_flag'] = np.where(fds_aft_1mo_body_res['insult']>0.5,1,0)\n",
    "fds_aft_1mo_body_res['identity_attack_flag'] = np.where(fds_aft_1mo_body_res['identity_attack']>0.5,1,0)\n",
    "fds_aft_1mo_body_res['sexual_explicit_flag'] = np.where(fds_aft_1mo_body_res['sexual_explicit']>0.5,1,0)\n",
    "print(fds_aft_1mo_body_res.mean())"
   ]
  },
  {
   "cell_type": "markdown",
   "metadata": {},
   "source": [
    "#### Score Difference"
   ]
  },
  {
   "cell_type": "markdown",
   "metadata": {},
   "source": [
    "#### Prelim regression - 1 mo before and after"
   ]
  },
  {
   "cell_type": "code",
   "execution_count": 45,
   "metadata": {},
   "outputs": [],
   "source": [
    "fds_aft_1mo_body_res['post'] = 1\n",
    "fds_b4_1mo_body_res['post'] = 0\n",
    "fds = pd.concat([fds_aft_1mo_body_res, fds_b4_1mo_body_res])"
   ]
  },
  {
   "cell_type": "markdown",
   "metadata": {},
   "source": [
    "#### Score Difference"
   ]
  },
  {
   "cell_type": "code",
   "execution_count": null,
   "metadata": {},
   "outputs": [],
   "source": [
    "sts.ttest_ind(fds_aft_1mo_body_res['toxicity'], fds_b4_1mo_body_res['toxicity'])"
   ]
  },
  {
   "cell_type": "code",
   "execution_count": 64,
   "metadata": {},
   "outputs": [
    {
     "data": {
      "text/plain": [
       "Ttest_indResult(statistic=-1.2859843700151743, pvalue=0.1984564801701852)"
      ]
     },
     "execution_count": 64,
     "metadata": {},
     "output_type": "execute_result"
    }
   ],
   "source": [
    "sts.ttest_ind(fds_aft_1mo_body_res['severe_toxicity'], fds_b4_1mo_body_res['severe_toxicity'])"
   ]
  },
  {
   "cell_type": "code",
   "execution_count": 65,
   "metadata": {},
   "outputs": [
    {
     "data": {
      "text/plain": [
       "Ttest_indResult(statistic=-1.119669542293619, pvalue=0.2628618011816403)"
      ]
     },
     "execution_count": 65,
     "metadata": {},
     "output_type": "execute_result"
    }
   ],
   "source": [
    "sts.ttest_ind(fds_aft_1mo_body_res['obscene'], fds_b4_1mo_body_res['obscene'])"
   ]
  },
  {
   "cell_type": "code",
   "execution_count": 53,
   "metadata": {},
   "outputs": [
    {
     "data": {
      "text/plain": [
       "Ttest_indResult(statistic=1.603121251103093, pvalue=0.10891633381862119)"
      ]
     },
     "execution_count": 53,
     "metadata": {},
     "output_type": "execute_result"
    }
   ],
   "source": [
    "sts.ttest_ind(fds_aft_1mo_body_res['threat'], fds_b4_1mo_body_res['threat'])"
   ]
  },
  {
   "cell_type": "code",
   "execution_count": 178,
   "metadata": {},
   "outputs": [
    {
     "data": {
      "text/plain": [
       "Ttest_indResult(statistic=-4.466846087339321, pvalue=7.959826618625523e-06)"
      ]
     },
     "execution_count": 178,
     "metadata": {},
     "output_type": "execute_result"
    }
   ],
   "source": [
    "sts.ttest_ind(fds_aft_1mo_body_res['insult'], fds_b4_1mo_body_res['insult'])"
   ]
  },
  {
   "cell_type": "code",
   "execution_count": 179,
   "metadata": {},
   "outputs": [
    {
     "data": {
      "text/plain": [
       "Ttest_indResult(statistic=-5.756451450590391, pvalue=8.652672465096693e-09)"
      ]
     },
     "execution_count": 179,
     "metadata": {},
     "output_type": "execute_result"
    }
   ],
   "source": [
    "sts.ttest_ind(fds_aft_1mo_body_res['identity_attack'], fds_b4_1mo_body_res['identity_attack'])"
   ]
  },
  {
   "cell_type": "code",
   "execution_count": 73,
   "metadata": {},
   "outputs": [
    {
     "data": {
      "text/plain": [
       "Ttest_indResult(statistic=0.29539620657489857, pvalue=0.7676928710610675)"
      ]
     },
     "execution_count": 73,
     "metadata": {},
     "output_type": "execute_result"
    }
   ],
   "source": [
    "sts.ttest_ind(fds_aft_1mo_body_res['sexual_explicit'], fds_b4_1mo_body_res['sexual_explicit'])"
   ]
  },
  {
   "cell_type": "markdown",
   "metadata": {},
   "source": [
    "#### Perc Flag Difference"
   ]
  },
  {
   "cell_type": "code",
   "execution_count": 74,
   "metadata": {},
   "outputs": [
    {
     "data": {
      "text/plain": [
       "Ttest_indResult(statistic=-1.0097791287103937, pvalue=0.3126076562298086)"
      ]
     },
     "execution_count": 74,
     "metadata": {},
     "output_type": "execute_result"
    }
   ],
   "source": [
    "sts.ttest_ind(fds_aft_1mo_body_res['toxicity_flag'], fds_b4_1mo_body_res['toxicity_flag'])"
   ]
  },
  {
   "cell_type": "code",
   "execution_count": 75,
   "metadata": {},
   "outputs": [
    {
     "data": {
      "text/plain": [
       "Ttest_indResult(statistic=-1.2859843700151743, pvalue=0.1984564801701852)"
      ]
     },
     "execution_count": 75,
     "metadata": {},
     "output_type": "execute_result"
    }
   ],
   "source": [
    "sts.ttest_ind(fds_aft_1mo_body_res['severe_toxicity_flag'], fds_b4_1mo_body_res['severe_toxicity_flag'])"
   ]
  },
  {
   "cell_type": "code",
   "execution_count": 68,
   "metadata": {},
   "outputs": [
    {
     "data": {
      "text/plain": [
       "Ttest_indResult(statistic=-1.119669542293619, pvalue=0.2628618011816403)"
      ]
     },
     "execution_count": 68,
     "metadata": {},
     "output_type": "execute_result"
    }
   ],
   "source": [
    "sts.ttest_ind(fds_aft_1mo_body_res['obscene_flag'], fds_b4_1mo_body_res['obscene_flag'])"
   ]
  },
  {
   "cell_type": "code",
   "execution_count": 69,
   "metadata": {},
   "outputs": [
    {
     "data": {
      "text/plain": [
       "Ttest_indResult(statistic=31.529471453723872, pvalue=2.293974688841594e-215)"
      ]
     },
     "execution_count": 69,
     "metadata": {},
     "output_type": "execute_result"
    }
   ],
   "source": [
    "sts.ttest_ind(fds_aft_1mo_body_res['threat_flag'], fds_b4_1mo_body_res['threat_flag'])"
   ]
  },
  {
   "cell_type": "code",
   "execution_count": 70,
   "metadata": {},
   "outputs": [
    {
     "data": {
      "text/plain": [
       "Ttest_indResult(statistic=-2.2460639116165053, pvalue=0.02470572853072864)"
      ]
     },
     "execution_count": 70,
     "metadata": {},
     "output_type": "execute_result"
    }
   ],
   "source": [
    "sts.ttest_ind(fds_aft_1mo_body_res['insult_flag'], fds_b4_1mo_body_res['insult_flag'])"
   ]
  },
  {
   "cell_type": "code",
   "execution_count": 71,
   "metadata": {},
   "outputs": [
    {
     "data": {
      "text/plain": [
       "Ttest_indResult(statistic=-2.713755782402491, pvalue=0.0066555668333369185)"
      ]
     },
     "execution_count": 71,
     "metadata": {},
     "output_type": "execute_result"
    }
   ],
   "source": [
    "sts.ttest_ind(fds_aft_1mo_body_res['identity_attack_flag'], fds_b4_1mo_body_res['identity_attack_flag'])"
   ]
  },
  {
   "cell_type": "code",
   "execution_count": 72,
   "metadata": {},
   "outputs": [
    {
     "data": {
      "text/plain": [
       "Ttest_indResult(statistic=0.5894638190458906, pvalue=0.5555537378316449)"
      ]
     },
     "execution_count": 72,
     "metadata": {},
     "output_type": "execute_result"
    }
   ],
   "source": [
    "sts.ttest_ind(fds_aft_1mo_body_res['sexual_explicit_flag'], fds_b4_1mo_body_res['sexual_explicit_flag'])"
   ]
  },
  {
   "cell_type": "code",
   "execution_count": 71,
   "metadata": {},
   "outputs": [],
   "source": [
    "test =pd.read_csv('./data/Control/feminism_clean.csv')"
   ]
  },
  {
   "cell_type": "code",
   "execution_count": 88,
   "metadata": {},
   "outputs": [
    {
     "data": {
      "text/plain": [
       "['The comments on the OP are very disheartening.',\n",
       " \"I was joking. They have a colossal advantage. Objectively.\\n\\nI'm just highlighting the hypocrisy.\",\n",
       " \"There are a few different examples, but here's one that I can actually name off the top of my head. I know a few people that are far left feminists that are asking for more money due to being women and suffering through a wage gap that has been debunked a good few times.\",\n",
       " 'wow so cute!',\n",
       " 'Theres only two genders!',\n",
       " \"&gt; always have virgin tight vagina.\\n\\nVaginas aren't deformed by penises.\",\n",
       " '\"Put light against light - you have nothing. Put dark against dark - you have nothing. It\\'s the contrast of light and dark that each give the other one meaning.\" - Bob Ross',\n",
       " 'I lost all respect for her when she praised Kavanaugh and Gorsuch. She said they were both \"smart and very decent men\".\\n\\nETA source in main comment: https://www.google.com/amp/s/amp.cnn.com/cnn/2019/07/26/politics/ruth-bader-ginsburg-kavanaugh-gorsuch/index.html',\n",
       " \"Bras don't affect sagging,just a myth made to encourage girls to hide their natural bodies more\",\n",
       " 'Men get mad about women making money with their bodies because men want to objectify women for free.',\n",
       " 'My husband is the epitome of a “man’s man.” He’s big and muscular, loves cars and sports, could probably take anyone he came across in a fist fight, etc. He also cries at movies, tells me when he’s going through something and needs me to hug him or sit with him, and feels every one of his emotions fully. Not only that - but he doesn’t even try to hide it from other people. Super proud to be raising a son with him.',\n",
       " 'Yup, real humans are humans.',\n",
       " \"If an audience misunderstood the speaker because of semantics, the speaker is at fault for not making it clear. \\n\\nSorce: public speaking course\\n\\nStop making enemies when you don't need to.\",\n",
       " ' Very well said!',\n",
       " 'Not too long ago, Snoop Dogg made a comment about how young women shouldn’t exploit themselves and post nudes and be sexual to get attention. Even though this man had music videos where women were half naked and being exploited. \\n\\nMen can’t stand it when women reclaim their win bodies and want to exploit themselves. They only like exploitation when they’re at the head of it',\n",
       " 'That’s the same with people who complain about public breast feeding. It’s like, men love boobs until they’re being used for their actual function',\n",
       " \"You're trying to troll and failing.\",\n",
       " 'This is literally the dumbest thing I’ve ever heard. Wtf is wrong with the world?',\n",
       " \"Fun fact they don't listen to guys / boys either\\n\\nSorce : I tried, got harassed and called broken\",\n",
       " 'Ah. Lost cause lol. Sorry for wasting both our times here. If you’re saying that you clearly didn’t read what I actually said or you don’t really care to have any opposing thought brought into your life. I apologize again for offending having upset the situation. I hope you have a pleasant day.',\n",
       " 'While I agree that there is a dichotomy of pressure, it is NOT a binary option between sexualisation induced success and non-sexualized failure... there are many successful streamers and YouTubers who are unattractive, or male (or both) that have large followings relative to their subject matter.\\n\\nThere are other pillars of success to most target audiences than attractiveness, such as knowledge, education, eloquence and voice timbre, activities etc etc... to suggest otherwise does great discredit to streamers and audiences, as well as subtly presenting the idea that sexuality is the primary option for a female streamer.\\n\\nReject the drooling masses and their ignorance, \"show boobs\" and \"muscly Logan Paul\\'s\", and instead strive to make content that would be equally entertaining if presented by an amorphous blob.',\n",
       " 'Sorry that was a typo, 13-17.',\n",
       " 'Who cares?',\n",
       " 'Yaknow, getting consistently less prison time for the same crimes.',\n",
       " 'There are no stats stating age 1-17\\n\\n\\nAre you forgetting Google exists?',\n",
       " \"I'm not defensive at all here. Lol trying to lump me in with them? \\n\\nOffended? Lol you are really trying to hard to troll now.\\n\\nYou never mentioned the way they act. Either way now you want to police how people are? I still haven't really seen any streamers doing anything as... lewd as you describe anyways.\",\n",
       " 'Ah, the stats I got were 45% of the users are 1-17. 55% being 21 and older. The amount of traffic through twitch is immense. Your talking millions. What source did you get your information from? Maybe the articles I read were incorrect.',\n",
       " 'No? You twisted what I said. I specifically stated Acting. Acted. Act. Instead of reading what I said, you felt attacked and went into a defensive state. This wasn’t my intention. If you reread what I said, you’ll understand I didn’t once say anything about policing clothes. It’s about the act. Acting in a sexual manner and making gestures of a sexual nature. I apologize if you felt offended, as that was not my intention.',\n",
       " \"Twitch has always had titty streamers they aren't new. To be real... most of them are just wearing tight low cut shirts.. they aren't nude... you're trying to police women's clothing along the same lines as if they dress inappropriately they must be doing inappropriate things.\\n\\nI went with the logic you laid out in your post, not my own personal thoughts.\",\n",
       " 'NAWALT',\n",
       " 'I find it uncharacteristic of feminism to complain about how men say \"boys will boys\" and here\\'s why (hear me out before you downvote).\\n\\nWhenever men complain about toxic feminists, people shoot back by saying that the toxic feminists are only a minority, that real feminism is much less toxic and much more widespread than this so called \"toxic feminism\". However, when feminists complain about men saying \"boys will be boys\" they don\\'t realize that they are only targeting a minority of the population. It\\'s not common for people to say boys will be boys and I would argue that it is much less common than toxic feminism. \\n\\nSo the exact objections that feminists have about men criticizing feminism is ignored when feminists decide to criticize masculinity and this is a hypocrisy that is not pointed out nearly enough.',\n",
       " 'Oh, pffftt I was like \"I\\'m so confused\" yeah, I literally don\\'t understand what they were mad about in the first place',\n",
       " \"Hell yes. THANK YOU. I wasn't trying to offend anyone by saying our.\",\n",
       " 'I’m responding to the other person???',\n",
       " 'She literally LIVED in Canada, what are you yelling at me for?',\n",
       " '(Personal opinion) most likely because colored people and women, let alone women of color did not want to stand out so they aren’t as important as people think these people should be (if that makes sense, please piggyback off this if there is info I did not say, or if I got something wrong)',\n",
       " 'Omg, this is the best Halloween costume I’ve seen yet.',\n",
       " 'That’s literally not what I’m saying. By your own logic, which is heavily flawed in this sense, we should be handing out heroin to all children because “hey, They’re going to get it anyway! Might as well make some money!” You see how ridiculous that idea is? When a website is used heavily by underage children, why then put content on it that is sexualized? If a child goes to some Cam site that is SPECIFICALLY set up for that kind of thing, I would agree with you. That child shouldn’t be on that website. Seems to be a failing on the parents part. But twitch? Cmon now.',\n",
       " 'it have replaceable silicon vagina and always have virgin tight vagina.',\n",
       " 'Because you can\\'t stop children  from getting access to the stuff theyll always find a way. So what you\\'re saying is dont do anything that sexualizes women on the internet because children might see it.\\n\\nI set my own channel to contains adult content because on occasion I forget I\\'m on air and swear here and there. But that\\'s all I can do to \"protect\" the children. But nothing is stopping them from just clicking ok.\\n\\nWith a quick google search I\\'ve found the average age of a twitch user is 21.... not quite as young as you\\'re implying. It was about 30 percent 16-21.',\n",
       " 'I think your ethoer looking at two different types of men or in two different context like ya know not a website for video games',\n",
       " 'This is what I’m saying. I understand the defensiveness, many men will attack feminist ideologies out of ignorance. It’s not really about money, it’s about negatively impacting future generations of men and women will the same wheel of patriarchal oppression. Just because a woman is doing it does not mean it isn’t teaching the same values as what’s already been taught but rich white men in our society. Your body is your own, express yourself in whatever way you feel. How is saying don’t expose children to over sexualized ideas is extreme? How is that in any way equivalent to saying you can’t dress sexy unless you’re a stripper? Making lewd gestures while streaming to thousands of underage children is not ok. It’s not an issue with the idea of it, it’s an issue of the platform being used to do it on.',\n",
       " \"I just dont think there are enough teens with money to fund titty streamers... \\n\\nI understand your side... but it's too extreme... next thing you're going to tell us we cant dress sexy unless were strippers..\",\n",
       " 'Prob incels',\n",
       " \"Even streamers who dont capitalize on tits still use sex to sell. One streamer I've been watching a lot lately is constantly sexualized by another streamer and they let it slide.. because that streamer donates huge amounts of money to her...\",\n",
       " 'Hmm... I should state that my feelings on it go both ways. Men should not be entertained by such a ridiculous thing. There is no reason at all, that we as human beings should be valuing a person for their body alone. This isn’t a “women shouldn’t do that!” Thing I was posting here. I’m confused how being ok with  women to continue the cycle of male abuse in the name of “ we’re taking it back!” Also, “nobody seems to care when men do it” is a pretty bitter view. You’re essentially generalizing a mass group of people to defend the actions that, regardless of who is doing it, are detrimental. I don’t have a single friend that doesn’t care about the  way women are portrayed in media. Women are half the population, allowing someone to be devalued in such a way is not ok. This is my experience in life, yours I assume was different. The point I was making is invading a platform that is used by young children and teens and purposefully making sexual gestures in an attempt to lure someone with a credit card is not ok. If you want to do something like that, go strip, stay away from children. The only issue I have in this sense in the audience. Once again, I get it, but doing it in the realm of children is not ok. If someone walked up to a child in public, and made sexual gestures towards that child, you’d be ok with it because I gave that person $5? Maybe I’m wrong and I’m focusing on the wrong thing. I’m probably letting my emotions get the best of me here. I just can’t get my head around defending the actions of a person acting sexual to an audience of thousands of kids. We’re not talking adults here. 45% of the users on twitch are under 18. It’s just not ok, regardless of the gender of the person doing',\n",
       " 'Wtf\\n\\n&gt; A Spanish court sentenced five men charged with gang-raping a 14-year-old-girl to 10 to 12 years in jail for sexual abuse Thursday, concluding that it wasn’t rape, which carries a harsher sentence, because the victim was unconscious and therefore wasn’t forcibly assaulted.\\n\\nWe need a fucking revolution. Out with the old and in with the new. How tf is this how the law is written? SPANISH WOMEN RISE UP',\n",
       " '“By capitalising on ridiculous, shitty men objectifying you... are you not undercutting women who could have potentially taken off had it not been for the titty streamers clogging the queue?”\\n\\nMy issue with this is that the reason “titty streamers” are more successful is because more men want to watch them. People always point blame at the actual women catering to these people, but I don’t blame them whatsoever. They’re not “undercutting” other women, men are, because they would rather watch the girl with her tits out. That’s not the fault of the “titty streamer”, but of the male audience. \\n\\n“Does nobody acknowledge the damage being done to young women and men by being exposed to titty streamers acting in an overly sexualised manner?”\\n\\nWomen have always been objectified and sexualised by men. Nobody seems to care when men are the ones sexualising women for all of human history, but the second women take control of their own sexuality and use this for their own gain, people are concerned about the damage being done. I’m not saying women or anyone really SHOULD be objectifying themselves since obviously women are more than sex objects and are still struggling to be seen as that, but I really don’t blame these girls at all for profiting off of women’s sexualisation since, like I said, we’re going to be objectified anyway so why not have it be on your own terms?',\n",
       " 'Ruth Bader Ginsburg',\n",
       " '[https://en.wikipedia.org/wiki/Supernormal\\\\_stimulus](https://en.wikipedia.org/wiki/Supernormal_stimulus)\\n\\nI have had to unlearn misogyny. Its a part of our culture and has to be actively unlearned. Sexism and racism too. The power of SS (above) is a thing. A male left unguided in our culture, isolated and alone has difficulty processing SS, as it is not a rational thing. They think they are rational, when they are not. They need to respect their animal selves and not  blame women because of the \"power\" they have. The idea that women have a power like this leads to the impression that these feelings are being unfairly manipulated. It means they think their reaction is unique, or stronger, unlike women\\'s or others; therefore justifying outrage. Its all so wrong. Its also not normal. They are being set up and lack the maturity or wisdom to see this by a society that teaches them little about maturity but offers plenty of SS. No excuse for individual behaviors: but we need to teach young men how to be better while also teaching young women to demand more. People left alone in our culture and modern world dont get better through isolation. In the meantime its continues to be an obnoxiously hypocritical, hostile and misogynistic environment for women online :/ \\n\\np.s. men acting this way is not human nature. Misogyny and racism are taught. That is why it doesn\\'t go away. its actively perpetuated.',\n",
       " 'I’m curious here, where does the opinion fall for this.... I don’t like “titty streamers” simply because I feel they are doing damage to the reputation of any woman streaming quality content. Essentially, by capitalizing on ridiculous, shitty men objectifying you on this particular platform, are you not undercutting women who could have had potentially taken off had it not been for the “titty streamers” clogging the queue? On the flip side, I have no issue with something like... stripping. While I don’t have the urge to go to a strip club, I feel like it is the perfect platform to capitalize on the objectification of the female form. Am I wrong in this thought process? Also, being that we’re speaking about twitch, does nobody acknowledge the damage being done to young women and men by being exposed to “titty streamers” acting in an over sexualized manner? How is it no different than advertising that exploits women? If you want to capitalize on your body, Do it on a different platform yes?',\n",
       " 'No',\n",
       " 'I got banned off the wherearethegoodmen sub for saying this lol',\n",
       " \"First, reread the last two paragraphs of my comment. Second, ask yourself why you're unable to empathize with a post about the unfair catch-22 of being a female twitch streamer when you have to deal with unfair catch-22s in your own life.\\n\\nThat unfair toxic atmosphere you're talking about... Feminists have a name for that. It's one of the things they're railing against. You should check out r/menslib. It's a good space dedicated to talking about issues men face, but when you do it in a forum like this, you just look like you're shitting on the problems of women.\\n\\nI'm sorry you have to deal with that shit, dude, but that doesn't invalidate what the woman in the post is saying.\",\n",
       " 'So, basically just \"not all men\". Okay.',\n",
       " 'Ideally yeah views should be based on content; tell that to the dudes who watch “titty streamers”. Either way, it’s not their fault they get more views. I think women capitalising off of horny men is empowering, since women are going to be objectified anyway, you may as well take control of it and benefit in some way',\n",
       " \"I was speaking in the context of dictating when such and such outfit is appropriate and when it's not. But if you wanna take it a bit broader, what the heck. First your tropes don't explain much, I could mention something about tropes as well and argue for the opposite. Secondly by mentioning some things in which women are supposedly better off than men, you're not making much sense since there's no control issue in these matters. Except for perhaps the issue of homelessness. Men control women by being better paid and making the prime income. So it can be hard for these women the exit such a relationship when it turns bad. This is especially the case when there's children involved, since men expect women to take care of them, thus providing an extra form of control.\",\n",
       " \"&gt;How is this not a feminist issue?\\n\\nIts a cultural and education issue. I dont see any sexism involved here. Just the bangladeshi women are not independent and lack education.\\n\\n&gt;How does the OP being a man affect anything?\\n\\nBecause he shouldnt get a say in such a matters. Just like the Bangladeshi women don't in marital affairs.\",\n",
       " 'Isn’t that a Supreme Court judge? Don’t know the name',\n",
       " 'Stop mixing american and US american. Canada is just as american as Venezuela.\\n\\nSure she is important and great. I never denied that. I just would have wanted OP to talk about why she was that since OP assumed that most people didnt know about her.',\n",
       " 'You whines about OP saying “our history” because Harriet Tubman is American and saying “our” is lumping world history with US history. Lumping in a country with a distinctly different history with the US defeats your entire point. Also, this is r/Feminism is it not? An black woman who saved hundreds of enslaved people is an important figure when talking about the history of feminism.',\n",
       " \"I thought I was the rude one here. Apparently you came to take my place. That's really uncanadian of you.\\n\\nThat comment is even more out of place than my comment about OP bring americancentrict unser a Post that is about something different.\",\n",
       " 'As a Canadian, fuck off. The US has fucked with us enough, also we have a distinctly different political organization, history, and actually accept and promote multiculturalism.',\n",
       " '\"Lol\" indeed.   \\nWhat don\\'t you like about them flashing their body on camera for views?',\n",
       " 'Judge Judy?',\n",
       " \"It's almost like people are individuals and not a monolith?\",\n",
       " 'Would you consider that men are told two disparate things by society as well?  \\n\\n1) Be handsome, or you\\'re a creep.\\n\\n2) If you only go on looks, you\\'re obviously just a wallet.\\n\\n&gt;Even if those statements come from different men, it\\'s still a societal catch-22.\\n\\nEven if those statements come from many other women... See where I\\'m going.  I think you\\'re not realizing that while women have it hard, men do too.  Men do not somehow magically  have an \"I CAN DO THIS!\" attitude.  We\\'re pressured by society to be able to do it.  Which is a toxic atmosphere and social culture that continues to breed societal pariahs.\\n\\nYou cannot wholesale expect us to be capable in every facet of life then demonize us for not being so, while also telling us we\\'re the people who keep women down.  Do you see the catch-friggin-84 that that is?',\n",
       " \"As sorry as I am to say that but school can't teach about all the people that were amazing. Thats what universities are for. \\n\\nAlso you are not getting hate for talking about her but for not talking about what she did.\",\n",
       " 'Don\\'t use neggers (I\\'m not mistyping or trying to be racist. As I understand it, that\\'s what these people call it \"negging\") as your basis for all men.  Just as I wouldn\\'t use the basis of the woman, or properly stated female-presenting, person who told me she wasn\\'t interested in me because we have the same genitals. \\n\\nBroad brush-strokes are only used to incite folks.  Let\\'s be more level headed.',\n",
       " \"&gt;Men are used to controlling women and deciding what's appropriate and what's not.\\n\\nHow so?  I would argue that women are used to controlling men.  We've seen the trope in TV, games, politics, even social situations, yet women continued to be dominated by men?  \\n\\nWomen are better educated/do better in school and complain about patriarchy. Women are less homeless than men but complain about 1 in 4.  Women have less cancer than men, yet are given more funding.  \\n\\nWhere do men control women?\",\n",
       " 'What if there\\'s a collection, a small one, of assholes who just wanna watch \"titty streamers\" and then there are a portion of men (supposedly part of the same gaming community that women in the same community complain about) that don\\'t ascribe to aesthetics = views and would instead like to be viewed based on content?  One could argue that \"Hey, tiddys are views\" but at the same time, shouldn\\'t streaming be based on the content of your character vs the content of your body?  \\n\\nIt\\'s either objectification or empowerment.  I don\\'t think someone can have both.',\n",
       " 'I can only imagine that women have been killed over not leaving blood on the sheets. fucking disgusting.',\n",
       " 'Actually, Minnesota JUST outlawed it this year...\\n\\n&amp;#x200B;\\n\\n[https://www.cnn.com/2019/05/03/us/minnesota-marital-rape-repeal/index.html](https://www.cnn.com/2019/05/03/us/minnesota-marital-rape-repeal/index.html)',\n",
       " \"I remember doing the tape thing and also a metaphor she used was putting a Hershey's kiss back in the wrapper once it's been unwrapped. \\n\\nI like to joke that I'm a worthless, slutty piece of tape.\",\n",
       " \"It's just dumb\",\n",
       " 'Is this a slippery slope fallacy though? I would expect the other side to reply with something like, \"You\\'re saying you start out with purity balls and virginity pledges and that\\'s the same as honor killing?\"',\n",
       " 'I was just recently sexually harassed for the first time at work. It’s a library clerk position so it unfortunately comes with the territory. The man had come in with his kids &amp; they were so sweet &amp; polite. It was a very positive interaction until he made an inappropriate comment towards me. I was so caught off guard, I was expecting a compliment for helping his children so I replied thank you before I had even processed what he said. I am SO mad at myself over it but hopefully, I will handle it better the next time.',\n",
       " 'As man, im all for trans rights. Im a feminist. But this is a whole other issue. Women fought for their rights for so long only to have to cater to male(to female)s and walk on eggshells? Most trans folks had a mask they could put up before they transitioned, women never had that. I will always support LGBT folks any way i can, but to say that \"not all women have periods\" and scream at a lady in comments for posting a harmless question about periods is fem-erasionist imo.',\n",
       " \"As metaphors go, shoe as a vagina is not the one I would've picked.\",\n",
       " 'My mistake. Some states continue to treat marital and non-marital rape differently, with marital being a lesser offense.',\n",
       " 'Is it? I remember reading somewhere recently that the last state to outlaw it did so in the 90s (which is of course still appallingly late if true, but better than it still being legal).',\n",
       " 'Lack of awareness, these people literally never stepped a foot in feminist circles so they have no idea on what a typical feminist thinks /believes.',\n",
       " 'Ignoring a huge case like this; amazing right',\n",
       " \"&gt; Doesn't this thread prove that your comment isn't the case? \\n\\nHow so? In r/Feminism there has been a total of 5 posts about the Jeffrey Epstein case, ever. If you are talking about this thread I started here, it doesn't prove anything, because I'm not a feminist, moreover y'all seem kinda dismissive..  \\n\\n&gt; It shouldn't be up to the oppressed to educate the oppressors. \\n\\nNot sure what you mean?, but I'm pretty sure feminism teaches the exact opposite of what you are saying.\",\n",
       " 'This is the cringiest thread I’ve seen in a while',\n",
       " \"Recognised as a crime in 1990 in my lovely country. France. Before, it was a 'marital duty'.\",\n",
       " 'No wonder the world is still this way',\n",
       " 'Welcome! Thank you for the kind words &amp; follow.',\n",
       " 'Yea, that’s a new one for me too. It’s horrifying. We have such a long way to go. 😔',\n",
       " 'Oh boy...',\n",
       " 'Thank you and all the volunteers! The website looks fantastic, definitely following from now on. I grew up with purity culture, and resources like this help recognise and undo some of the damage.',\n",
       " \"Doesn't this thread prove that your comment isn't the case?  It shouldn't be up to the oppressed to educate the oppressors.\",\n",
       " 'I understand lack of space. Just wanted to add some practices that use to happen and still happen in my country. And learned about the fish bladders.... EWWW indeed ;)',\n",
       " 'I guess there’s so much more you could add but also: refusal to teach sex education or contraception',\n",
       " 'I agree, but feminists are not, hence the comment.',\n",
       " 'The rape &amp; gum games were discussed when we made this. We decided it was part of abstinence only sex education.\\n\\nIt’s horrifying what kids are subjected to.',\n",
       " '\\\\*Everyone should be on those cases. IFTFY.',\n",
       " 'Those kinda fit under hymen myth. There was a lot we couldn’t fit that really was a subset of something else. \\n\\nEewwwww to fish bladders 🤢',\n",
       " 'Thanks! We’re lucky to have a lot of volunteers willing to help refine the content &amp; do research. I’m proud of what we accomplished. It’s a necessary educational tool.',\n",
       " \"yea, Jeffrey Epstein's Lolita Express for instance. Bill Gates, Donald Trump, Bill Clinton, Prince Andrew etc. - some of the most powerful men in the world potentially implicated in systematic rape of minors. Feminists should be all over this case.\",\n",
       " \"Lacking the fake blood virginity capsules (very famous and cheap...) or hymen 'reconstruction'. So the male has his full fucking pride and the family can show the sheets to the whole fucking village...\",\n",
       " 'I love this pyramid. It doesn\\'t allow people to go \"We don\\'t do honour killings or genital mutilation, why are you making such a fuss?\" It\\'s all part of the same problem. You can\\'t condemn the \\'worse\\' actions without condemnation of the \\'lesser\\'. \\n\\nIt\\'s also scary to see that most of these things are still a large part of Christian culture, even Western culture. People question the point of modern day feminism and human rights activism but there is still so far to go.',\n",
       " 'I remember watching that one video in sex Ed with the married couple, and the woman has shoes that are like really dirty and used and her husband just freaks out that she has these used shoes. \\n\\nIt’s supposed to symbolize how she didn’t wait until marriage to have sex and she essentially is no longer worthy because her pussies been “used up.” \\n\\nWe were in middle school when we watched that. What an amazing thing to teach kids',\n",
       " 'Ok cool just checking, have a nice day!',\n",
       " \"At my neighbors school they have a rule about the length of a boys hair, so they can't be shaved or buzzed below a 2/3 can't remember which. A kid got his head shaved and the school excluded him for 2 weeks while his hair grew back. \\n\\nThe parents complained because what are they supposed to do with a 12/13 year old at home for 2 weeks when both of them are work, and they let the kid back but he was put in isolation for the 2 weeks.\\n\\nI swear some head teachers get off on making dumb rules that ruin kids education.\",\n",
       " \"That's minimum, he was sentenced to life imprisonment, so he very well could never breath free air again.\",\n",
       " 'This happened to me. I’m in no way angry with women quite the contrary I love them. For me, yes it is a genuine concern the #metoo overreach has many men concerned.',\n",
       " 'He was jailed for a minimum of 12 and a half years at Bristol Crown Court.\\n\\nSay what now? He brutally murdered a young woman he dated for THREE months and he gets this kind of sentence? I hope they mean this minimum time can turn in to many more decades. \\n\\nSomeone with emotional intelligence this low is not to be with other humans, especially women.',\n",
       " \"Old powerful men will be old powerful men. Sigh. It's ok, he'll get a Cesar and an Oscar and will be praised by the film industry. Next, Luc Besson and his new mov... damn him too.\",\n",
       " 'Men and women can be so ridiculous',\n",
       " 'I believe there are double standards. And where they exist it should be cut out.\\n\\nBut anybody in the school I went to would of been sent home for having their shoulders showing. Man or woman.',\n",
       " 'It’s horrifying that it’s still legal in some US states.',\n",
       " \"I always think that next time I'll say something, but I never do. I either freeze or try to just walk away slowly if I can; I'm so terrified of making things worse.\",\n",
       " 'nice try but they did not say that',\n",
       " 'Wow, I grew up at the “marital rape” level. My pastor would preach that that wasn’t a real thing because your husband owns your body. Scary stuff.',\n",
       " 'As someone who wanted to be a mathematician when I was 8, I\\'d say the problem isn\\'t even in uni (though university could be better). It\\'s all in your teen years. \\n\\nYou turn 13 and suddenly you go from \"brilliant kid\" to \"sex object\". I felt far more \"mentored\" when I was 8. I felt far less policed when I was 8. I was a \"gifted\" kid who could do grade 10 math in grade 6, and I didn\\'t even finish grade 12 math because I spent 4 years not learning any new math, because nobody was interested in pushing me so I just coasted on natural talent for years on end.\\n\\nThe job market isn\\'t going to change until middle school and high school treatment of teen girls changes.',\n",
       " \"Who's being sexist now, assuming that a man wont understand something and have no empathy.\",\n",
       " 'Nah, In my school calling this sexist would be a joke. Seriously, my friend got detention because he didn\\'t shave. Both sides are \"sexist \" , when it comes to dress code. Here is a better word for it, \" strict \". I get that this may feel sexist, but both sides of a dress code is facing strict rules.',\n",
       " 'Huh, TIL\\n\\nIt sounds like a city in the ocean though. Like if I did I lived in the mid pacific, you’d probably think I was from Hawaii or an island nation',\n",
       " \"I think that there's a difference betwren obscene and nonsexual but maybe the rules are a Little too strict, but still, pressing it's Just a cultural point non respecting It, it's not giving freedom, it's just like not respecting a religion, but then there's middle East strict religions that are too much and than it's actually correct changing.\\nTell me if you think i'm right, no hate pls.\",\n",
       " \"Yes\\n\\nI frequently have what some people call [l'esprit de l'escalier] (https://en.m.wikipedia.org/wiki/L'esprit_de_l'escalier). When it comes to sexist stuff it can be really shitty because sometimes it happens in situations where you don't want to rock the boat and make yourself a target for retaliation. \\n\\nWhen I was younger I used to bite my tongue more. But now that I'm more confident and experienced, I just say what's on my mind. But this has definitely happened to me too many times to count.\",\n",
       " \"Those who matter don't mind and those who mind don't matter.\",\n",
       " \"I empathize with this anxiety, but the choice is yours, stand back and allow injustice to happen or take a stand a do something about it. Ultimately you're coming from a place of good will, so my thoughts are that you'll be fine and if anyone accuses you of taking women's side for the wrong reasons then tell them to fuck off with their sexist bullshit\",\n",
       " 'White white pick men over other women every day dont ever forget it',\n",
       " 'Irrelevant',\n",
       " 'This is one of those double standards women need to get the fuck over if they want men to be soft pussies for them. Start by putting your big girl thong on and telling them you arent interested',\n",
       " 'Bustle isnt a real source sweetie',\n",
       " 'Lots of men dont feel vulnerable how a woman does.\\n\\nStop trying to force it. The most test a man has the less he will be emotional. Just science',\n",
       " 'It means being strong whether its physical or emotional or in ability.\\n\\nWeakness is feminine in nature. See rape or violence in animals',\n",
       " 'Weird that you say that but people downvote him. You are attempting to take away his agency and its a big reason why pushback against feminism is increasing',\n",
       " 'This sub is a haven for women upset life isnt fair',\n",
       " 'There\\'s a certain risk that opposing racism will get you accused of being a \"n***er lover\".\\n\\nThere\\'s a certain risk that opposing homophobia will get you accused of being a f****t.\\n\\nBeing afraid that people will say mean things to you if you stand up for the oppressed isn\\'t a fucking justification for enforcing oppression.',\n",
       " 'So many times. I can be really mouthy sometimes but when it comes to these situations with random men, I tend to stay quiet and stew on it for ages after. I wish I had the guts to say something but at the same time, I value my life and my safety.',\n",
       " \"Saying no one knows or thinks about T.I. anymore is either disingenuous or ignorant. If you're into hip-hop then you still hear/see T.I. even if you don't follow him. I mean, we're talking about him right now.\\n\\n---\\n\\nI don't think calling someone out is a punishment  but I think it's better than ignoring them. T.I. already had millions of people watching him and he has connections with some of the biggest artists out right now.\\n\\nIdeally calling him out will also have him lose some fans and connections (the podcast episode is now deleted), tho I agree that it will also appeal to people who are sympathetic to his point of view. But if the majority is publicly against it then wouldn't that make these platforms less friendly to the minority? Maybe even make them start to reflect and learn something or at the very least keep them away?\\n\\nAt this point I'm sure everybody already knows about using outrage to get recognition and I don't think that this is that or will turn to that.\\n\\nI really don't get the mass shooter comparison, they're not comparable imo.\\n\\n---\\n\\nI was just saying that anytime someone calls others irrelevant that it reminds me of that kid and that it's a bad term. I didn't mean to imply that you're like him.\\n\\nI still disagree that ignoring T.I. would of been a better option than shining a light on it and having discussions about why it's so disgusting.\",\n",
       " \"I was told I couldn't show my shoulders, while wearing a high cut (no lower than my clavicle), long sleeve shirt, but boys were walking around in sleeveless shirts with huge arm holes cut down to their waists, one guy wore a clear mesh tank top to school. There are a lot of double standards.\",\n",
       " 'Reddit is, in general, shit. The only good thing is we can segregate ourselves in our preferred communities. I learned long ago to just stay away from /r/all',\n",
       " '&gt;\\twork at a small charter high school in the mid Atlantic.\\n\\nAtlantis is real?',\n",
       " 'It’s not all boys!',\n",
       " 'what the actual fuck',\n",
       " 'It\\'s pretty simple, is the person carrying their suitcase struggling? Offer to help. Are they picking it up with ease? Don\\'t bother. \\n\\nEqually, if someone is trying to be nice by offering to carry it for you, they are trying to be nice, a response of, \"no thanks I\\'m capable enough on my own\" will probably be enough. Agressively shooting down a stranger with only good intentions even if they are doing it from a place of unconscious misogyny is a good way to get lots of people to think you\\'re going too far. It\\'s a conversation that needs nuance, not an angry reaction to an offer of help.',\n",
       " \"Hi, uh male egalitarian here. Not here to bring hate just thought I could have a nice discourse bc you seem like a rational person who is for equality (egalitarianism). Could you maybe see how some ppl could view feminism as a movement of totalitarianism through gender since (legally speaking) women have equal rights to men in most first-world countries? It is absolutely true in the U.S. and UK which I would guess you are from one (not trying to make assumptions, just and educated guess). Care to share your thoughts, I'm very interested. I am a big proponent of feminist movements in 3rd world countries btw if anyone is hostile towards me for some reason\",\n",
       " \"Girls at my school don't wear fucking pants. Fuck you fuck you fuck you fuck you fuck you fuck you\",\n",
       " 'But boys,  for the large majority,  have impulse control.   Why else are they able to behave normally around girls with spaghetti straps outside of school. I have seen many a situation where girls are wearing spaghetti straps or short skirts or shorts showing their legs and the boys have been  fine.',\n",
       " 'But I hear women call men males on this site all the time so now what?',\n",
       " 'Been there.',\n",
       " 'i think it’s easy for words to get lost in translation, for instance when i think of a ‘gentleman’ my mind goes to chivalry - which is really undermining. i’ll elaborate in a moment on that, but i also thing a gentleman can be defined as quite literally a sweet man who goes out of his way for everyone, or is exceptionally positive - this definition being my preferred one lol. \\n\\ni think when it is defined in the chivalrous way it is bordering sexism, although there’s grey areas in this statement simply put it can feel as though you’re being undermined by ‘that’s too heavy for a woman!’ or ‘a woman can’t do that!’ mentality.\\n\\nwhen a man is being a gentleman towards everyone, irrespective of gender, i think this is fine, in fact it’s lovely. however when a man specifically goes out of his was ONLY to help women it’s worth asking what his mentality is. does he think: oh well it’s apt to help as [insert sexist ideology here]? \\n\\nmostly these scenarios require context. often, men think they’re helping and shout-out to those who just do it to be a good citizens and don’t do it because of preconceptions of women. but on occasion those who think they’re helping aren’t, they’re relatively undermining. to elaborate, due to our long winded centuries of fighting to be seen as people and our day to day experiences of misogyny in few men it can be really hurtful for a man to undermine your ability to act independent. the nature of being a gentleman can often entail this. a specific example may be a man taking boxes out of your hand because surely they’re too heavy for a woman or a man saying ‘let the gentlemen handle this’ or something.\\n\\nhopefully not tangented and hopefully this was a good, explanatory response that speaks for the masses.',\n",
       " 'Even if you teach a young male teenager that \"girls are not sexual objects\", he will still have a boner if his crush is sitting right next to him in the class half-naked. That\\'s just a normal biological reaction.\\n\\nThe question then becomes: is that young man disrespecting women by \"objectifying them\" because he has a boner when his crush is sitting next to him half-naked in class? If the answer is yes, than feminist puritanism is alive and well.',\n",
       " \"A man who holds a door for a woman as a gesture of kindness, for example is seen as sexist. Regardless if he would do the same for *anyone*. \\n\\nIt's pathetic that its come to this.\",\n",
       " 'I really wished I had spoken up to another man who had confused me for a woman, tugged on my hair to get my attention and then only respected my space because I was a man. Looking back, maybe it was a smart move to not tell him off, no telling if he would have been violent with me, it was bad enough that he \"did something gay\" so there is that whole gay panic shit that could have gotten messy.',\n",
       " 'The message was great until they had to bring in the \"boys think women as nothing but objects meant for sex\" thing',\n",
       " 'All. The. Time. I always regret it but in the moment often it’s so sudden and my default is freezing up. Most of the time I didn’t want to cause a scene, but fuck it cause why should I be as quiet as possible? I’m training myself to stand up for myself as soon as it happens but it’s so hard',\n",
       " \"It's all good\",\n",
       " 'Wait, are you telling me I could come in with just a sock on my dong (possible some string to keep my balls in), duck tape on my nipples and a buttplug to school? Nice!',\n",
       " 'This is absolutely true. Men who enforce sexual standards with fervor think that everyone else has got to be as fucked up and perverted as them, so they try to \"protect\" the girls. Legitimately, their thought process is \"I\\'d rape them if given the chance, so all these boys are the same I bet\" or even the worse \"so all these boys are in danger of having their lives destroyed by these temptresses\"',\n",
       " \"As a former teenage boy, I think you need to understand that they'll be distracted by girls even if they were wearing 12 layers of burqas, so the topic of conversation is teaching everyone respect for others and self control and has nothing to do with whether boys will be distracted by girls\",\n",
       " 'Was it an all girl competition ?',\n",
       " 'And \"ex-girlfriend\" is attacking women for choosing to not be in a relationship. So many negative connotations with that one.',\n",
       " 'a lot of men really think they built civilization and can’t grasp the reason why you didn’t see women in stem or government for so long is because women would be burned at the stake for not wanting to be barefoot and pregnant for most of history 😂',\n",
       " 'If you teach boys and girls with the same effort and enthusiasm they both learn maths\\nWho knew',\n",
       " 'A [balance board](https://en.wikipedia.org/wiki/Balance_board) of sorts? As far as I can tell, that image has nothing to do with the published paper.',\n",
       " 'What about Genesis chapter 3 verse 16: to the woman he said, (God speaking) \"I will greatly increase your pains in childbearing; with pain you will give birth to childeren. Your desire will be for your husband and he will rule over you\"',\n",
       " 'So I did a lot of research papers in college (English lit degree) and I think this may help you figure out how to tackle this. \\n\\n1) pick a topic that YOU are interested in. Writing lengthy papers about shit you don’t care about can quickly become a disaster. \\nDuring the course, was there a topic or lecture that you were drawn to? Roll with that. One I thought of is the psychology behind the female acceptance of inferiority to males. \\n\\n2) turn your topic into a question. Don’t worry about if it sounds good or not- were just getting ideas on paper for now. \\nUsing the example I gave: how does the psychological impact of certain events in a woman’s life lead her to accept her inferiority to men? \\n\\n3) hardest part, okay? This is where we turn the question into an argument. You want to frame it in a way that any person reading the question would be able to answer “yes I agree” or “no I don’t agree.” And(!!!!!) your teacher doesn’t have to agree with you. They don’t really tell you that, but it’s true. As long as you make a well thought out argument based on solid research you’re golden, pony boy. \\n\\nUsing the example: the psychological effects of the puritanical view of shielding girls from learning about puberty and other natural processes of the female body, while not treating men in fundamentally the same way, leads to an early onset psychological delay in development of women leading them to believe they are naturally inferior to men. \\n\\nI hope this helps! And makes sense! Lol. I’ve had a long day of learning myself, so my brain is a little tired.',\n",
       " 'Just scrolled, thought it be a good idea to see what you gals thought when confronted with different opinions.\\n\\nIt aint good to always be in the echo chamber.',\n",
       " 'why are you even on our thread?',\n",
       " \"Yeah man, I mean look at this. Some countries we got women oppressed, some we got men! But like, look at the US. Look at the gender bias against men. It's sad. Smh\",\n",
       " 'Yeah, definitely. There is DEFINITELY not a bias against men in things like child custody, not at all.',\n",
       " 'I find this mansplaining thing stupid. A lot of women are like this too. We have all met a couple where the husband always says \"the wife is always right\"',\n",
       " 'This has been proven FAKE - and should be taken down! \\n\\n\\nhttps://www.google.com/amp/s/www.usmagazine.com/celebrity-news/news/kylie-jenner-denies-sending-rise-and-shine-cease-and-desist-letters/amp/',\n",
       " 'Agreed, this is bigotry. As a trans woman boxer  I enjoy beating the absolute shit out of other women .',\n",
       " \"A man can be called an asshole, or a pig. Though I'm not sure there's an equivalent for friend zone, he could be called many names for not giving the proper attention to women who might be considered unattractive; because he should be showering them all with equivalent attention although he's more attracted to some than others...  \\n  \\nSee, you get a bunch of women together, and they bitch about men, and you get a bunch of men together and they bitch about women. Of course not always, but often enough. Usually it's all in good temper out in the wilds, but on the internaut, it tends to go a little darker in some circles...\",\n",
       " 'No by no means am I suggesting that. What  im saying is that if you reduce the conversation to these words are used by this group to put this oyher group down then youve lost alot of nuance. Those wprds have a purpose other than to put women down. They are a way to describe certain women and men. They are not exclusively used to oppress women.\\n\\nAnd in terms of my statement about the kind of men in your life, all i was trying to say is that i dont really think its yhat big of an issue as i have yet to see anyone actually do it outside of the internet. I dont think its that prevelant anymore',\n",
       " 'Looks like a type of balance board.   Had one when I was a kid.   Kinda fun to stand on actually as a kid that I remembered.\\n\\nhttps://en.wikipedia.org/wiki/Balance_board',\n",
       " 'Don’t worry about breast cancer, this entire subreddit is cancerous anyway.',\n",
       " 'i love this',\n",
       " '&gt;I\\'m not sure what kind of men you have in your life\\n\\nMen. Just men.\\n\\nSo sick of this passive aggressive version of \"not all men\" I\\'ve been seeing a lot lately.\\n\\nOBVIOUSLY not every single man in every single situation is being a misogynist piece of crap.\\n\\n*Enough* men do *enough* shitty things to *enough* women that it\\'s a problem.\\n\\nStop dismissing women\\'s opinions because *you* think *you* are an \"enlightened man\"/or know \"enlightened men.\"\\n\\nIt just makes you a misogynist with extra steps.',\n",
       " \"Mind giving some examples of how it's not used that way?\",\n",
       " 'Wtf are they standing on???',\n",
       " 'Well listen, im not to sure what kind of men are in your life but thats not how Ive seened used. Its not used exclusively like that.',\n",
       " 'I mean I specifically said I would never say it. So I don’t think that’s a fair statement. \\n\\nI think all of these terms are rude and should never be used to describe anyone. That’s not what we’re discussing. We’re just talking about what they mean, and they mean different things.',\n",
       " 'I still think a lot of this is “rules for thee but not for me”, but I appreciate the dialogue.',\n",
       " 'It’s maybe a less offensive term in general, but what it stands for (policing women’s right to make choices about their own sexuality) is just as offensive as slut.\\n\\nI would never call someone a fuckboi, to be clear, but I agree it’s not the same type of insult, because it’s insulting someone for being manipulative and hurtful, not for being sexual, which I think everyone has the right to be (or not be).',\n",
       " 'You don’t think that saying you “friend zone’d” someone is leaps and bounds from being the insult that “slut” or “fuckboi” is?',\n",
       " '💙',\n",
       " 'No one is saying women don’t do hurtful things too. But the problem is that the term isn’t used just for those women, it’s also used for women who don’t lead people on and are still blamed for not wanting to have sex.',\n",
       " 'Nooooooope.',\n",
       " 'What actually happens is that young girls language abilities outstrip their already excellent math skills. This, along with social pressure pushes them from lucrative stem jobs and into the humanities.\\n\\nThere was a study shared here recently discussing it',\n",
       " 'Excellent share, like always, Mist :)',\n",
       " 'I am sad that we will never see it in our lifetime ;(',\n",
       " '-.-',\n",
       " 'Choices are not made in vacuum. When choices get influenced by misogyny &amp; societal gender expectations, they are not choices at all.',\n",
       " 'Username checks out',\n",
       " \"I feel so bad for her. Maybe someday this will stop being our reality and we'll be able to walk alone without fear.\",\n",
       " 'The optimist in me says &lt;100 years. The realist in me says that there will always be that person.',\n",
       " 'Yeah I gots lotsa upvote love over there',\n",
       " \"It's worth noting that there's a difference between math abilities and an interest in math. Men and women are equal in terms of their abilities in math (as evident by these studies), but I believe men are more *interested* in jobs/career paths that include higher level math which is why we see more men going into STEM fields. Women are just as capable of learning higher level math and getting those jobs.\",\n",
       " 'Are there not women who legitimately lead some male friends on? I don’t think it’s all or even most women, but it’s an observable characteristic in a sizable number of women age 18-30. It just is. Saying you’ve been friend zoned is more of a self-own. Calling someone a fuckboi is a direct insult.',\n",
       " 'There are people who still believe black folk are intellectually inferior so I’d say.....infinity.',\n",
       " 'Our politicians need to do better, and this stance from a powerful leader is absolutely unacceptable.',\n",
       " 'Hillary Clinton has continued her unlikely TERF rebrand this week by claiming that trans issues pose a “legitimate concern” for cisgender women.\\n\\nThe former Secretary of State stopped by BBC Radio 4 on Tuesday to promote The Book of Gutsy Women, a profile of 100 extraordinary women co-authored with daughter Chelsea. After the Clintons sparred over transgender rights in an October interview with the U.K. newspaper The Sunday Times, in which the former stateswoman said we must be “sensitive” to transphobia.\\n\\nClinton returned to the same line of argument yesterday, urging patience for those who are still “trying to sort it out.”\\n\\n“I do think there is a legitimate concern about women’s lived experience and the importance of recognizing that, and also the importance of recognizing the self-identification [of transgender people],” she said. “This is all relatively new. People are still trying to find the language for it.”\\n\\n“I think in the right mindset this can be understood,” the 2016 presidential candidate added, “but it’s going to take some time.”\\n\\nThe comments are fairly interchangeable with last month’s remarks, in which Clinton referred to trans rights as a “very big generational discussion” and claimed the subject wasn’t “something [she] grew up with or ever saw.” \\n\\nWhen Sunday Times reporter Decca Aitkenhead asserted that there are women from earlier generations who may be uncomfortable sharing a locker room or dressing room with a transgender woman, the 72-year-old was said to have nodded vigorously in response.\\n\\n“I would say that, absolutely,” she said. “Absolutely. Yes.”\\n\\nClinton’s comments have been a boon to conservatives who have used them to exploit a wedge between trans-affirming progressives and gender-critical segments of the left. The right-wing news site Washington Times called the backlash to her Sunday Times interview “unhinged” and a “completely understandable perspective, particularly for a woman of her generation.” \\n\\nMeanwhile, U.K. newspaper The Spectator cited the remarks as proof there are “indeed legitimate questions” about whether trans people should be recognized as the gender they say they are.\\n\\nHowever, at least one member of the Clinton family gets it. Chelsea Clinton came out in support of transgender children during the Sunday Times interview, saying that we “need to be doing everything we can to support kids in being whoever they know themselves to be and discovering who they are.”\\n\\nThe former First Daughter is also said to have shot a “furious stare” at Aitkenhead over the questions.\\n\\nHer mother did not rule out a 2020 run in the recent interview with Radio 4, claiming that she is “under enormous pressure” to take on President Donald Trump in next year’s presidential election following his surprise win in 2016. Whether she would throw her hat in an already crowded ring, she would not say.',\n",
       " 'i dont necessarily agree with the second one',\n",
       " 'Friendzone is used against women who choose to not have sex with someone. It is sometimes used in an ok manner but usually it\\'s used when the rejected person is angry that they have been rejected and \"lead on.\" A fuckboy is someone who does not respect women, and only uses them for sex.',\n",
       " 'I\\'m actually ok with the friendzone because you have a friend.\\n\\nThe problem, however, is that I read \"friedzone\" and now I\\'m like \"yeah friends are cool, but are they better than fried food\".\\n\\nYou can see my problem.',\n",
       " '“Friend zone” is used similarly, for the record.',\n",
       " 'Ok',\n",
       " \"I'm a man and I use all these terms to describe my male friends.  I would like to see them represented here as well. #triggered\",\n",
       " 'https://www.reddit.com/r/TheseFuckingAccounts/comments/dszvht/new_member_of_the_ring_spamming/',\n",
       " 'This is absolutely spot on.',\n",
       " 'Haha 😂',\n",
       " \"You say you don't care what women have to say but you came to a women's subreddit to read...what...we're...saying?\",\n",
       " 'These are brilliant and so important. I am also on a crusade to stop people from calling grown-ass women “girls”!',\n",
       " \"I'd be more interested in knowing why this happened and then solving the root cause, rather than go by farce statistics and try to patch it up with the rather narrow minded workaround of simply buying more exhibits from women for a year. That marginalized other people, and also may not solve the problem.\",\n",
       " \"1) I don't care what you're saying.\\n\\n2) I was telling, not asking.\\n\\n3) You just have no sense of humor.\\n\\n4) That's not for you to determine.\\n\\n4) You have 2 items labeled 4.\\n\\n5) That's not for you to decide.\\n\\n6) Do what you're told and I won't have any reason to talk to you anymore.\\n\\n7) Your comfort isn't my responsibility.\\n\\n8) Stop talking.\",\n",
       " 'I meannnnnnnnn\\n\\n&amp;#x200B;\\n\\nits literally a sub where people share opinions that are hated about outher',\n",
       " 'I was referring to the book. Honestly I haven’t seen the show',\n",
       " \"I'd imagine the man talking over/interrupting them, making inappropriate jokes, and not taking no for an would be even more fun to talk to...\",\n",
       " 'You\\'ve misread. \\n\\nI said the exact opposite: females are over sexualized, males are not.\\n\\nMy comment was mostly about the modeled behaviors that children see and mimic, growing up. And how our children are a perfectly predictable and accurate reflection of how we treat ourselves and each other. \\n\\nSo yes, girls are over sexualized, but that\\'s because women as a whole are over sexualized.\\n\\nAnd you\\'re very right! Boys grow up quickly because they\\'re taught, oftentimes outright told, other times shown and modeled behaviors, that encourage sexual aggression (getting a girlfriend, having lots of girlfriends, losing your virginity, being \"good\" with girls as it relates to manipulating them for sex).',\n",
       " '*Phrases EVERYONE should learn',\n",
       " 'Sounds like a fun person to talk too.',\n",
       " 'No I didn’t miss it. But thanks for pointing it out Incase I did.\\n\\nIf you reread what I wrote, you can see that I was not talking about your specific experience, but rather men in general.',\n",
       " \"From the author of the article:\\n\\n&gt; Background: I was first alerted to it after award-winning trans author and NYT contributor Meredith Stroud (writes under the penname Meredith Russo) enjoyed a viral tweet whining about how beautiful 'cis' women often have abusive and unkempt male partners. Some commenters noted an aged blog post indicating that Stroud had been booked on charges related to domestic violence, and I began investigating.\\n\\n&gt;I managed to reach out to Stroud's ex-wife, Juniper, who agreed to speak with me. **She turned over dozens of pages of legal documents which substantiated her claims of being brutally abused and raped by Stroud. Included in the document were messages which Stroud even admitted to the abuse** (see the article for screen caps, included with consent of Juniper). **Stroud also owes Juniper over $16k in child support, for which she has been trying to get Stroud to pay for years.**\\n\\n&gt;I told her story.\\n\\n&gt;I knew there would be blowback.\\n\\n&gt;But not like this.\\n\\n&gt;Normally with these stories, like with Yaniv, the blowback is directed at me and my publication. That, I am more than prepared to handle.\\n\\n&gt;But this time, in a very cruel and abusive fashion, the blowback was directed at Juniper. A sweet young lady who runs a wildlife sanctuary at her own cost.\\n\\n&gt;I received more than one distressed call from her where her voice was shaking, and she was in tears. **Stroud had apparently been threatening to sue her for defamation (that's not how it works -- Stroud would have to sue me or my publication), bogging down her child support lawyer and racking up bills as this lawyer deals with these bullying calls from Stroud's legal counsel.* As a result, Juniper's lawyer asked for more money from her to be owed by today. Money she had to come up with by pulling out of trauma therapy, and applying for lines of credit.\\n\\n&gt;I have fought bullies my whole life, and I have no intention of stopping now. But I am in that headspace where I feel entirely out-of-sorts.\\n\\n&gt;I thought Yaniv was bad -- harassing and litigating against immigrant women for no other reason than racial and sexual animus, but this is on another level.\\n\\n&gt;**When an abuser can excel in this world, becoming a celebrated, rich, and powerful individual, and then CONTINUE to abuse and harass their victim because they dared challenge them -- totally protected and insulted by the social and political climate of self-identification**.\",\n",
       " \"This will probably offend feminists, but it's an honest question.\",\n",
       " 'I think part of the image is missing.',\n",
       " 'I personal favorite of mine is “well what I would have said, had you not interrupted me...”',\n",
       " \"The men who did just as much for our rights don't deserve to be excluded from our gratitude\",\n",
       " 'You may have missed the part where I am trans and before I transitioned this stuff did not happen to me, at least never with that level of aggression in response to a polite disagreement?\\n\\nI also find it ironic that you are literally arguing against my lived experience.',\n",
       " '&gt; i already know that\\n\\nGood god i wish I knew how important it is to let yourself say this back when i was dating.',\n",
       " 'So if we removed all laws that forced equality between the sexes, then they would fair the exact same? Any reasonable person would say of course not. I am not saying we should remove them, I am saying we need them because women are definitely weaker in the marketplace.',\n",
       " 'No women are not fucking weaker, they just don’t interrupt men and make them feel sexualized and uncomfortable at the same frequency as men do to women.',\n",
       " 'This happens to men too and they deal with it. Although I get it, women are weaker and therefore need extra exceptions carved out for them.',\n",
       " 'A couple weeks ago I was on the phone with my dad who likes to \"win\" arguments by getting angry and raising his voice. \\nThis time though, I used my stern but neutral teacher voice and said \"don\\'t talk to me like that,\" and then just continued on with my statement.  The first time I didn\\'t respond with meekness or emotion.  \\nHe fricken stuttered and shut the hell up and listened to me.  Not sure if he absorbed anything I said, but it doesn\\'t matter.  For the first time I demonstrated to him how not to treat me.',\n",
       " 'It’s already the real life of a lot of women. I swear this tv show has exposed how self centered western feminists (mostly white feminists) are.',\n",
       " 'Well, do you express your outrage at all the major museums that every year buy few or no works from women? Year after year after year?',\n",
       " 'So gender and sex are no longer different??? Trans women are male. That’s a fact, not an insult.',\n",
       " 'A woman is someone who identifies as a woman. And that’s not circular how?',\n",
       " 'I replied that tweet with \"x: you repeated what I just said\" \\n\\nWhich happens to me a lot.',\n",
       " 'Eh. Try BROWN.KNIGHT',\n",
       " '**W H I T E. K N I G H T**',\n",
       " \"Essentially, I think women are entitled to say these things, but aren't to blame if they don't/ can't, nor should they have to in order to avoid harassment.\",\n",
       " \"Oh absolutely! These are good things to practice, but they're not magic bullets.\",\n",
       " 'Dude screw feminist, and all of your bullshit',\n",
       " 'Okay but I don’t understand how sexualizing teenage girls isn’t the crux of the issue. It still is. Yes, its true both genders are hyper sexualized from a young age, particularly from teen shows but it’s different for girls. \\n\\nFor girls there’s this obsession with purity and virginity and innocence. An older man manipulating a naive teenage girl who doesn’t understand what’s going on. Much like Aaliyah and R Kelly. \\n\\nWith boys it’s more about people already seeing boys as men from a young age and not taking it seriously if they were to become involved with an older woman. The Mary Kay (don’t know how to spell her last name) situation is a perfect example of this. A lot of people felt he knew what he was doing and that he was willing to become involved with her, therefor it wasn’t seen as rape. Some people might even praise him for becoming sexually active. It’s not shamed upon like it is for girls. \\n\\nSo while I agree, both genders are over sexualized, I don’t agree that both receive the same treatment.',\n",
       " 'Exactly! A lot of people have really bad cramps, and also suffer from endometriosis, PCOS, or ovarian cysts which are actual medical conditions. And still so many people still lack sympathy!',\n",
       " 'Salt N Pepa- None of your business',\n",
       " 'Some others, in a workplace/business context:\\n\\n“Yes, that’s exactly what I just said.” (Don’t let them take credit for your words/ideas)\\n\\n“I believe that was InsertFemaleNameHere’s idea.”  (Don’t let them take credit for other women’s words/ideas)\\n\\n“I don’t have time to organize a party.” (Women are more typically asked to do this than men)\\n\\n“I’d prefer if someone else was tasked with note-taking so I can fully participate in the discussion.” (Women are more often asked to take notes)',\n",
       " \"I don't know how that is a contested statement. I'm a guy, but I have seen my sister who sometimes can't get off the bed because of the pain. And according to her, some of her friends suffer from a more severe version of pain. Seriously, people who say shit like this have no sense of empathy or basic human kindness.\",\n",
       " \"While I think encouraging women to stand up for ourselves like this is important, I think we must remember that it's not always that simple. Part of the reason women find it hard to be assertive is because it's not always safe. \\n\\nAll the women I know have experiences like this, I am just providing my own because it is the one that carved the fear of fighting to be heard into my memory: I am trans and, after I transitioned and and started passing, I was yelled at and talked over by a cis man who took an angry posture after I politely tried to disagree with him, that's how I learned the visceral fear that could result from fighting to be heard.\\n\\nI guess what I am trying to say is that encouraging women to speak up is only half the equation, we as a society must also stand up and say it's unacceptable for a man to threaten or yell at a woman just because she does not agree with him.\\n\\n(There are other forms of threats to women who speak up, especially at the office, but I am not sure I am qualified to speak to those)\",\n",
       " 'True!! They blocked me or silenced me or whatever when I said the same thing that someone else said but with my point switched in.\\n\\nWhen I said the same sentence the poster said before me I got a notification that I was inciting violence and they never responded to why what they said to me was not.',\n",
       " \"This makes it so much creepier when adults target people so young. Like not only do they not even look like they're in their early 20s-young, they're literal children, baby faces.\",\n",
       " \"But if a man was being assaulted, or murdered. It wouldn't call for raising awareness about a tyrannical government?\\n\\nWhat does it have to do with Women? Every protester is being threatened. Not just Women...\",\n",
       " \"I'd say it was my granny, but she doesn't write like that.\",\n",
       " 'COME ON GIRLS LETS CHOP THOSE CARROTS',\n",
       " 'i flash my willy to women and refuse to take responsibility for how they react to my monster dong',\n",
       " 'I was taking minutes in a meeting today and one of the men mansplained to the only other woman in the room and she is way too professional to say anything but my blood pressure was so high.',\n",
       " \"*Image Transcription: Twitter Post*\\n\\n---\\n\\n**gen Ⓥ**, @vegbby\\n\\ngood statements for women to practice:\\n\\n1) you interrupted me. i'm not finished talking.\\n\\n2) no\\n\\n3) that isn't funny\\n\\n4) that isn't appropriate\\n\\n4) i already know that\\n\\n5) that won't be necessary\\n\\n6) leave me alone\\n\\n7) you're making me uncomfortable\\n\\n8) stop ignoring what i'm saying\\n\\n---\\n\\n^^I'm&amp;#32;a&amp;#32;human&amp;#32;volunteer&amp;#32;content&amp;#32;transcriber&amp;#32;for&amp;#32;Reddit&amp;#32;and&amp;#32;you&amp;#32;could&amp;#32;be&amp;#32;too!&amp;#32;[If&amp;#32;&amp;#32;you'd&amp;#32;like&amp;#32;more&amp;#32;information&amp;#32;on&amp;#32;what&amp;#32;we&amp;#32;do&amp;#32;and&amp;#32;why&amp;#32;we&amp;#32;do&amp;#32;it,&amp;#32;click&amp;#32;here!](https://www.reddit.com/r/TranscribersOfReddit/wiki/index)\",\n",
       " \"r/AskFeminists is great for what you're looking for but also maybe posting this on r/AskFeminists would get you some great alternative websites to reddit.\",\n",
       " 'This is a fair question to ask. A huge part of third wave feminism is intersectionality and the understanding that discrimination overlaps. We should be considerate of our fellow people who are non-gender conforming, non-binary, gender queer, trans, or pre-transition. We are better off not assuming other people’s genders and refer to others in gender neutral language until we are informed by said-person how they wish to be referred to.',\n",
       " 'This. Religion has historically been a vessel of the patriarchy. A religious feminist is an oxymoron.',\n",
       " 'Handmaid’sTale_irl',\n",
       " 'Reading this made me want to vomit 🤢',\n",
       " 'Came here to basically say this, irony is posting something to respect trans folk, while simultaneously enacting yet another microaggression against them.',\n",
       " 'There is only 1 gender \\n\\nIt’s nerf or nothing',\n",
       " \"who benefits from claims that women can't be sexist against men?\",\n",
       " \"I have a little question about this that has been bugging me but i've never actually got a feminist to answer this. If what you say about pay gaps is true and has been proven and recognised then why do most companies still hire men over women in anything? Wouldn't it make more sense to just extort women because they get paid less?\",\n",
       " 'companions',\n",
       " \"Oh yeah I'm sure your posts to protectandserve were definitely just happenstance. Definitely why you literally run a cop apologist subreddit. I'm guessing terminal bootlicker.\\n\\n[I'm big fan of your deeply sexist jokes too. Really showing that character.](https://www.reddit.com/r/ShawshankMemes/comments/dqh16f/i_wonder_if_this_is_what_that_pro_golfer_said/)\",\n",
       " 'Yeah, family, friends, siblings',\n",
       " 'Yeah I think siblings is a good one, or just family or friends',\n",
       " 'Neither. I’m glad the department is finally getting around as they should’ve tested the rape kits long ago; I’m included in the article *title* because the poster (u/randybrobro) has a vendetta against me as I’ve been posting sources from other groups besides The Free Thought Project and it’s harming his revenue\\n\\nEdit; my user is included in the title, nowhere in the actual article, wanted to make that clear',\n",
       " \"So which are you, one of the cops not testing rape kits because it's going to implicate too many other cops, or just a terminal boot licker?\",\n",
       " '\"family\" or \"queer family\"',\n",
       " 'they arent “sex tourists”. they are “r*pe tourists”',\n",
       " 'What do you think would make a good stand in or substitute for this wording to include everyone? \\n\\nI\\'m seriously brainfarting and can only think of \"kin\" but that\\'s more often used for blood related topics.',\n",
       " 'Glad to see you included the personal remark',\n",
       " 'Correct me if I\\'m wrong, but isn\\'t it some \"Wholesome Christian Mommy Blogger\" who goes around posting anti-feminist shit as if it was one of those life coaching books Deepak Chopra would write?\\n\\nNot sure if there\\'s a \"women under Patriarchy\" version of the idiom \"bootlicking,\" but if there is, she embodies the hell out of it.',\n",
       " 'No worries, she goes by “The Transformed Wife,” and she’s always spewing this BS. Her sexist language is very easily identifiable once you know who she is, much to everyone’s dismay.',\n",
       " 'Ah yes, I literally only see breasts, ovaries in a womb. In fact, I don’t know how I’m seeing or typing anything at all considering I’ve never seen my eyes or opposable thumbs before. Do I have a brain? Idk, all I am is breasts, ovaries, and a womb.',\n",
       " 'That’s true, despite the intention. what is the best way to include enbies?',\n",
       " 'I was recently in the Philippines and while I knooow this was a huge problem,  I didn\\'t expect how...blatant it was. Google reviews of every bar or club were 50% rating the quality of the sex workers in the most vile language. 2x a male of our group was approached to see if was \"looking for anyone.\" An American sitting near us was drunkenly asking the waitress how much she was and where the nearest\"whorehouse\" was cause she was too old for him. At 10am. \\n\\nThe absolute poverty is so widespread that im not surprised its easy to coerce young girls into it for some money for their family. \\n\\nFor christ\\'s sake the only Filipino subreddit is solely dedicated for sex tourism with half a million subscribers.',\n",
       " 'It\\'s a nice sentiment but it\\'s literally about trans people and \"brothers and sisters\" leaves so many non-binary people out completely',\n",
       " 'Ok, wtf my dudes?',\n",
       " 'listen here kiddo I’m not responding to any of your dilly dally until you find me a reliable source that directly counters the 95% statistic that you call bullshit. \\nHere is the link that details the 95% statistic that you were too lazy to obtain yourself despite it literally being cited in the infographic so go ahead and have a field day with it: https://journals.plos.org/plosone/article?id=10.1371/journal.pone.0128832#sec013\\nhave a blessed day :)',\n",
       " \"I'm with this.   It would depend on your contract and part of it may include performing tasks that aid him to be able to do his job more effectively or words such as that.   They may include setting appointments,   doing housekeeping task such as collecting dry cleaning,  organizing trips,  getting his lunch.  Although that does seem to be more PA the AA.    But if he is cutting into your lunch break then the task is irrelevant and you need to say something.\\n\\n&amp;#x200B;\\n\\nDoes he have an actual PA?\",\n",
       " \"This was a very enlightening infographic, thank you so much for sharing! It's so important for women to have rights over their own body and reproductive health.\",\n",
       " 'Happy cake day! ❤',\n",
       " 'Well, 1st things first, the 95% thing is bs. Second, all though you probably already hear this all day, killing humans is wrong. They have a unique genetic code. THEY ARE HUMAN. Now, that probably won’t change the hardheadedness of a full on feminist. Here’s some more: if killing humans becomes more and more tolerable, and human life is valued less and less, what will happen to our world in 10 years? 20 years? Think about this. Do you value your own life? Do you think you are more valuable then a fetus? In fact, I can almost say for certain you are misinformed about how abortion works. Wonder what happened to the president of planned pregnancies before the current one? She was asked to watch an abortion. She quit after that to say the least. Do you want to know what happens? If you have a heart at all you will at least feel some sadness. Typically the procedure is done around 12 weeks into the pregnancy. By now the baby is a little bigger than a plumb, has all of its organs, and has begun to. Develop nerves. This is what happens. First, they remove the “tissue’s” legs. According to Cecile Richards, the baby starts screaming. On the ultrasound, she said she saw the poor baby writhing in pain. Then they suck the leftovers up a tube. Then they remove the arms, then the rest is sucked up and everything is cleaned up. Is this really what you stand for? Is this what you support? The death of human children? Being ripped apart and sucked up? When I heard this, I cried. I didn’t sleep. Luckily I didn’t have school after that, because I got no sleep. I couldn’t believe it. People kill people for profit. Is this what you support?',\n",
       " '\\n\\n\\nRacism is this nation’s telltale heart beating ominously in the collective subconscious. From time to time we come to believe we have expiated and silenced it once and for all. But then it is back — changed, perhaps attenuated, but unmistakable.\\n\\nEleven years ago, we were congratulating ourselves on a historic milestone: the election of Barack Obama, the first African American U.S. president. Some dreamed — foolishly, it turned out — that we had finally entered a “post-racial” era. Instead, we find ourselves at a hyperracial moment of heightened friction, a time when six in 10 Americans believe race relations are “generally bad,” according to a Pew Research Center survey, and nearly two-thirds believe it is now more common for people to express racist views than when Obama left office.\\n\\nMore than half of us blame President Trump for making race relations worse, according to Pew. But Trump may be more of a symptom than a root cause. If he exacerbates and exploits jagged divisions for political gain, he is able to do so because those divisions were already there.\\n\\nIt is depressingly easy to quantify the stubborn disparities that linger from our centuries of racism. The median black family earns just 62 percent of what the median white family earns, according to the Census Bureau, and has little more than one-tenth the accumulated net worth — gaps that have barely narrowed since the 1970s. Latinos fare, on average, just slightly better.\\n\\n\\nMuch harder to catalogue is how Americans feel on a personal level. Racism hurts. A growing body of research shows it negatively affects the mental and physical health of its victims. Like any burden, it wears the bearer down. Sometimes it makes you feel like lashing out. Sometimes it makes you feel as if you are drowning.\\n\\nIn what surely is not a coincidence, racism is rising along with diversity. The country’s 10 biggest cities and two biggest states are already majority-minority, meaning non-Hispanic whites no longer constitute more than half the population. The nation as a whole will reach that tipping point around 2045. Hispanics are now such a huge minority that one could argue the nation is already functionally bilingual. Perhaps the sense that demography equals destiny has something, or maybe everything, to do with the fact that about half of white Americans, according to a poll by the Public Religion Research Institute, believe discrimination against whites is as big a problem in the United States as discrimination against minorities.\\n\\nThis is how the war against racism goes: progress, setback, optimism, despair — a cycle that frustratingly repeats and yet somehow inches us forward. Racism may be worse than in the recent past, but the individual and collective punishment it metes out is a shadow of what black Americans suffered a half-century ago. We have no choice but to believe that the Rev. Martin Luther King Jr. was right when he said that the arc of the moral universe is long but bends toward justice. We have somehow taken a detour, however, and must find our way back to the true path.\\n\\nThis issue is devoted to photography that documents this moment — not just our external struggle with racism, but the internal struggles as well. Some of the images are beautiful and unsettling. Some are jarring. If some make us uncomfortable, that is progress. An easy conversation about racism is not a real conversation at all.\\n\\nEugene Robinson is a Washington Post columnist focusing on politics and culture.',\n",
       " 'Where did you get the 95% thing from?',\n",
       " 'Could be something dastardly, also IT could be worried hackers have set malware on that site because its such a troll hate farm target.',\n",
       " 'if you’re his personal assistant than i think it’s reasonable for him to ask you to get his lunch (whether he’s an ass about it or not). I also don’t think the color of your skin or his matters unless he is involving it. but i can see where you could get offended, so i wouldn’t say you’re hyper sensitive',\n",
       " \"I think nrxt time he asks you for lunch say 'ok boomer' or just say 'ok male pig' lol.\\n\\nIf you get sacked you should due the company for MILLIONS for sexism\",\n",
       " 'Ethnic?',\n",
       " 'Like reading 1984 OMEGALUL',\n",
       " 'Maybe said women should keep it in their pants no?',\n",
       " 'I mean, no one wants Cardi B to have the same title as Tupac and Biggie..',\n",
       " 'On the bottom left picture on the OP post',\n",
       " 'No they symbolise red shoes',\n",
       " \"Plz don't\",\n",
       " \"No it fucking didn't\",\n",
       " 'You should be working',\n",
       " 'Seems innocent enough. Mayor could sound like a gendered title. But your friend shouldn’t blame you lol',\n",
       " 'Anyone want to buy a 7 year old girl, she has a tight pussy',\n",
       " 'Patti Smith',\n",
       " \"'a lot' is a subjective term, but not an objective term.\\n\\nObjectively, a tiny minority of girls go into chemistry. A tiny minority does not qualify as a 'a lot' unless you have a very low threshold for what qualifies as 'a lot'.\\n\\nSubjectively, 10 in 100 can be regarded as a lot, 10 in 100 can also be regarded as very little.\\n\\nTherefore, it is better to argue objectively, than subjectively.\",\n",
       " 'From wiki:\\n\\n&gt; Benevolent sexism represents evaluations of gender that may appear subjectively positive (subjective to the person who is evaluating), but are actually damaging to people and gender equality more broadly (e.g., the ideas that women need to be protected by men).',\n",
       " 'Completely agree',\n",
       " 'God I want someone to reply to all the comments that are saying “what’s wrong with benevolent sexism???” With that study that shows a correlation between high levels of benevolent sexism and viewing women as less capable. I won’t because I’m tired and honestly can’t deal with the onslaught of absolute shit I’d get.',\n",
       " \"Excuse me if I'm biased (I'm relatively conservative), but I'm not sure the details of him being a white boomer male and you being a woman of colour have to do with the reasoning for it (of course, it's impossible to know unless he says it). But of course, that still doesn't sidetrack the fact that it's quite rude and privileged of him to do so and it's not in your job description to deal with that. You should make it known that you don't want to.\",\n",
       " 'Agreed',\n",
       " 'This isnt Rome in the early centuries',\n",
       " 'Killing an unborn child shouldn’t be something u want but ok it’s y’alls choice not mine',\n",
       " 'If you or someone you know is contemplating suicide, please do not hesitate to talk to someone.\\n\\n**US:**\\n\\nCall 1-800-273-8255 or text HOME to 741-741\\n\\n**Non-US:**\\n\\n[https://en.wikipedia.org/wiki/List_of_suicide_crisis_lines](https://en.wikipedia.org/wiki/List_of_suicide_crisis_lines)\\n \\n --- \\n \\n^^I ^^am ^^a ^^bot.  ^^Feedback ^^appreciated.',\n",
       " 'This makes me want to kill myself, people can do this stuff... I cant even eat properly...',\n",
       " 'There is a reason...',\n",
       " \"Yeah, these Karens make feminism look bad, did you know it's still sexism, even if it is against men?\",\n",
       " 'Guys can be feminist too tho',\n",
       " 'You better read the study.',\n",
       " 'Certainly not being hypersensitive. That isn’t your job and you shouldn’t be expected to do it.',\n",
       " 'Been on here since 2010, yeah women have always been the punching bag.',\n",
       " 'I doubt doing all this bs for him is in the remit of an administrative assistant. He needs a PA.',\n",
       " \"Can't risk any online abortions.\",\n",
       " \"It's sad that I was also expecting those comments.\",\n",
       " \"Oh sure! I'll PM you :)\",\n",
       " \"I really wish the primary article referenced wasn't behind a paywall so we can actually investigate the claims of the news post.\",\n",
       " 'What is benevolent sexism ?',\n",
       " \"If fetching lunch is not in your job description, then I'd let him know about your dissatisfaction (or maybe HR, depending on the company's process). But it is not hyper sensitive to not want to do what you're not getting paid for.\",\n",
       " 'Blessed be the fruit!\\n\\n/sarcasm off',\n",
       " 'Of course, but all those services do not benefit the \"pro-life\" narrative of \"ThEy\\'Re KiLliNG BaBiEs!!1!1!!\", and bigoted arseholes rely on misinformation and omission to keep their privilege. \\n\\nGood for you for letting the other employees know about this. Keep us updated on how the situation evolves.',\n",
       " \"I literally mentioned the distinction in my comment.\\n\\nLike, it's not that long of a comment... It's right there.\",\n",
       " 'I am so peeved. \\n\\nFirst, not that it matters, because abortion is women’s health, but Planned Parenthood offers so much more. Well woman visits, std testing for men and women, birth control for men and men, etc etc etc. They provide services for low income and patients without insurance.\\n\\nSecond, I was making my yearly well woman appointment. I used Planned Parenthood because in my area they have appointments all the way until 6:30 and I like to support them because when I was young and broke, they had my back birth control. \\n\\nAnyway; I’ve got half my company riled up about it.',\n",
       " 'You can always help them by reporting :) r/science mods support us, but it’s a huge volume',\n",
       " '\"Category: Abortion\"\\n\\nOh, the terrible threat of women choosing what to do with their bodies.',\n",
       " \"Cool. I'm not seeing any benefits for the human lives being ended though. Am I missing something?\",\n",
       " 'We don’t consider those types of comments ‘healthy’ debate.\\n\\nIf you see messages that are derailing please report for removal.',\n",
       " \"You failed to provide evidence in your logical framework that girl things means fields predominantly dominated by women, therefore I would put forward that your axioms are inapplicable to reality or the comic.\\n\\nAlso you used first order predicate logic when trying to deal with reality. As a computer scientist who has a background in logic, I can safely say that any attempt to apply first order predicate logic to reality is a flawed idea, it's primary use is in proving abstract world/toy problem theorems. Please learn more complex logic systems before you try to apply one to the real world.\",\n",
       " 'So you’re saying intense patriarchy didn’t exist in pre-Christian Greco-Roman times back when women were considered deformed, intellectually inferior subhumans?',\n",
       " 'Try r/askfeminists.',\n",
       " \"If a young girl enjoys chemistry, then her doing chemistry experiments qualifies as a girl thing.\\n\\nP implies Q, you simply misunderstood the premise.\\n\\nYou may consider taking lessons in rhetoric, logic, and comedy before you post more misguided comments on comics you didn't understand.\",\n",
       " \"If a young girl enjoys chemistry, then her doing chemistry experiments qualifies as a girl thing.\\n\\np implies q, you simply didn't understand the premise.\",\n",
       " \"And shit that might be true, your brain and what you learn to prefer is not always working towards your best interest. But that sure as shit isn't a reason to promote it...\\n\\nBut yeah. It's just hypocrisy.\",\n",
       " \"It's always that bad, and it's a lot worse before all the comments get removed.\",\n",
       " \"Liking chemistry isn't feminine *or* masculine.\",\n",
       " 'It gets nuked once the mods catch up, most comments have now been removed.',\n",
       " 'Get back in the kitchen.',\n",
       " 'The wage gap isn’t real.',\n",
       " 'Hrmm',\n",
       " \"I'm not sure how r/science usually is, but users from The_Donald have been trying to form a new site to hang out on, and yesterday or the day before they were announcing on the new site that it would be perfect for organizing brigades on reddit.\",\n",
       " 'This is getting wildly off topic.\\n\\nYou use cultural differences as an excuse for how women are treated, but the treatment of women is not a western cultural phenomenon because patriarchy dominates throughout the world, manifesting in culturally specific ways.  One example of patriarchy in a non-western context is how men In the Brazilian Munduruku tribe control religious ceremony and women through the threat of gang rape.  \\n\\nYou have asked for specific examples of ways that you have privilege over me, but the answer to that is complex and unknown because I do not know you. You are the only one who can recognize the systemic privileges you have over others.  We would be much closer to equity if all people were able to do that.  In patriarchal societies, men generally dominate over various aspects of women’s lives, and women maneuver this domination in subversive ways.  To use the Munduruku example, the threat of gang rape forces women together and into the much more difficult daily tasks of horticulture and food production, but still they lack men’s privileges such as learning Portuguese to talk to outsiders, walking alone, and engaging in religious ceremonies.  \\n\\nWomen and Gender Studies is an entire social sciences discipline, and should you want to learn more, I encourage you to seek out some books like “A World Full of Women” by Martha Ward and Monica Edelstein, “Feminist Issues: Race, Class, and Sexuality” by Nancy Mandel and Jennifer Johnson, and “Gender in Cross Cultural Perspective” by Caroline Brettell and Carolyn Sargent.  I don’t have any more time to give to you, so I hope you’re able to give it to yourself by taking my suggestion.\\n\\nMunduruku Source: Murphy, Y, &amp; Murphy, R.F (1985). The Women’s World.',\n",
       " 'This is getting wildly off topic.\\n\\nYou use cultural differences as an excuse for how women are treated, but the treatment of women is not a western cultural phenomenon because patriarchy dominates throughout the world, manifesting in culturally specific ways.  One example of patriarchy in a non-western context is how men In the Brazilian Munduruku tribe control religious ceremony and women through the threat of gang rape.  \\n\\nYou have asked for specific examples of ways that you have privilege over me, but the answer to that is complex and unknown because I do not know you. You are the only one who can recognize the systemic privileges you have over others.  We would be much closer to equity if all people were able to do that.  In patriarchal societies, men generally dominate over various aspects of women’s lives, and women maneuver this domination in subversive ways.  To use the Munduruku example, the threat of gang rape forces women together and into the much more difficult daily tasks of horticulture and food production, but still they lack men’s privileges such as learning Portuguese to talk to outsiders, walking alone, and engaging in religious ceremonies.  \\n\\nWomen and Gender Studies is an entire social sciences discipline, and should you want to learn more, I encourage you to seek out some books like “A World Full of Women” by Martha Ward and Monica Edelstein, “Feminist Issues: Race, Class, and Sexuality” by Nancy Mandel and Jennifer Johnson, and “Gender in Cross Cultural Perspective” by Caroline Brettell and Carolyn Sargent.  I don’t have any more time to give to you, so I hope you’re able to give it to yourself by taking my suggestion.\\n\\nMunduruku Source: Murphy, Y, &amp; Murphy, R.F (1985). The Women’s World.',\n",
       " \"It's totally my favorite one!!!\",\n",
       " 'Thank you! I did a lot of tweaking on the colors because I wanted them to look like they all go together, ha! So I appreciate your noticing :)',\n",
       " 'No it wasn\\'t always like this. I\\'ve been on there ever since I joined Reddit which is just a few months ago. It is becoming more like \"man good woman bad\" \"man strong woman weak\" these days. I got heavily downvoted for making sane points lol. I\\'m not leaving that sub Because it helps remain updated on recent scientific advancement but this was a warning to never read the comments from now on. I lost a lot of brain cells. \\n\\nAlso, I do think it has been invaded by cons pseudo-science eXpErTs.',\n",
       " 'Is it though. Do these words not have uses outside of someone wanting to fuck you?',\n",
       " 'This is horrifying. \\n\\nSomething similar happened to me when I was about two blocks from my house. A car pulled over and told me to \"Get in\".\\n\\nI had to run into a convenience store to hide.',\n",
       " 'You\\'re probably just trolling but in the event that you\\'re not, \"fuckboy\" is a term used to describe a guy who is being dishonest about his intentions. He uses manipulation or lies to get what he wants instead of being straightforward about his totally acceptable and normal desire for sex. The difference is respect. Women are called sluts even if they are honest upfront about their desire for NSA sex.',\n",
       " \"hm there is always going to be things like this, but i think it's less common, and two, doubtful it's an insult in the same way.  it would depend on how it's used but could be also hinting at a person being someone who is successful at getting a sexual partner which for guys can often be positive complimentary for them.\",\n",
       " 'I wonder how many years of research we will need until people will stop believeing sexist crap.',\n",
       " \"what's interesting to me is how when you combine these just about every woman is being insulted/put down.\",\n",
       " 'Shhh some feminists never see the double standards',\n",
       " 'https://www.nature.com/articles/s41539-019-0057-x\\n\\n\\nDiscussion\\n\\nAcross multiple neural analyses, we show that girls’ and boys’ brains function similarly during mathematical processing. We saw no evidence of gender differences in neural responses to mathematics content, neural responses during educational video viewing, or rates of neural development for mathematical processing in early childhood, and in fact we found statistical equivalence between boys and girls throughout the brain. Tests of statistical equivalence and a Bayes Factor analysis show gender similarities throughout the number processing network. Furthermore, boys’ and girls’ math abilities related to the rate of neural mathematics development in the same brain regions, and neural similarity was consistent across children of the same and of different genders.\\nOur results are consistent with the ‘Gender Similarities Hypothesis’, which argues that boys and girls function similarly in most areas of cognition.10,23\\xa0In particular, gender similarities in early childhood mathematics show, as proposed in the domain of spatial cognition,14\\xa0that gender differences in STEM fields in adults are not derived from intrinsic differences in children’s brains but likely from a complex environmental origin.\\nAny test of cognitive ability that shows gender differences faces the difficulty of disentangling biological factors from social ones. For instance, 4- to 7-year-old boys show an advantage over girls in tests of spatial skills, but parents also report more-spatial play with their boys compared with their girls,14suggesting a possible sociocultural influence on gender differences in spatial cognition. Similarly, in math and science, teachers tend to show differential distributions of time spent encouraging students, praising students, and explaining concepts to students, with boys receiving more time than girls.24,25,26,27\\xa0This is important because teachers’ perceptions of children’s math ability predicts later math achievement scores.28\\xa0Parents’ expectations about their children’s success also correlate with children’s own self-concepts of their abilities and their performance on math tasks.29,30\\xa0A strong sociocultural influence on early childhood math achievement makes it difficult to tease apart intrinsic gender differences from sociocultural factors in older children and adults.8,9\\nGiven the broad similarities between boys and girls, gender differences observed in STEM performance during adolescence or adulthood are unlikely to originate from early childhood differences in the brain or cognition. Although gender differences in STEM may emerge later in development or from interactions between STEM training and sexually dimorphic behaviors (e.g., differences in hormone levels following puberty),6,31,32\\xa0the findings of widespread gender similarities in boys’ and girls’ brains do not support claims of biological gender differences in childhood. Instead, the data show that the neural functions underlying mathematical cognition are similar between genders and represent one heterogeneous population rather than two categorical groups.',\n",
       " 'If you think “friend zone” is an attack, what is “fuckboi”?',\n",
       " 'Thanks! In the last ten years I visited 5 doctors and 3 gyns. Next week I will visit my 4th gynecologist of the decade ;) \\n\\nThey did an eco and found nothing tho.',\n",
       " 'this was literally one of the worst videos ive ever seen. there are reasons for those statistics, and no, they arent because men just dont want to promote women... LMAO grow up hun',\n",
       " 'Omg! You should find a decent doctor, dear. \\nIf your periods are heavy, you might have PCOS. Better go for an ecography.\\n\\nIn the meantime, you can do some research - https://www.pcosaa.org/pcos-symptoms\\n\\nI really hope you’ll be able to manage it.\\nHugs',\n",
       " 'I love this, I would absolutely buy a t-shirt with this picture on it.',\n",
       " \"This is perfect. It's upsetting half the words directed at women have no clear definition, theyre just bad.\",\n",
       " 'That is very true',\n",
       " \"Lol. I wasn't saying the writer of the article was a TERF. But that OP is. And a TERF might have an ulterior anti male motive for posting stuff about how even gay men are all misogynists\",\n",
       " 'See thats a more moderate comment. It generalizes gay men too much that is true.But so we do most of the time I think. Humans tend to generalize.',\n",
       " \"Yeah of course I read the article. I'm a feminist. I think some of the points in the article are correct but I think it's painting gay men with way too broad a brush\",\n",
       " 'I guess that I am you then xD.',\n",
       " 'Or maybe it is a person tired of misoginy. Also, have you even read the article? The author is a feminist male',\n",
       " \"Because TERF ideology is more than just hating trans people. They believe that men can't be feminists and are generally pretty misanthropic. \\n\\nSo there's the reason why a TERF would be posting stuff about how even 'gay men can't be trusted lady's'\",\n",
       " 'Are you me?\\n\\nI had the same issue, went to a lot of doctors (one of them, a man, told me that my period it doesn’t hurt that much, it doesn’t have how to, i’m exaggerate) and they say it’s ok. Yeah well, i found out later i have PCOS and this is the reason my period sucks. And i was able to tell my mom why her period was the same and why it was so hard for her to get pregnant.\\n\\nI really wish more women will decide to go into STEM and search for women health.',\n",
       " \"Super interesting article. Its crazy how misunderstood women are and how little doctors care about us, even in the 21st century.\\n\\nI have had problems with my menstruation for 10 years. Most of the doctors/gyn that I went to told me things like 'to relax' or 'be patient'. The few that listened to me couldnt find anything (they are not educated enough of there isnt research enough) and they prescribed me random contraception\",\n",
       " \"And if they do, they'll still be put down after two offenses in most states.\",\n",
       " \"Totally, but no other form of violent behaviour is so out of control. There's a study that shows that about a quarter of Europeans are ok with various forms of nonconsensual sex (n=27.818).\\n\\n [Source pdf (German)]( http://ec.europa.eu/COMMFrontOffice/publicopinion/index.cfm/ResultDoc/download/DocumentKy/75839)\",\n",
       " \"Guys like him and comments like these make me such to my stomach. Can't eat as much as I want to puke... Honestly... Welcome to the 21st century...\",\n",
       " \"This is sexist both against men and women.\\nIf a woman smiles or playfully flirts at a man that doesn't mean she wants to have sex. Or if she once had sex with a man that doesn't mean she would want to have sex with him again.\\nI think it's kind of stupid to compare a man to a dog. Dog is an animal. A man is a human. Men have (or at least should have) at least some level self control.\\nAlso yanking a dogs tail isn't the same thing as flirting. You know what kind of people yank dogs tails? Children and horrible human beings. Do you see children and horrible human beings flirting? If you said yes, catcalling dies not count as flirting.\",\n",
       " \"What?\\nI don't get it\",\n",
       " \"It's gross that misogynists try and reinforce these tired stereotypes. Cooking and cleaning isn't just for women, man children are going to have a bad time living dirty and hungry if they can't accept that.\",\n",
       " '\\\\_Teach men not to rape\\\\_ implies that men don\\'t understand that rape is wrong and therefore it\\'s not their fault. That it\\'s the failure of society to show men how to behave and not the fault of the rapist. \\n\\n\" By the time they reach college, most students have been exposed to 18 years of prevention messages in one form or another. Thanks to repeated messages from parents, religious leaders, teachers, coaches, the media and, yes, the culture at large, the overwhelming majority of these young adults have learned right from wrong, and enter college knowing that rape falls squarely in the latter category. \" -From the RAINN (Rape, Abuse, Incest National Network) letter to the White House Task Force to Protect Students from Sexual Assault.\\n\\n [https://www.rainn.org/images/03-2014/WH-Task-Force-RAINN-Recommendations.pdf](https://www.rainn.org/images/03-2014/WH-Task-Force-RAINN-Recommendations.pdf) \\n\\nRAINN does not recommend \"teaching men not to rape.\" RAINN recommends a three-tiered approach when it comes to preventing sexual violence on college campuses. A prevention campaign should include the following elements: 1. Bystander intervention education: empowering community members to act in response to acts of sexual violence. 2. Risk-reduction messaging: empowering members of the community to take steps to increase their personal safety. 3. General education to promote understanding of the law, particularly as it relates to the ability to consent. \\n\\nIn other words, show others how to recognize a bad situation and get involved, how one should protect themselves (not to victim blame anyone, just on what is the best way to protect one\\'s self) and having a clear understanding of consent laws.',\n",
       " 'Wow I never knew that 100% of countries were in the 3rd world',\n",
       " 'I take it you you think is a xrappy father to his daughter and your qualified to make that judgement about his ability to be a good father?',\n",
       " '🤢🤮',\n",
       " \"&gt;It makes no sense that men are somehow the sensible and calm ones who must obviously be in charge because those hysterical hormonal women couldn't possibly run a company or a government, etc, but they're also driven entirely by their animalistic urges\",\n",
       " \"He's standing for a rural seat, and he's only a candidate, so he's still in the village\",\n",
       " 'I feel like saying this should automatically revoke his penis privilege.  🔪',\n",
       " \"Recently a 60 year old man , kissed and inappropriately touched a 6 year old girl who was a beggar. When caught he first said that he gave her 10 rupees which is like 0.14 dollar , then he said that he was hungry that's why he did it ( HUNGRY not horny ) , to save face he did it as if she was his daughter . The most shocking part is that he said that because he doesn't have a boner he did nothing wrong and also tried showing it to the people around him to prove himself. ALL THIS WAS DONE PUBLICLY NOT IN PRIVATE . Stay safe and keep an eye out for such things.\",\n",
       " 'BF Skinner dismissed history completely as a lineage of irrational.acts.',\n",
       " 'As a male, This is extremely fucked up.',\n",
       " 'I have a question \\nBy gender equality so like will they split the bill on dates and girls can’t hit men.\\nOr am I incorrect',\n",
       " 'Look at your bodies men. You are nothing but a beautiful baby cannon. Shoot your loads like God intended',\n",
       " 'There are posts about International Men\\'s Day, on another major feminist subreddit they [had a massive thread with 14k upvotes all about being uplifting to men.](https://www.reddit.com/r/WitchesVsPatriarchy/comments/dyljxw/remember_on_international_womens_day_when_all_the/) As far as just general discussion about men\\'s issues, they are important to feminism. The common mistake that a lot of men make with feminism is that they treat it like some hivemind. Different feminists approach issues differently, hence you have some feminists who only focus on women and others who actually do put massive amounts of effort towards men.\\n\\n&gt;  Why do girls have a need to turn literally everything into something about themselves?? \\n\\nThis is why I said lurking is a good idea, you\\'d be surprised how many women deal with men saying, \"What about men?\" in a clear attempt to make it about themselves in spaces like this. Men do suffer under the current system of gender roles, no feminist worth their salt would argue otherwise but men\\'s suffering needs to be tackled by those who live those experiences. After about a year of lurking and posting in feminist subs, I\\'ve realized that I can\\'t waltz in here and demand women to fix my problems, I have to exercise some praxis of my own. Part of that praxis is talking to men who post here whether in good or bad faith and maybe help them see the feminist point of view.\\n\\n&gt; It seriously amazes me to see how much self love and self respect you lack. \\n\\nIt was when I adopted more feminist attitudes I developed better self esteem because my value isn\\'t tied into society\\'s idea of what a man is. It is places like TRP on the other hand that will tell men they are worthless because they failed the checklist of masculinity. Just food for thought, friend.',\n",
       " \"Cat has a on the name\\nDog has o on the name\\nIf the noun it didn't exist then cat would be considered female and dog male, this happens in a lot of languages its just cause of the sounds.\",\n",
       " 'While crazy religious people deem science as \"evil\" or \"against the [insert religious book]\" even though science has helped improving the death rate during childbirth that they consider a blessing from nature.',\n",
       " 'To punish women for the audacity of seeking out knowledge and trying new things.',\n",
       " 'omg this is heartbreaking',\n",
       " 'Why did God make Pregnancy and childbirth so dangerous then?',\n",
       " \"Okay let me ask you this. If feminism is about equality for all genders why is there no posts about international men's day, and all the problems men face? Why do girls have a need to turn literally everything into something about themselves?? It seriously amazes me to see how much self love and self respect you lack.\",\n",
       " 'Lol and people wonder why the hapa kids they create are conflicted. The white dudes go there to fuck women and kids then leave.',\n",
       " 'https://www.reddit.com/r/Feminism/comments/dz05nd/the_sexual_abuse_of_filipina_women_and_children/?utm_source=share&amp;utm_medium=ios_app&amp;utm_name=iossmf',\n",
       " 'Hmmm',\n",
       " 'This might not be great for a research paper, but bad feminist by Roxanne gay gives a pretty broad spectrum of experiences from different people. It touches on pretty much every base, so I’m sure you’ll find a few pieces about internalized misogyny in there.',\n",
       " \"True, especially in Islam. As an ex-muslim I can tell you that Islam is the worst regarding women's rights.\",\n",
       " \"When doesn't religion and misogyny collide? It's always baffled me how any thinking woman can fall for that.\",\n",
       " \"Don't start with this\",\n",
       " 'I had never seen this comment before. It was a rollercoaster reading it. First sentence: yes, I do have those things ... second sentence: yes I am magnificent! Third sentence: uhm... wait what? \\n\\nThe good ol’ bait and switch. Say a beautiful, true thing, then say something bigoted and convince yourself that the first thing explains the second.',\n",
       " 'wtf, , you act like every man behaves like. Of course there are always a few cases where men do that, but please stop acting no man cares about other people and all they live for is sex.',\n",
       " 'Im a vet who fought in iraq back in 2004 and i lost all of my friends, i lost everything, i lost my ability to walk properly, the ability to talk properly , the ability to hear in my left eat and have no respect now? What is wrong with you people i fought for my country and lost everything and this is the appreciation i get? This is why you are hated',\n",
       " 'This has been posted before and the name of the poster was displayed.',\n",
       " 'How do you know it was a woman?',\n",
       " 'Wb the men without clean sanitation? Is that stat or is it all women?',\n",
       " \"That you're here in bad faith to preach the evils of a museum diversifying their art collection because it bothers you that they're doing something nice for female artists.\\n\\n That's the point.\",\n",
       " \"Pretty sure that's one of the bigger alt-right/incel infested shitholes on reddit. I wouldn't spend too much time in there, that'd be bad for anyone's mental health.\",\n",
       " 'This looks really cool. Just from an artistic view this is amazing. Keep supporting her and the project =D.',\n",
       " \"My body has also evolved to be efficient at long-distance running, yet I've never run more than a half mile and no one gives me shit about that. \\n\\nJust because you *can* do something doesn't mean you *should*.\",\n",
       " 'So nature is misogynistic?',\n",
       " \"Why is the first one censored? Isn't this from a public figure? Like Stefan Molyneux or Transformed Wife or someone else like that?\",\n",
       " 'Polyandric trio structures would make it possible for each partner to earn the same amount while preserving an under-40% income for the wife.',\n",
       " 'Because this type of study has been done countless times and there are no female corrolaries, yes.\\n\\nAre you so ignorant that you ignore context? Seems so. Bye.',\n",
       " 'Did read, point being?',\n",
       " 'Nothing is *more* important than ensuring the continuity of the human species. Everything else is a side hobby.\\n\\nSame with men btw.',\n",
       " 'Please tell me the first comment is sarcastic or something.',\n",
       " \"Widespread sexual abuse is a global reality. I used to think that sexual abuse rarely happened too. It's our silence and the stigma of the topic that allows abusers to continue getting away with it. This is a topic that has been condemned in public conversation. \\n\\nThere are so many problems that we are facing as a humanity--sexual violence being among the most prominent and serious of offenses--that we are not prepared to face in our cowardice and isolation. I wish that I could do more than speak about this. I want this to change.\",\n",
       " 'Maybe you should actually read the article? \"In **American museums** more generally, **works by female** artists made up just 11 **percent** of all acquisitions and 14 **percent** of exhibitions, according to an Artnet News study of 26 prominent **American museums** over the past decade\"',\n",
       " 'I see the women haters are as active as ever. Ah the  hate of women on the internet, it\\'s actually sad to think about all these haters who obviously are not enjoying satisfying relationships with women, and they are missing out on, well, love. So thye hate instead. \\n\\nAnyway, if one thinks about it for five seconds, one would realize this is not discrimination, but a way to redress an unfair situation. And yes, other groups that have been discriminated against should see more of their works acquired and exhibited too. That is not just fairness to the artists, but to the women and other \"diverse\" members of the public who should be able to see work by their peers, as that is more likely to reflect their experience.',\n",
       " 'Awesome! And approved. Thank you for this :)\\nImma delete this comment chain tho',\n",
       " \"Be a boss babe, p.s. do you have some time not talk about essential oils? I'm essentially the CEO of my own company\",\n",
       " 'What if women want-women only spaces?',\n",
       " \"&gt; I don't understand why the toilet needs to be separated by gender though, provided there are cubicles and the cubicles have the relevant facilities (bins, hooks etc). What am I missing? I'm confused, particularly since trans men and nb people who have periods also need access to period friendly toilets.\\n\\n\\nI don't know dude, maybe because cis women have a right to demand sex-segregated spaces for their comfort and safety?\",\n",
       " 'Thank you. Done for all the URLs',\n",
       " 'But here’s the thing some “feminists” refuse to let men make or have abuse shelters, etc. just saying.\\nI ain’t sayin all feminists are bad just some of y’all are crazy.\\nI’m going to get downvoted to hell, aren’t I?',\n",
       " 'If they are only acquaintances, I say cut them out. Long-term friends, I don’t know the answer. It’s sad how many people are sheep or they just don’t care. At least there is the internet to find like-minded individuals.',\n",
       " 'I hate this woman.',\n",
       " 'This isn\\'t about whether or not you\\'re having sex or \"getting pussy\". It\\'s about the concept of somehow being different or changed as a person after having your first sexual experience that involves penetration.',\n",
       " 'Mother fucking PREACH!',\n",
       " 'No no, sorry. I didnt mean that he isnt a despicable piece of shit. He is. I ment that I was surprised to find two politicians that are even more open about their shittiness.',\n",
       " \"Next you're going to say that whites shouldn't use sunscreen because they are biologically different from blacks, never mind the fact that excessive exposure can literally cause skin cancer.\",\n",
       " \"Naw, it was a guess based on the information on the infograph and the general attitudes towards women. The oppression of women is very real, especially with the amount of dehumanization they experience even in first world countries. I understand it can be hard to wrap your head around something that isn't your own lived experiences, because it's hard for everybody to do so. \\n\\nSociety is actively hostile to women, it shames women for their own bodily functions and urges (period and slut shaming), attempts to control their body (pro-lifers, PUAs), views them as mostly caregivers and housewives (traditionalists) and at the very worst, are said to be destructive to society (religion, TRP). So it's far from a wild guess to say that women in some parts of the world might need to have gender separated bathrooms or even public transport.\\n\\nMy advice would be to lurk here and ask meaningful questions of women's experiences, not sarcastic comments that imply what other people experience simply don't happen. Believe it or not, most feminists would not do that to you.\",\n",
       " 'But why is the women in Bolivia holding a Belgian flag?',\n",
       " 'I don\\'t know in what kind of third world country you\\'re living. But in most European countries nobody cares about that. If the women wants to save it its totally fine isn\\'t it? When men do it, they are bad and don\\'t get \"pussy\". Feminism is about equality isn\\'t it? But this is just discriminating lol',\n",
       " 'Even more than four',\n",
       " \"Doesn't matter on this subreddit lol. I mean privacy is important for every human being isn't it? Is privacy only for women?\",\n",
       " 'All five of us',\n",
       " 'At least more than 50 women had accused Trump of raping, sexually harassing &amp; assaulting, &amp; molesting them. All credible accusations.',\n",
       " \"Not likely to read it, like I wasn't likely to read Why I'm No Longer Talking to White People About Race. The title is there to provoke, sure, but I also see it as self-serving (in a PR sort of way) and extremely divisive. From what I can see from the reviews, she also is right: she is not a feminist.\",\n",
       " 'I hate Trump as much as any person with a minimal sense of decency. But between him and Bolsonaro they mafe him look moderate...',\n",
       " 'This research is saying how gender roles are affecting males. Men are the victim of these gender roles because it’s expected of them to provide the majority of the household income, but when they cannot succeed it puts terrible amounts of stress on them.',\n",
       " \"In regards to the registered sex offenders going to the Philippines, why not just deny them entry? \\n\\nI don't see many people objecting to such a measure. And it's not for a lack of available information; sex offenders have that status noted on their US passports.\",\n",
       " \"This picture is from my city. \\nPeople have been putting up facts in the streets about women who've been killed by the hands of their partners or ex partners for about 2-3 months now and protesting. The government isn't doing nearly enough to protect women and since the beginning of the year 136 women have been killed (solely by their exes/partners). \\nSpeaking from personal experience, the police don't take women seriously when they try to get help.\",\n",
       " \"I'm here you mad lad\",\n",
       " \"Don't men also need toilets?\",\n",
       " 'YES. \\n\\nHe invited foreign men to rape poor women, girls and LGBT people in exchange of money and supported legal impunity for his rapists soilders.',\n",
       " 'Duterte is one of the most disgusting guys I read about lately :s',\n",
       " \"I really don't need to post the below article because I've been around dogs and cats and love them both. Also, dogs are more friendly and amiable? Like that is just the way they are wired?\\n\\n[https://www.vox.com/2014/10/16/6982177/the-case-against-owning-cats](https://www.vox.com/2014/10/16/6982177/the-case-against-owning-cats)\",\n",
       " 'All four of us',\n",
       " 'This is a study focussing on the affects of societal male identity stereotypes on men and your takeaway is that science is sexist and only cares about the happiness of men? Straw man much?',\n",
       " 'was hoping there would be more bitching here',\n",
       " 'Here we stand, united.',\n",
       " 'I see we both came here for the same reason',\n",
       " 'You actually did it, you crazy son of a bith.',\n",
       " '**International Men\\'s Day**\\n\\nInternational Men\\'s Day (IMD) is an annual international event celebrated on 19 November. \\n\\nThe objectives of celebrating an International Men\\'s Day are set out in \"The Six Pillars of International Men\\'s Day\". It is an occasion to celebrate boys and men\\'s achievements and contributions, in particular for their contributions to community, family, marriage, and child care. The broader and ultimate aim of the event is to promote basic humanitarian values.International Men\\'s Day is celebrated in over 80 countries, on 19 November, and global support for the celebration is broad.\\n\\n***\\n\\n**Women\\'s Entrepreneurship Day**\\n\\nWomen\\'s Entrepreneurship Day (WED) is a day on which the work of women entrepreneurs is observed and discussed, held on the nineteenth of November of each year. The inaugural event was held in New York City at the United Nations, with additional events being held simultaneously in several other countries. 144 nations overall recognized the first WED in 2014, which included the presentation of the Women\\'s Entrepreneurship Day Pioneer Awards. The organization behind WED also has an ambassadorship and fellowship program.\\n\\n***\\n\\n**World Toilet Day**\\n\\nWorld Toilet Day (WTD) is an official United Nations international observance day on 19 November to inspire action to tackle the global sanitation crisis. Worldwide, 4.2 billion people live without \"safely managed sanitation\" and around 673 million people practise open defecation. Sustainable Development Goal 6 aims to achieve sanitation for all and end open defecation. World Toilet Day exists to inform, engage and inspire people to take action toward achieving this goal.\\n\\n***\\n\\n^[ [^PM](https://www.reddit.com/message/compose?to=kittens_from_space) ^| [^Exclude ^me](https://reddit.com/message/compose?to=WikiTextBot&amp;message=Excludeme&amp;subject=Excludeme) ^| [^Exclude ^from ^subreddit](https://np.reddit.com/r/Feminism/about/banned) ^| [^FAQ ^/ ^Information](https://np.reddit.com/r/WikiTextBot/wiki/index) ^| [^Source](https://github.com/kittenswolf/WikiTextBot)   ^]\\n^Downvote ^to ^remove ^| ^v0.28',\n",
       " \"[https://www.unwomen.org/en/digital-library/multimedia/2019/10/infographic-periods](https://www.unwomen.org/en/digital-library/multimedia/2019/10/infographic-periods)\\n\\nHere's the link mentioned in the tweet for more period facts. It goes further to say that 526 million don't have a toilet at all. Something more people should be aware of. I was not until this post.\\n\\nBTW it is (or was since it's after midnight for me) [International Men's Day](https://en.wikipedia.org/wiki/International_Men%27s_Day) and International Men's Month. It is also [Women's Entrepreneurship Day](https://en.wikipedia.org/wiki/Women%27s_Entrepreneurship_Day) and [World Toilet Day](https://en.wikipedia.org/wiki/World_Toilet_Day). There's only 365 days in a year so some causes may overlap. Doesn't make any of them less valid.\",\n",
       " 'Pls im hungry',\n",
       " 'Or most people don’t really control what you see on bank notes and what is chosen is chosen to represent the NATION as a whole, not one specific gender or movement.\\nThe man on the Bill is Andrew Jackson, the man who served as the 7th president of the US during the early 1800’s. There is no way anyone will replace the face of a historical figure just to make you happy.\\nAlso do I have to go into how “oh it’s the white man’s fault” is both racist and sexist or are you going to say anyone who isn’t a white man can’t be those 2 things because reasons?',\n",
       " 'How Many men dont have functioning toilets?',\n",
       " \"I haven't seen such ads but I hope to see other's reaction about this.\",\n",
       " 'If all this is always such an issue, why don’t all schools just switch to uniforms? That way there is no social status of what brand you’re wearing and makes it much harder to break dress code. My daughter wears a uniform to public school and it’s cheap and there’s never an argument on what she needs to wear. No concern about looking cool or fitting in. She can just focus on her school work. And the boys can focus on theirs too without having to be distracted by spaghetti straps and midriffs.',\n",
       " 'I know how you feel, but try to remember a lot of them are trolls, and the biggest offenders who say this shit about women are usually garbage.\\n\\nI saw a guy the other day who was morbidly obese with rotting teeth say he will only date women of this weight, this height, with this look and build. Turned out he was molesting his step sister.\\n\\nAlso remember a lot of the comments come from young idiots and people that are literally angry they cant get laid and want to take women down a peg.',\n",
       " \"So effing important. I don't know why people don't chill out with the sexualization of women's bodies. Like, leave the shoulders alone.\",\n",
       " 'I don’t think boys have ‘less’ rules on dress codes. It’s just they restrict revealing attire which is almost predominately worn by girls and shows up more in women’s fashion.\\n\\nI’m sure most of these people would send anyone home for wearing booty shorts, just not girls. And if not then we’re free to point out their hypocrisy.',\n",
       " 'Most girls dress just fine and are still reprimand. In many cases some bogus \"modesty\" rule is implemented. Somehow boys usually have way less rules on dress code',\n",
       " '\"policy you disagree with\" is a funny way of saying \"punishing girls for boys\\' behavior\", but I guess there straw man doesn\\'t work as well when you acknowledge that.',\n",
       " \"I believe the altering of bodies without consent or medical necessity is immoral and should be illegal, regardless of how 'minor' the change is.\\n\\nCircumcision can cause people lifelong pain and sexual issues.\\n\\nPlease tell me how this is less important than other genital mutilation practices?\",\n",
       " 'I think most rules are bendable but not to the point that you lose your job. People need their jobs usually. It might be worth exploring changing the rules though, but you might need help form parents and other teachers.',\n",
       " \"My partner is an absolute gentleman and it's one of my favourite things about him! If someone is struggling with a suitcase, I would automatically offer help regardless.  Being a gentleman isn't about doing something for someone with the hope of something in return, it's just about being courteous to other human beings &lt; 3\",\n",
       " \"They're not the ones who will lose their jobs over it, so they don't see it as a problem. Maybe ask at one of the teacher's subs, where the posters have to deal with it in real-world situations.\",\n",
       " 'I feel like, as a straight man who was once a pre teen boy, that kind of misses the point. Even if the girl’s dress is “distracting”, we should be teaching boys to control themselves, not making excuses for their lack of impulse control by implying it was the girl’s fault because of how she dressed. Doing that reinforces the idea that boys can’t control themselves, they’re all rabid sex hungry animals and women need to curtail their distracting feminine wiles in order to coexist with them. As a man, I reject that. I am not an animal. I am not so sex hungry as to be helpless against the sight of a woman’s shoulders. \\n\\nThis is not to say that puberty is a hard ass time for young people of all specialities. But it seems a lot healthier to teach those struggling young people not to make excuses for shitty behavior, and not to think of men as uncontrollable sexual beasts.',\n",
       " \"I wore leggings as pants one time and got in a lot of trouble so there's hope.\",\n",
       " 'Or... hear me out now. It a joke that’s not to be taken seriously? Like nobody cares cuz they’re harmless and funny? Almost as if they were designed to be funny and not at all demeaning, unless you take everything to personally, in which case you should get off of Reddit all together.',\n",
       " \"I don't think you understand pre-teen and teenage boys. They definitely would\",\n",
       " \"So you assume it's mens fualt for what job a women chooses sorry but what you just said was dumb as fuck.\",\n",
       " 'I felt it was especially relevant because we had a recent post here on r/Feminism about sexual abuse still being used as a weapon by the Chilean state against women activists today in 2019\\n\\nhttps://www.reddit.com/r/Feminism/comments/dmnapl/chilean_protesters_report_beatings_and_sexual',\n",
       " 'These perspectives where actully set by women you know  by saying \"If you where a real man\" also men are not supposed to be pussys when they are trying to fix your car or out inn war as mostly males  are in the army you would not want a police officer crying about how he is scared to shoot  someone or a firefighter scared to climb up and help them  you cant really see it as a female as your gender is more associated with crying  cleaning cooking and showing feelings and yes there is therapy for men  but if you wanted someone to make  basic training less harsh is the military they are going to be cowardly. Also most male suicides come from divorce  after the female takes everything he has worked for even if she was the one caught cheating so yeah.',\n",
       " 'Now lets witness  how we  complain about how we are not getting help from people put when you help someone of an opposite gender is sexist whats next all male teachers are pedophiles?',\n",
       " 'I agree with the sentiment but I’m strongly in favor of dress codes/uniforms for all school children.',\n",
       " 'In your position, I would try going after the policy at the root first. I would get in touch with my minister of education, or the superintendent and try to open up the discussion. I would look for teachers who are women to ally myself with, people who actually know the struggle and agree that it is wrong. Find strength in numbers. I would also give the young women at the schools a chance to express themselves, they have a voice and deserve the opportunity to use it. Hold class discussions, encourage them to speak up and do their part in getting in touch with higher ups to get the rule changed. Make it clear that you support them, and that they are being heard. Teach them how, we as citizens, hold power in our free speech and in our votes. Teach them to use it and do it with them. \\n\\nIf someone accuses you of being creepy and just wanting to ogle the students in their spaghetti straps, tell them the truth: you are not the one unnecessarily sexualizing underage women, they are. \\n\\nThis is just off the top of my head. I think what’s most important in all of this is remembering the people that this affects the most. The young women who are having their education sabotaged, who are being told from such a young age that their body is too sexual, having boys prioritized, that what they wear makes them deserving of punishment. It’s disgusting, and as long as you make efforts to fight this, remember these girls and make sure what you’re doing is best for them. Sincerely, I used to be one of those girls.',\n",
       " \"Yo, it's as if it's about controling womans bodies. As usual.\",\n",
       " 'Right. So you have school staff punishing girls for their own sexist attitude because they think boys are basically walking penises unable to control themselves and a student (presumably a girl) fires back against the sexist policies and and instead proposes that boys should be taught to stop being walking penises unable to control themselves. So both sides of the argument are accusing boys of being a sex object.\\n\\nGirls are not sex objects and neither are boys.',\n",
       " 'They think the boys will be less likely to sexually harass the girls, but anyone who knows anything about sexual harassment knows it has very little to do with what youre wearing.',\n",
       " 'Did you ever think it might not be for students to have a \"distraction free\" work place but for the teachers?....',\n",
       " \"I think it is generally unnecessary to offer help with suitcases. I personally don't trust stangers with my belongings unless it is their job to handle them.\\n\\nSure, if someone is visibly struggling and/or perhaps disabled one can offer help, but it is not anyone's place to assume that an abled woman cannot carry their suitcase up a staircase.\",\n",
       " 'Ok, good for her, what does this have to do with women’s rights?',\n",
       " 'I always thought it was so creepy that the vice principal of my school took it upon hisself to call the girls out on inappropriate clothing. I thought damn all this guy does all day is check out the girls and hassle them if the dress is  2 inches above their knee or not. I always thought he was such a pervert for zeroing in on the dress code.',\n",
       " '&gt; impression that boys are idiots with no impulse control.\\n\\nEnforcing gender roles and fear of sexuality also excuses and (re-)produces sexist and violent behaviour (without impulse control).',\n",
       " 'Bruh just wear a sweater or a turtleneck they are more comfy than a tanktop anyway',\n",
       " 'I got sent home cuz I was wearing PJs during Spirit Week.',\n",
       " 'I never got the whole \"distraction free environment\" thing. Do schools think that if girls wear less reviling clothes the students will date each other less or something? Or do they think boys are actually distracted by shoulders?',\n",
       " 'Hey I don’t know if you are aware but your face is visible in the reflection and I know a lot of people online want to keep that secretive so just be warned it’s there and I know you probably already know I’m just making sure',\n",
       " 'Find real problems',\n",
       " 'Okay boomer',\n",
       " \"How does this help the students in their future? I feel like you have ptsd complex about authority from your own past than thinking about teaching discipline and self respect to students that need it. If your kids refused to elevate their speech, diction, grammar, politeness, would you say teaching proper English and manners is unwarranted and possible wrong. I just feel that this flies in the face of everything i know about education. \\n\\nDo you realize that most work places have dress codes. Women cannot dress sexually at all where i work. Not even tights. These kids wont understand why they cant get jibs and begin the blame and hate the world, walking around with a chip on their shoulder. These kids are going to be at a disadvantage in interviews when they are wearing clothes that only cover nips butt and genitalia. What a low standard your setting for the future of the nation. Its sad you felt so strongly about this. \\n\\nPlease help me understand how not disciplining students benefits them? It's like setting a passing grade below 50% help me understand why its so important to pander to students like this? How does this help them? Seems like were just caving into their demands without any sensibilities about how it affects their future. What are they learning when they can do whatever they want?\",\n",
       " 'Teacher here! I work at a small charter high school in the mid Atlantic. We serve majority black and Hispanic students mostly from the surrounding city. \\n\\nI fought two years to have our draconian and sexist (and racist) dress code overhauled. Meetings, protesting, refusing to enforce. After two years and lots of evidence, my admin saw the light! Our dress code now boils down to: nipples, genitals and buttocks must be covered (applies to all genders!) and no attire with hate speech or symbols. \\n\\nIt’s been amazing. It was hard at first, many teachers were...confused. “Oh they can wear their hats? They can wear crop tops? What about booty shorts?” On and on and on. But the sky didn’t fall, kids are learning. The end. \\n\\nAnyone trying to convince their admin on making this kinda change can dm me, I’ll hook you up with some of resources I used, including the language in our dress code.',\n",
       " 'I\\'m just saying, no one had thought about T.I. for years. The publicity he\\'s getting from this may revive his \"career\" by generating name recognition and appealing to people who are sympathetic to his point of view. \\n\\n&gt;Ignoring people is not a punishment\\n\\n\"Punishing\" someone whose end goal is fame by having millions of people \"call them out\" is like trying to \"punish\" someone by throwing stacks of money at them and hoping that it will hurt them. This is someone who wants more than anything to be rich, famous, and successful. This incident is going to teach him that by being outrageous, misogynist, and inflammatory, he can become rich, famous, and successful. It\\'s not going to change his behavior. It\\'s giving him exactly what he wants.\\n\\nMy argument is that we should apply the same rationale we use when we say that people should share the names of victims of shootings, rather than the names of the shooters. The shooters want fame and notoriety more than anything else. Forgetting who they are is a far greater punishment to them than \"calling them out\" would be.\\n\\n&gt; anytime someone says others are too irrelevant for something I think of that one Instagram kid\\n\\nNot sure what you\\'re trying to say with this. In this video, the \"instagram kid\" is equating a person\\'s value with fame, and trying to shame someone who presumably has no aspirations of fame for not being famous. The kid is a total sociopath, and his words and actions are reprehensible.\\n\\nThat\\'s clearly not my argument. The power dynamic is reversed. T.I. is the one with a degree of fame, whereas I\\'m an anonymous nobody on the internet. I am not equating his value to his fame. I\\'m saying that fame is his goal, so increasing his current level of fame and notoriety by calling him out is counter-productive, and just giving him what he wants.',\n",
       " 'I am from India and everytime I hear this I feel confused. So, sexism in USA is so less that you guys get surprised on Reddit when you see sexism? Well, I live in a country with 1/7 of world population and I can tell you - this world itself IS sexist. That is why Reddit, or any  social media, is also sexist',\n",
       " \"This is mental, I don't want anyone to be sent home but what the fuck. If I thought and other boys thought girls as sexual objects I wouldn't be a virgin. And even if I thought it's still mental, we're boys, we're horny, suck it.\",\n",
       " \"if boys find a girl's cleavage hot then whats wrong with it?\",\n",
       " \"Yup ikr that's pretty BS\",\n",
       " \"Unless you come in bikini or naked I don't think it violates dresscode.\",\n",
       " 'There was an AITA the other day where some kids were messing about in a class and a girl happened to be wearing a shirt with the top 3 buttons undone. \\n\\nAs they were messing, some delicate soul caught a glimpse of her cleavage and decided to call her out on it...in class, in front of everyone. So now even teenage boys are deciding they have the right to police what their girls wear.',\n",
       " 'There is a certain risk that a male teacher actively refusing to enforce dress code would be accused of wanting to ogle his students.',\n",
       " 'As a guy, I agree. It\\'s so frustrating seeing men dismiss feminism and terms like toxic masculinity, thinking that it means feminists believe being a man is inherently bad and masculinity in general is a problem.  \\n\\n\\nWhat they don\\'t get is that toxic masculinity is something that should be fought by both sides of the gender spectrum, and that it doesn\\'t mean women being mad at men.  \\n\\n\\nAnti-feminists will often say things like \"feminists say masculinity is harmful to women but men actually suffer as well, men have higher suicide rates, they work harder jobs, etc.\" and I\\'m like YES EXACTLY. \\\\*\\\\*That\\'s what toxic masculinity is.\\\\*\\\\* Men are raised to not show emotions and to never cry, which leaves them alienated and with supressed emotions that  end up being unresolved and accumulate over time. Why are mass shooters, suicide bombers, incels, all almost exclusively men? And why do they always turn out to be highly depressed and anxious? Does this perhaps have anything to do with the bullshit standards imposed on men that essentially robs them of their humanity?  \\n\\n\\nMen are also expected to be wealthy and successful, to be providers for the family, to be strong and to suck it up and work in order to climb the social ladder. This is immense pressure especially in today\\'s generations when building a career and even finding work just keeps getting harder and harder.  \\n\\n\\nHow can a man look at these things and say \"yep this is fine\" and not think this is a problem that affects them? The thing with toxic masculinity is that it\\'s a closed loop which doesn\\'t let you out, because if you question the way masculinity is imposed on you, you lose the \"masculine\" status and end up being alienated from society further (look at all the male feminists who get called \"weak\", \"betas\", \"soyboys\", etc.). It\\'s a huge problem and it\\'s something men should be serious about, and it cannot just be solved by feminist women doing the work for them.',\n",
       " \"Yeah people are not giving great advice here. I agree with you though and I'm a woman. There's nothing wrong with not wanting to lose your job over something like that. Your intentions are good, I would always be putting myself first in that situation.\",\n",
       " 'Biggest story right now and very disproportionate objection so far.',\n",
       " \"Melanie Martinez has a new song, Strawberry Shortcake, that is all about this kind of thing. I'm not a female, but the first lines of the song could resonate with anyone.\",\n",
       " 'That fucking show reeks of toxic masculinity. A lot of the things the characters say try to pass as \"ironic\" or \"fair game\" coming from an \"underdog\" but they\\'re just inexcusable.',\n",
       " \"As a young girl, between the ages of 11 and 16, I would read her biography (the one written by her daughter Eve) at least twice a year. I found it and her so fascinating and I'm pretty sure it has played a role in shaping who I am today.\",\n",
       " '&gt;the phenomenon of voluntary unwanted sex\\n\\nAlso known as coercion.',\n",
       " 'Besides who doesnt want to see a girls bare shoulder? Fuckng faggots amirite?',\n",
       " 'And I doubt most boys would be distracted by spaghetti straps.\\n\\nSo not only do those stupid rules impede girls education they also give the false impression that boys are idiots with no impulse control.',\n",
       " 'I agree',\n",
       " 'Me: \"Why don\\'t you challenge policies you disagree with?\"\\n\\nThem: \"I\\'m worried about being disciplined.\"\\n\\nMe: \"Well you shouldn\\'t.\"\\n\\nThem: \"Great, I\\'m no longer worried!\"\\n\\nIt\\'s crap advice.',\n",
       " \"A woman's health and peace of mind should be a higher priority to her than changing anybody's mind. Feminist information isn't secluded, hidden or coded. It's available for free in every language, tone, media, you could possibly need in order to digest it effortlessly. At what point is it no longer a woman's job to twist herself into a pretzel for the slim chance of convincing, at best, a lazy complacent stranger to stop contributing to an abusive, repressive system? When does it become fully that person's responsibility? Isn't it time to simply deny respect and consideration to those who will happily go round and round with you on a basic and thoroughly proven issue but will never type three words into Google with anything resembling honest curiosity? \\n\\nIn your daily life there are plenty of nice, respectful people who are actually ready to reexamine their views. You can help change a lot of minds without ever exposing yourself to abuse.\",\n",
       " '😔 \\nWow... I have no words \\n\\nOur society is so fucked up',\n",
       " \"I've given you the advice: refuse to punish girls for boys' behaviour.\\n\\nNot really any grey area on how much it's OK to punish girls for boys' behaviour.\",\n",
       " 'It’s not such a severe problem in the UK because of school uniforms. When I was at school the only dress code that differed for girls and boys was length of skirt - and girls were never sent home to change. Think the worst I saw, with one girl who had a short skirt which couldn’t be pulled down, was that she had to put on her PE joggers for the rest of the day. What experiences have you had that concern you?',\n",
       " 'i just wish they would apply it equally. in high school the guys on the cross country team practiced in board shorts and nothing else, yet my shoulders are considered to be impeding a whole classroom from functioning',\n",
       " 'i was in a psychiatric hospital for attempting suicide at 15, and was woken up from sleep because i had to be told that i could not be trusted around male staff due to my volleyball shorts',\n",
       " 'Or teach the girls what is dress appropriate.',\n",
       " 'i wish i stood up to staff more in high school. i was told that i was creating a distracting environment many times, when i would see other girls allowed to wear the exact same outfit (we all shopped at the same stores at the mall).',\n",
       " 'exactly. when i wore skirts above the knee i was distracting the learning enviornment and all hell would break loose, meanwhile a guy with a skin tight, more revealing outfit is knee slappingly funny on halloween',\n",
       " 'Yes I am. We have a teacher retention crisis in the UK - 40% of teachers quit the profession within five years. Just like OP I\\'m usually \\'that guy\\' at work, challenging management policies which are bad for our students. However, I have to pick my battles carefully - and I need better strategies to recommend to colleagues than \"fall on your sword\". So I\\'m hoping for some meaningful feminist advice from a feminist sub.',\n",
       " \"Or how about you be a decent person tell the guy that  you're not interested instead of embarrassing him like that.\",\n",
       " 'hope i’m not late!! \\n\\n- you can discuss things from 1960s sexual liberation \\n- the right to vote thanks to the Representation of the People’s Acts, 1918 and 1928c\\n\\nyou can discuss the post war era where women were forced out of work and subject to house duty, despite hating it.\\n\\npay gaps\\n\\nalso, during the whole push towards NHS 98% of births were in hospitals but most women detested that a male doctor had so much control, taking birthing away from the woman in a way\\n\\nin terms of abortions, in 1967 it was legalised but very taboo and it took the consent of two men, usually a doctor and husbands\\n\\ni have a ton more stuff but hopefully you can springboard of these?',\n",
       " 'i agree that we should try to reach out to other communities who are unaware about feminism or have misconceptions about it, but idk if reddit is the best place for that. the way that the algorithm works on the website is that the hive mind is encouraged, and comments or posts that disagree with the set opinions of certain subreddits or threads will not be very visible or can be deleted outright by the mods. social media is an important tool for spreading feminism but reddit specifically seem to be a poor place to do that',\n",
       " 'By saying this you forfeit all rights to get mad about people who comment about womensplaining or women- spending.',\n",
       " \"Are you? Because you're acting more like you're concern trolling.\",\n",
       " \"I'm looking for more constructive solutions. I don't want to see feminists leaving teaching.\",\n",
       " 'There was a recent-ish study done proving that it’s not the attire but the pose which is found to be sexual. \\n\\nhttps://digest.bps.org.uk/2018/08/17/brainwave-study-suggests-sexual-posing-but-not-bare-skin-leads-to-automatic-objectification/',\n",
       " 'Nonetheless titty streamers exist. Every story has two sides..',\n",
       " 'OMG. I felt guilty about enjoying Queer Eye for a bit, as there are certainly issues there (\"look how easily you can change...if you have shitloads of money to throw at it\") but it does take me on an emotional trip. Really looking forward to the femversion.',\n",
       " 'If you send a girl home she is losing school time (probably more than that day if you embarrassed her). The argument that boys might get distracted prioritizes boys school time. Teach them girls can wear what they want and boys to look away if it distracts them. They have control.',\n",
       " 'What would you say to them if they are concerned about being disciplined for not enforcing a school policy?',\n",
       " \"I guess you'd have to decide if treating girls like human beings is more important than having that job, or if you'd rather just punish girls for boys' behaviour.\",\n",
       " 'Yep. Also include Abrahamic religions and white supremacy (yes including Muslims -who consider themselves white and participated and still participate in slavery and the slave trade.)',\n",
       " 'I think this happened to me when I was really young as part of my first ever gynocological exam. Holy shit.',\n",
       " \"&gt;There are also handfuls of dudes with generally good intentions but extreme misconceptions about women and how to interact in the workforce.\\n\\nThis. In a way though, the benevolent sexism (the legacy of their parents and the poor education they got growing up) is worse than the obvious sexism.\\n\\nIt's exhausting. It's death by a thousand cuts. Its constantly having to deal with people who at minimum have no idea how sexist the world still is. (Like people who think racism is over just because we have the 14th amendment now.)\",\n",
       " \"Because it's not a resume. It's a little blurb for the general public a lot of whom won't even know what StackOverflow is.\",\n",
       " 'Dear Lord, I thought that virginity tests were only performed in the third world. (In Indonesia, women have to take virginity tests in order to join the police force.) I hate this fucking country.',\n",
       " \"I'm surprised nobody in the comments has mentioned her name. Her name is Lyndsey Scott.\",\n",
       " \"I don't really know much about the philosophical underpinnings of this stuff, but interesting food for thought. Do you believe in free markets, or should prices be determined by some other means?\",\n",
       " \"Can we stop posting screenshots of an article's headline and instead post links to the articles?\\n\\n[Here it is, in case anyone wants to read more](https://www.latimes.com/entertainment-arts/story/2019-10-29/kevin-spacey-massage-therapist-criminal-case).\",\n",
       " 'Both go to jail!',\n",
       " 'I mean... yes, you’re right, but in this case the accuser was a man. Perhaps best to take this down before your mistake gets used as a ‘gotcha’.',\n",
       " \"I prefer 'arabian nights'\",\n",
       " 'Except that women generally speaking receive lighter sentences for the same crime all else being equal\\n\\n\\n(Uh oh here comes the banhammer)',\n",
       " 'So..... Why didn\\'t the caption say her accomplishments instead of \"can program in...\"? Those credentials she stated look hella impressive, to me.\\n\\nContext:\\nI work in the tech world and the phrase \"can program in...\" is something people without experience put on their resume, because they don\\'t have anything else, so the statement sparks immediate skepticism.\\n\\nDon\\'t get me wrong- the industry has tons of sexist arrogant nerds and I don\\'t want to defend the dumb trolls or the very real cultural problems, but the caption and response feels just a tiny bit like a bait and switch, to me.\\n\\nEither way! Thanks for the thought provoking post!',\n",
       " \"I didn't think that was much of a freakout really.\",\n",
       " 'LOVE being a female in IT /s',\n",
       " 'Elsewhere in this thread is my enormous post detailing why I don\\'t think Rey is a Mary Sue, and why if she is, she\\'s not *more* of a Mary Sue than Anakin was, or than Luke for that matter, who also routinely pulls skills out of his ass despite being a useless desert orphan, yet everyone seems to collectively forget that.\\n\\nTL;DR: I think she has faults that people choose to ignore for no apparent reason, that she has a personality that people keep denying for some reason, and that she doesn\\'t need \"something really good to understand all that\" because a bunch of other force things were bullshit before and the \"he was the chosen one\" explanation wasn\\'t necessary in the 70s and 80s for people to be fine with stuff.\\n\\nThat said, I want to focus on something here:\\n\\n&gt; And also the phrase Mary Sue was coined by a woman to call out men for trying to put in female characters with zero effort and not actually making them into actual people. \\n\\nNo it wasn\\'t. \\n\\nIt was coined by a woman to call out other women who were writing poorly disguised self-inserts that saved the day in Star Trek Fanfiction. You can [wikipedia it](https://en.wikipedia.org/wiki/Mary_Sue). And I think that\\'s actually important. Because the original satirical story is very much in the vein of \"Silly Novels by Lady Novelists\", by George Eliot. \\n\\nAnd the sentiment in both of those is actually very interesting and in keeping with what the original post of this thread was about, that being: Women who judge other women for not being XYZ enough, sometimes as a way of gatekeeping, sometimes as a way of showing yourself to be \"not like other girls\", sometimes as a way to demand better of representation and to tell women, or other people writing \"Mary Sues\", that they have a *responsibility* to write better. Sometimes, just because of the fear that other women are \"making you look bad\". \\n\\nNo one demands that *every male protagonist* be an inspiration to men, well-rounded, complex, multifaceted and with a sufficiently clear backstory that all of their skills have a well-understood source.\\n\\nI will concede, freely, that Rey isn\\'t that great a character. Certainly not better than any female character in Game of Thrones, or Avatar: The Last Airbender. \\n\\nBut there are a lot of bad male characters who aren\\'t met with that level of skepticism or scrutiny (among them, imho, OG Luke Skywalker in the first film. He gets better later). There are a lot of bad characters who don\\'t have explanations demanded of them. Why is a useless farmboy a fighter pilot too? \"Well, he said he liked flying\"--yeah, and Rey said she was a pilot, and showed herself to be interested in flying. But one of those things is good enough evidence and the other one isn\\'t. I wonder why?\\n\\nAs a writer, I have often struggled with the idea that something is \"forced\". I\\'ve been told that I need \"a reason\" for character X to be a woman, or to be gay, or to be black, etc. But no one ever demands \"a reason\" for a character to be white. No one ever demands \"a reason\" for a character to be a man. [Here\\'s a thing I like to link.](https://fozmeadows.wordpress.com/2012/12/08/psa-your-default-narrative-settings-are-not-apolitical/) \\n\\nThis isn\\'t to say that there is a problem with thinking Rey could be (far far faaar) better written. I agree that she could. It\\'s to say that *most male protagonists could be better written*. But people don\\'t spend thousands of words talking about how shitty they are. They don\\'t face that kind of scrutiny. If an annoying farmboy protagonist is an annoying farmboy, you *move on*. There is a lot of shitty writing that people get away with when the protagonist is a man.\\n\\nThis persistent demand that any poorly-written-yet-competent female character be EXPLAINED... tells me that the default mental space for many people is still \"women are incompetent unless shown otherwise. So you can\\'t show them being competent without explaining why they\\'re competent or else it\\'s unrealistic\". \\n\\nAnd I don\\'t know about you, but that troubles me far more than a cash-cow franchise that had two poorly-written protagonists before, has a poorly-written protagonist now, but she\\'s slightly less annoying than them and that\\'s a bad thing for some reason.',\n",
       " 'I feel like people have these kinds of doubts, because you don\\'t commonly associate looks with technical skills. Or at least I don\\'t think, the muscular guy on the beach could have his masters in psychology when I first see him.\\n\\nI believe, it\\'s the common mentality that people usually don\\'t \"have it all\" in terms of looks, popularity AND brains.\\n\\nStill.. People need to learn a lot more humility. Why do people online have to sound like jackasses all the time?',\n",
       " 'I’ve had a male superior say “you sound like you’re really intelligent” and if he wasn’t an otherwise good guy the “because i am” wouldn’t have stayed in my head.',\n",
       " 'Probably because all the modeling tv shows portrait models as stupid',\n",
       " 'why am i even surprised at seeing reposts on /all',\n",
       " 'Good for her. As a programme this makes me happy. Please god get more women in this field.',\n",
       " \"During her exam in 1999, B’s own mother held her down on an exam table at a North Carolina clinic. The doctor inserted a long cotton swab into her vagina, searching for a sign that would convince her mom that she was a virgin. B had a urinary-tract infection, and her mom was sure it was because she was sexually active. The then shy, studious fifth grader had never kissed a boy, but that didn’t matter: Her mom would believe her only if a doctor checked her hymen. After a few minutes, the doctor declared, “Congrats, Mom, she’s still a virgin,” and B breathed a sigh of relief; she had been terrified her hymen had already “broken” during cheerleading practice. Looking back, B says the doctor could have just as easily said she was not a virgin, potentially submitting her to the wrath of her abusive alcoholic mother.\\n\\n\\xa0year after the exam, when B was 12, a stranger molested her outside of a park. She never told her mother, fearing she would see her differently. When she was 14, a boy raped her at a party. Again, she didn’t tell her mom, worrying “she wouldn’t love me if I wasn’t a virgin.” B ties her trauma back to the messaging she received as she lay on the exam table shaking in fear. “I felt like I was, at that point, damaged—like no one would care,” B says. “If I wasn’t a virgin or pure in some way, I was damaged or unwanted.”\\n\\n\\nFor Elena*, a 21-year-old woman whose mom forced her to undergo a so-called virginity test in Kentucky in 2012, the experience destroyed their relationship and left her traumatized. “I’m not raising a whore!” her mom screamed in the car on the way home from school after discovering Elena’s friend had sent naked photos of herself to a boy on Facebook. A gynecologist checked Elena’s hymen and handed a piece of paper to her mom saying she was, in fact, a virgin. “I never told her a private thing again,” Elena says.\\n\\n\\nIn the first investigation of its kind, based on dozens of interviews with women, medical professionals, and health researchers across the country,\\xa0Marie Claire\\xa0and\\xa0the Fuller Project\\xa0have found that not only is virginity testing being requested in the United States with frequency by both religious and secular communities and occurring here, but the practice remains wholly unregulated. There are no federal or state laws banning virginity testing, nor are there clear medical guidelines or standards of care from the country’s top medical associations, like the American College of Obstetricians and Gynecologists (ACOG) or the American Medical Association, to help physicians and nurses navigate the ethical and legal minefield that is virginity testing.\\n\\n\\nWhen doctors legitimize virginity by conducting fake tests for it, they arguably uphold one of the oldest lies used to control women: that whether or not a woman has had sexual intercourse determines worth. In 2005, in Birmingham, Alabama,\\xa0a 12-year-old named Jasmine was killed by her mother\\xa0after she told her she was no longer a virgin. “She straddled her daughter and poured bleach down her mouth, thinking it would cleanse her,” Birmingham police officer Warren Cotton told\\xa0Marie Claire. He responded to the mother’s 911 call to their home, where he found Jasmine lying lifeless on her bedroom floor.The hymen myth is also at the heart of a multimillion dollar cosmetic-surgery industry. Often, women get cosmetic hymen surgery out of pressure to bleed on their wedding night (even though plastic surgeons stress there’s no way to ensure that). Other women say they desire to be “re-virginized” for a sexual partner. During the procedure, known as a hymenoplasty, the hymen is “re-created” by sewing together what remains of the membrane or a new hymen is created from the lining of the vagina. The procedure can cost thousands of dollars and, per ACOG,\\xa0isn't medically indicated. Whether or not women request it themselves or consent is beside the point, say ethicists. Virginity testing is “incompatible with professional obstetric and gynecological ethics,” wrote Laurence B. McCullough, Ph.D., adjunct professor of ethics in obstetrics and gynecology at Weill Cornell Medical College in New York City, in a 2015\\xa0article he coauthored in\\xa0The Lancet. Medical professionals have the “responsibility to lead efforts to enact legislation that prohibits virginity testing,” it read.\",\n",
       " 'https://www.marieclaire.com/health-fitness/amp29488743/virginity-testing-america-doctors/?__twitter_impression=true',\n",
       " \"I literally had a white (Republican to no one's surprise) boomer man tell me I should be used to being treated badly because I am beautiful.\\n\\nHe told me that after he got in trouble for bullying.\",\n",
       " \"This is my *deepest frustration* with being a CS major, and I'm male. Sexism is a festering wound on the underbelly of science and engineering and there are no words to describe the damage it does to our society by discouraging women from pursuing certain forms of knowledge and expertise. ARRRGGGHHH!\",\n",
       " 'Ancient Athenian vs Spartan Women, oppression vs liberty. What was it like to live in Ancient Athens and Sparta as a woman? What were the differences in education, lifestyle, fashion, sex, gender roles, political and economic power? Why are Spartan women regarded as being more liberated than their Athenian counterparts? How oppressed were Ancient Athenian women compared to others?',\n",
       " 'I was thinking about both, but thank you for highlighting that Anakin is the better comparison, you are super right.',\n",
       " \"&gt;I haven't seen Rey fail or do dumb things.\\n\\nShe gets herself kidnapped after freaking out about having some destiny stuff going on. How is that not an outburst? I feel like everyone just *forgets* about that. A whole chunk of plot happens in the first movie just because she couldn't have her freakout indoors.\",\n",
       " '&gt;No it is not the same thing. You are over simplifying it. Luke was absolutely useless in the first film. He was unable to save his aunt and uncle, who raised him, whilst Rey managed to survive alone on a planet. \\n\\nSo, more boring and annoying, while Rey is resourceful in a shitty situation?\\n\\n&gt;Because of doing nothing of interest in his life Luke sucks at everything. Rey on the other hand can pilot the Falcon, Luke couldnt do anything like that. \\n\\nReally? Because I thought that *the entirety of the first film\\'s climax* was based around Luke piloting a ship we never see him pilot before, in a trench we are told is too small for anyone to actually pilot in it, and then shooting a thing when we have no intradiegetic reason to think he should, because \"force powers\" that he hasn\\'t used in a meaningful way until then.\\n\\nPlus, we have no real reason to think the Falcon is a particularly difficult ship to pilot. Only fandom hype.\\n\\n&gt;She had no training apart from living on sand and gave Han a run for his money. \\n\\nIs \"giving Han a run for his money\" just knowing stuff about machines? She\\'s been scavenging her whole life, it\\'s reasonable to think she would have learned stuff, in order to know which parts are useful, in order to get those parts, in order to get *food.* \\n\\n&gt;Luke is the son of the chosen one and protected by his mentor.\\n\\nHe wasn\\'t raised from birth to be good at the force. He was declared to be too old by Yoda. His mentor was \"the old weirdo over there\" and didn\\'t teach him anything except for a few hours, maybe a day and a half, tops. \\n\\n&gt;Rey meets these people who are incredibly important and who respect her instantly. The only person who respects Luke at first is Obi Wan.\\n\\nWho? Han, the disgraced war hero and smuggler that everyone is mad at, who doesn\\'t respect her until she speaks his ship-mechanic language? A random stormtrooper with a crush? Raz, who  has some destiny shit going on for Rey, at least in TFA? Why does destiny bullshit matter when it\\'s about Luke but not when it\\'s about Rey? Leia? She was probably just being nice to the poor kid who was dragged into the plot and then had to see her (ex?) husband die. Kylo Ren? He \"sees potential in her\", she\\'s an exploitable resource in his eyes, at least at first. \\n\\n&gt;Luke is useless in the the first film and his mentor dies in front of his.Han, who is shown to already be competent with backstory of being a smuggler and Kenobi carry Lukes ass all the way through. The only thing Luke manages to do is blow up the death star with the help of a magic space wizard ghost guiding him.\\n\\nSo the \"only thing\" Luke manages to do just happens to be the climax of the story, in which he does a thing we have both a.) been told is impossible, and b.) been shown everyone else dies doing, even though c.) he\\'s been fucking useless for most of the film up to now anyway?\\n\\nYou\\'re telling me it\\'s MORE REALISTIC to establish a character as useless and have them win the story, than to establish a character as fairly competent and  contribute to a *group effort* that wins the story? Why can Han be established to be competent, but Rey can\\'t? \\n\\n&gt;Rey does nothing wrong, she is flawless with zero personality. \\n\\nShe freaks out about her magical destiny and gets her ass kidnapped, wtf are you talking about? Also she spends the whole first film swearing up and down that her parents will come for her, which is not naïve after that many years, it\\'s just stupid. \\n\\n[Also she sucks at counting.](https://pbs.twimg.com/media/CW9y6ZmWwAAVbcP?format=jpg&amp;name=900x900) That is not proper counting and everyone knows it. \\n\\n&gt;She helps Han and Chewie more than first film Luke ever could. \\n\\nIt just sounds like \"she\\'s not useless enough\" over and over at this point. But if she was more useless, a lot of people would be complaining that she\\'s \"too useless\". \\n\\n&gt;In the space of a few hours Han sees her like a niece. \\n\\nDoes he? Or does he just think that hey, she has some talent, maybe he should take her under his wing? Because he has so many issues about having been a shitty dad, perhaps? That says more about Han than it does about her, to be honest. \\n\\n&gt;Oh and she defeats the grandson of the chosen one with minimal effort. And beat him in the use of the force despite her never having lessons whilst Kylo trained all his life by Luke and Snoke.\\n\\nThis is the one that pisses me off the most. \\n\\nSo you have this elite warrior. And he *just got shot*. And he *just killed his dad*. And *all of his dreams are collapsing in front of him*. And again he keeps hitting the injury to draw attention to it. And he\\'s *not trying to kill her* because he wants to *turn her to his side.* And *he just fought someone else*. \\n\\nYet somehow, having her *run away for most of that battle* (with him *directing the battle* for the first 2/3rds) and then getting a second wind that knocks him off balance because \"the force awakened\" enough for her to be able to knock him on the floor *at which point the ground beneath them cracks* and there isn\\'t *actually* that clear a winner...\\n\\nThat\\'s the unrealistic thing? Not that *none of them get frostbite?*\\n\\n[Watch this again.](https://www.youtube.com/watch?v=FJTz-ahXyyI) He fights Finn. He\\'s injured. And he still *controls most of the battle*. The first chunk where she attacks involves him redirecting the battle easily. There is a whole section where he\\'s basically backing her into a corner and she\\'s falling for it because she\\'s scared and not really strategizing very well. And the turn in the fight happens after she does the trust-the-force thing *while he was telling her she needed a teacher*. He *wasn\\'t really fighting at that point.* And the moves that \"win\" her the fight? They\\'re *kicks.* She *kicks* him. She\\'s fighting *dirty*. Which we know she has done before, because she *does it before*. \\n\\nThere\\'s a lot more set up on this than there is setup for Luke being able to fly... anything, let alone a ship that can go in a small enough place to shoot a vent guarded by turrets that kills other pilots there.\\n\\n&gt;Daisy Ridley an amazing actor but shitty writers btw who were straight white men ruined Rey as a character. Why are you trying to defend the fuck ups of Adrams and Johnson, a woman should have been a director. Do you really want female empowerment to be written by straight white guys pretty much exclusively? Because that is what you are condoning. Why do you support this? Women should own their narrative more than they do, like Natalie Portman calling out all director nominees as they were all men.\\n\\nWhat? Yes, I think more women directors would be better, perhaps in Star Wars specifically.   \\n That said... I also think *anyone* should be able to write female empowerment. Whether it be polygender TPOC or straight white guys. I don\\'t think white guys should be told NOT TO write female empowerment. Especially since, in the current Hollywood setup, that means a lot of female empowerment will just stop happening if that was the case.\\n\\n&gt;Instead of making out anyone who has issues with the new trilogy hates women maybe look at our actual individual arguments.\\n\\nI think I have. But I would like to note that *I don\\'t actually think* \"anyone who has issues with the new trilogy hates women\". I think everyone who hates the new trilogy has nostalgia goggles on. As someone whose first Star Wars experience was the prequels... I have never held any illusion that Star Wars is full of convoluted nonsense and bullshit plot excuses about how its every protagonist is a super special awesome character. \\n\\nI don\\'t think everyone who hates Rey is *necessarily* sexist. I think a lot of this is people having watched film A when they didn\\'t really have a lot of critical skills, and then watching film B when they are older and have more critical skills, and then using those critical skills to go \"hey, this is a bunch of bullshit!\" with the new film, without really noticing that the old films had those problems too. A disparity in skepticism. \\n\\nWeird desert orphan with superpowers that the plot bends around because the writer said so describes all three Star Wars protagonists. Except Rey is a.) not a man, and b.) *not as annoying*. By \"Star Wars Protagonist\" standards, she seems like an improvement.\\n\\nIf Luke was a girl, and the first movie was **released now**, people would probably go \"what, we never see her fly anything but she can fly in places where trained pilots can\\'t?\", or \"she\\'s *so whinny and annoying\".* Or \"oh so not only can she fly for no reason, but she\\'s secretly the chosen one\\'s daughter? What a special snowflake!\"\\n\\n&gt;The new films are just a rip of Lucus\\' ideas gone wrong. Disney killed one of the greatest female characters in star wars, Mara Jade. Look her up. Oh also Ahsoka is one of the most loved star wars characters of all time and is amazing. Everyone loves ahsoka. She fought Vader and Darth Maul.\\n\\nI 100% agree that Mara Jade and Ahsoka are better characters than Rey. Ahsoka might in fact be MY FAVOURITE CHARACTER in all of Star Wars. I just also think that Obi Wan and Yoda are better characters than Luke and Anakin. Both of whom are overhyped and annoying desert orphans who shouldn\\'t have been the protagonists.\\n\\n&gt;You may think you are making a good comparison but I argue your views are problematic. Rey is a shit character made by men wanting to make a female lead without putting too much effort in. If you want decent films for women advocate for more women in higher positions so they stop making this garbage.\\n\\nI think that I can believe that \"there should be more female screenwriters and directors\" while *also* thinking \"Rey isn\\'t *worse* than the Star Wars movie protagonists before her, and all the hate is disproportionate, and indicative of something other than bad writing.\"',\n",
       " 'Slaaaaaaaaay! Trolls are beheaded. Dead.',\n",
       " \"I hate that this has been my experience too. I'm attractive enough to not get dismissed immediately but I'm ugly enough to be able to wear feminine clothes, hair, and makeup and still be taken seriously. It's a weird and stupid balancing act and I hate it.\\n\\nI'm trying to live my life and present myself in the way that I want to and makes me comfortable but I'm still wrestling with this patriarchal bullshit that sticks in the back of my mind when I'm deciding things like what to wear when I'm presenting my important work at a conference.\",\n",
       " 'You can be extremely attractive and brilliant. These are not traits that are \"incompatible\" with each other, they are Stereotypes.',\n",
       " 'Look, i find this notion that women are not good at programming disgusting too. And I acknowledge that it\\'s playing a role here.\\n\\nI\\'m not being a james damore here.\\n\\nAll I\\'m saying is a person studying computer science reaches the \"able to program code in multiple languages\" level in probably their third year in university.\\nThis person is much much more than that. and that title is downplaying her knowledge and expertise. hugely downplaying! being a lead is way more than knowing how to code.\\n\\nYou see, MIPS isn\\'t even a programming language for fucks sake! it\\'s a processor! So If any one came up to me and said I know how to program code in MIPS my first thought is this person doesn\\'t know what they\\'re talking about. So you must understand that for a programmer, reading the line, it seems childish and made up.\\n(which in this case is the journalist\\'s fault, and not the subject herself).\\n\\nFinally, In my honest opinion, her knowing how to code in multiple language isn\\'t impressive at all. her being a lead programmer is. Anyone can get into a computer science program and will get there pretty quick while modelling in their free time. It\\'s managing two careers(software development, modelling) at the same time and getting them to high places(becoming lead and modelling for Victoria Secret) is what\\'s interesting.\\n\\nSo if anyone, it\\'s that journalist who\\'s the sexists here. being surprised that a woman knows how to code, OMG big deal I have to put that in headline',\n",
       " \"As a female software dev, I can vouch for the reality that there are loads of respectful, intelligent guys in the industry. However, for every 20 or so of those guys, there is a guy who pretends he is a feminist but actually gets really butthurt if a woman (especially an attractive woman, fortunately that isnt as big of an issue for me :P) is promoted over him. There are also handfuls of dudes with generally good intentions but extreme misconceptions about women and how to interact in the workforce.\\n\\nIt is something to be aware of before going into the industry, but it is still a great place to be right now. I'd suggest finding a female mentor who has succeeded in a male dominated business field and talking about pre-emptive strategies for setting boundaries and establishing rapport with coworkers. Also talk about red flag behaviors, as a little bit of experience up front can save you a lot of pain.\",\n",
       " 'Roxane Gay',\n",
       " 'It is a youtube video. It is called Dear Stephanie Meyer',\n",
       " 'Is this interpreted as, \"immediately agree with all of my politically correct opinions upon hearing them, or my view of your humanity is forfeit?\"',\n",
       " 'Lol she dummied them in the comments section.',\n",
       " \"So, a journalist who doesn't have any programming experience wrote a byline about a woman, and somehow that affects how we view the woman's actual programming ability?\",\n",
       " '“This works for all Abrahamic religions.”\\n\\nI’m sorry, are you suggesting we take down Judaism?',\n",
       " 'And his wife called his other accusers “trailer trash looking for a payday” and the media fawned over her',\n",
       " '“Being in shape is hard” 🙄',\n",
       " 'She dick slapped them with the truth and they died',\n",
       " \"I've always love Cruella. Apart from the puppy killing bit. I think she's fabulous!\",\n",
       " 'Part of what made her the villain is loving people other than yourself makes you weak. Thus why she thought getting married is a terrible thing.',\n",
       " 'I did come to the realization that having a law doesn’t necessarily send the message that a specific act is morally wrong. It could go either way, it’s wrong because it’s illegal or it’s illegal because it’s wrong. \\n\\nHowever, decriminalizing prostitution does still send a message that it is okay to buy women, use her for sex and throw her away (just like a toy). I personally don’t want that attitude to spread. \\n\\nWhen I said that we should look at sex workers as people who need help, I meant that we should implement institutions to provide guidance and a pathway for women to get out of the industry. The best way to do that is by catching the ones who have already been arrested. Just like in courts that mandate people with drug and alcohol violations to attend AA meetings and complete programs, the same application could be required for sex workers (a lighter sentence if they go to X facility). These facilities could also be care centers for women who have encountered a dangerous situation in their line of work. It doesn’t sound pretty at all but it could help a lot of women. \\n\\nI can’t even imagine the toll it takes on a persons psyche to sell out their body. I would rather see large scale services offered to help these women instead of enable them.',\n",
       " 'Why are you deleting everything? :(',\n",
       " 'Ok if that makes you feel great.',\n",
       " 'Now you sound ridiculous',\n",
       " '&gt; I\\'m not supporting \"Western versions of genital mutilation\" b\\n\\nFemale* genital mutilation.\\n\\n&gt;but that entire term does sound ridiculous and over-generalizing to me. \\n\\nIf that makes you feel good.',\n",
       " 'She is iconic! An absolute inspiration',\n",
       " 'Those guys are assholes but to be fair no body says I can program code in python, C++, Java, MIPS, objective-C.\\nThe way the headliner has tried to list the techy names makes it sound like they were just trying to make a big list ( after all that’s what we programmers do in our resumes )\\n\\nSo if they just said: and she’s a lead iOS developer, I would be much more impressed than listing language names.',\n",
       " 'You\\'re making my point. \\n\\nI don\\'t know anything about getting you blocked. If it were up to me, everyone would be more than welcome on this subreddit. And I\\'m not supporting \"Western versions of genital mutilation\" but that entire term does sound ridiculous and over-generalizing to me. \\n\\nMy point was: just because someone does not agree with you on something, that does not make them the ultimate devil. Once you realize that, you\\'ll possibly find that you have a lot more friends and allies around you than you originally thought.',\n",
       " 'So, you are one of them who is trying to permanently get me blocked? \\n\\nAnyway, keep supporting western versions of Female genital mutilation..',\n",
       " \"Well, it looks like it makes you feel better to portray everyone that doesn't completely agree with you as devil's advocates. In my opinion, this kind of black and white thinking really isn't going to help anyone, least of all the feminist movement.\",\n",
       " 'Nice coverage on the names :D',\n",
       " 'Ok if that makes you feel better. If that makes you satisfied that money, resources and labours are being wasted in developing an industry and advancing surgical procedures that thrive on unnecessary body mutilation of women and girls, and female genital mutilation....\\nYou keep promoting FGM.',\n",
       " 'Do you mind sharing what she talks about? I haven’t heard the podcast at all so am kinda ignorant on that one',\n",
       " 'Nothing afaia. Absolutely nothing.\\n\\nOther than accept blame. At the very least he seemed to always be willing to admit he was at fault, even from the beginning.\\n\\nBut he never *did* anything.',\n",
       " \"No, there isn't. That's like saying that it's unfair that there are cars that drive themselves while I still have to manually handle my vibrator. Both technological devices, totally different fields.\",\n",
       " \"Really? There's no link between 1. Unprecedent progress of medical FGM and 2. No cure for Endo, PMS, PCOS, Migraines etc... ? \\n\\nLet's try in another way \\n\\n&gt;In other words, you should see that there is no correlation between the technical enhancement of plastic surgery for supposed female cosmetic deficiencies and the lack of progress in treating female-specific diseases.\",\n",
       " 'You are right, but there is more to it, and Lindsay does not excuse that.',\n",
       " \"I think it's less about making single women evil and more about rounding out a two dimensional character. Or maybe its just that I loved Glenn Close's take on this villain and she was an inspiration to me\",\n",
       " 'In other words, you should see that there is no correlation between the technical enhancement of plastic surgery and the lack of progress in treating female-specific diseases.',\n",
       " \"In other words,  feminists shouldn't criticize the industry which advocates for unnecessary body mutilation &amp; medical FGM of western capitalistic version ? A industry dominated by males?\",\n",
       " \"yeah, that's like writing 'wizzard' on your hat, or vanity publishing a book with your face on the cover.\",\n",
       " 'I know this is about men, I personally think that social attitudes toward this plays into bigger issues around masculinity that negatively affect women.',\n",
       " \"Was there a question here? Or was this all about abortions being bad?\\n\\nI don't see the big deal about abortions, get one, don't get one. It doesn't affect me personally or financially. There are enough people on earth that not having a baby is not gonna break us as a species. \\n\\nI think the problem is that sex and sex education is such a taboo subject that no one wants to talk about it honestly in this country. \\n\\nAlso from a personal standpoint I feel that there should be a discussion about what happens after the baby. \\n\\nI see so many girls in my office that have multiple kids and can't afford to raise them so they turn to welfare and child support, which is really just a way to punish a man because he didn't want to be with you. \\n\\nIf you want to lower abortions and unwanted pregnancies the key is education. And not seeing sex as something dirty to be hidden away.\",\n",
       " \"I've got a very narrow window of looks where people think I'm as smart as I am. If I gain, I get really ignored and people get this shocked look when I pop up with something inciteful. Then if I loose weight beyond a certain point, I get attention, and people talk over me. \\n\\n\\nIt's really frustrating and the sweet spot where I'm listened to attentively and with any kind of benefit-of-the-doubt is not where I'm comfortable weight-wise. It sucks that all those things don't line up. \\n\\n\\nAlthough, as I'm getting older, I think 30s might have more freedom in that regard. Doesn't help that I look mid-20s though. I mean, overall it does. But not in this regard :p\",\n",
       " 'I’m saying with all our advancements in society - access to birth control, views and Ideas changed for women’s rights- can we combine all of it and create something better?',\n",
       " 'Moving past abortions is moving backwards to a time when women were forced to carry an unwanted child to term.',\n",
       " \"They probably were. The OP is @coding.engineer. Doesn't sound like someone who is not part of the industry or at least more than mildly interested in programming would follow. I am 100% judging a book by it's cover though.\",\n",
       " \"Why is it that hard to believe that she's a programmer?!\",\n",
       " \"What a nonsensical argument. There is a big difference between treating actually complicated diseases and aesthetic plastic surgeries so comparing them will be utterly pointless.\\n\\nHowever, you can argue that the treatment of these diseases has been lacking in comparison to similarly complicated diseases that affect both males and females, because the medical field has been ignoring females in their research and testing. Furthermore, because females are ignored in medical testing, doctors often lack the understanding of how a non-sex-specific disease (like for instance heart disease) can present themselves in females since all their knowledge and data is specifically focused on men, which causes many misdiagnoses and deaths among females worldwide.\\n\\nBut sure, let's ignore this ACTUAL problem and focus on the advancements of voluntary plastic surgery.\",\n",
       " \"I am fairly sure the first couple of posters were not members of the programming industry.   \\n\\n\\nIt IS a industry full of arrogant nerds who were bullied at school and reflect that in how they act now as adults, but it is also an industry with plenty of thoughtful, intelligent people who were bullied at school and therefore are careful, if sometimes clumsy, with making sure people are not excluded. They've been there. \\n\\nIt is an industry that values teamwork, careful thought and insatiable curiosity. Pycon2019 in cardiff was one of the most respectful, excellent, conferences I've ever been to.\",\n",
       " \"Ok more women have not been lost to marriage than war. Mao's great leap backward, the Holocaust, the European genocides of Africa, the America's and Asia and the Mongolians. The Umayyad caliphate, the Japanese invasion of China, Attila the Hun, basically all of Chinese history do not equate to men killing women in wedlock. Most marriages were cordial as throughout history men and women got along for the most part like we get along for the most part now. Most men don't want to kill you. The law was very sexist towards women until the 70s in regards to marriage. Now its men who think marriage is unfair to them because child courts and divorce settlements are against them.\",\n",
       " 'Nothing. Took no blame, for impeached and carried on his married wealthy way while Monica was smeared and abused by the press and public for decades. That man is disgusting',\n",
       " 'There is something invalid about imaginging values of a loosely collected group or people, embodied in a single individual.\\n\\nThis happens a lot, everywhere, all over reddit, the internet, and the world.\\n\\nHere\\'s some shitty examples I\\'ve heard:\\n\\nA conservative wants to ban abortion because it\\'s \"not birth control\", but then they also ban actual birth control.\\n\\nA liberal wants to introduce more genders, but then demand that you ignore gender.\\n\\nA black person wants equality and inclusion in white spaces, but also want to keep their black spaces.\\n\\nA woman wants us to admit rape culture, then turns around and cries rape.\\n\\nIt\\'s endless, and I don\\'t see how we\\'re doing anything but making a totem of hate that isn\\'t actually representative of the individuals that we put into those groups.',\n",
       " 'I don\\'t view America as the center. There is no center. Also, I didn\\'t expect to get hate from someone who knows so little about her. I didn\\'t expect to get hate at all. I\\'ll make more posts on her, but you should really cool it because you\\'re upset about something that\\'s not really worth getting upset about. Also, I don\\'t live in America either and I think she\\'s a part of \"our history\" as in Earth. American school systems should absolutely teach this more but I wasn\\'t taught this at all because I never went to an American school. She saved so many people that she should be globally recognized for her bravery. People around the world should still be aware of the underground railround and the atrocity of slavery. If you disagree with that, then I\\'m just not sure what to tell you...',\n",
       " 'Not eccentric but centric. You view america as the Center. Saying she is part of our history when to most people (since most people are not american) she didnt really matter that much.\\n\\nYou can comment your Post. It is not uncommon to explain a picture Post in a comment.',\n",
       " 'Get men and boys to police each other and discourage this shit\\n\\nWomen have been trying, they don’t listen to girls',\n",
       " '\"American Eccentric\" what. I was criticizing the American education system on the fact that they almost never touch base on this topic. You can only type so many words in a title.',\n",
       " 'They don’t want you to enjoy or profit from displaying your body or sexual behavior - they want to be the only ones to enjoy or profit from it',\n",
       " 'I am not shaming you for liking her (I might be shaming you a little for be american centric, but thats really not he point here) I just feel like it would add much qualitiy to the Post if you said something like \"shes cool because: former Slave, helped other slaves escape etc\"',\n",
       " \"They wouldn't be watching you anyway. They would be on pornhub.\",\n",
       " \"Are you insane? I just learned about her yesterday this is my first post on her. Also, I didn't mean to offend you but you're going way off the deep end which shaming me for liking her.\",\n",
       " 'And yet you havent really talked about her...\\n\\nCanada is still america and therefore \"our\" is not any better than before',\n",
       " \"I'm not opposed to talking about her at all. She's my hero. I think she's amazing. Also, I said our because her operation ran not only in America but also in Canada. Also, no matter where you're from you can still appreciate her.\",\n",
       " 'GET IN THERE BOB',\n",
       " 'nOt aLL meN',\n",
       " 'I have nothing against her, I am just annoyed by the fact that you seem so opposed to talking about what she did.\\n\\nAnd saying \"our\" in a world wide space is always a risky move. I usually let american centric stuff go because whatever but since you seem to want to be unhelpful I felt like correcting you.',\n",
       " \"There's nothing wrong with the initial post. It more about the top level comment, which seems to say they are the same people watching and complaining. There are really 2 camps and the free market dictates that these different types of streamers exist. The idea that there is a product that everyone will like and no one will complain about is asinine.\\n\\nedit: words\",\n",
       " \"She saved hundreds of people. Why try to downplay her importance? I don't understand what you have against her.\",\n",
       " \"usually leads to anemia. women are already at high risk of suffering from due to menstruation and and lower testosterone level. meat has higher bio availability of iron specifically heme-iron than other sources of food meaning if you have 1kg of meat and 1kg of veg with the same amount of iron you can absorb more iron from the meat than the veg. if you're not to sure just look up on YouTube women who stopped vegan diet main problems is their loss of cycle\",\n",
       " \"Male streamers make more money and have a higher vewiership on literally every platform.\\n\\nTheir titties aren't holding you back, dude.\",\n",
       " 'I can say she is not, because im not american and as amazing as she was, she is not one of the most important people of \"our\" history.',\n",
       " 'Oh I get it but \"guys\" includes guys who don\\'t behave like that, it\\'s a generalization.\\n\\nIf any man dared to generalize about women and painted them in a bad light he would be called sexist.',\n",
       " 'Feminists who make men as a whole out to be monsters based on a minority of predators are sexist. If all men are rapists according to feminist logic then all women are money driven murderers by feminist logic.',\n",
       " \"Because I still have no idea who she was or what she did. So this Post die absolutly nothing. It's not that difficult to write five words about what she did.\",\n",
       " 'Typical Feminists destroying the whole world around them just to put themselves on a pedestal.',\n",
       " \"I have literally met men that do both, so it's not without merit to discuss it in those terms\",\n",
       " \"Well, we can't talk about them all individually, so we are forced to generalize, and talk about how the demographic tends to behave on average. There is nothing wrong with doing so.\",\n",
       " \"I am. I made this post. I have discussions about her with my friends. Bold of you to assume I don't or wouldn't.\",\n",
       " 'Well since you now know, why not tell others?',\n",
       " 'Because people feel like generalizing everyone on twitch because there are multiple competing opinions and they want the group to seem hypocritical instead of divided.',\n",
       " 'I dare you to be more condescending.',\n",
       " 'And vagene!',\n",
       " \"Because I did my own research on her. Also, how could you say she's not?\",\n",
       " 'Then how do you know that she was so important and amazing as you claim?',\n",
       " \"The post is simply pointing out that female streamers are in a no win situation. The fact that these two disparate group may be composed of different guys is beside the point. No matter what she does she is facing some group of men with an opinion about what she should or shouldn't be doing with her body.\",\n",
       " 'its surprising.',\n",
       " 'I really wish my city/alma mater was known for something else. I\\'m glad this case gets attention, just wish UM wasn\\'t the \"rapist football team\" school.',\n",
       " \"I think you're absolutely right, I'm not sure why you're being downvoted.\",\n",
       " 'these are two different groups of people: \\n\\n\\\\- legit streamers and people that respect twitch, don\\'t like the titty streamers and that they  are above the rules just cause;\\n\\n\\\\- the people watching titty streamers are young, lonely, lost or just the kind of guy that watches live \"porn\";\\n\\nI highly doubt that there are many people in both camps.  \\n\\nAlso [twitch.tv](https://twitch.tv) is for live-streaming games and game related stuff,  not for softcore porn - twitch allowing it on their platform is just wrong. But titty streamers bring in enough money, to skirt the guidelines and even lessen bans.',\n",
       " 'Bobs',\n",
       " \"You see a few posts on my profile and you seem to know exactly how I live my life. All your 'arguments' are based on feelings and assumptions, which I don't mind. But they don't contribute to a fair discussion.\\n\\nI don't try to sound smart or edgy at all, that's what you make of it. I'm coming up with arguments and trying to have a discussion, but that is being edgy and  'smart' in your eyes. \\nYou contribute nothing to the discussion, you only try to attack me personally. I don't mind, I'm not a snowflake. Call me all you want and assume all you please. I sleep peacefully at night\\n\\nGood try priestress.\",\n",
       " 'Masculinity is a flimsy concept anyways. I don\\'t know if it would be better to just reform masculinity or to throw it out like we should with any other gender role. If you remove the oppression of women and shunning of anything \"girly\" then what\\'s left? Bravery? Toughness? I don\\'t really consider those traits as \"masculine\" or \"feminine\" at all.',\n",
       " \"Maybe you shouldn't get stoned and play fortnite so much, and instead, read a book/pay attention to the news/listen to a woman you know talk about her personal experiences, before you drop in to a women-centered sub and tell women their experiences are wrong.  You're trying too hard to sound smart and edgy; it's not working, kid.\",\n",
       " \"Yeah they're smart for capitalizing off these weirdos\",\n",
       " '&gt;(In Indonesia, women have to take virginity tests in order to join the police force.)\\n\\nWHAT. THE. FUCK?',\n",
       " \"That's only in contexts of biology issues. Trans men and any trans person assigned female at birth still have periods and can get pregnant, for example.\",\n",
       " \"I aspire to be as concise and eloquent as you are when I grow up.\\n\\nAnd I'm almost 28 years old.\",\n",
       " \"I remember when we had smileys, who were by nature gender neutral. Also a lot easier to read, imho.\\n\\nThere was no reason to introduce gendered versions where you have to squint to even see if they're smiling or frowning but ok, having gender neutral version of those available is better than not having them, I guess. Still not a fan.\",\n",
       " 'We have a winner. Please accept my Silver.',\n",
       " \"Different people make those comments. Male streamers don't like boobie streamers but male viewers who have no chance of getting a female because they're garbage, do like boobie streamers.\",\n",
       " 'Best response to a dumb pickup line: “I hear the king has a new advisor.”',\n",
       " 'This',\n",
       " \"And the 'it' refers to? Exactly, the post. In other words: female streamers getting asked to show titties. Try to read please.\",\n",
       " \"But money, discrimination &amp; danger are also valid reasons why boys don't go to school, in Arab countries and other 3rd world regions young boys are usually taken into custody by radical fighters to do whatever they please with them. (And kidnappings are a common problem in all countries, and it also happens to both genders). Periods are the only valid reasons for girls specifically to not be in proper education fields, so I have no idea why the link specifies USA, where tampons are widely available.\\n\\nHowever, I don't understand international relations &amp; interests have anything to do with gender, I feel like both genders should get equal support if their families lack money for proper education. Apparently because girls in 3rd world countries don't go to school while boys do (which seems a bit far fetched) will destroy governments?\\n\\nI think launching a campaign for kids of both genders in 3rd world countries would be far more profitable -especially for the government - rather than launching a US campaign exclusively for girls, and that's the hard truth.\",\n",
       " 'That’s a huge stretch. Obviously if we’re talking about problems that affect only people with vaginas, we’re going to be talking to and about people who have vaginas because that’s who it’s relevant to. And it’s just a fact that not all women have vaginas and that some men have do have vaginas. Making the language surrounding reproductive and vaginal health gender neutral doesn’t reduce people to their genitals any more than it did when we only referred to women in these discussions, in fact I’d argue it does the opposite. Using gender neutral language detaches genitals from their gendered associations and admits people are more complex than just their genitals. I’ll admit some of the language is a bit clumsy, but destroying that genders association is good for both trans people and for cis women. It destroys the patriarchal reductionism that sees women as walking vaginas by detaching the association from women entirely. This is what gender abolition looks like. This is what destroying gender expectations and roles looks like.',\n",
       " \"That classy guy wouldn't go on his social media to rant about the female streamer, no one cares about her.\\nAnd if it is so, then the classy or trashy guy (whatever) is also free to write what he wants on his own page, correct? No one forces that female streamer to read all those social media pages. \\n\\nJust because there is a loud minority, doesn't mean it is a systemic issue. Lots and lots of people are never ever getting involved in this kijd of situations, yet you claim it's a systemic issue.\\nNo it's not. It's an issue for some people, that's not what I call a systemic issue.\",\n",
       " 'If you look at the link, the act is to help national interests. It’s very common in certain countries for girls to not attend school, either because of money, discrimination, or danger (kidnapping school girls in 3rd world regions), and commonly because of girls getting their periods and not having sufficient support/products they need so they are forced to drop out. It’s more common than you think. If we want to help our national interests, girls not going to school while boys do is definitely one of the major problems in other countries that will affect international relations in the future.',\n",
       " \"&gt;it's not a systemic issue.\",\n",
       " 'Alright, let\\'s play along with you and assume that there are two guys, the one who doesn\\'t want to see the streamer\\'s tits, who we\\'ll call Mr. Classy, and the one who wants to, Mr. Trashy. \\n\\nGiven the amount of steamers present on Twitch, Mr. Classy has the choice to just go watch a streamer who doesn\\'t show tits or doesn\\'t even have tits, and yet Mr. Classy chooses to go on social media and rant about a streamer that shows tits when no one is forcing him to watch them. \\n\\nMr. Trashy is a much more simple man: out of all the things that he could be doing with his free time, he goes on a steamer\\'s page and just floods her chat with \"SHOW TITS\".\\n\\nWhat do Mr. Classy and Mr. Trashy have in common? \\n\\nBoth of them fail to realise that a streamers page is her own space where she will do whatever she pleases and that they have no right to dictate what she should and/or should not be doing, especially when it comes to her body. \\n\\nThere\\'s your systemic issue.',\n",
       " \"The point of the post is to draw attention to the fact that women are told two disparate things by a society especially when it comes to sexualization of their bodies: a) sexualize yourself, otherwise we don't care about following you, and b) but if you sexualize yourself, that's unfair and you're a slut.\\n\\nEven if those statements come from different men, it's still a societal catch-22. The options are either to fail at streaming or be called a slut.\\n\\nThis post isn't to say that there aren't any other catch-22s in our society, it's to point out that this one is a direct result of society's disparate opinions about what women do with their bodies. It's highlighted here because feminism is partially about pointing that shit out.\\n\\nIt's weird that most of the guys replying here would rather express that those are different groups of men instead of realizing that the post is about how female streamers are stuck between a rock and a hard place, both of which are comprised of groups of men with opinions about what they do with their bodies.\",\n",
       " \"Please quote where I said that (spoiler: I didn't).\\n\\nStreamers being asked to show titties is not a systemic issue, that is what I said.\",\n",
       " 'I\\'m with you but I don\\'t like the \"surprisingly deep things to say.\"\\n\\nPeople who happily choose to work in the sex industry are still people with thoughts, dream, and challenges. It\\'s just their job. Of course they have deep things to say. It shouldn\\'t be surprising.',\n",
       " \"Wait wait wait wait wait. Are you saying that you believe the objectification of women is not a systemic issue?\\n\\nI honestly don't even know how to respond to that...\",\n",
       " \"From the article:\\n&gt;I was only 19, and desperate for a roommate when I met the man who would go on to get me very drunk, film me without consent and release the evidence.\\n\\n&gt;He made DVDs and sent me a copy.\\n\\nSo you didn't read the article and immediately resorted to victim-blaming.\",\n",
       " 'Trans activists also sometimes reduce people to walking vaginas when they erase the word \"women\" and replace it with terms like \"vagina havers\" and \"vagina-having persons\".',\n",
       " \"But those are not the same people, which you fail to understand. A classy guy doesn't want to see a random streamers' tits, a trashy guy probably does.  \\n\\nI always keep it at the original point, didn't you see my arguments? Probably not, because you are blindfolded by your own believes.\",\n",
       " 'Noone ever said she was the voice of Feminism and noone in their right mind ever would.',\n",
       " 'Except we\\'re not talking about how many views she has, but about the fact that female streamers get criticised for \"showing titties\" and get flooded with requests to \"show titties\" at the same time, making it a no win situation for them. \\n\\nNice try to derail the conversation from its original point, tho. Try harder.',\n",
       " \"This is bullcrap. This streamer doesn't have much views at all and it's not a systemic issue. You try to make it a systemic issue, which it is clearly not the case.\\n\\nAnd good one, the uno reverse card 'no you're part of the problem!' \\nYeah good one, very original, never seen that one being used on someone else before.\",\n",
       " \"Because they don't see women as people. We're basically NPCs\",\n",
       " \"&gt;Female ~~sexuality~~ presence is only considered valid when it's at the direct discretion of a male.\",\n",
       " 'Best way to have an uncomfortable conversation with someone (and pointing out someone is saying or doing problematic shit is an uncomfortable conversation amongst friends, usually) is 1 on 1 with your talking points thought out in advance.\\n\\nBe ready for a couple natural defensive mechanisms.\\n\\nHe might...\\n\\n1) disarm the whole situation with humor; let him know that you\\'re serious, you might laugh but you\\'re not dropping it until you feel you\\'ve gotten your point across\\n\\n2) become suddenly extremely defensive about being compared to \"those guys\", \"those guys\" being men who he sees as much worse to women than he thinks he is. Let him know you\\'re not accusing him of being a through and through misogynist, you\\'re just letting him know that sometimes he says things that can hurt coming from him.\\n\\n3) over exaggerate what you\\'re asking about. \"So what I can never joke around you anymore?\" type of response. This is the most obnoxious to deal with, and is usually a sign they are having a major emotional reaction. Bring the conversation back down to the fundamentals, don\\'t give into this attempt to turn the conversation into an argument. Reiterate how you feel \"I\\'m just saying that sometimes you say things like **[specific example A]** and **[specific example B]**, I feel like we\\'re close enough friends that you should know that those things make me feel like **[however it is that you feel]**\"\\n\\nYou\\'re not trying to police their language, you\\'re trying to get them to be more mindful about what they\\'re saying. Don\\'t get drug down into a battle of specifics.\\n\\nYou wouldn\\'t be having these conversations if you didn\\'t care about your friends, if your friends care back then they\\'ll listen. Having these conversations is a sign of trust and respect from you to your friends. They need to be adults and understand this.\\n\\n\\nI hope this helps',\n",
       " 'I feel like you are trying to say that \"it\\'s not the same men saying these two contradicting things\" but I have heard the same man make both of these points at different times repeatedly (and not realize there is any contradiction). And this guy was a liberal with access to a good education, he really should have known better.',\n",
       " 'When you are accustomed to privilege, equality feels like oppression',\n",
       " \"We generalize because we're talking about a systemic issue involving a significant number of the population that stems from the very structure our society is build upon, not because we automatically assume that every single man on planet Earth is a sexist, objectifying idiot. \\n\\nIf you fail to recognise that and decide to take it personal, chances are you are a part of that issue.\",\n",
       " 'The statements from the community are horrifying',\n",
       " \"You act like 'guys' is one guy. Your left neighbour could want to see your tits, your right neighbour doesn't. Yet you still act as if it's all the same and thus you generalize men.\",\n",
       " 'Does not that push women to be more free cause men will have sex robots no?',\n",
       " 'This is classist as shit.',\n",
       " 'So to go and discuss gender inequality you would like to talk with a group that excludes any gender other than women? Seems a little backwards',\n",
       " 'No wonder Christians have such bad sex lives',\n",
       " \"You're making a distinction that I don't see the purpose of.\\n\\nYes, you can call yourself a Catholic, and disregard all of the teachings and ignore modern practices of catholicism that contradict your beliefs, but the hypothetical person weve invented is no longer a Catholic.\\n\\nCatholicism and feminism are based in contradictory ideologies.\",\n",
       " 'From what I know, Boys arent even distracted by this. They could probably care less. It’s the establishment doing this shit',\n",
       " '👏half👏of👏ICE👏camp👏guards👏should👏be👏women👏',\n",
       " 'This. The all precious HYYMEEENNNNN is supposed to be intact for your “special man.” \\n\\nI was once told (BY A TAXI DRIVER WHEN I WAS SIX AND MY MOTHER WAS THERE NO LESS) that virginity is the crown a woman places on a man’s head after they’re married. \\n\\nVirginity is a toxic patriarchal construct meant to control women’s sexuality, not men.',\n",
       " 'I’ve never spoke French in my life, but for Spanish I’ve seen some people use X’s instead of O’s/A’s. I don’t know if thats helpful though.',\n",
       " 'Everything I read was compiled by my professor so I can’t remember just one book or something that I read. In general, looking into neoliberalism and radical feminism and how they’re different is a place to start. Also just learning that a lot of what we took to be totally progressive and aligning with modern feminism - like the suffragettes - had a lotta fucked up history you never learn. \\n\\nLike that people like Susan B Anthony originally sided with abolitionists. But after the right to vote for black men was passed before the right to vote for women was passed, Susan B turned her back. Basically, neoliberal feminism is like feminism that’s “woke”. Until it comes to taking down the systems that instilled racism &amp; sexism in the first place. Then it suddenly isn’t so liberal.',\n",
       " 'I love songs that hype me up. Songs like BOOGIE by BROCKHAMPTON. Also songs that are just happy, like a lot of songs by Lucky Chops.',\n",
       " \"Funny, because Gates wealth has doubled since he took that pledge, not halved.\\n\\nAnd every dollar that went under his control is one that didn't go to workers, the poor, etc.\",\n",
       " 'I think you should respect freedom of religion.',\n",
       " \"Everywhere else. Chile is in the middle of revolution, fighting half a century of neoliberal exploitation and several more centuries of colonial exploitation. Bolivia is doing much the same, with the native population mobilizing to fight against a us backed coup. The Zapatistas have been holding out for over 30 years now, and even recently expanded. Rojava is fighting tooth and nail for their continued existence. Labor has a very real possibility of taking power in Britain, with an actual socialist at the head, and here in the states we've got Bernie pushing ahead. Capitalism is dying, and the reactionaries are its attempt at saving itself. This doesn't mean that the end of capitalism is guaranteed, but it does present a very useful opportunity for the left.\",\n",
       " 'Fuck off',\n",
       " 'The issue of people not being able to survive is not a problem that most Americans experience.  Does it happen? Yes. But even the very poorest people outside of being homeless have food and shelter. Don’t deny it, you know it’s true. I see housing projects every day on my way to work. The issue is not that most people in America aren’t having access to enough resources to survive, the issue is that people have enough resources to survive but they want a big quality of life on top of that. The issue isn’t that people working on minimum-wage can’t survive, they can, they just want more. They don’t want to make the sacrifices. When I was on minimum-wage, I roomed with three other people in our house. We all split the bills. We survived. The issue is that none of us had enough money to do anything outside of working.',\n",
       " 'Bronze Age fairy tales.',\n",
       " 'MORE! FEMALE! OPRESSORS!',\n",
       " 'Organized religion is often antithetical to civil rights and while personal beliefs might be feminist, the religious dogma itself is not',\n",
       " 'Feminism is incompatible with capitalism',\n",
       " 'Never said there was any redeeming quality. This thread seems to think I’m defending capitalism. I’m not. I’m explaining that the goal isn’t to fuck women.',\n",
       " 'Glad these comments are tearing this apart.',\n",
       " 'Genesis does give like, a line of marriages and descendants from Abel to Noah',\n",
       " 'imagine thinking its feminist to be an oppressor',\n",
       " 'I’m sorry it was even said, people are so ignorant.\\n\\nIf you ever see hate speech like that, please report it. We have zero tolerance for TERFs here and will take care of it.',\n",
       " 'right on. we have to lose ALL of our chains',\n",
       " 'Or I could inform my parents that my love life is out of their control, then kill as many CEOs as I can find with my friends',\n",
       " 'Fuck off',\n",
       " 'Christianity is an enemy to women and minorities',\n",
       " 'Do what you want to do free from the opinions of others',\n",
       " 'So if the goal of capitalism is generating as much money as physically possible for business owners no matter the consequences, and the result is that poor people get fucked (by your own admission), then what redeeming quality is there of capitalism? It sounds pretty shitty both in theory and in practice',\n",
       " \"Society is fucked. And red pillers think we don't need feminism. 🙄\",\n",
       " 'Let people say and do what they want. Thier friends not ventriloquist dummys.',\n",
       " 'Look this sub and thread is not reading what I wrote at all. I’m not saying capitalism is good. I’m not saying it’s not extremely exploitive of women, the poor, and lower classes. I’m saying that that’s not the goal of capitalism, it’s the result. Claiming that capitalism is inherently sexist is wrong.',\n",
       " \"Be who you wanna be it's just labels\",\n",
       " 'The only think fascists hate about capitalism is that they are not the rich guys.',\n",
       " 'Sadly, most religions have.',\n",
       " 'The result of capitalism is not the same as the point of capitalism. Fucking Christ you people can’t read. It’s just the same as communism. The point of communism is egalitarianism, however it’s result is wildly different. An important distinction that this sub seems to ignore, is intention.',\n",
       " 'Milquetoast was named after milk toast tho.',\n",
       " 'No because nothing you’ve posted has been feminist you can’t be a feminist.\\nYou had your warning and this post is still not cutting it.',\n",
       " 'Hahaha I like that plan. I do think insurgencies have demonstrated themselves as a potentially effective path of revolution but a truly revolutionary and emancipating army is a satisfying concept, honestly I’d take either one. I think there’s a place for many different forms of leftism in the world if it’s united in international humanitarian solidarity. I will say that every time I see a shitty story about a landlord I feel the ghost of Mao speaking to me haha.',\n",
       " \"Wow yay worker oppression but this it's a female CEO so it's good\",\n",
       " \"No it isn't. Fascism is crony capitalism.\",\n",
       " 'Rigged',\n",
       " 'I think most of us have seen that sad pattern.\\n\\nThere was a US senator who said something about not caring about IVF embargoes, because they weren’t in a woman. Was pretty clear what his stance was about.',\n",
       " 'No, not by definition.',\n",
       " 'Fascism is anti-capitalist for a large part.',\n",
       " 'As an anarchist, I have the solution to this. There is noone in power, society is organised on a small scale.',\n",
       " 'Imagine thinking that calling someone a CEO isn’t already an insult',\n",
       " \"&gt;the reason for this gap is that there are less women in senior positions than men\\n\\nNobody argues with that, the question is **why**?  There's a compelling argument that it's because in their 30s women start focusing on family over the demands of climbing the ladder, which is why I said women make more till they start families.\",\n",
       " 'I mean yeah but the Bible also says women should be silent and has been used to do fucked up shit to women like marital rape for decades.',\n",
       " '“A ton of people standing around doing nothing or taking naps at a worksite while the people who actually matter to the company do all the work.” \\n\\nJust your average board of directors meeting in any capitalist society.',\n",
       " \"I am increasingly convinced that, for many, if not most, pro-lifers, it is not about saving a fetus. It's about controlling women's bodies.\",\n",
       " 'Being a feminist and being religious are not mutually exclusive. You don’t have to be a very strict Christian, you can believe in a god and the Bible or whatever Christianity is about and still be a feminist. You can believe in god and still think men have twisted his words for advantages or whatever. I’m a feminist and an atheist but I know some very religious girls who are very good examples of feminists, even when they’re Catholics they’re pro choice, they condemn people who slut shame or shame women who have sex before marriage or people who judge women for their clothes, support lgbt people,  and other things, cause they believe that god is love and forgiveness and they apply that. they have their own understanding of their faith',\n",
       " 'This is stupid  men also have a dress code',\n",
       " 'For the slow learners; \\nMen are supposed to lose their virginity to the first taker. Hence enjoy their sexuality. \\nWomen are supposed to save their virginity for a special man. Hence save their sexuality to please said man.',\n",
       " 'I always felt like boys got the more fun toys. Like girls toys teach girls to clean and become mothers, but boys toys let them be heroes. That might just be me though.',\n",
       " 'You’re welcome. I fought against sexism in the work place and social settings. I was an active member of NOW. I have always been proud to label myself as a feminist. I raised my sons and daughter to treat women equally. If you think things are bad now, they were much worse 50 years ago.',\n",
       " 'There\\'s a lot that\\'s just off with this comment and I get the feeling that either it\\'s satire or you\\'ve had a lot of American propaganda thrown your way. Assuming the latter:\\n\\n&gt;In a socialist society unemployment is not a thing. \\n\\nThis is... blatantly untrue? Cuba\\'s probs the closest thing we\\'ve got today (running a weird version of planned market socialism w/ state enterprises and self-employment), and it has an unemployment rate of about 2%. \\n\\n&gt;Workers have no incentive to try hard because they know they won\\'t be fired\\n\\nYou can lose your job in any kind of socialist economy, it just generally can\\'t happen on a whim because your boss decided they don\\'t want you. If it\\'s a version with social safety nets, it just means you won\\'t starve as a result (kinda same goes for capitalist societies for that last bit tho). \\n\\n&gt;Why would anyone bother to work hard if they know that their means of survival will be taken care of even if it requires zero effort on their own part\\n\\nThis is more of a criticism against safety nets than against socialism, but I\\'d still point out: we don\\'t need them to? [The vast majority of jobs in our current economy are completely useless.](https://en.wikipedia.org/wiki/Bullshit_Jobs). We\\'re not subsistence farmers anymore. We have the ability to strive for better and happier lives for everyone and our obsession with forcing people to perform useless tasks to \"earn\" the ability to survive is a major impediment to progress on that front. \\n\\nAnd I\\'m not even gonna touch on that ending bit because it\\'s just so bizarre that I think it must be satire.',\n",
       " 'Not only that, but it’s dehumanizing to minorities, especially women of color and trans women.',\n",
       " \"The only accounts I've seen of their professional structure indicate the exact opposite, that the command economy separated workers into Blocs that would rotate workdays but have their time hyperoptimized for production, so they didn't have their well-being prioritized and effectively lived under the same problems that are more obvious under capitalism.\\n\\nGiven misinformation campaigns and misinformation in American schooling, it doesn't surprise me that we have so many conflicting accounts on the USSR.\\n\\nEdit: I was trying to get around to the point that Blocs were socially isolated not just by structure, but even by direct encouragement to socially homogenize.\",\n",
       " \"&gt;Even the left-wing Guardian admits that [women make more than men until they start families](https://www.theguardian.com/money/2015/aug/29/women-in-20s-earn-more-men-same-age-study-finds).\\n\\nThat's not what the article says, it says that women make more than men until they're 30.  £1,111 more to be exact. It then goes on to say that the roles are reversed once 30 is surpassed, at which point men are apparently making *£8,775* more on average. It states that the reason for this gap is that there are less women in senior positions than men, indicating that it really only accounted for age in its analysis, so I'm not sure how it supports your point.\\n\\nIt also warrants mentioning that two researchers actually calculated what percentage of the current wage gap can be explained by differences in industry, experience, education, etc. and what percentage cannot be explained. Their findings indicate that a significant portion of the wage gap has no explanation, which can be inferred to be due to sexism due to a lack of other possible causes. You can read it [here](https://www.nber.org/papers/w21913).\",\n",
       " 'No one thinks that. Or I hope not.\\n\\nThere’s a major difference between asking nicely and calling for the guillotining of the offending class. People who can’t find the middle ground between that aren’t welcome.\\n\\nMost of these negative comments are coming from folk who do not participate here regularly. If you can’t fall into line, and continue to threaten death, you don’t get to stay.',\n",
       " 'We cannot promote violence on Reddit without being quarantined. As a sub, we refuse to do that.\\n\\nNoted. Next time I’ll just tell y’all to smarten up or you’re banned.',\n",
       " \"I find myself often in that uncomfortable position where I'm too conservative for my liberal friends and too liberal for my conservative friends. Sometimes it's ok to believe that hurricanes are caused by global weather patterns and not because women are leaving the nuclear family and entering the workplace. \\n\\nSometimes you've just gotta do you.\",\n",
       " \"What gave anyone the stupid idea that I said I don't want to work for it? I didn't mention anything about not working for it, wth?\",\n",
       " 'Imagine thinking you can just ask nicely for an end to your oppression.',\n",
       " 'Why are men excepted to have to keep up the financial support in the family and women aren’t',\n",
       " 'It is most definitely not okay, and is basically a great way to legalize rape. Consent can be withdrawn at any time, making this document useless and again, basically a way to legalize rape.\\n\\nAccidentally in the wrong hole, Jesus. If someone is so poor at anatomy they shouldn’t be having sex.\\n\\nETA: you can’t get around a banning like that. It’s against Reddit’s rules',\n",
       " 'If you want to thrift because you are directly supporting less wage exploitation, go ahead. My comment below is in response to people who believe that thrifting will solve wage exploitation or is an adequate alternative to actual change via policy and movements.\\n\\n\\nThrifting or \"voting with your dollar\" ultimately *doesn\\'t do anything at all, in any way shape or form to fix wage exploitation*. Pretending that it does is a way for people who either do nothing to pat themselves on the back or use it as a cover to avoid solving the real problem. When someone pushes the responsibility of fixing capitalism to the consumer, they are either being extremely disingenuous or naive because it doesn\\'t work. This is similar to the people that say things along the lines of, \"[Oh YoUr A sOcIaLiSt BuT yEt YoU OwN aN iPhOnE](https://cdn.discordapp.com/attachments/444308640032358430/643262892145377310/vur079s60ix31.jpg).\"\\n\\n\\nIn this context, say I thrift everything I own or I buy from companies that use \"less exploitative\" labor. This, I suppose, is a good thing by itself. But I also support politicians that enact policies that enable wage exploitation, here and abroad. My net impact on stopping wage exploitation is negative because buying or thrifting doesn\\'t solve structural or systemic issues.\\n\\n\\nWhat I\\'m trying to say is thrifting is a good thing to do if you want to, but it is not in any way enough or going to solve wage exploitation. If you care about ending wage exploitation you must, at the very least, support policies that will actually do something to fix the problem.\\n\\nE: Thanks for the question as well',\n",
       " 'Um why dont you google it? You have a college degree but you cant figure out what job you can get with it?? And you expect people to pay you the same as a man!?🤦\\u200d♂️',\n",
       " 'That entire thread is guys saying \"won\\'t this lead to more false rape accusations????\"\\n\\nUgh.',\n",
       " \"American society? or every society? There some societies that still treat you as possession but you're complaining about 1st world superstar relationship? Loosing hope in feminism🤦\\u200d♂️\",\n",
       " '\"A 100,000-year-old\\xa0ochre-processing workshop was found at\\xa0Blombos Cave\\xa0in\\xa0South Africa. It indicates that early humans had an elementary knowledge of chemistry. Paintings drawn by early humans consisting of early humans mixing animal blood with other liquids found on cave walls also indicate a small knowledge of chemistry\"\\n\\nNice try👍',\n",
       " \"It doesn't surprise me at all to see Allen and Lynch on that list\",\n",
       " \"I agree with you, except for the voting with your wallet thing. What about consignment? There are lots of online consignment stores for second-hand clothing that are very inexpensive, and there's probably at least one physical consignment store near where you live.\",\n",
       " 'Or maybe we know damn well that feminists only apply this standard to comments about men, proving that \"it wasn\\'t directed at all men\" is a motte and bailey tactic.',\n",
       " 'As a Palestinian Muslim American, a woman of color, and a Brooklyn-born organizer, I’ve been fighting for the needs of my community and other communities of color for years.\\n\\nSo when Senator Bernie Sanders ran for president in 2016 on a platform championing racial and economic justice for all, supporting his candidacy was an easy decision. When his campaign sparked a movement in the years following, I continued the fight across America with other candidates and causes committed to progress. And when Sanders launched his 2020 campaign, I joined as a national surrogate to continue the political revolution we had all built together.\\n\\nBut in both 2016 and 2019, my decisions have been doubted and questioned. Other Democrats could not fathom why people like me –– a progressive woman of color who advocates for representation — would support a 78-year-old white man for president. Many women of color across the country also find themselves in this trap: we are told our voices matter and our concerns must be amplified, but simultaneously find ourselves needing to defend our decisions.\\n\\n\\nCongresswomen Alexandria Ocasio-Cortez and Ilhan Omar have both enthusiastically endorsed Sanders’ campaign, shocking Democrats who have been preaching the “Bernie bro” narrative for years. But for some women of color across the country, the endorsement simply affirmed what we already knew: Sanders stands alone as the only candidate who will bring the transformational change our country so urgently needs.\\n\\nOcasio-Cortez and Omar understand this need for change on a visceral level. As women of color, we are the Americans shouldering the greatest levels of student debt of any demographic, according to a report this year from the American Association of University Women. We are among the Americans disproportionately suffering without health insurance. We are the Americans most affected by high housing costs and most burdened by income inequality. And we are the Americans who would benefit most from raising the minimum wage and empowering labor movements across the country. It is for these reasons that young women were found by an Economist analysis to form a larger core of Sanders’ base than men do — and less than half of his supporters are white, according to an August Pew Research Center report.\\n\\nOmar, Ocasio-Cortez, former Ohio state senator Nina Turner, San Juan, Puerto Rico mayor Carmen Yulìn Cruz, New York state senator Jessica Ramos, Princeton professor and author Keeanga-Yamahtta Taylor, and Missouri congressional candidate Cori Bush are only a few of the thousands of women of color who support, volunteer, and donate to ensure Sanders is the next president of the United States.\\n\\nWe support Sanders because he consistently champions our voices, our concerns, and our communities. His policies speak to women of color in meaningful ways — but it’s his willingness to uplift and engage communities of color that truly built a movement (this past September, Sanders was the only candidate who has consistently polled among the top five candidates to attend this year’s Islamic Society of North America conference and participate in their presidential forum hosted at the conference by a coalition of Muslim organizations, including Emgage USA). Though there are other great candidates running, Bernie is the only one who has built a movement that will outlast any individual campaign.\\n\\nWomen of color are exhausted from bearing the disproportionate burdens of inequality – and with so much at stake in this election, we are exhausted from having to explain ourselves. Every time our choice for the presidency is discredited, our agency of women of color is stripped away. Every time people echo the patently false “Bernie Bro” narrative, they erase our voices as well.\\n\\nRegardless of who the Democratic nominee is, we will not hesitate to support them in the summer of 2020. But by supporting Sanders in the primary, women of color are simply continuing the fight for justice we have spearheaded for generations.\\n\\nCertainly, our voices have been disparaged and discounted throughout American history as we’ve fought for progress. But it’s 2019 — and we urge our fellow Democrats to do better.',\n",
       " 'Preach sister! \\n\\nThe other day my mum told me my (recent) wedding day was the happiest day of her life and I didn\\'t want to spoil the moment for her with an argument, but my internal reaction was \"wtf mum? how about all those times that I (and you) actually achieved things that required years and years of dedication, painful sacrifices, and overcoming struggles?\".  But that\\'s societal pressure for you: I feel she spent years pretending to be happy for me and with me, but actually longing for me to tick those couple of boxes of marriage and family that would make me \"worthy\" in the eyes of [the patriarchy](https://bufferingthevampireslayer.bandcamp.com/track/the-patriarchy).',\n",
       " \"Man, this guy's whole profile is like a parody of incel buzzwords...\",\n",
       " 'Why has my gender got anything to do with it? I made a comment that did not imply any sort of negative comment about your sex but am instantly set upon because of mine? I’m not going to enter into an argument as clearly you are a hateful person and would undoubtably insult me further all the while trying to encourage other to bully/berate me. \\n\\nI think you need to take a long look at your life and ask yourself if you are really happy? By all means promote equality, I do. But try not to only feel happy when you are making other feel bad.',\n",
       " 'Look everyone! To the surprise of exactly no one, a man has come to offer his unwanted opinion!',\n",
       " 'Then you would be lying... it didn’t happen to you',\n",
       " 'Feminist is CANCER',\n",
       " \"There is a very noticeable discrepancy when it comes to celebrating marriages and pregnancy as opposed to your personal, individual achievements. It's as if society thinks that getting married is akin to winning an award for excellence. Not to mention that I haven't seen men being congratulated on marriages and engagement. Everyone acts like they are being chained for the rest of their lives.\",\n",
       " 'Well the problem is:\\n\\n&gt;a woman can say \"this guy is helping the cause\" vs. \"this guy is being obnoxious/just wants the spotlight\\n  \\n\\nIt looks like all you really care about is the optics of being seen to be helpful.',\n",
       " 'We will!!',\n",
       " 'Canadian here - sorry, we’re too busy electing the brown face prime minister over the actual brown person with real ideas and solutions.',\n",
       " 'Well I hate it when people tell themselves lies to make them self’s feel better like the wage gap (which it not real) and how their is a rape culture ( which is also a lie) so no I need to tell people truth not that you can’t have your own opinion',\n",
       " \"I suppose so? I thought that a marriage would BE the celebration of that kind of a relationship. Like commiting to someone for your life and dating kind of seem like two different things. You could just not call it a marriage, but that seems kind of semantic.\\n\\nI don't think big expensive weddings or expensive wedding rings are that important, but I don't think it's silly to celebrate it, and maybe achievement is the wrong word but it kind of is a pretty big milestone if you choose to do it.\",\n",
       " 'Ikr..then some of them wonder why no one talks to them in the workplace lol they\\'re afraid to be reported about everything. And even after that the woman will be like \"THEY ISOLATE ME BECAUSE IM A WOMAN\"',\n",
       " \"England here: can't you guys just make her President?\",\n",
       " \"Read it too fast, and my brain thought it said 'heating tuna' at the end. Felt out of place, but still agreed with it.\",\n",
       " \"It's a toy? Are you being serious lol...girls aren't allowed to clean? What?? There's literally a toy that has a PICTURE of a boy cleaning..stop looking for things to get offended about! Let's make real change..not this victim shit smh\\n\\nhttps://www.walmart.com/ip/Melissa-Doug-Neat-Tidy-Housekeeping-Play-Set/531023114\",\n",
       " 'https://en.m.wikipedia.org/wiki/Tapputi',\n",
       " '&gt;same principle but with a different and \"undesirable\" outcome\\n\\nI know, I\\'m saying the outcome is flipped around.',\n",
       " 'it may not seem like much, and in an ideal society it wouldn’t be worth mentioning. but in a world where the sciences are thought of as ‘masculine’ i think it’s kinda cool :)',\n",
       " 'Go back to Incels or MGTOW. You clearly don’t belong here.',\n",
       " 'Just because you don’t understand marketing doesn’t mean you should go and write a bad review. How about do some research',\n",
       " 'It’s for games like house which are more commonly played by girls of ages 4-6 and that is exactly what this is targeted for. I’m not saying boys can’t play house i’m saying it’s less likely for them',\n",
       " \"This is so important. I see so many of my friends feeling down about not being pregnant or married. Meanwhile, they're getting jobs in the entertainment industry, getting their mental health together, graduating college, starting businesses, etc. All of this should be celebrated equally in my eyes. Whenever someone achieves something that means something to them then that's worthy of a celebration.\",\n",
       " 'I don’t know you but if you’re living your life in a way that makes you happy and isn’t hurting others than I’m proud of you!',\n",
       " 'Explain how please? I’m interested now',\n",
       " 'Finding someone to spend your life with isn’t a marriage, it’s a relationship and relationships  should be celebrated. Marriages and weddings are overrated. I think the relationship should be celebrated not the wedding or marriage.',\n",
       " 'Well the thing is that you twats are pointing every minuscule detail which goes against males I have never seen a feminist say anything a woman has done badly that’s since you “feminists” don’t give one',\n",
       " 'Little remarkable that you didn’t include in your list:\\n\\nGraduating,\\nNew job,\\nPromotion, \\nPay raise,\\nOther job related accomplishments...\\n\\nYou list inadvertently reads a bit sexist to me.',\n",
       " 'whichcraft',\n",
       " 'New York 2020 Election \\n\\n[Primary Election Party Affiliation Deadline](https://voterreg.dmv.ny.gov/MotorVoter/): February 14, 2020 \\n\\n[Primary Election Voter Registration Deadline](https://voterreg.dmv.ny.gov/MotorVoter/): April 3, 2020 \\n\\n[Primary Election](https://voterreg.dmv.ny.gov/MotorVoter/): April 28, 2020 \\n\\n[General Election Registration Deadline](https://voterlookup.elections.state.ny.us/votersearch.aspx): October 9, 2020 \\n\\n[General Election](https://voterlookup.elections.state.ny.us/votersearch.aspx): November 3, 2020',\n",
       " 'Congrats?',\n",
       " \"&gt; *Confessions of a Former “Reply Guy”*\\n\\nDecluttered version of this Slate Magazine's article archived on September 22, 2019 can be viewed on https://outline.com/ASCKDk\",\n",
       " 'No it’s not that men aren’t allowed to use a dustpan it’s that men don’t gravitate towards cleaning products and girls of that age use it for games like house. Boys are less likely to play that game so no it’s not sexist it’s marketing.',\n",
       " 'I mean, it can be in a non-toxic sense, I think finding someone to spend the rest of your life with who will treat you will is a pretty difficult thing to do',\n",
       " 'Just like the good old days :D',\n",
       " 'I’m not saying it’s wrong to strive for that. I’m not saying marriage is wrong at all. I just don’t think people should view it as this huge life achievement. I just think marriage is held to a higher standard of achievement for women over a lot of things. Some women might feel insecure if they don’t get married by a certain age or if they have friends who are getting married and they’re not. Some women might feel insecure if their marriage fails. \\n\\nThere’s nothing wrong with an individual (like yourself) aspiring for that. I’m just saying in general, we shouldn’t hold it to such a high standard. \\n\\nThere are so many things that one can accomplish in their life other than marriage',\n",
       " 'Youre really close to a ban here  for this ignorant comment.\\n\\ndont assume because I’m against the capitalist structures that by default oppress women and minorities I’m poor or that I’m uneducated.\\n\\n&amp;#x200B;\\n\\nread some Marx before you comment here again. And don’t assume the people you are discussing with online are ignorant of the situation because they disagree with you. \\n\\n&amp;#x200B;\\n\\nI find it especially telling that the commenters who argue this all then say or imply I’m not successful or live in poverty.\\n\\n&amp;#x200B;\\n\\n1. as if poverty was a value, a put down\\n2. as if non impoverished people can’t care\\n\\n&amp;#x200B;\\n\\nexamine yourself, and why you thought this was an appropriate comment.',\n",
       " 'We didn’t take it the wrong way. It is just wrong. I personally strive to marry with my girlfriend one day, and it’s my main goal in life, yet I still plan to do my PhD and to have other accomplishments. They are not mutually exclusive. \\n\\nJust because women have been taught through misogyny to see marriage as a life goal/accomplishment, doesn’t mean it still isn’t one. I understand where you might come from now, but those intentions were not shown with your initial comment.',\n",
       " '“Marriage is and should NOT be seen as an ACCOMPLISHMENT”\\n\\nI’m aware of your point and I completely accept it. I am a feminist after all. However, what they said is not what you just said.',\n",
       " 'I think you just misunderstood their comment. They’re not saying people shouldn’t get married or celebrate it, they’re saying the way our society prioritizes marriage, particularly for women, can in turn be just as toxic.',\n",
       " 'I know what you mean. Without sounding “woe is me”, sometimes I feel like I have to be proud of myself because no one else is. No one cares about my professional accomplishments because they’re all too eager for me to get married or pop out a kid (they seem to overlook the fact that I don’t even want kids!).',\n",
       " 'I never said anything was wrong with marriage. I said it shouldn’t be seen as an accomplishment. Women have always been taught to aspire to marriage rather than a career. Marriage shouldn’t be seen as a life goal or accomplishment. Not saying marriage is bad. You guys just took my comment the wrong way',\n",
       " 'Okay so, this is a lot but I’ll see what I can add. I’m 21 as well btw. \\n\\nI grew up always feeling like I wasn’t like other girls because I didn’t care about taking selfies or wearing makeup or dating. It was a weird sense of entitlement I had. I even used to pride myself for not fan girling over Justin Bieber when he had just came out. It felt good when boys would give me a pat on the back for not being obsessed with him like “other girls.” \\n\\nI am honestly ashamed that I used to think this way. I look back now in shame. I realize now that it is absolutely ridiculous to think you’re better than other girls who like typically girly things. \\n\\nMost women have to gone through this. Our society is set up to prioritize masculinity over femininity. So of course girls are going to grow up thinking that girly things are shameful and embarrassing. Of course girls are going to seek validation from boys and men. \\n\\nI’ve always had a feminist heart and my feminism used to be so narrow. The important thing is to always be open minded. If I wasn’t, I’d still be out here shaming girls for sleeping around while still calling myself a feminist. \\n\\nAnother thing to remember is that unfortunately we’re all suffering under patriarchy. (Men too if we’re being honest) That’s why I don’t participate in shaming women anymore. \\n\\nNot sure if I’ve answered your question. But lastly I’ll say, we all are dealing with internalized misogyny. Internalized racism, homophobia, transphobia, fatphobia etc. I think it’s great that you are aware of it and are trying to evolve. Nobody’s perfect and we’re all learning.',\n",
       " 'Everyone adjusts how they present themselves depending on the situation. If I dress formally for a job interview but in my private life, feel most comfortable in very different clothing, am I selling myself out? I would say no. \\n\\nAs you rightly point out, \"masculine\" and \"feminine\" labels for traits such as using makeup, natural body hair/hair removal, clothing, are arbitrary and imposed by society. \\n\\nI would go a step further and say that defining your \"authentic self\" using your appearance (hairy, makeup free, comfy baggy clothes) is also arbitrary. If you choose to dress differently on Monday than on Saturday, are you betraying your authentic self? I would say your outer shell doesn\\'t matter. Your authentic self is who you are inside. \"We\\'re all born naked and the rest is drag\" as RuPaul would say.\\n\\nTalk to your therapist about why you might be feeling pressure to dress a certain way in public, pretend to be dumber than your boyfriend, avoid leadership roles, etc. etc. and explore where these internal pressures might be coming from. It may be related to gender and there may be other factors at play, too. \\n\\nUntangling the unspoken \"rules\" you have inside about how you should act/look/behave and creating a stronger sense of who you are that isn\\'t based on appearances may be the missing piece of the puzzle you are looking for.',\n",
       " \"I agree. I'm pregnant, but I know Im not the center of the universe, and the things happening to me arent things that everyone needs to hear about for hours.\",\n",
       " \"So much yes! It sounds selfish, but I'm really tired of my accomplishments being looked over or dismissed because it's not pregnancy (flavor of the moment in my friend group) or buying a house.\",\n",
       " 'Let people celebrate what they want to celebrate. As long as it’s not toxic and doesn’t harm anyone, you have no reason for such a comment.',\n",
       " \"I don't see how this is related to feminism, but it's still important though\",\n",
       " 'Why?',\n",
       " \"yes, it sounds like you're suffering from internalized misogyny. i didn't go through anything like this, but i can reassure you that as someone who is both a mix of masculine and feminine that it is possible to be both and be happy. it seems to me that you already know what you want to do in terms of how you dress and act. what you need to get over is stopping yourself. you seem to be both uncomfortable holding yourself back and uncomfortable expressing yourself.\\n\\nyou already know that your mother is able to do it. your boyfriend loves it when you are comfortable and yourself around him. you owe it to yourself to allow yourself to act and dress however you want. you don't have to prove anything to anyone. if you want to wear your boyfriend's clothes and not shave, then do that! if one day you want to wear makeup and act more feminine, then do that! you're not stupid or pathetic or whatever else for wanting to be masculine, especially since you said you've been like that since a child!\\n\\nit can be hard to get over the things you've been through. you aren't the person you were pretending to be. you are whoever you want to be and again, you owe it to yourself to be who you are. ease yourself into it. start little by little to do the things you are so desperately wanting to do. eventually you will become more comfortable with it and let yourself shine.\\n\\nhope this helps!\",\n",
       " 'Hahahahahahahaahahahah',\n",
       " 'So brave!',\n",
       " 'Marriage is not and should not be seen as an accomplishment',\n",
       " 'So women are perfect gods and men are causing them to be toxic?',\n",
       " 'R/pointlesslygendered',\n",
       " 'I hear you, but a few things are wrong with your argument: \\n1- don\\'t generalize from one example (especially not an example from the Kardashians ...) \\n2- sounds like you\\'re just adding feminism to this but take your argument is \"capitalism makes bad people\" aka if you made a ton of money, you made it out of the work of other people. Yes I kinda agree with you and that is a major flaw of capitalism, to which we can add the impact on the environment, and lots of other things. It\\'s a whole debate and area of study that i don\\'t take want to get into but I mostly agree that capitalism means rich people made money off the back of workers. Both gender of workers. \\n3- you can find some subreddits about person finance for women. The \"feminist argument\" there is: women should get control of capital and change the way it is used. For example, women should own real estate and then not be sexist as to choosing tenants etc.',\n",
       " 'Essentially if someone says \"men are doing X\" then a common retort is \"not all men though\" with the implication being the issue is being exaggerated.  \\n\\nFor demonstrations sake:\\n\"Men are raping women\"\\n\"That\\'s absurd, not all men are rapist\"\\n\\nWhich is true. Not all men are rapist. The meme is suggests that men not in the target category can ignore messages like this because the people it is targeted at will instinctively listen. \\n\\nI obviously have my own opinion but that there\\'s the wrap on it.',\n",
       " 'Broom and dustpan as toys for girls will always baffle me',\n",
       " 'You seem offended by this post. Stop being So offended by everything',\n",
       " 'Why of course. Us men can only do manly things and clean the house with a steamroller and a chainsaw',\n",
       " 'Is my hymen your property?',\n",
       " 'Its the need of the market, where capital must convert its products or services into money, for profit!\\n\\nIn capitalism, profit rate has a tendency to fall to zero, despite all technical innovations and management of the human resources (to increase the exploitation &amp; hence surplus value)!\\n\\nNow capital (finance capital) is unable to find market or industries, even in the real estates and stock markets, banking services to invest, which is its basic need for growing.\\n\\nAnd we have sex fetish, giving huge competition to the living men or women in the sex market!\\n\\nThe actual freedom of women and even men workers is only in socialism, where production is not for profit but for social consumption!',\n",
       " 'If a guy owns a good woman he should never need a dustpan #fact',\n",
       " \"No one choose to do this job they were all left without a choice I mean they technically have the choice to leave and have this huge scar on thier resume cuz no one would hire them and starve \\nBut either way this shouldn't be considered a job no matter what\",\n",
       " 'Whatever the content, this study has a tiny sample size. I’ll care when I see a couple thousand more.',\n",
       " 'Wow sick argument there buddy, you really showed them. Shut the fuck up no one cares.',\n",
       " \"Heesh, that comment section. Didn't expect that from r/science...\",\n",
       " 'That bra on fire tho 🔥❤️',\n",
       " 'love the colours on these❤️ so satisfying making something just for u + looks like u did a great job on that!',\n",
       " \"Abrahamic religion invented the Patriarchy (not in general, but the kind with the capital P that we live under now), and they've had literally thousands of years to perfect forcing women to be subservient to men.\",\n",
       " 'I’m… tired. I just read through r/science comment section and now I need a nap, at 9 in the morning.',\n",
       " 'Can I buy a feminist AF sticker from you?',\n",
       " 'the problem is you, don’t blame it on men',\n",
       " '“Yeah this dumb and clearly just trying to prove a pre-decided point”\\n\\n“Here’s a study I found in which it said women prefer men that treat them badly”\\n\\nOh... boy',\n",
       " \"Is this a joke or so you seriously think that nonsense you just wrote is logical?\\n\\nMost girls not going into STEM fields doesn't negate the fact that a lot do. The point of the comic is that she's a girl and she likes chemistry, that's all there is to it. Liking chemistry isn't inherently masculine, so don't jump to conclusions of what someone's interests are just based on if they are feminine or masculine.\",\n",
       " 'I just came in here to see the inevitable \\'\\'but men can also be victims of domestic violence\\'\\' or the \"This doesn\\'t happen in the West\" or the \"Where are they getting these facts from.\"  comments but I see I arrived too early- I\\'ll come back later for a healthy debate!',\n",
       " 'Exactly my thoughts. Idk what has happened to /r/science, if the thread is being brigaded or what.',\n",
       " 'That comment thread is a dumpster fire',\n",
       " 'Love that they did this, even though the reason is so sad.',\n",
       " 'I think it is great you want to live your life it suits you best. Dont try to meet others expectations as long as you are happy with the results (it is not how your comment reads though). I am sure there are guys who would love you very much, but in general very few prefer appearance as you described yourself.',\n",
       " 'It is never the aim to create logical graphics. It is much more to create \"feelings\" that people can resonate with. And feminists can resonate pretty well anything that suggest they are a victim of something/someone else. Therefore they dont have to be an agent of their own life. :D',\n",
       " \"Really enjoyed this video, btw---the speaker is hilarious, honest, and just tells it like it is. I was seriously cracking up at some the things she said with regards to male patriarchy and everything else, because they are so true.  And, yeah---what kind of parent--father, in this case-- just goes online and blabs about getting his daughter checked yearly to see if her hymen's intact? I mean, that's just fucking weird, and why did he even put her personal business out there like that? It's like, he didn't even stop to think about how doing that would even effect her at all. On top of that, she 18, which means she's an adult now---which also means she no longer needs her father to go on any more checkups with her. Also, I didn't even get why the two female podcasters were laughing when TI said all this, because it wasn't even that damn funny, and I don't get why they didn't call him out on it.\",\n",
       " 'This cartoon is a logical fallacy, as it firstly assumes the premise that STEM is something a girl usually does.\\n\\nIn fact, females mostly choose non-STEM subjects at University, and mostly go for softer subjects such as nursing/social studies/liberal arts etc. Furthermore, there are even special programs to get women into STEM, yet they still choose to go into non-STEM fields.\\n\\nThe argument of the cartoon assumes:\\n\\nP = Girls mostly do STEM.\\n\\nQ = Therefore, it is appropriate to wear a bow whilst doing STEM.\\n\\nP -&gt; Q  \\n\\nP  \\n\\nTherefore, Q  \\n\\nHowever, the premise is invalid. Therefore, the conclusion is unsound as it is not valid as a result of the premise being valid. So, the argument is in fact:\\n\\nP -&gt; Q  \\n\\n¬P  \\n\\nTherefore, not Q\\n\\nThe creator of the cartoon needs a lesson in propositional logic and rhetoric before creating such fallacious pieces.',\n",
       " '1 in 2 women and 1 in 20 men. Such a big difference in numbers.\\n\\nI hear constantly of women being slapped, hit and emotionally abused and the amount of times I\\'ve over heard men say \"she must of done something to deserve it\"\\n\\nThere is still this attitude among many men of women needing to be \"put in their place\" \\nIt seems to me even in this day and age we as women are so far off from being treated like Humans,  the attitudes and beliefs of these men to me seem to be getting worse, not better.',\n",
       " 'So....? You hate hormones?',\n",
       " 'Men make up 70% of the victims of violence, where is out day?',\n",
       " 'Given that men make up something like 70% of all victims of violence, shouldn\\'t it be more imperative to look to reducing violence against men (being the majority of victims) with an \"International Day for the Elimination of Violence against men\"?\\n\\nOh wait... such a day does not exist.',\n",
       " 'Get back in the kitchen!',\n",
       " '\"TeAcH bOyS tHaT gIrLs ArE nOt A sExUaL ObJeCt!!\"\\n\\nHow bout you stfu, if you look at the clothes of girls from the age from 14-18 at school or in their  free time you\\'d see that they basically ask us boys to look at them. THEY ARE FUCKING ASKING US TO LOOK AT THEM BECAUSE THEY WANT THE ATTENTION!!\\n\\nBut instead of thinking rationally and making a fair statement, NO YOU JUST HAVE TO SAY THAT BOYS ONLY WANT TO FUCK THEM!!\\n\\n This entire subreddit is a joke. \\nFeminism is ok until a certain point but if Women or girls are starting to act like they have a higher worth than mens the whole shit will start all over again and we get masculinism.\\n\\nWomen and Man have the same exact rights from their day of birth and everyone who thinks/says different should just be quiet!!',\n",
       " \"You know, it would help if this triggered meme smith would get an education in economics. It's OK if she chooses to get a PHD and be an educator in stead of re-productively successful but that is a cost and benefit. That bill will come due if you start wishing you had had children. Furthermore, why get upset about this? If your views are superior then they will be successful and survive and the other will die out.\",\n",
       " 'Violence against women is good, they are worthless and are only good for cooking and cleaning, they should have no rights compared to men and we should be able to do whatever we want to them',\n",
       " 'Are you implying that stem jobs are only for girls? That’s sexist.',\n",
       " 'Are you implying that stem jobs are only for girls? That’s sexist, nîgger.',\n",
       " 'cringe!!!!!\\n\\n [https://www.youtube.com/watch?v=\\\\_WJEv-ODXcQ](https://www.youtube.com/watch?v=_WJEv-ODXcQ)',\n",
       " 'on the banner it says: Stop the punches that make the body and the heart bruise. Same fight against violence.',\n",
       " 'Id like to know what you mean by \"rape culture\"',\n",
       " \"For example: Rose, (bless her irl, and her acting), and Holdo were blatantly  quota members, backed up by Rian Johnson's quotes. This can be highlighted by both characters being under developed, and irrelevant. With poor acting. (The script is much more likely to be the issue, over talent of the actresses.) It was never part of the typical arc to include such a characters. We can compare to Hayden Christensen. Good actor, shit script. Shit performance. \\n\\nJust hire good actor's, and actresses for the original story arc. And support those that have battled to be where they are. Not everyone who has battled is that of a woman, of colour, or a victim. If you do this properly, without forcing an agenda. Then you will have equal representation throughout media that doesn't require any specific representation, without justified backlash from people who aren't even racist, or sexist. They just care about quality.\",\n",
       " \"In the US, at least, SO many WOC and indigenous women and girls go missing *every year* and it gets *no* press coverage, it's completely scandalous. Glad to see women in Belgium drawing attention to this important issue.\",\n",
       " 'Exactly!',\n",
       " \"No, they like to perpetuate the predetermined, and selective considerations, contrary to fact.\\n\\nI mean one of the director's is a Woman (an excellent director who understands Star Wars)..., and she hasn't suddenly added token members for the sake of 'diversity'.\",\n",
       " \"I agree with you. I have upvoted you. \\n\\nI'm still right. She has directed two episodes, and will direct an entire series. (good for her, she's excellent.) \\n\\nI'm alluding to the misconception that the 'patriachy' is causing a justified lack of 'diverse' cast members. There doesn't need to be a quota for any race, religion, or gender. Ever. For any media, as long as there isn't racism. Since she is a Woman director. \\n\\nOf which the episodes she has directed, have not had 'quota' style cast members, that only exist to perpetuate a sense of justice for those that clearly complain about the lack of such a system.\\n\\nRegardless of its illogicalities.\",\n",
       " 'lol',\n",
       " \"No. One of the directors is a woman.\\n\\n[https://en.m.wikipedia.org/wiki/The_Mandalorian](https://en.m.wikipedia.org/wiki/The_Mandalorian)\\n\\nAlso the main creator and *head writer* of the show is Jon Favreau.\\n\\nSo I don't know what you are really talking about\",\n",
       " 'Thank you!',\n",
       " 'Brussels is hands down one of my favorite places I’ve ever been',\n",
       " 'Check the side bar. It helps men but the focus is on women’s issues.',\n",
       " 'Most feminists I’ve talked to pull the textbook definition of it being for helping both, assumed y’all were following that definition',\n",
       " 'All posts must relate to women’s issues.\\nFeminism is necessarily about women’s issues, not men’s.',\n",
       " 'good idea',\n",
       " 'My college did an event on that today.',\n",
       " 'Can you call in a complaint to the school board. Not the school itself but the higher authority. This is ridiculous.',\n",
       " 'This isn’t an appropriate sub for this question, so your post has been removed.\\nYou can use r/askfeminists or r/ask women’s cheers!',\n",
       " 'But posting there would be catering to echo chamber mentality \\n\\nThanks anyway',\n",
       " 'Yikes. No.\\nBanned for posting from an uneducated perspective',\n",
       " 'Hello! I think this type of post may be more appropriate for r/askfeminists or r/askwomen. \\nGood luck!',\n",
       " 'This is absolutely true, but it is off topic (all posts are required to be about women’s issues). \\n\\nYour post has been removed, but it may be appropriate for r/menslib. Cheers!',\n",
       " 'Love this. In Canada we have the red dress to symbolize all the missing and murdered indigenous women',\n",
       " 'Look. If you’re happy with your appearance, but some guy only likes it when you look different, would you really want to pretend for the rest of your life?\\n\\nExpress yourself however you like, and you’ll only attract people who like you. Express yourself how you think other people will like you, and you’ll only attract people who like the person you’re pretending to be.\\n\\ntldr: be yourself. if they don’t like that, they’re not worth it',\n",
       " 'That’s interesting. Relevance?',\n",
       " 'Damn thats a good quote',\n",
       " 'How is this a feminist issue?',\n",
       " 'So it is as valueless as it is commonplace?',\n",
       " 'Ok if all women stopped having babies it’s not like men can start squeezing them out there ass',\n",
       " 'Don’t forget that random man raped me',\n",
       " 'No point to get mad it’s a 50/50 chance to guess it right',\n",
       " 'It would seem so. But that argument seems to be made quite often.',\n",
       " 'bullshit',\n",
       " 'So women consenting to Maledom sex are \"expressing their repressed sexuality in a patriarchal world\"?\\n\\nSo basically, the assumption is that the patriarchy trains bother men and women that women shouldn\\'t enjoy sex. Ergo a woman enjoying Maledom is a reversal of this...isn\\'t that an unnecessary stretch?\\n\\nBy the same logic, wouldn\\'t any act any women does consensually with the intent to receive sexual gratification is an \"expression of repressed sexuality in a patriarchal world\"?',\n",
       " 'The director is a Woman.',\n",
       " 'WW2? \\n\\nPlease revise your history.',\n",
       " \"Playing devil's advocate to OP I see\",\n",
       " 'Periodically I will get in a debate or discussion online and the other person will run out of arguments and bring up my emotions (\"you need to chill\", \"you\\'re way too worked up about this\", etc. despite there being no emotionally charged language in my comments). So far, it\\'s always been men who describe themselves as \"logical\" and demonstrate no flexibility in understanding any perspective beyond their own. \\n\\nOne time a guy did this in a discussion where I referenced Coca Cola having cocaine back in the day, he said Coca Cola never had cocaine, and I provided a source. Apparently providing a source meant I was worked up and emotional about it.',\n",
       " 'I looked and didn’t see any negative comments on the last post. Maybe they were deleted?',\n",
       " 'I guess these downvotes mean no one else thinks that considering your daughter a possession is shocking.',\n",
       " ' Yeah, I\\'ve experienced this this from a couple of men too, particularly the \"emotional\" thing.',\n",
       " 'Thanks',\n",
       " 'I hate the way they gatekeep the entire internet like buddy it doesnt belong to you and also not everywhere on the internet is as toxic as the spaces you huddle in with your toxic friends',\n",
       " \"You don't have to apologize, you didn't generalize\",\n",
       " \"Its not just the fact that they don't experience it, it's also the fact that women's voices carry less weight in a patriarchal society thus far (this is changing but women still don't get taken as seriously as men do). On top of the power imbalance, there's also the fact that there is a conflict of interest in that a lot of men benefit from ignoring women's experiences more than vice versa.\",\n",
       " \"It's cuz they fuck their wives.\",\n",
       " \"It's not a negative at all... 👍\",\n",
       " 'there is no patriarchy, there is no wagegap',\n",
       " 'But how come they suddenly “see” when they have an infant daughter?',\n",
       " 'Some men joke about uncomfortable topics because talking about them seriously makes them feel vulnerable in a way society views as weakness. They use the “Can’t you take a joke?” defense to cover for feeling stupid when being called out. It’s juvenile behavior, certainly, but it’s not really about you. It’s a defense mechanism. Of course some men are just assholes who only feel big by making other people feel small. Either way, you’re probably better off not taking it too seriously.',\n",
       " 'I’m a white male so when I say this there is all sorts of baggage that comes along with it, and I’m a chronic over thinker. So read what I type as 90% paranoia and 10% fact. I think maybe the colors should be mixed up a little? The implication being that the white women are already in powered and they’re gonna carry the women of color upward with them. But maybe I’m over analyzing it. Because in the end, the shirt is just about empowering all women. And that’s the important part.',\n",
       " 'Fuck this man and fuck everyone who keeps the conversation moving along before people actually think about what they saw.',\n",
       " \"I'm so happy to hear that, good luck with everything!\",\n",
       " 'ok, this doesnt matter that much because most guys i know just apply so they can get a job. They just say its better to have a job then to not have one so they apply when they dont meet all of the requirements l.',\n",
       " 'Bringing ectopic pregnancy to term.   The only term most ectopic pregnancy brings is the death of the mother and the death of the fetus.\\n\\nEven right wing religious zealots would know that so it gives me pause in my belief of this article.',\n",
       " 'maybe its because men see the world their kids will grow up in is bad. I think if i was a parent i would care about my daughter more than my wife.',\n",
       " \"yes. they don't care about feminism, they care about keeping other men from their possession.\",\n",
       " 'The generalization upsets me because it flies in the face of everything feminism works towards. It’s an assumption based on personal thoughts and isolated observation. I could argue, by that logic, that because I’ve never sexually assaulted a woman, men don’t need to make changes in their behavior towards women. \\n\\nThat’s just wrong. It assumes that my personal experience is the only circumstance and completely omits the experiences of the victims that do get assaulted, it assumes that no men need to change, and it also generalizes that the entire male gender has the same mentality, \\n\\nIf we want to achieve true change, we need to all be on the same page and we need to encourage positive change. There’s no need to attack men that change their mindset to fight for women’s rights; if you encourage that behavior, more people will see the positive in it and want to change, whereas if you attack it, people won’t want to change out of fear of being attacked. And the statement by OP that all men who change their mindset do it due to possessive tendencies diminishes the individuals who’ve changed their mindset because they haven’t encountered those difficulties before and are just learning about those oppressions',\n",
       " 'Thank you for putting this so eloquently.\\n\\nThe world isn’t black and white, and generalisations like this post are dangerous to the entire idea of feminism.',\n",
       " 'I don’t think that’s what this is highlighting.  We see people’s experiences because of our connections to them?  I understand the argument, but most people are guilty of having a lack of empathy for causes they’re not either a direct part of or don’t have an ‘entry point’ into it through someone else.',\n",
       " 'And?  I really struggle with these ‘lets dismantle what that person thinks feminism is’ things.  A person, has seen the benefits of the movement, and therefore it’s out job to encourage further ways of thinking not criticise that person straight away.\\n\\nThe movement only can succeed if it’s inclusive.',\n",
       " \"It's so interesting because the first thing I noticed in the picture was the size of the woman's thighs which I read as normal or 'Hollywood large' rather than skinny.\\n\\nThe subjectiveness of art.\",\n",
       " 'Isn’t that inherently sexist',\n",
       " 'I ain\\'t mad at the characterization. \\n\\nI used to have an initial reaction, when women told me things about their lives, that was based on my own experience.\\n\\n\"What the f*** why would anyone do that? Seems totally illogical and crazy. How could someone think that they get anything positive out of that?.\"\\n\\nTurns out, I was wrong to try to apply my life\\'s logic.\\n\\nSo I assume that when women say this, they\\'re applying their lives logic. \\n\\nThat\\'s going to be a failing proposition for them too, because there\\'s no logic in male privilege.',\n",
       " \"when a woman is spewing some bullshit but you can't really say anything cause you're scared she'll accuse you of rape for hurting her feelings\",\n",
       " 'Yeah. I think it’s odd that in an attempt to raise awareness about the struggles a certain gender faces, we end up attacking the other gender. That’s not equality, and it’s no way to encourage the behavior we want to encourage. \\n\\nAn alternative post could have been “I’m glad that after having a daughter, some men realize the struggles women endure daily and begin to fight for equality”. It would have conveyed the same importance about the problems women face while, instead of baselessly berating and attributing a negative quality (possessiveness) to an entire gender, celebrating the fact that people are making a positive change in their way of thinking. The post just seems pointlessly antagonizing',\n",
       " \"That's a good point! I never realized this before. Hopefully this changes soon! I googled and found that Honey Lemon from Big Hero Six wears glasses (she's not a princess though but it's some representation at least)\",\n",
       " \"You're not that great of a guy if you're refusing to accept that she may just not want to give you her number.\",\n",
       " 'Yes, totally. The \"possession\" thing did seem to come out of nowhere.',\n",
       " \"Getting offended doesn't change facts, and also the gender gap is real, if you havent done your research you could at least search it on r/AskFeminists\",\n",
       " 'That’s a good point you make; since women are usually accustomed to the garbage they have to deal with, it’s harder to see it through their eyes. But a child doesn’t know better, and you learn first hand how oppressed women can be. \\n\\nTo add to your point though, OP is also assuming that every father of a daughter that shares this change in mindset is under the same circumstance. To generalize this to all men is wrong, and to suggest it’s just the fact that the daughter is their possession so now they suddenly care is worse. Maybe that’s the case for some men, but not all. Maybe the father had a one night stand with the mother, and interacts largely with men in his life. How could he understand the challenges women face in that case? Of course his mind will likely change when he has a daughter and can experience it first hand. Is that cause he treats his daughter as his possession? No. And that’s a dangerous/sexist generalization to make. \\n\\nThat’s just one example. Maybe the mother and father communicate but the mother doesn’t share her struggles. Maybe the mother comes from a higher class background where she’s never had to worry about typical problems, and so the father doesn’t see them. There’s lots of potential examples where the father could only learn of the struggles women face after having a daughter and experiencing it himself through his care for her. Not just because he thinks she’s his possession',\n",
       " 'I used to be right leaning not too long ago (circa 2 years ago(?)), and when I say right leaning, I mean an extremist conservative that belived in \"states\\' rights\", that race based police violence is because black parents teach their kids to be fearful of and violent towards cops, and that while sexual assault is not the fault of the victim \"that they should know that there are SOME sickos out there and these reactions are to be expected\" (especially ashamed of this one) and I can say this, with 100% confidence, that that argument does not work at all, unless you are a feminist yourself, you will not buy this argument (for the very simple fact that if you did actually know what feminism is and are a good person, you\\'d be a feminist already)\\n\\nThis is especially the case with actual far right wingers, they view that argument as an increadibly weak attempt way to fool them and infiltrate their minds and thoughts with lies to only to then reveal our evil cis straight white man hating agendas when it\\'s already too late.\\n\\nI\\'d say the best way to actually do that, is if the person is not as much a right winger as I used to be, and is much more open minded and liberal, simply bring up feminist talking points when talking about feminist issues, if you\\'ve managed to change their mind to actually agree with feminism, all it takes is a simple \"ta da!\" And even if they won\\'t adopt the lable immediately, they at least already agree with most of feminism.\\n\\nI\\'d also recommend avoiding feminist terms, when talking about toxic masculinty, maybe say \"the damaging expectation society has on males to be/do:\".\\n\\nAnother thing to take into consideration is to discuss the cause before the result, people not open to feminsim or just coming out of the right will take a \"men are usually taught to suppress all emotions other than anger\" slowly shifting towards \"and because of that expressions of anger or strength are usually either rewarded or disregarded\" and then finally \"which later causes a lot of problems (ie. Lack of communication with partners. Violence. Difficulty with emotional vulnerabilty/connections. Etc.)\" Than a quick \"men are a lot of the times violent due to toxic masculinty\"\\n\\nI know this reality sucks, and I\\'m frankly sorry for being that type of guy before, but if I hadn\\'t have found resources of information more akin to what I described works best, I would have stayed exactly where I was, believing the same lies I used to believe, and this entire process would have slowed to a screeching hault. An increadible channel called \"innuendo studios\" has a fantastic series called \"the alt right playbook\" which is great for understanding what we\\'re dealing with',\n",
       " 'Hence the word ‘some’. They said ‘some men’',\n",
       " 'Or anyone who is at work.',\n",
       " \"Aight bois we did it, we are misogynists, because we identify as gamers and are male.\\nBut really, why is it a thing, to take a whole group of people and then say they're bad, just cuz some dumbass said some stupid shit?\",\n",
       " \"Nah, saw eachother for a while, realized we wanted different things, and now we're good friends.\",\n",
       " 'Lizzo’s music is always amazing, and I really like the lyrics in Nightmare. I’ve already got the songs on one of my Spotify playlists. Thank you! :)',\n",
       " 'Women already do that and sometimes pay the price for it.\\n\\nIt\\'s not about \"not all men are like that\". Not everyone is going to rob your car, but you lock the doors anyways. \\n\\nImagine, and I know this is difficult for you because you\\'re a man and lack empathy, but just imagine walking in a dangerous neighborhood with thousands of dollars in your bag. Would you feel scared or nervous? \\n\\nThat is how some women feel when they reject men or are alone with men.',\n",
       " 'Firstly, everebody can write something into Wikipedia, which is why students in germany are not allowed, to state it as their source. Second of all, these \"statistics\" don\\'t take into accound, how verified someone is, or how likely he is to make overtime, or how long the person has been in the bussines. If you take everything into account, you will see, that women with completely equal qualifications to man actually get paid a bit more in germany and in the UK. I don\\'t know, if it\\'s the same in the USA. Keep in mind, that I talk about germany and the UK, so if the wage gap really exists in your country, you\\'re free to complain about it. My point is, that most feminists are driven by emotions and therefore ignore logic and just take qoutes from sources, that are everything, but reliable. It\\'s even possible, that not one of them will read this whole comment, because they just click on dislike and get offendet. Anyways I just would like to ask you feminists, to stop thinking with your heart and your emotions and start thinking with your brain, we man also have a lot of issues and just ignoring this fact and telling everybody, how man are bad and evil, won\\'t get you anywhere.\\nEDIT: This was meant for all feminists and not for you, couldn\\'t find a better place for this.',\n",
       " 'Ooooo.... I really like ‘Runs in the Family.’ Thank you for the suggestions! I’m definitely putting them on a playlist.',\n",
       " 'I try, but it’s hard when American society makes being a women so hopeless and shameful. I wish it was as simple as remembering.',\n",
       " \"You're completely right. Just veing in the internet is no excuse for these kind of jokes. I make them sometimes with my close friends, cuz I know they don't care. \\nWow didn't think I would ever agree with the opinion of a feminist... life is strange.\",\n",
       " 'this is fantastic advice. thank you.',\n",
       " 'Good for her! Those games are competitive af',\n",
       " 'You might want to consider whether this truly is a \"growing\" issue or not. There are historical roots for many of the things you are talking about. It also sounds like you\\'re focused mostly on the juxtaposition of the western ideals of innocence and sexuality, so you may want to clarify what cultures you\\'re exploring these themes in. There are taboos in western society about it, yet in other parts of the world it is not uncommon for there to be child brides. \\n\\nIf I were making a piece on this I would probably try to narrow my focus a little bit, and figure out exactly what I was trying to say/explore.',\n",
       " \"That's true and I don't think we really differ on the main points here.\",\n",
       " 'Huh, never knew. Thanks for the info!',\n",
       " 'No, actually. It’s a tough boundary to navigate, but the stance here is that we can support women (and men or nbs) who enjoy an element of pain during sex. We can support partners who do it for those who want it, and support those who enjoy giving their partner what they want.\\n\\n What we can’t support is people who enjoy not those elements, but the actual pain it brings.\\n\\nThere is no room here for men (or women) who enjoy pain, or even degradation of others and seek that out. \\n\\nA woman who gets off on choking her female partner is not acceptable. A woman who enjoys her partners enjoyment of breath play, or enjoys it herself - ok.',\n",
       " \"So it seems you've formed a couple straw men.\\n\\nI don't think I've seen anyone claim that unwanted touching is rape or that being bumped into is rape.  I have no idea where you've gotten that idea from.  Maybe you got this from silly Tumblr post and thought that was a valid representation of the entire philosophy of feminism, I dunno.  \\n\\nWhat I do see is feminists saying that men believing they can touch women (hugs, pats on the back, etc) is part of our rape culture - it's a sense of entitlement to give unwanted attention without consent.  I also don't see what is very hard about asking someone if you can touch them or sticking to high-5s where they have to consent unvocally to exchange a sign of happiness to each other.  I also have to say do you stop and ask yourself if you would touch your male coworkers/peers in the same way?\\n\\nYou don't seem to understand that the pay gap is about refusing to put women in positions of power.  Men aren't better at being C level leaders in businesses, we just end up with the job more often. \\n\\nLastly, I'm going to discuss violence against men because this has absolutely been a part of my life and you're not helping by lying about it. \\n\\nWe cannot have a discussion about the violence against men because to even discuss it is a violation of the current masculine template.  It's to enter into the idea that you were weaker than someone else and to open yourself to ridicule; men are always supposed to solve their own problems, asking for help is a sign of weakness, etc.  This is why MRAs and MGTOWs, and the other manosphere types will never solve any of the issues that men face because in order to solve it we have to believe that men can be vulnerable, and be allowed to express those emotional traits which are commonly associated with the feminine. \\n\\nAll I ever see the idea of violence against men being used for is exactly what you've done; as a bullet point to try and misdirect someone else's conversation away from what they said to make the conversation about men.  I have never seen them actually discuss any type of healing process, or how we can nurture one another back to normalcy and out of the path of violence.  Again in order to do so it's going to require re-shaping what it means to be a man and no one but people ready to dig into the deepest pits of their souls are really ready to have this conversation in 2019.\",\n",
       " \"Pretty much. I try to stay away from any negative spaces on here but they're on popular sometimes and it ruins my day. People don't even try to behave, let alone be kind, on the internet\",\n",
       " 'Then how about you pay to cast more females roles? Filmmakers don’t owe you anything, movies are not supposed to be about “equality” It’s a damn film that’s supposed to entertain you.',\n",
       " 'Because I can hit you with miles of evidence of how when Women were given the right to vote our country has been in decline ever since',\n",
       " 'The sugar obsessed part of me wishes it was a pie though.  Mmm.',\n",
       " 'I was there too !',\n",
       " 'Human beings, the victims?',\n",
       " 'Well, they need an all woman PowerPoint even more than I thought.',\n",
       " \"I completely agree with you. To me it's no different than the fire department.\",\n",
       " 'If your partner enjoys having it done to them, and you enjoy pleasuring them, do you consider that problematic?',\n",
       " 'There’s a difference between liking it done to you and enjoying doing it to others. \\n\\nThis is the type of nuance we are trying to introduce.',\n",
       " 'Yes. It’s not good in America, I would be significantly worse off and likely refused insurance.',\n",
       " \"Just... like... I knew how bad we had it here on an intellectual level, but seeing you lay out what it's like in your country to cleanly like this just felt like a punch in the gut.\",\n",
       " '?',\n",
       " 'Holy fucking shit...',\n",
       " '&gt; In time I came to realise that she was probably right. Ambition and independence are a good deal further up the hierarchy of need than security. It’s pretty realistic to assume that the quickest way to ward off a coercive and abusive man is to find another man who is kinder and stronger to stand in the way. \\n\\n...\\n\\n&gt; **Before I worked in prisons, I had assumed that sex work must be quite well paid per hour – that even those with a pimp could surely enjoy a 60:40 split of the takings.** This was wishful thinking. Although there are plenty of women like Phoebe, they are less likely to end up in jail, meeting people like me. Most of the women I met were getting more like 10%, or being paid in drugs and housing rather than cash. The almost universally male pimps often have a group of women in their employ and rake in the takings in return for protection. In other words, it’s a racket. Survival sex work has a worse gender pay gap than almost any other industry. “Does anyone disagree with Phoebe?” I asked. There was a silence, then Lesley piped up. “I don’t see anyone’s boyfriends having to go out on the game,” she said. Phoebe rolled her eyes. “No one’s making you, babe. And no one is setting your prices that low either.” I started to sense that there was some sort of argument from the wing going on here that I was not aware of, and the spat was working its way into our discussion in the guise of a price war. “You’re bringing everyone’s prices down with what you charge on the pavement, you slut.” By this point, they had both got up. “We do the same thing,” Lesley shouted. “Don’t you go thinking you’re better than me.” By this point, I had lost the room. Security had arrived. **And the questions I had planned about unionisation and female solidarity were drowned out by more immediate concerns.** \\n\\n&amp;#x200B;\\n\\nHow out of touch do you have to be?',\n",
       " 'So because she was attractive to the detective, she was less believable about grieving the loss of her son? What kind of fucked up logic is that?!',\n",
       " 'What do you mean help exactly and ‘help’ can cover a broad set of things from NHS care to social care and benefits',\n",
       " 'I guess my biggest question is how much help you get? Most people in the US are very stressed about medicine on an ongoing basis. It consumes our whole lives.',\n",
       " 'Well I can answer questions about the UK and disability. I’m disabled and my boyfriend is my registered carer. I have friends who’s re disabled who have parents, children or partners as their carer.',\n",
       " \"Ah, well I'm a Yankee so that makes sense.\",\n",
       " \"The disabled-person side I knew a little bit about thanks to [Jessica Kellgren-Fozard's video on the topic](https://www.youtube.com/watch?v=JJpKvWS-inA), but the allowance, etc. is new information.\",\n",
       " 'But she sees none of the profits :(',\n",
       " 'These are pretty interchangeable in the U.K. ‘Carer’ is more of an official term.',\n",
       " 'Yes. £60 a week as long as the disabled person accrues a certain amount of disability benefit.',\n",
       " 'Yeah and caring for an elderly person that you love and respect is especially hard.  Watching them deteriorate before you sucks major ass.',\n",
       " 'So anyone who disagrees with you is just a different version of the same \"ignorant\" label? This proves nothing and helps no one. It\\'s also pathologically dangerous and narcissistic.   \\n\\nYour defensive reactions in this post are no different than other forms of science denial. You are part of the ongoing problem of politicizing science to fit the well-intentioned, but often misguided feel-good sentiments of popular culture. Also, denying science, lowering science literacy, and denying differences exist between sexes is no way to achieve equality.  How can we accept and appreciate who we are while ignoring or denying crucial aspects of ourselves? Your rhetoric is inflammatory; fixing divides with divides.\\n\\nYou are not engaging (or ceasing engagement) with most people in this thread; just parroting the same explanation of neurosexism. I don\\'t know how you\\'re missing it, but the reality is that no one in this post - or any legitimate scientist that I\\'ve ever seen referenced on this topic - believes that the differences found in the brain between sexes bear any significance on one being \"better\" than the other. Nor does any one of any merit have an interest in making this kind of claim. I mean, think about it. The brain is SO COMPLEX. How in the world could any self-respecting scientist (or anyone for that matter) answer a question we quite clearly don\\'t have the evidence or ability to answer. What is so harmful about studying this? It\\'s essential for many different reasons, including the study of gender dysphoria. And what is so harmful about acknowledging significant differences in the brain between the sexes? Just because there are some sexist people out there who bullshit about any findings doesn\\'t make it any different than what we\\'re already dealing with. Meanwhile, the consequences of denying, misinterpreting, or hiding scientific findings have far-reaching and highly dangerous consequences.',\n",
       " \"Right?! And even then it's a terrible idea. Just because someone is a woman doesn't mean they're a trained nurse! Nursing is a hard AF job!\",\n",
       " \"It's their culture so we have to respect them. Isn't that what you all say here?\",\n",
       " 'I have a friend who has pretty much said something good about every candidates EXCEPT the female candidates. And he’s a “liberal” libertarian.',\n",
       " 'Possibly, I just saw carer and was like \"huh?\"   \\nIt\\'s a silly, pedantic aside.  Unfortunately, I also can understand why this is happening.  We still seem to expect women to be caregivers while us tough and rugged men go out and fight dragons or something.',\n",
       " 'The UK gets a caregiver allowance?',\n",
       " \"Maybe it's to include women who care for people but aren't like a live-in nurse?\",\n",
       " 'Of course there’s an ephebophilia dude. Get out.',\n",
       " \"Anecdotally, it sounds correct.   Without the study or more information it's hard to parse.\",\n",
       " 'A pedophile is someone who has a sexual preference for prepubescent children... not 17 year olds lol. \\n\\n&amp;#x200B;\\n\\n16 is legal in most states of the US.',\n",
       " 'Carers?',\n",
       " 'I agree that people can\\'t consent to being murdered.  I am not versed in the finer points of criminal law, but it seems like it should be difficult to establish any grounds for a \"rough sex defense\".  People should be dealing with hazards in the planning stage.',\n",
       " 'The prosecution in Grace Millane case argued that even if she consented to \"rough sex\" she couldn\\'t consent to being murdered and the murderer could have known at many points that she was in danger and he should stop.\\n\\nI think that\\'s the point here, people can consent to anything up to a point and after that point their preferences are irrelevant and it becomes a crime. This is especially true where someone has died because they can\\'t respond to the claim that they \"asked for it\".',\n",
       " \"Totally agree. I think it's also about the trauma for the family and the disgusting misogyny, as well as the conviction rates.\",\n",
       " 'Jesus Christ, looks like it\\'s a pretty shit defense already.\\n\\n\"According to the campaign group\\xa0We Can’t Consent to This, in the past decade 30 women and girls have been killed in what was claimed to have been consensual violent sexual activity in the UK.\"\\n\\n\"Of those, 17 resulted in men being convicted of murder, nine led to manslaughter convictions and two ended in acquittals.\"\\n\\nStill, even if only 2 men have been acquitted over the past 10 years, that\\'s still 2 too many.',\n",
       " 'This is unfortunate to hear about.  Misuse of that defense risks killing actual rough sex for its fans.  If people are afraid that it\\'ll be used as an excuse to get away with murder, they\\'ll stop trying things that might look rough.  If it\\'s known in advance that someone doesn\\'t like rough sex, the rough sex defense won\\'t hold up in court.  Making that the demise of things people would otherwise consent to and enjoy would deepen the misfortune.\\n\\nI\\'ve never been into roughness myself, but I\\'ve met people who were without being any danger to others.  I had a friend of a friend who was into using knives in sex - knives!  I found that shocking, but he did no great harm to anyone; there was one mishap with damages purely psychological.  He was into well-planned scenes - I\\'ll return to that point.  I\\'m always leery of \"blame the porn\" responses too, since I\\'ve seen some pretty wild art that I liked without wanting to do anything like it myself, and I\\'ve known people who are into unbelievably weird porn without any sign that they\\'re a danger to themselves or others.\\n\\nI believe we ought to tell people to *plan* rough sex encounters, and to *never* tolerate impulsive roughness.  To make it a life rule, an acknowledged footnote in one\\'s open presence.  I can\\'t be sure about this, since I wasn\\'t into the rough side of things myself, but that planning seems like the kind of rule that would\\'ve been up in that side of life.  There was definitely always a lot of pro-negotiation chatter floating around.  Making it acknowledged was definitely part of that scene, since people also flagged their roughness levels pretty clearly.  I don\\'t remember ever being shocked by where someone fell on the rough/gentle continuum.  The slogan \"Safe, Sane, and Consensual\" can be used to introduce some pretty exotic things sometimes... if people are still into exotic things after they\\'ve done all the \"boring\" scene planning work to equalize the power differentials and establish the boundaries in advance.  Safety is key.\\n\\nSafety is the fruit of planning and boundaries.  Sexual wildness should only be simulated.  People with impulse-control deficits shouldn\\'t be having rough sex.',\n",
       " '???',\n",
       " 'For many people, yes, not a good reason to support it.',\n",
       " ...]"
      ]
     },
     "execution_count": 88,
     "metadata": {},
     "output_type": "execute_result"
    }
   ],
   "source": [
    "list(test[test['post']==1]['body'].values.flatten())"
   ]
  }
 ],
 "metadata": {
  "kernelspec": {
   "display_name": "Python 3.10.4 ('redditbots')",
   "language": "python",
   "name": "python3"
  },
  "language_info": {
   "codemirror_mode": {
    "name": "ipython",
    "version": 3
   },
   "file_extension": ".py",
   "mimetype": "text/x-python",
   "name": "python",
   "nbconvert_exporter": "python",
   "pygments_lexer": "ipython3",
   "version": "3.10.4"
  },
  "orig_nbformat": 4,
  "vscode": {
   "interpreter": {
    "hash": "2b2a55f9055c2400523b349fd3301d5efeb6493fd652ed128c88c237df22f590"
   }
  }
 },
 "nbformat": 4,
 "nbformat_minor": 2
}
