{
 "cells": [
  {
   "cell_type": "code",
   "execution_count": 48,
   "metadata": {},
   "outputs": [],
   "source": [
    "import pandas as pd\n",
    "import requests\n",
    "import json\n",
    "import numpy as np"
   ]
  },
  {
   "cell_type": "markdown",
   "metadata": {},
   "source": [
    "# Setting  up"
   ]
  },
  {
   "cell_type": "code",
   "execution_count": 3,
   "metadata": {},
   "outputs": [],
   "source": [
    "# note that CLIENT_ID refers to 'personal use script' and SECRET_TOKEN to 'token'\n",
    "auth = requests.auth.HTTPBasicAuth('BMqT9-TtQsS95OJUScGvGw', 'Y3FARMDLa1zm2NcbwAwuNrJR_IdNag')"
   ]
  },
  {
   "cell_type": "code",
   "execution_count": 4,
   "metadata": {},
   "outputs": [],
   "source": [
    "# setup our header info, which gives reddit a brief description of our app\n",
    "headers = {'User-Agent': 'botstudy/0.0.1'}"
   ]
  },
  {
   "cell_type": "code",
   "execution_count": 5,
   "metadata": {},
   "outputs": [],
   "source": [
    "# here we pass our login method (password), username, and password\n",
    "data = {'grant_type': 'password',\n",
    "        'username': 'softyarn',\n",
    "        'password': '1532679!Qa1',\n",
    "        'User-Agent':'botstudy/0.0.1'}"
   ]
  },
  {
   "cell_type": "code",
   "execution_count": 6,
   "metadata": {},
   "outputs": [],
   "source": [
    "# setup our header info, which gives reddit a brief description of our app\n",
    "headers = {'User-Agent': 'MyBot/0.0.1'}"
   ]
  },
  {
   "cell_type": "code",
   "execution_count": 7,
   "metadata": {},
   "outputs": [],
   "source": [
    "# send our request for an OAuth token\n",
    "res = requests.post('https://www.reddit.com/api/v1/access_token',\n",
    "                    auth=auth, data=data, headers=headers)"
   ]
  },
  {
   "cell_type": "code",
   "execution_count": 8,
   "metadata": {},
   "outputs": [
    {
     "data": {
      "text/plain": [
       "{'access_token': '167791397396-cl1mspkC7aP6Zi6M2eQBTddLJq4VtQ',\n",
       " 'token_type': 'bearer',\n",
       " 'expires_in': 86400,\n",
       " 'scope': '*'}"
      ]
     },
     "execution_count": 8,
     "metadata": {},
     "output_type": "execute_result"
    }
   ],
   "source": [
    "# convert response to JSON and pull access_token value\n",
    "res.json()"
   ]
  },
  {
   "cell_type": "code",
   "execution_count": 9,
   "metadata": {},
   "outputs": [],
   "source": [
    "# convert response to JSON and pull access_token value\n",
    "token = res.json()['access_token']"
   ]
  },
  {
   "cell_type": "code",
   "execution_count": 10,
   "metadata": {},
   "outputs": [],
   "source": [
    "# add authorization to our headers dictionary\n",
    "headers['Authorization'] = 'bearer {}'.format(token)"
   ]
  },
  {
   "cell_type": "code",
   "execution_count": 11,
   "metadata": {},
   "outputs": [
    {
     "data": {
      "text/plain": [
       "{'is_employee': False,\n",
       " 'seen_layout_switch': False,\n",
       " 'has_visited_new_profile': False,\n",
       " 'pref_no_profanity': True,\n",
       " 'has_external_account': False,\n",
       " 'pref_geopopular': '',\n",
       " 'seen_redesign_modal': False,\n",
       " 'pref_show_trending': True,\n",
       " 'subreddit': {'default_set': False,\n",
       "  'user_is_contributor': False,\n",
       "  'banner_img': '',\n",
       "  'restrict_posting': True,\n",
       "  'user_is_banned': False,\n",
       "  'free_form_reports': True,\n",
       "  'community_icon': None,\n",
       "  'show_media': True,\n",
       "  'icon_color': '',\n",
       "  'user_is_muted': None,\n",
       "  'display_name': 'u_softyarn',\n",
       "  'header_img': None,\n",
       "  'title': '',\n",
       "  'coins': 0,\n",
       "  'previous_names': [],\n",
       "  'over_18': False,\n",
       "  'icon_size': [256, 256],\n",
       "  'primary_color': '',\n",
       "  'icon_img': 'https://styles.redditmedia.com/t5_3ef3ey/styles/profileIcon_snoo86ebddf0-4659-47c8-9ad6-b6ca0588943d-headshot-f.png?width=256&amp;height=256&amp;crop=256:256,smart&amp;s=86680ec95737b7ce10db712e2889672a4de8bbf1',\n",
       "  'description': '',\n",
       "  'allowed_media_in_comments': [],\n",
       "  'submit_link_label': '',\n",
       "  'header_size': None,\n",
       "  'restrict_commenting': False,\n",
       "  'subscribers': 0,\n",
       "  'submit_text_label': '',\n",
       "  'is_default_icon': False,\n",
       "  'link_flair_position': '',\n",
       "  'display_name_prefixed': 'u/softyarn',\n",
       "  'key_color': '',\n",
       "  'name': 't5_3ef3ey',\n",
       "  'is_default_banner': True,\n",
       "  'url': '/user/softyarn/',\n",
       "  'quarantine': False,\n",
       "  'banner_size': None,\n",
       "  'user_is_moderator': True,\n",
       "  'accept_followers': False,\n",
       "  'public_description': '',\n",
       "  'link_flair_enabled': False,\n",
       "  'disable_contributor_requests': False,\n",
       "  'subreddit_type': 'user',\n",
       "  'user_is_subscriber': False},\n",
       " 'pref_show_presence': False,\n",
       " 'snoovatar_img': 'https://i.redd.it/snoovatar/avatars/86ebddf0-4659-47c8-9ad6-b6ca0588943d.png',\n",
       " 'snoovatar_size': [380, 600],\n",
       " 'gold_expiration': None,\n",
       " 'has_gold_subscription': False,\n",
       " 'is_sponsor': False,\n",
       " 'num_friends': 0,\n",
       " 'features': {'mod_service_mute_writes': True,\n",
       "  'promoted_trend_blanks': True,\n",
       "  'show_amp_link': True,\n",
       "  'chat': True,\n",
       "  'is_email_permission_required': False,\n",
       "  'mod_awards': True,\n",
       "  'mweb_xpromo_revamp_v3': {'owner': 'growth',\n",
       "   'variant': 'treatment_4',\n",
       "   'experiment_id': 480},\n",
       "  'mweb_xpromo_revamp_v2': {'owner': 'growth',\n",
       "   'variant': 'control_1',\n",
       "   'experiment_id': 457},\n",
       "  'awards_on_streams': True,\n",
       "  'webhook_config': True,\n",
       "  'mweb_xpromo_modal_listing_click_daily_dismissible_ios': True,\n",
       "  'live_orangereds': True,\n",
       "  'cookie_consent_banner': True,\n",
       "  'modlog_copyright_removal': True,\n",
       "  'do_not_track': True,\n",
       "  'mod_service_mute_reads': True,\n",
       "  'chat_user_settings': True,\n",
       "  'use_pref_account_deployment': True,\n",
       "  'mweb_xpromo_interstitial_comments_ios': True,\n",
       "  'chat_subreddit': True,\n",
       "  'mweb_sharing_clipboard': {'owner': 'growth',\n",
       "   'variant': 'control_1',\n",
       "   'experiment_id': 315},\n",
       "  'premium_subscriptions_table': True,\n",
       "  'mweb_xpromo_interstitial_comments_android': True,\n",
       "  'crowd_control_for_post': True,\n",
       "  'noreferrer_to_noopener': True,\n",
       "  'mweb_sharing_web_share_api': {'owner': 'growth',\n",
       "   'variant': 'control_2',\n",
       "   'experiment_id': 314},\n",
       "  'chat_group_rollout': True,\n",
       "  'resized_styles_images': True,\n",
       "  'spez_modal': True,\n",
       "  'mweb_xpromo_modal_listing_click_daily_dismissible_android': True,\n",
       "  'expensive_coins_package': True},\n",
       " 'can_edit_name': False,\n",
       " 'verified': True,\n",
       " 'new_modmail_exists': None,\n",
       " 'pref_autoplay': True,\n",
       " 'coins': 0,\n",
       " 'has_paypal_subscription': False,\n",
       " 'has_subscribed_to_premium': False,\n",
       " 'id': '252ynytw',\n",
       " 'has_stripe_subscription': False,\n",
       " 'oauth_client_id': 'BMqT9-TtQsS95OJUScGvGw',\n",
       " 'can_create_subreddit': True,\n",
       " 'over_18': True,\n",
       " 'is_gold': False,\n",
       " 'is_mod': False,\n",
       " 'awarder_karma': 111,\n",
       " 'suspension_expiration_utc': None,\n",
       " 'has_verified_email': True,\n",
       " 'is_suspended': False,\n",
       " 'pref_video_autoplay': True,\n",
       " 'in_chat': True,\n",
       " 'has_android_subscription': False,\n",
       " 'in_redesign_beta': True,\n",
       " 'icon_img': 'https://styles.redditmedia.com/t5_3ef3ey/styles/profileIcon_snoo86ebddf0-4659-47c8-9ad6-b6ca0588943d-headshot-f.png?width=256&amp;height=256&amp;crop=256:256,smart&amp;s=86680ec95737b7ce10db712e2889672a4de8bbf1',\n",
       " 'has_mod_mail': False,\n",
       " 'pref_nightmode': False,\n",
       " 'awardee_karma': 13,\n",
       " 'hide_from_robots': True,\n",
       " 'password_set': True,\n",
       " 'link_karma': 40,\n",
       " 'force_password_reset': False,\n",
       " 'total_karma': 225,\n",
       " 'seen_give_award_tooltip': False,\n",
       " 'inbox_count': 1,\n",
       " 'seen_premium_adblock_modal': False,\n",
       " 'pref_top_karma_subreddits': False,\n",
       " 'has_mail': True,\n",
       " 'pref_show_snoovatar': False,\n",
       " 'name': 'softyarn',\n",
       " 'pref_clickgadget': 5,\n",
       " 'created': 1605193849.0,\n",
       " 'gold_creddits': 0,\n",
       " 'created_utc': 1605193849.0,\n",
       " 'has_ios_subscription': False,\n",
       " 'pref_show_twitter': False,\n",
       " 'in_beta': True,\n",
       " 'comment_karma': 61,\n",
       " 'accept_followers': False,\n",
       " 'has_subscribed': True,\n",
       " 'linked_identities': ['https://accounts.google.com'],\n",
       " 'seen_subreddit_chat_ftux': False}"
      ]
     },
     "execution_count": 11,
     "metadata": {},
     "output_type": "execute_result"
    }
   ],
   "source": [
    "# while the token is valid (~2 hours) we just add headers=headers to our requests. End point: GET /api/v1/me\n",
    "requests.get('https://oauth.reddit.com/api/v1/me', headers=headers).json()"
   ]
  },
  {
   "cell_type": "markdown",
   "metadata": {},
   "source": [
    "# Miscellanous scraping"
   ]
  },
  {
   "cell_type": "code",
   "execution_count": null,
   "metadata": {},
   "outputs": [],
   "source": [
    "#Get moderators of feminisms\n",
    "fems= requests.get('https://oauth.reddit.com/r/feminisms/about/moderators', headers=headers).json()"
   ]
  },
  {
   "cell_type": "code",
   "execution_count": null,
   "metadata": {},
   "outputs": [],
   "source": [
    "pd.DataFrame(fems['data']['children'])"
   ]
  },
  {
   "cell_type": "markdown",
   "metadata": {},
   "source": [
    "# Get comments by name"
   ]
  },
  {
   "cell_type": "markdown",
   "metadata": {},
   "source": [
    "## Write function"
   ]
  },
  {
   "cell_type": "code",
   "execution_count": 130,
   "metadata": {},
   "outputs": [],
   "source": [
    "def comments(source_dir) :\n",
    "    df = pd.read_csv(source_dir)\n",
    "    df = df[[\"link_id\",\"body\"]]\n",
    "    df[\"note\"] = np.where(df[\"body\"] == \"[removed]\", \"removed\", np.where(df[\"body\"] == \"[deleted]\", \"deleted\", \"text\"))\n",
    "\n",
    "    for i in range(len(df[\"link_id\"])):\n",
    "        x = \",\".join(df[\"link_id\"])\n",
    "    #x = df[\"link_id\"].to_string(header= False, index = False).split(\",\")\n",
    "    #vals =  [','.join(ele.split()) for ele in x]\n",
    "    return x"
   ]
  },
  {
   "cell_type": "code",
   "execution_count": 131,
   "metadata": {},
   "outputs": [
    {
     "name": "stderr",
     "output_type": "stream",
     "text": [
      "C:\\Users\\nguye\\AppData\\Local\\Temp\\ipykernel_36428\\3507331379.py:2: DtypeWarning: Columns (3) have mixed types. Specify dtype option on import or set low_memory=False.\n",
      "  df = pd.read_csv(source_dir)\n"
     ]
    }
   ],
   "source": [
    "fds_list = data_prep(source_dir = \"E:/gihub-data/redditbots/fds/fds_comments.csv\")"
   ]
  },
  {
   "cell_type": "code",
   "execution_count": 133,
   "metadata": {},
   "outputs": [
    {
     "name": "stderr",
     "output_type": "stream",
     "text": [
      "C:\\Users\\nguye\\AppData\\Local\\Temp\\ipykernel_36428\\2950681155.py:1: DtypeWarning: Columns (3) have mixed types. Specify dtype option on import or set low_memory=False.\n",
      "  fds = pd.read_csv(\"E:/gihub-data/redditbots/fds/fds_comments.csv\")\n"
     ]
    }
   ],
   "source": [
    "fds = pd.read_csv(\"E:/gihub-data/redditbots/fds/fds_comments.csv\")\n",
    "fds = fds[[\"link_id\",\"body\"]]\n",
    "fds[\"note\"] = np.where(fds[\"body\"] == \"[removed]\", \"removed\", np.where(fds[\"body\"] == \"[deleted]\", \"deleted\", \"text\"))"
   ]
  },
  {
   "cell_type": "code",
   "execution_count": 148,
   "metadata": {},
   "outputs": [],
   "source": [
    "for i in range(len(fds[\"link_id\"])):\n",
    "    x = \",\".join(fds[\"link_id\"][i:i+20])\n",
    "    comments = requests.get('https://oauth.reddit.com/by_id/names',headers=headers,params={'names': x})\n",
    "    i = i + "
   ]
  },
  {
   "cell_type": "code",
   "execution_count": 147,
   "metadata": {},
   "outputs": [
    {
     "ename": "IndexError",
     "evalue": "list index out of range",
     "output_type": "error",
     "traceback": [
      "\u001b[1;31m---------------------------------------------------------------------------\u001b[0m",
      "\u001b[1;31mIndexError\u001b[0m                                Traceback (most recent call last)",
      "\u001b[1;32me:\\github\\redditbots\\reddit_api.ipynb Cell 21\u001b[0m in \u001b[0;36m<cell line: 1>\u001b[1;34m()\u001b[0m\n\u001b[1;32m----> <a href='vscode-notebook-cell:/e%3A/github/redditbots/reddit_api.ipynb#X61sZmlsZQ%3D%3D?line=0'>1</a>\u001b[0m comment_df \u001b[39m=\u001b[39m pd\u001b[39m.\u001b[39mDataFrame\u001b[39m.\u001b[39mfrom_dict(comments\u001b[39m.\u001b[39;49mjson()\u001b[39m.\u001b[39;49mget(\u001b[39m\"\u001b[39;49m\u001b[39mdata\u001b[39;49m\u001b[39m\"\u001b[39;49m)\u001b[39m.\u001b[39;49mget(\u001b[39m\"\u001b[39;49m\u001b[39mchildren\u001b[39;49m\u001b[39m\"\u001b[39;49m)[\u001b[39m25\u001b[39;49m]\u001b[39m.\u001b[39mget(\u001b[39m\"\u001b[39m\u001b[39mdata\u001b[39m\u001b[39m\"\u001b[39m), orient \u001b[39m=\u001b[39m \u001b[39m\"\u001b[39m\u001b[39mindex\u001b[39m\u001b[39m\"\u001b[39m)\u001b[39m.\u001b[39mtranspose()\n",
      "\u001b[1;31mIndexError\u001b[0m: list index out of range"
     ]
    }
   ],
   "source": [
    "comment_df = pd.DataFrame.from_dict(comments.json().get(\"data\").get(\"children\")[25].get(\"data\"), orient = \"index\").transpose()"
   ]
  },
  {
   "cell_type": "code",
   "execution_count": 140,
   "metadata": {},
   "outputs": [
    {
     "data": {
      "text/html": [
       "<div>\n",
       "<style scoped>\n",
       "    .dataframe tbody tr th:only-of-type {\n",
       "        vertical-align: middle;\n",
       "    }\n",
       "\n",
       "    .dataframe tbody tr th {\n",
       "        vertical-align: top;\n",
       "    }\n",
       "\n",
       "    .dataframe thead th {\n",
       "        text-align: right;\n",
       "    }\n",
       "</style>\n",
       "<table border=\"1\" class=\"dataframe\">\n",
       "  <thead>\n",
       "    <tr style=\"text-align: right;\">\n",
       "      <th></th>\n",
       "      <th>approved_at_utc</th>\n",
       "      <th>subreddit</th>\n",
       "      <th>selftext</th>\n",
       "      <th>author_fullname</th>\n",
       "      <th>saved</th>\n",
       "      <th>mod_reason_title</th>\n",
       "      <th>gilded</th>\n",
       "      <th>clicked</th>\n",
       "      <th>title</th>\n",
       "      <th>link_flair_richtext</th>\n",
       "      <th>...</th>\n",
       "      <th>author_flair_text_color</th>\n",
       "      <th>permalink</th>\n",
       "      <th>parent_whitelist_status</th>\n",
       "      <th>stickied</th>\n",
       "      <th>url</th>\n",
       "      <th>subreddit_subscribers</th>\n",
       "      <th>created_utc</th>\n",
       "      <th>num_crossposts</th>\n",
       "      <th>media</th>\n",
       "      <th>is_video</th>\n",
       "    </tr>\n",
       "  </thead>\n",
       "  <tbody>\n",
       "    <tr>\n",
       "      <th>0</th>\n",
       "      <td>None</td>\n",
       "      <td>FemaleDatingStrategy</td>\n",
       "      <td>The older we get, the more scared of us they a...</td>\n",
       "      <td>t2_3t1jriw3</td>\n",
       "      <td>False</td>\n",
       "      <td>None</td>\n",
       "      <td>0</td>\n",
       "      <td>False</td>\n",
       "      <td>Don't buy the \"women hit the wall at 25\" incel...</td>\n",
       "      <td>[]</td>\n",
       "      <td>...</td>\n",
       "      <td>None</td>\n",
       "      <td>/r/FemaleDatingStrategy/comments/ceyqp6/dont_b...</td>\n",
       "      <td>no_ads</td>\n",
       "      <td>False</td>\n",
       "      <td>https://www.reddit.com/r/FemaleDatingStrategy/...</td>\n",
       "      <td>248208</td>\n",
       "      <td>1563486298.0</td>\n",
       "      <td>1</td>\n",
       "      <td>None</td>\n",
       "      <td>False</td>\n",
       "    </tr>\n",
       "  </tbody>\n",
       "</table>\n",
       "<p>1 rows × 106 columns</p>\n",
       "</div>"
      ],
      "text/plain": [
       "  approved_at_utc             subreddit  \\\n",
       "0            None  FemaleDatingStrategy   \n",
       "\n",
       "                                            selftext author_fullname  saved  \\\n",
       "0  The older we get, the more scared of us they a...     t2_3t1jriw3  False   \n",
       "\n",
       "  mod_reason_title gilded clicked  \\\n",
       "0             None      0   False   \n",
       "\n",
       "                                               title link_flair_richtext  ...  \\\n",
       "0  Don't buy the \"women hit the wall at 25\" incel...                  []  ...   \n",
       "\n",
       "  author_flair_text_color                                          permalink  \\\n",
       "0                    None  /r/FemaleDatingStrategy/comments/ceyqp6/dont_b...   \n",
       "\n",
       "  parent_whitelist_status stickied  \\\n",
       "0                  no_ads    False   \n",
       "\n",
       "                                                 url subreddit_subscribers  \\\n",
       "0  https://www.reddit.com/r/FemaleDatingStrategy/...                248208   \n",
       "\n",
       "    created_utc num_crossposts media is_video  \n",
       "0  1563486298.0              1  None    False  \n",
       "\n",
       "[1 rows x 106 columns]"
      ]
     },
     "execution_count": 140,
     "metadata": {},
     "output_type": "execute_result"
    }
   ],
   "source": [
    "comment_df"
   ]
  },
  {
   "cell_type": "code",
   "execution_count": 82,
   "metadata": {},
   "outputs": [
    {
     "ename": "IndexError",
     "evalue": "list index out of range",
     "output_type": "error",
     "traceback": [
      "\u001b[1;31m---------------------------------------------------------------------------\u001b[0m",
      "\u001b[1;31mIndexError\u001b[0m                                Traceback (most recent call last)",
      "\u001b[1;32me:\\github\\redditbots\\reddit_api.ipynb Cell 19\u001b[0m in \u001b[0;36m<cell line: 2>\u001b[1;34m()\u001b[0m\n\u001b[0;32m      <a href='vscode-notebook-cell:/e%3A/github/redditbots/reddit_api.ipynb#X52sZmlsZQ%3D%3D?line=4'>5</a>\u001b[0m df \u001b[39m=\u001b[39m pd\u001b[39m.\u001b[39mDataFrame()\n\u001b[0;32m      <a href='vscode-notebook-cell:/e%3A/github/redditbots/reddit_api.ipynb#X52sZmlsZQ%3D%3D?line=6'>7</a>\u001b[0m \u001b[39mfor\u001b[39;00m x \u001b[39min\u001b[39;00m \u001b[39mrange\u001b[39m(i,i\u001b[39m+\u001b[39m\u001b[39m100\u001b[39m):\n\u001b[1;32m----> <a href='vscode-notebook-cell:/e%3A/github/redditbots/reddit_api.ipynb#X52sZmlsZQ%3D%3D?line=7'>8</a>\u001b[0m     comment \u001b[39m=\u001b[39m pd\u001b[39m.\u001b[39mDataFrame\u001b[39m.\u001b[39mfrom_dict(submissions\u001b[39m.\u001b[39;49mjson()\u001b[39m.\u001b[39;49mget(\u001b[39m\"\u001b[39;49m\u001b[39mdata\u001b[39;49m\u001b[39m\"\u001b[39;49m)\u001b[39m.\u001b[39;49mget(\u001b[39m\"\u001b[39;49m\u001b[39mchildren\u001b[39;49m\u001b[39m\"\u001b[39;49m)[i]\u001b[39m.\u001b[39mget(\u001b[39m\"\u001b[39m\u001b[39mdata\u001b[39m\u001b[39m\"\u001b[39m), orient \u001b[39m=\u001b[39m \u001b[39m\"\u001b[39m\u001b[39mindex\u001b[39m\u001b[39m\"\u001b[39m)\u001b[39m.\u001b[39mtranspose()\n\u001b[0;32m      <a href='vscode-notebook-cell:/e%3A/github/redditbots/reddit_api.ipynb#X52sZmlsZQ%3D%3D?line=8'>9</a>\u001b[0m     df \u001b[39m=\u001b[39m pd\u001b[39m.\u001b[39mconcat([df,comment])\n",
      "\u001b[1;31mIndexError\u001b[0m: list index out of range"
     ]
    }
   ],
   "source": [
    "i = 0\n",
    "for i in range(len(fds_list)):\n",
    "    comments = requests.get('https://oauth.reddit.com/by_id/names',headers=headers,params={'names': fds_list[i:i+100]})\n",
    "    \n",
    "    df = pd.DataFrame()\n",
    "\n",
    "    for x in range(i,i+100):\n",
    "        comment = pd.DataFrame.from_dict(submissions.json().get(\"data\").get(\"children\")[i].get(\"data\"), orient = \"index\").transpose()\n",
    "        df = pd.concat([df,comment])\n"
   ]
  },
  {
   "cell_type": "code",
   "execution_count": 127,
   "metadata": {},
   "outputs": [
    {
     "ename": "AttributeError",
     "evalue": "'NoneType' object has no attribute 'get'",
     "output_type": "error",
     "traceback": [
      "\u001b[1;31m---------------------------------------------------------------------------\u001b[0m",
      "\u001b[1;31mAttributeError\u001b[0m                            Traceback (most recent call last)",
      "\u001b[1;32me:\\github\\redditbots\\reddit_api.ipynb Cell 21\u001b[0m in \u001b[0;36m<cell line: 1>\u001b[1;34m()\u001b[0m\n\u001b[1;32m----> <a href='vscode-notebook-cell:/e%3A/github/redditbots/reddit_api.ipynb#X34sZmlsZQ%3D%3D?line=0'>1</a>\u001b[0m comment_df \u001b[39m=\u001b[39m pd\u001b[39m.\u001b[39mDataFrame\u001b[39m.\u001b[39mfrom_dict(comments\u001b[39m.\u001b[39;49mjson()\u001b[39m.\u001b[39;49mget(\u001b[39m\"\u001b[39;49m\u001b[39mdata\u001b[39;49m\u001b[39m\"\u001b[39;49m)\u001b[39m.\u001b[39;49mget(\u001b[39m\"\u001b[39m\u001b[39mchildren\u001b[39m\u001b[39m\"\u001b[39m)[\u001b[39m0\u001b[39m]\u001b[39m.\u001b[39mget(\u001b[39m\"\u001b[39m\u001b[39mdata\u001b[39m\u001b[39m\"\u001b[39m), orient \u001b[39m=\u001b[39m \u001b[39m\"\u001b[39m\u001b[39mindex\u001b[39m\u001b[39m\"\u001b[39m)\u001b[39m.\u001b[39mtranspose()\n",
      "\u001b[1;31mAttributeError\u001b[0m: 'NoneType' object has no attribute 'get'"
     ]
    }
   ],
   "source": [
    "comment_df = pd.DataFrame.from_dict(comments.json().get(\"data\").get(\"children\")[0].get(\"data\"), orient = \"index\").transpose()"
   ]
  },
  {
   "cell_type": "code",
   "execution_count": 108,
   "metadata": {},
   "outputs": [
    {
     "ename": "IndexError",
     "evalue": "list index out of range",
     "output_type": "error",
     "traceback": [
      "\u001b[1;31m---------------------------------------------------------------------------\u001b[0m",
      "\u001b[1;31mIndexError\u001b[0m                                Traceback (most recent call last)",
      "\u001b[1;32me:\\github\\redditbots\\reddit_api.ipynb Cell 22\u001b[0m in \u001b[0;36m<cell line: 3>\u001b[1;34m()\u001b[0m\n\u001b[0;32m      <a href='vscode-notebook-cell:/e%3A/github/redditbots/reddit_api.ipynb#X55sZmlsZQ%3D%3D?line=1'>2</a>\u001b[0m i \u001b[39m=\u001b[39m \u001b[39m0\u001b[39m\n\u001b[0;32m      <a href='vscode-notebook-cell:/e%3A/github/redditbots/reddit_api.ipynb#X55sZmlsZQ%3D%3D?line=2'>3</a>\u001b[0m \u001b[39mfor\u001b[39;00m i \u001b[39min\u001b[39;00m \u001b[39mrange\u001b[39m(\u001b[39m0\u001b[39m,\u001b[39m99\u001b[39m):\n\u001b[1;32m----> <a href='vscode-notebook-cell:/e%3A/github/redditbots/reddit_api.ipynb#X55sZmlsZQ%3D%3D?line=3'>4</a>\u001b[0m     comment \u001b[39m=\u001b[39m pd\u001b[39m.\u001b[39mDataFrame\u001b[39m.\u001b[39mfrom_dict(comments\u001b[39m.\u001b[39;49mjson()\u001b[39m.\u001b[39;49mget(\u001b[39m\"\u001b[39;49m\u001b[39mdata\u001b[39;49m\u001b[39m\"\u001b[39;49m)\u001b[39m.\u001b[39;49mget(\u001b[39m\"\u001b[39;49m\u001b[39mchildren\u001b[39;49m\u001b[39m\"\u001b[39;49m)[i]\u001b[39m.\u001b[39mget(\u001b[39m\"\u001b[39m\u001b[39mdata\u001b[39m\u001b[39m\"\u001b[39m), orient \u001b[39m=\u001b[39m \u001b[39m\"\u001b[39m\u001b[39mindex\u001b[39m\u001b[39m\"\u001b[39m)\u001b[39m.\u001b[39mtranspose()\n\u001b[0;32m      <a href='vscode-notebook-cell:/e%3A/github/redditbots/reddit_api.ipynb#X55sZmlsZQ%3D%3D?line=4'>5</a>\u001b[0m     df \u001b[39m=\u001b[39m pd\u001b[39m.\u001b[39mconcat([df,comment])\n",
      "\u001b[1;31mIndexError\u001b[0m: list index out of range"
     ]
    }
   ],
   "source": [
    "df = pd.DataFrame()\n",
    "i = 0\n",
    "for i in range(0,99):\n",
    "    comment = pd.DataFrame.from_dict(comments.json().get(\"data\").get(\"children\")[i].get(\"data\"), orient = \"index\").transpose()\n",
    "    df = pd.concat([df,comment])"
   ]
  },
  {
   "cell_type": "code",
   "execution_count": 119,
   "metadata": {},
   "outputs": [
    {
     "data": {
      "text/plain": [
       "{'kind': 'Listing',\n",
       " 'data': {'after': None,\n",
       "  'dist': 1,\n",
       "  'modhash': None,\n",
       "  'geo_filter': '',\n",
       "  'children': [{'kind': 't3',\n",
       "    'data': {'approved_at_utc': None,\n",
       "     'subreddit': 'FemaleDatingStrategy',\n",
       "     'selftext': \"The older we get, the more scared of us they are because we've learned not to fall for their bullshit. That's all it is.\",\n",
       "     'author_fullname': 't2_3t1jriw3',\n",
       "     'saved': False,\n",
       "     'mod_reason_title': None,\n",
       "     'gilded': 0,\n",
       "     'clicked': False,\n",
       "     'title': 'Don\\'t buy the \"women hit the wall at 25\" incel lie. It is a strategy to make women insecure and settle for losers. Older women are confident. Confidence is power.',\n",
       "     'link_flair_richtext': [],\n",
       "     'subreddit_name_prefixed': 'r/FemaleDatingStrategy',\n",
       "     'hidden': False,\n",
       "     'pwls': 0,\n",
       "     'link_flair_css_class': None,\n",
       "     'downs': 0,\n",
       "     'thumbnail_height': None,\n",
       "     'top_awarded_type': None,\n",
       "     'hide_score': False,\n",
       "     'name': 't3_ceyqp6',\n",
       "     'quarantine': False,\n",
       "     'link_flair_text_color': 'dark',\n",
       "     'upvote_ratio': 0.94,\n",
       "     'author_flair_background_color': None,\n",
       "     'subreddit_type': 'restricted',\n",
       "     'ups': 214,\n",
       "     'total_awards_received': 0,\n",
       "     'media_embed': {},\n",
       "     'thumbnail_width': None,\n",
       "     'author_flair_template_id': None,\n",
       "     'is_original_content': False,\n",
       "     'user_reports': [],\n",
       "     'secure_media': None,\n",
       "     'is_reddit_media_domain': False,\n",
       "     'is_meta': False,\n",
       "     'category': None,\n",
       "     'secure_media_embed': {},\n",
       "     'link_flair_text': None,\n",
       "     'can_mod_post': False,\n",
       "     'score': 214,\n",
       "     'approved_by': None,\n",
       "     'is_created_from_ads_ui': False,\n",
       "     'author_premium': False,\n",
       "     'thumbnail': 'self',\n",
       "     'edited': False,\n",
       "     'author_flair_css_class': None,\n",
       "     'author_flair_richtext': [],\n",
       "     'gildings': {},\n",
       "     'content_categories': None,\n",
       "     'is_self': True,\n",
       "     'mod_note': None,\n",
       "     'created': 1563486298.0,\n",
       "     'link_flair_type': 'text',\n",
       "     'wls': 0,\n",
       "     'removed_by_category': None,\n",
       "     'banned_by': None,\n",
       "     'author_flair_type': 'text',\n",
       "     'domain': 'self.FemaleDatingStrategy',\n",
       "     'allow_live_comments': True,\n",
       "     'selftext_html': '&lt;!-- SC_OFF --&gt;&lt;div class=\"md\"&gt;&lt;p&gt;The older we get, the more scared of us they are because we&amp;#39;ve learned not to fall for their bullshit. That&amp;#39;s all it is.&lt;/p&gt;\\n&lt;/div&gt;&lt;!-- SC_ON --&gt;',\n",
       "     'likes': None,\n",
       "     'suggested_sort': 'confidence',\n",
       "     'banned_at_utc': None,\n",
       "     'view_count': None,\n",
       "     'archived': False,\n",
       "     'no_follow': False,\n",
       "     'is_crosspostable': True,\n",
       "     'pinned': False,\n",
       "     'over_18': False,\n",
       "     'all_awardings': [],\n",
       "     'awarders': [],\n",
       "     'media_only': False,\n",
       "     'can_gild': True,\n",
       "     'spoiler': False,\n",
       "     'locked': False,\n",
       "     'author_flair_text': None,\n",
       "     'treatment_tags': [],\n",
       "     'visited': False,\n",
       "     'removed_by': None,\n",
       "     'num_reports': None,\n",
       "     'distinguished': None,\n",
       "     'subreddit_id': 't5_xaiot',\n",
       "     'author_is_blocked': False,\n",
       "     'mod_reason_by': None,\n",
       "     'removal_reason': None,\n",
       "     'link_flair_background_color': '',\n",
       "     'id': 'ceyqp6',\n",
       "     'is_robot_indexable': True,\n",
       "     'report_reasons': None,\n",
       "     'author': 'Vulvasaurus9',\n",
       "     'discussion_type': None,\n",
       "     'num_comments': 80,\n",
       "     'send_replies': True,\n",
       "     'whitelist_status': 'no_ads',\n",
       "     'contest_mode': False,\n",
       "     'mod_reports': [],\n",
       "     'author_patreon_flair': False,\n",
       "     'author_flair_text_color': None,\n",
       "     'permalink': '/r/FemaleDatingStrategy/comments/ceyqp6/dont_buy_the_women_hit_the_wall_at_25_incel_lie/',\n",
       "     'parent_whitelist_status': 'no_ads',\n",
       "     'stickied': False,\n",
       "     'url': 'https://www.reddit.com/r/FemaleDatingStrategy/comments/ceyqp6/dont_buy_the_women_hit_the_wall_at_25_incel_lie/',\n",
       "     'subreddit_subscribers': 248199,\n",
       "     'created_utc': 1563486298.0,\n",
       "     'num_crossposts': 1,\n",
       "     'media': None,\n",
       "     'is_video': False}}],\n",
       "  'before': None}}"
      ]
     },
     "execution_count": 119,
     "metadata": {},
     "output_type": "execute_result"
    }
   ],
   "source": [
    "comments.json()"
   ]
  },
  {
   "cell_type": "code",
   "execution_count": 89,
   "metadata": {},
   "outputs": [
    {
     "name": "stdout",
     "output_type": "stream",
     "text": [
      "0\n",
      "1\n",
      "2\n",
      "3\n",
      "4\n",
      "5\n",
      "6\n",
      "7\n",
      "8\n",
      "9\n",
      "10\n",
      "11\n",
      "12\n",
      "13\n",
      "14\n",
      "15\n",
      "16\n",
      "17\n",
      "18\n",
      "19\n",
      "20\n",
      "21\n",
      "22\n",
      "23\n",
      "24\n",
      "25\n",
      "26\n",
      "27\n",
      "28\n",
      "29\n",
      "30\n",
      "31\n",
      "32\n",
      "33\n",
      "34\n",
      "35\n",
      "36\n",
      "37\n",
      "38\n",
      "39\n",
      "40\n",
      "41\n",
      "42\n",
      "43\n",
      "44\n",
      "45\n",
      "46\n",
      "47\n",
      "48\n",
      "49\n",
      "50\n",
      "51\n",
      "52\n",
      "53\n",
      "54\n",
      "55\n",
      "56\n",
      "57\n",
      "58\n",
      "59\n",
      "60\n",
      "61\n",
      "62\n",
      "63\n",
      "64\n",
      "65\n",
      "66\n",
      "67\n",
      "68\n",
      "69\n",
      "70\n",
      "71\n",
      "72\n",
      "73\n",
      "74\n",
      "75\n",
      "76\n",
      "77\n",
      "78\n",
      "79\n",
      "80\n",
      "81\n",
      "82\n",
      "83\n",
      "84\n",
      "85\n",
      "86\n",
      "87\n",
      "88\n",
      "89\n",
      "90\n",
      "91\n",
      "92\n",
      "93\n",
      "94\n",
      "95\n",
      "96\n",
      "97\n",
      "98\n",
      "99\n"
     ]
    }
   ],
   "source": [
    "for i in range(0,100):\n",
    "    print(i)"
   ]
  },
  {
   "cell_type": "code",
   "execution_count": 20,
   "metadata": {},
   "outputs": [],
   "source": [
    "submissions =  requests.get('https://oauth.reddit.com/by_id/names',headers=headers,params={'names':\"t3_e4t8fw,t3_djaq2o,t3_d4b9y1\", 'raw_json': '1'})"
   ]
  },
  {
   "cell_type": "code",
   "execution_count": 15,
   "metadata": {},
   "outputs": [
    {
     "data": {
      "text/plain": [
       "<Response [200]>"
      ]
     },
     "execution_count": 15,
     "metadata": {},
     "output_type": "execute_result"
    }
   ],
   "source": [
    "submissions"
   ]
  },
  {
   "cell_type": "code",
   "execution_count": 21,
   "metadata": {},
   "outputs": [],
   "source": [
    "submissions_test = pd.DataFrame.from_dict(submissions.json().get(\"data\").get(\"children\")[1].get(\"data\"), orient = \"index\").transpose()"
   ]
  },
  {
   "cell_type": "code",
   "execution_count": 22,
   "metadata": {},
   "outputs": [],
   "source": [
    "submissions_test_2 = pd.DataFrame.from_dict(submissions.json().get(\"data\").get(\"children\")[2].get(\"data\"), orient = \"index\").transpose()"
   ]
  },
  {
   "cell_type": "code",
   "execution_count": 23,
   "metadata": {},
   "outputs": [
    {
     "data": {
      "text/html": [
       "<div>\n",
       "<style scoped>\n",
       "    .dataframe tbody tr th:only-of-type {\n",
       "        vertical-align: middle;\n",
       "    }\n",
       "\n",
       "    .dataframe tbody tr th {\n",
       "        vertical-align: top;\n",
       "    }\n",
       "\n",
       "    .dataframe thead th {\n",
       "        text-align: right;\n",
       "    }\n",
       "</style>\n",
       "<table border=\"1\" class=\"dataframe\">\n",
       "  <thead>\n",
       "    <tr style=\"text-align: right;\">\n",
       "      <th></th>\n",
       "      <th>approved_at_utc</th>\n",
       "      <th>subreddit</th>\n",
       "      <th>selftext</th>\n",
       "      <th>author_fullname</th>\n",
       "      <th>saved</th>\n",
       "      <th>mod_reason_title</th>\n",
       "      <th>gilded</th>\n",
       "      <th>clicked</th>\n",
       "      <th>title</th>\n",
       "      <th>link_flair_richtext</th>\n",
       "      <th>...</th>\n",
       "      <th>author_flair_text_color</th>\n",
       "      <th>permalink</th>\n",
       "      <th>parent_whitelist_status</th>\n",
       "      <th>stickied</th>\n",
       "      <th>url</th>\n",
       "      <th>subreddit_subscribers</th>\n",
       "      <th>created_utc</th>\n",
       "      <th>num_crossposts</th>\n",
       "      <th>media</th>\n",
       "      <th>is_video</th>\n",
       "    </tr>\n",
       "  </thead>\n",
       "  <tbody>\n",
       "    <tr>\n",
       "      <th>0</th>\n",
       "      <td>None</td>\n",
       "      <td>FemaleDatingStrategy</td>\n",
       "      <td>Have you ever seen an advice column, or flippe...</td>\n",
       "      <td>t2_3lobbi9k</td>\n",
       "      <td>False</td>\n",
       "      <td>None</td>\n",
       "      <td>0</td>\n",
       "      <td>False</td>\n",
       "      <td>If you want commitment, marriage, children, to...</td>\n",
       "      <td>[]</td>\n",
       "      <td>...</td>\n",
       "      <td>dark</td>\n",
       "      <td>/r/FemaleDatingStrategy/comments/djaq2o/if_you...</td>\n",
       "      <td>no_ads</td>\n",
       "      <td>False</td>\n",
       "      <td>https://www.reddit.com/r/FemaleDatingStrategy/...</td>\n",
       "      <td>248173</td>\n",
       "      <td>1571337946.0</td>\n",
       "      <td>0</td>\n",
       "      <td>None</td>\n",
       "      <td>False</td>\n",
       "    </tr>\n",
       "    <tr>\n",
       "      <th>0</th>\n",
       "      <td>None</td>\n",
       "      <td>FemaleDatingStrategy</td>\n",
       "      <td>\\n\\n# \\n\\n&amp;#x200B;\\n\\nNever beg for a man’s t...</td>\n",
       "      <td>t2_3xtpll3y</td>\n",
       "      <td>False</td>\n",
       "      <td>None</td>\n",
       "      <td>0</td>\n",
       "      <td>False</td>\n",
       "      <td>Replace, don't chase</td>\n",
       "      <td>[]</td>\n",
       "      <td>...</td>\n",
       "      <td>None</td>\n",
       "      <td>/r/FemaleDatingStrategy/comments/d4b9y1/replac...</td>\n",
       "      <td>no_ads</td>\n",
       "      <td>False</td>\n",
       "      <td>https://www.reddit.com/r/FemaleDatingStrategy/...</td>\n",
       "      <td>248173</td>\n",
       "      <td>1568496311.0</td>\n",
       "      <td>0</td>\n",
       "      <td>None</td>\n",
       "      <td>False</td>\n",
       "    </tr>\n",
       "  </tbody>\n",
       "</table>\n",
       "<p>2 rows × 107 columns</p>\n",
       "</div>"
      ],
      "text/plain": [
       "  approved_at_utc             subreddit  \\\n",
       "0            None  FemaleDatingStrategy   \n",
       "0            None  FemaleDatingStrategy   \n",
       "\n",
       "                                            selftext author_fullname  saved  \\\n",
       "0  Have you ever seen an advice column, or flippe...     t2_3lobbi9k  False   \n",
       "0   \\n\\n# \\n\\n&#x200B;\\n\\nNever beg for a man’s t...     t2_3xtpll3y  False   \n",
       "\n",
       "  mod_reason_title gilded clicked  \\\n",
       "0             None      0   False   \n",
       "0             None      0   False   \n",
       "\n",
       "                                               title link_flair_richtext  ...  \\\n",
       "0  If you want commitment, marriage, children, to...                  []  ...   \n",
       "0                               Replace, don't chase                  []  ...   \n",
       "\n",
       "  author_flair_text_color                                          permalink  \\\n",
       "0                    dark  /r/FemaleDatingStrategy/comments/djaq2o/if_you...   \n",
       "0                    None  /r/FemaleDatingStrategy/comments/d4b9y1/replac...   \n",
       "\n",
       "  parent_whitelist_status stickied  \\\n",
       "0                  no_ads    False   \n",
       "0                  no_ads    False   \n",
       "\n",
       "                                                 url subreddit_subscribers  \\\n",
       "0  https://www.reddit.com/r/FemaleDatingStrategy/...                248173   \n",
       "0  https://www.reddit.com/r/FemaleDatingStrategy/...                248173   \n",
       "\n",
       "    created_utc num_crossposts media is_video  \n",
       "0  1571337946.0              0  None    False  \n",
       "0  1568496311.0              0  None    False  \n",
       "\n",
       "[2 rows x 107 columns]"
      ]
     },
     "execution_count": 23,
     "metadata": {},
     "output_type": "execute_result"
    }
   ],
   "source": [
    "pd.concat([submissions_test, submissions_test_2])"
   ]
  },
  {
   "cell_type": "code",
   "execution_count": null,
   "metadata": {},
   "outputs": [],
   "source": [
    "pd.concat([comment_test, comment_test_2]).to_csv(\"E:/gihub-data/redditbots/test.csv\")"
   ]
  },
  {
   "cell_type": "code",
   "execution_count": null,
   "metadata": {},
   "outputs": [],
   "source": [
    "type(comment_test)"
   ]
  }
 ],
 "metadata": {
  "kernelspec": {
   "display_name": "redditbots",
   "language": "python",
   "name": "redditbots"
  },
  "language_info": {
   "codemirror_mode": {
    "name": "ipython",
    "version": 3
   },
   "file_extension": ".py",
   "mimetype": "text/x-python",
   "name": "python",
   "nbconvert_exporter": "python",
   "pygments_lexer": "ipython3",
   "version": "3.10.4"
  },
  "orig_nbformat": 4,
  "vscode": {
   "interpreter": {
    "hash": "960f2ae499b536958d588fcafb5f9e40dd995fc898e4b79db932caf22756042a"
   }
  }
 },
 "nbformat": 4,
 "nbformat_minor": 2
}
