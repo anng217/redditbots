{
 "cells": [
  {
   "cell_type": "code",
   "execution_count": 1,
   "metadata": {},
   "outputs": [],
   "source": [
    "import pandas as pd\n",
    "import requests\n",
    "import json\n",
    "import numpy as np\n",
    "import time"
   ]
  },
  {
   "cell_type": "markdown",
   "metadata": {},
   "source": [
    "# Setting  up"
   ]
  },
  {
   "cell_type": "code",
   "execution_count": 2,
   "metadata": {},
   "outputs": [],
   "source": [
    "# note that CLIENT_ID refers to 'personal use script' and SECRET_TOKEN to 'token'\n",
    "auth = requests.auth.HTTPBasicAuth('9wXh5oa4cfW07_eUn5Hu3A', 'm3GnhaEvbM5LGCWX3BMghLCatOLN3g')\n",
    "# setup our header info, which gives reddit a brief description of our app\n",
    "headers = {'User-Agent': 'babi_research/0.0.1'}\n",
    "# here we pass our login method (password), username, and password\n",
    "data = {'grant_type': 'password',\n",
    "        'username': 'softyarn',\n",
    "        'password': '1532679!Qa1',\n",
    "        'User-Agent':'babi_research/0.0.1',\n",
    "        'refresh_token': '167791397396-1cjKrPIOvr4ct1EFwMm57hY1vi7baw'\n",
    "        }"
   ]
  },
  {
   "cell_type": "code",
   "execution_count": 3,
   "metadata": {},
   "outputs": [
    {
     "data": {
      "text/plain": [
       "{'access_token': '167791397396-eokOnTpE_ujjQqUtwdDnQ8XEEpirEA',\n",
       " 'token_type': 'bearer',\n",
       " 'expires_in': 86400,\n",
       " 'scope': '*'}"
      ]
     },
     "execution_count": 3,
     "metadata": {},
     "output_type": "execute_result"
    }
   ],
   "source": [
    "# send our request for an OAuth token\n",
    "res = requests.post('https://www.reddit.com/api/v1/access_token',\n",
    "                    auth=auth, data=data, headers=headers)\n",
    "# convert response to JSON and pull access_token value\n",
    "res.json()"
   ]
  },
  {
   "cell_type": "code",
   "execution_count": 4,
   "metadata": {},
   "outputs": [
    {
     "data": {
      "text/plain": [
       "{'is_employee': False,\n",
       " 'seen_layout_switch': False,\n",
       " 'has_visited_new_profile': False,\n",
       " 'pref_no_profanity': True,\n",
       " 'has_external_account': False,\n",
       " 'pref_geopopular': '',\n",
       " 'seen_redesign_modal': False,\n",
       " 'pref_show_trending': True,\n",
       " 'subreddit': {'default_set': False,\n",
       "  'user_is_contributor': False,\n",
       "  'banner_img': '',\n",
       "  'restrict_posting': True,\n",
       "  'user_is_banned': False,\n",
       "  'free_form_reports': True,\n",
       "  'community_icon': None,\n",
       "  'show_media': True,\n",
       "  'icon_color': '',\n",
       "  'user_is_muted': None,\n",
       "  'display_name': 'u_softyarn',\n",
       "  'header_img': None,\n",
       "  'title': '',\n",
       "  'coins': 0,\n",
       "  'previous_names': [],\n",
       "  'over_18': False,\n",
       "  'icon_size': [256, 256],\n",
       "  'primary_color': '',\n",
       "  'icon_img': 'https://styles.redditmedia.com/t5_3ef3ey/styles/profileIcon_snoo86ebddf0-4659-47c8-9ad6-b6ca0588943d-headshot-f.png?width=256&amp;height=256&amp;crop=256:256,smart&amp;s=86680ec95737b7ce10db712e2889672a4de8bbf1',\n",
       "  'description': '',\n",
       "  'allowed_media_in_comments': [],\n",
       "  'submit_link_label': '',\n",
       "  'header_size': None,\n",
       "  'restrict_commenting': False,\n",
       "  'subscribers': 0,\n",
       "  'submit_text_label': '',\n",
       "  'is_default_icon': False,\n",
       "  'link_flair_position': '',\n",
       "  'display_name_prefixed': 'u/softyarn',\n",
       "  'key_color': '',\n",
       "  'name': 't5_3ef3ey',\n",
       "  'is_default_banner': True,\n",
       "  'url': '/user/softyarn/',\n",
       "  'quarantine': False,\n",
       "  'banner_size': None,\n",
       "  'user_is_moderator': True,\n",
       "  'accept_followers': False,\n",
       "  'public_description': '',\n",
       "  'link_flair_enabled': False,\n",
       "  'disable_contributor_requests': False,\n",
       "  'subreddit_type': 'user',\n",
       "  'user_is_subscriber': False},\n",
       " 'pref_show_presence': False,\n",
       " 'snoovatar_img': 'https://i.redd.it/snoovatar/avatars/86ebddf0-4659-47c8-9ad6-b6ca0588943d.png',\n",
       " 'snoovatar_size': [380, 600],\n",
       " 'gold_expiration': None,\n",
       " 'has_gold_subscription': False,\n",
       " 'is_sponsor': False,\n",
       " 'num_friends': 0,\n",
       " 'features': {'mod_service_mute_writes': True,\n",
       "  'promoted_trend_blanks': True,\n",
       "  'show_amp_link': True,\n",
       "  'chat': True,\n",
       "  'is_email_permission_required': False,\n",
       "  'mod_awards': True,\n",
       "  'mweb_xpromo_revamp_v3': {'owner': 'growth',\n",
       "   'variant': 'treatment_4',\n",
       "   'experiment_id': 480},\n",
       "  'mweb_xpromo_revamp_v2': {'owner': 'growth',\n",
       "   'variant': 'control_1',\n",
       "   'experiment_id': 457},\n",
       "  'awards_on_streams': True,\n",
       "  'webhook_config': True,\n",
       "  'mweb_xpromo_modal_listing_click_daily_dismissible_ios': True,\n",
       "  'live_orangereds': True,\n",
       "  'cookie_consent_banner': True,\n",
       "  'modlog_copyright_removal': True,\n",
       "  'do_not_track': True,\n",
       "  'mod_service_mute_reads': True,\n",
       "  'chat_user_settings': True,\n",
       "  'use_pref_account_deployment': True,\n",
       "  'mweb_xpromo_interstitial_comments_ios': True,\n",
       "  'chat_subreddit': True,\n",
       "  'mweb_sharing_clipboard': {'owner': 'growth',\n",
       "   'variant': 'control_1',\n",
       "   'experiment_id': 315},\n",
       "  'premium_subscriptions_table': True,\n",
       "  'mweb_xpromo_interstitial_comments_android': True,\n",
       "  'crowd_control_for_post': True,\n",
       "  'noreferrer_to_noopener': True,\n",
       "  'mweb_sharing_web_share_api': {'owner': 'growth',\n",
       "   'variant': 'control_2',\n",
       "   'experiment_id': 314},\n",
       "  'chat_group_rollout': True,\n",
       "  'resized_styles_images': True,\n",
       "  'spez_modal': True,\n",
       "  'mweb_xpromo_modal_listing_click_daily_dismissible_android': True,\n",
       "  'expensive_coins_package': True},\n",
       " 'can_edit_name': False,\n",
       " 'verified': True,\n",
       " 'new_modmail_exists': None,\n",
       " 'pref_autoplay': True,\n",
       " 'coins': 0,\n",
       " 'has_paypal_subscription': False,\n",
       " 'has_subscribed_to_premium': False,\n",
       " 'id': '252ynytw',\n",
       " 'has_stripe_subscription': False,\n",
       " 'oauth_client_id': '9wXh5oa4cfW07_eUn5Hu3A',\n",
       " 'can_create_subreddit': True,\n",
       " 'over_18': True,\n",
       " 'is_gold': False,\n",
       " 'is_mod': False,\n",
       " 'awarder_karma': 127,\n",
       " 'suspension_expiration_utc': None,\n",
       " 'has_verified_email': True,\n",
       " 'is_suspended': False,\n",
       " 'pref_video_autoplay': True,\n",
       " 'in_chat': True,\n",
       " 'has_android_subscription': False,\n",
       " 'in_redesign_beta': True,\n",
       " 'icon_img': 'https://styles.redditmedia.com/t5_3ef3ey/styles/profileIcon_snoo86ebddf0-4659-47c8-9ad6-b6ca0588943d-headshot-f.png?width=256&amp;height=256&amp;crop=256:256,smart&amp;s=86680ec95737b7ce10db712e2889672a4de8bbf1',\n",
       " 'has_mod_mail': False,\n",
       " 'pref_nightmode': True,\n",
       " 'awardee_karma': 13,\n",
       " 'hide_from_robots': True,\n",
       " 'password_set': True,\n",
       " 'link_karma': 40,\n",
       " 'force_password_reset': False,\n",
       " 'total_karma': 241,\n",
       " 'seen_give_award_tooltip': False,\n",
       " 'inbox_count': 3,\n",
       " 'seen_premium_adblock_modal': False,\n",
       " 'pref_top_karma_subreddits': False,\n",
       " 'has_mail': True,\n",
       " 'pref_show_snoovatar': False,\n",
       " 'name': 'softyarn',\n",
       " 'pref_clickgadget': 5,\n",
       " 'created': 1605193849.0,\n",
       " 'gold_creddits': 0,\n",
       " 'created_utc': 1605193849.0,\n",
       " 'has_ios_subscription': False,\n",
       " 'pref_show_twitter': False,\n",
       " 'in_beta': True,\n",
       " 'comment_karma': 61,\n",
       " 'accept_followers': False,\n",
       " 'has_subscribed': True,\n",
       " 'linked_identities': ['https://accounts.google.com'],\n",
       " 'seen_subreddit_chat_ftux': False}"
      ]
     },
     "execution_count": 4,
     "metadata": {},
     "output_type": "execute_result"
    }
   ],
   "source": [
    "# convert response to JSON and pull access_token value\n",
    "token = res.json()['access_token']\n",
    "# add authorization to our headers dictionary\n",
    "headers['Authorization'] = 'bearer {}'.format(token)\n",
    "# while the token is valid (~2 hours) we just add headers=headers to our requests. End point: GET /api/v1/me\n",
    "requests.get('https://oauth.reddit.com/api/v1/me', headers=headers).json()"
   ]
  },
  {
   "cell_type": "markdown",
   "metadata": {},
   "source": [
    "# Miscellanous scraping"
   ]
  },
  {
   "cell_type": "code",
   "execution_count": null,
   "metadata": {},
   "outputs": [],
   "source": [
    "#Get moderators of feminisms\n",
    "fds_mod= requests.get('https://oauth.reddit.com/r/femaledatingstrategy/about/moderators', headers=headers).json()"
   ]
  },
  {
   "cell_type": "code",
   "execution_count": null,
   "metadata": {},
   "outputs": [],
   "source": [
    "fds_mod_df = pd.DataFrame(fds_mod[\"data\"][\"children\"])\n",
    "fds_mod_df"
   ]
  },
  {
   "cell_type": "code",
   "execution_count": null,
   "metadata": {},
   "outputs": [],
   "source": [
    "fds_mod_df.iloc[6,]"
   ]
  },
  {
   "cell_type": "markdown",
   "metadata": {},
   "source": [
    "# Function"
   ]
  },
  {
   "cell_type": "code",
   "execution_count": null,
   "metadata": {},
   "outputs": [],
   "source": [
    "def clean_data(source_dir, comment_bool):\n",
    "    df = pd.read_csv(source_dir)\n",
    "    df = df[[\"id\",\"body\",'author']]\n",
    "    if comment_bool == True:\n",
    "        df['id'] ='t1_' + df['id'].astype(str)\n",
    "    else:\n",
    "        df['id'] ='t3_' + df['id'].astype(str)\n",
    "    nomod = df.loc[(df['author'] != \"AutoModerator\") & (df['author'] != '[deleted]')]\n",
    "    nomod[\"note\"] = np.where(nomod[\"body\"] == \"[removed]\", \"removed\", np.where(nomod[\"body\"] == \"[deleted]\", \"deleted\", \"text\"))\n",
    "    return nomod"
   ]
  },
  {
   "cell_type": "code",
   "execution_count": null,
   "metadata": {},
   "outputs": [],
   "source": [
    "def clean_df(df, comment_bool):\n",
    "    df = df[[\"id\",\"body\",'author']]\n",
    "    if comment_bool == True:\n",
    "        df['id'] ='t1_' + df['id'].astype(str)\n",
    "    else:\n",
    "        df['id'] ='t3_' + df['id'].astype(str)\n",
    "    nomod = df.loc[(df['author'] != \"AutoModerator\") & (df['author'] != '[deleted]')]\n",
    "    nomod[\"note\"] = np.where(nomod[\"body\"] == \"[removed]\", \"removed\", np.where(nomod[\"body\"] == \"[deleted]\", \"deleted\", \"text\"))\n",
    "    return nomod"
   ]
  },
  {
   "cell_type": "code",
   "execution_count": null,
   "metadata": {},
   "outputs": [],
   "source": [
    "def get_comments(df, start_from=0) :\n",
    "    tic = time.time()\n",
    "    global res_df\n",
    "    res_df = []\n",
    "    i = 0\n",
    "    if start_from == None:\n",
    "        N = 0\n",
    "    else:\n",
    "        N = start_from\n",
    "    while i < len(df[\"id\"]):\n",
    "        j = min(len(df[\"id\"]), i + 100)\n",
    "        x = \",\".join(df[\"id\"][i:j])\n",
    "        comments = requests.get('https://oauth.reddit.com/api/info',headers=headers,params={'id': x}).json()\n",
    "        try:\n",
    "            for k in range(j-i):\n",
    "                comment_df = pd.DataFrame.from_dict(comments.get(\"data\").get(\"children\")[k].get(\"data\"), orient = \"index\").transpose()\n",
    "                res_df.append(comment_df)\n",
    "        except IndexError:\n",
    "            for k in range(len(comments.get(\"data\").get(\"children\"))):\n",
    "                comment_df = pd.DataFrame.from_dict(comments.get(\"data\").get(\"children\")[k].get(\"data\"), orient = \"index\").transpose()\n",
    "                res_df.append(comment_df)\n",
    "        i += 100\n",
    "        if i%150000 == 0:\n",
    "            res_out = pd.concat(res_df)\n",
    "            res_out.to_csv('unpop_comments_' + str((i+start_from)/200000) + '.csv', encoding = 'utf_8_sig')\n",
    "            res = []\n",
    "        if i%300 == 0:\n",
    "            time.sleep(3)\n",
    "            #now = time.localtime(time.time())\n",
    "            print('Time elapsed: ', round(time.time() - tic),' secs, i = ',i)\n",
    "            #print(time.strftime(\"Time now: %HH:%M:%S\",now),f', i = {i}')\n",
    "    return pd.concat(res_df)"
   ]
  },
  {
   "cell_type": "code",
   "execution_count": null,
   "metadata": {},
   "outputs": [],
   "source": [
    "def get_submissions(df):\n",
    "    res_df = pd.DataFrame()\n",
    "    i = 0\n",
    "    while i < len(df[\"id\"]):\n",
    "        x = \",\".join(df[\"id\"][i:i+20])\n",
    "        submissions = requests.get('https://oauth.reddit.com/by_id/names',headers=headers,params={'names': x}).json()\n",
    "        for k in range(20):\n",
    "            submission_df = pd.DataFrame.from_dict(comments.get(\"data\").get(\"children\")[k].get(\"data\"), orient = \"index\").transpose()\n",
    "            res_df.append(submission_df)\n",
    "        if i%300 == 0:\n",
    "            time.sleep(5)\n",
    "        i += 20  \n",
    "    return res_df  "
   ]
  },
  {
   "cell_type": "markdown",
   "metadata": {},
   "source": [
    "# Scraping"
   ]
  },
  {
   "cell_type": "markdown",
   "metadata": {},
   "source": [
    "# r/femaledatingstrategy"
   ]
  },
  {
   "cell_type": "code",
   "execution_count": null,
   "metadata": {},
   "outputs": [],
   "source": [
    "fds = clean_data(\"E:/gihub-data/redditbots/fds/fds_comments.csv\", comment_bool= True)"
   ]
  },
  {
   "cell_type": "code",
   "execution_count": null,
   "metadata": {},
   "outputs": [],
   "source": [
    "fds_res = get_comments(fds)"
   ]
  },
  {
   "cell_type": "code",
   "execution_count": null,
   "metadata": {},
   "outputs": [],
   "source": [
    "fds_res.to_csv('fds_comment_retrieved.csv')"
   ]
  },
  {
   "cell_type": "code",
   "execution_count": null,
   "metadata": {},
   "outputs": [],
   "source": [
    "requests.get('https://oauth.reddit.com/by_id/names',headers=headers,params={'names': 't3_cipdyg'}).json()"
   ]
  },
  {
   "cell_type": "code",
   "execution_count": null,
   "metadata": {},
   "outputs": [],
   "source": [
    "requests.get('https://oauth.reddit.com/user/')"
   ]
  },
  {
   "cell_type": "markdown",
   "metadata": {},
   "source": [
    "## r/AskReddit"
   ]
  },
  {
   "cell_type": "code",
   "execution_count": null,
   "metadata": {},
   "outputs": [],
   "source": [
    "askreddit = clean_data(\"E:/gihub-data/redditbots/control-fds/askreddit.csv\", comment_bool= True)"
   ]
  },
  {
   "cell_type": "code",
   "execution_count": null,
   "metadata": {},
   "outputs": [],
   "source": [
    "askreddit_res = get_comments(askreddit)"
   ]
  },
  {
   "cell_type": "code",
   "execution_count": null,
   "metadata": {},
   "outputs": [],
   "source": [
    "askreddit_res.to_csv('E:/gihub-data/redditbots/control-fds/askreddit_comment_retrieved.csv')"
   ]
  },
  {
   "cell_type": "markdown",
   "metadata": {},
   "source": [
    "# PurplePillDebate"
   ]
  },
  {
   "cell_type": "code",
   "execution_count": null,
   "metadata": {},
   "outputs": [],
   "source": [
    "purplepill = clean_data(\"E:/gihub-data/redditbots/control-fds/purple.csv\", comment_bool= True)"
   ]
  },
  {
   "cell_type": "code",
   "execution_count": null,
   "metadata": {},
   "outputs": [],
   "source": [
    "purple_res = get_comments(purplepill)"
   ]
  },
  {
   "cell_type": "code",
   "execution_count": null,
   "metadata": {},
   "outputs": [],
   "source": [
    "purple_res.to_csv('E:/gihub-data/redditbots/control-fds/purple_comment_retrieved.csv')"
   ]
  },
  {
   "cell_type": "markdown",
   "metadata": {},
   "source": [
    "# r/AmItheAsshole"
   ]
  },
  {
   "cell_type": "markdown",
   "metadata": {},
   "source": [
    "undone"
   ]
  },
  {
   "cell_type": "code",
   "execution_count": null,
   "metadata": {},
   "outputs": [],
   "source": [
    "AITA = clean_data(\"E:/gihub-data/redditbots/control-fds/AITA.csv\", comment_bool= True)"
   ]
  },
  {
   "cell_type": "code",
   "execution_count": null,
   "metadata": {},
   "outputs": [],
   "source": [
    "AITA_res = get_comments(AITA)"
   ]
  },
  {
   "cell_type": "markdown",
   "metadata": {},
   "source": [
    "# r/unpopularopinion"
   ]
  },
  {
   "cell_type": "markdown",
   "metadata": {},
   "source": [
    "undone"
   ]
  },
  {
   "cell_type": "code",
   "execution_count": null,
   "metadata": {},
   "outputs": [],
   "source": [
    "unpop_df = pd.read_csv(\"E:/gihub-data/redditbots/control-fds/unpopularopinion.csv\",  skiprows= list(range(1,150600)))"
   ]
  },
  {
   "cell_type": "code",
   "execution_count": null,
   "metadata": {},
   "outputs": [],
   "source": [
    "unpop_1 = clean_df(unpop_df, comment_bool=True)"
   ]
  },
  {
   "cell_type": "code",
   "execution_count": null,
   "metadata": {},
   "outputs": [],
   "source": [
    "unpop_res = get_comments(unpop_1, start_from = 0) #start_from 209100"
   ]
  },
  {
   "cell_type": "code",
   "execution_count": null,
   "metadata": {},
   "outputs": [],
   "source": [
    "unpop_res.to_csv('E:/gihub-data/redditbots/control-fds/unpop_comment_retrieved.csv')"
   ]
  },
  {
   "cell_type": "code",
   "execution_count": null,
   "metadata": {},
   "outputs": [],
   "source": [
    "unpop_df_test = unpop_df.iloc[0:10]"
   ]
  },
  {
   "cell_type": "code",
   "execution_count": null,
   "metadata": {},
   "outputs": [],
   "source": [
    "unpop_df_test['id'] ='t1_' + unpop_df_test['id'].astype(str)"
   ]
  },
  {
   "cell_type": "code",
   "execution_count": null,
   "metadata": {},
   "outputs": [],
   "source": [
    "x = \",\".join(unpop_df_test[\"id\"])"
   ]
  },
  {
   "cell_type": "code",
   "execution_count": null,
   "metadata": {},
   "outputs": [],
   "source": [
    "comments = requests.get('https://oauth.reddit.com/api/info',headers=headers,params={'id': x}).json()"
   ]
  }
 ],
 "metadata": {
  "kernelspec": {
   "display_name": "Python 3.10.4 ('redditbots')",
   "language": "python",
   "name": "python3"
  },
  "language_info": {
   "codemirror_mode": {
    "name": "ipython",
    "version": 3
   },
   "file_extension": ".py",
   "mimetype": "text/x-python",
   "name": "python",
   "nbconvert_exporter": "python",
   "pygments_lexer": "ipython3",
   "version": "3.10.4"
  },
  "orig_nbformat": 4,
  "vscode": {
   "interpreter": {
    "hash": "2b2a55f9055c2400523b349fd3301d5efeb6493fd652ed128c88c237df22f590"
   }
  }
 },
 "nbformat": 4,
 "nbformat_minor": 2
}
