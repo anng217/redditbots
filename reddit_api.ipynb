{
 "cells": [
  {
   "cell_type": "code",
   "execution_count": 1,
   "metadata": {},
   "outputs": [],
   "source": [
    "import pandas as pd\n",
    "import requests\n",
    "import json\n",
    "import numpy as np\n",
    "import time"
   ]
  },
  {
   "cell_type": "markdown",
   "metadata": {},
   "source": [
    "# Setting  up"
   ]
  },
  {
   "cell_type": "code",
   "execution_count": 2,
   "metadata": {},
   "outputs": [],
   "source": [
    "# note that CLIENT_ID refers to 'personal use script' and SECRET_TOKEN to 'token'\n",
    "auth = requests.auth.HTTPBasicAuth('9wXh5oa4cfW07_eUn5Hu3A', 'm3GnhaEvbM5LGCWX3BMghLCatOLN3g')\n",
    "# setup our header info, which gives reddit a brief description of our app\n",
    "headers = {'User-Agent': 'babi_research/0.0.1'}\n",
    "# here we pass our login method (password), username, and password\n",
    "data = {'grant_type': 'password',\n",
    "        'username': 'softyarn',\n",
    "        'password': '1532679!Qa1',\n",
    "        'User-Agent':'babi_research/0.0.1',\n",
    "        'refresh_token': '167791397396-1cjKrPIOvr4ct1EFwMm57hY1vi7baw'\n",
    "        }"
   ]
  },
  {
   "cell_type": "code",
   "execution_count": 4,
   "metadata": {},
   "outputs": [
    {
     "data": {
      "text/plain": [
       "{'access_token': '167791397396-7T0vJkcR0vs85ZAYO-gasU4D2_jmPg',\n",
       " 'token_type': 'bearer',\n",
       " 'expires_in': 86400,\n",
       " 'scope': '*'}"
      ]
     },
     "execution_count": 4,
     "metadata": {},
     "output_type": "execute_result"
    }
   ],
   "source": [
    "# send our request for an OAuth token\n",
    "res = requests.post('https://www.reddit.com/api/v1/access_token',\n",
    "                    auth=auth, data=data, headers=headers)\n",
    "# convert response to JSON and pull access_token value\n",
    "res.json()"
   ]
  },
  {
   "cell_type": "code",
   "execution_count": 5,
   "metadata": {},
   "outputs": [
    {
     "data": {
      "text/plain": [
       "{'is_employee': False,\n",
       " 'seen_layout_switch': False,\n",
       " 'has_visited_new_profile': False,\n",
       " 'pref_no_profanity': True,\n",
       " 'has_external_account': False,\n",
       " 'pref_geopopular': '',\n",
       " 'seen_redesign_modal': False,\n",
       " 'pref_show_trending': True,\n",
       " 'subreddit': {'default_set': False,\n",
       "  'user_is_contributor': False,\n",
       "  'banner_img': '',\n",
       "  'restrict_posting': True,\n",
       "  'user_is_banned': False,\n",
       "  'free_form_reports': True,\n",
       "  'community_icon': None,\n",
       "  'show_media': True,\n",
       "  'icon_color': '',\n",
       "  'user_is_muted': None,\n",
       "  'display_name': 'u_softyarn',\n",
       "  'header_img': None,\n",
       "  'title': '',\n",
       "  'coins': 0,\n",
       "  'previous_names': [],\n",
       "  'over_18': False,\n",
       "  'icon_size': [256, 256],\n",
       "  'primary_color': '',\n",
       "  'icon_img': 'https://styles.redditmedia.com/t5_3ef3ey/styles/profileIcon_snoo86ebddf0-4659-47c8-9ad6-b6ca0588943d-headshot-f.png?width=256&amp;height=256&amp;crop=256:256,smart&amp;s=86680ec95737b7ce10db712e2889672a4de8bbf1',\n",
       "  'description': '',\n",
       "  'allowed_media_in_comments': [],\n",
       "  'submit_link_label': '',\n",
       "  'header_size': None,\n",
       "  'restrict_commenting': False,\n",
       "  'subscribers': 0,\n",
       "  'submit_text_label': '',\n",
       "  'is_default_icon': False,\n",
       "  'link_flair_position': '',\n",
       "  'display_name_prefixed': 'u/softyarn',\n",
       "  'key_color': '',\n",
       "  'name': 't5_3ef3ey',\n",
       "  'is_default_banner': True,\n",
       "  'url': '/user/softyarn/',\n",
       "  'quarantine': False,\n",
       "  'banner_size': None,\n",
       "  'user_is_moderator': True,\n",
       "  'accept_followers': False,\n",
       "  'public_description': '',\n",
       "  'link_flair_enabled': False,\n",
       "  'disable_contributor_requests': False,\n",
       "  'subreddit_type': 'user',\n",
       "  'user_is_subscriber': False},\n",
       " 'pref_show_presence': False,\n",
       " 'snoovatar_img': 'https://i.redd.it/snoovatar/avatars/86ebddf0-4659-47c8-9ad6-b6ca0588943d.png',\n",
       " 'snoovatar_size': [380, 600],\n",
       " 'gold_expiration': None,\n",
       " 'has_gold_subscription': False,\n",
       " 'is_sponsor': False,\n",
       " 'num_friends': 0,\n",
       " 'features': {'mod_service_mute_writes': True,\n",
       "  'promoted_trend_blanks': True,\n",
       "  'show_amp_link': True,\n",
       "  'chat': True,\n",
       "  'is_email_permission_required': False,\n",
       "  'mod_awards': True,\n",
       "  'mweb_xpromo_revamp_v3': {'owner': 'growth',\n",
       "   'variant': 'treatment_4',\n",
       "   'experiment_id': 480},\n",
       "  'mweb_xpromo_revamp_v2': {'owner': 'growth',\n",
       "   'variant': 'control_1',\n",
       "   'experiment_id': 457},\n",
       "  'awards_on_streams': True,\n",
       "  'webhook_config': True,\n",
       "  'mweb_xpromo_modal_listing_click_daily_dismissible_ios': True,\n",
       "  'live_orangereds': True,\n",
       "  'cookie_consent_banner': True,\n",
       "  'modlog_copyright_removal': True,\n",
       "  'do_not_track': True,\n",
       "  'mod_service_mute_reads': True,\n",
       "  'chat_user_settings': True,\n",
       "  'use_pref_account_deployment': True,\n",
       "  'mweb_xpromo_interstitial_comments_ios': True,\n",
       "  'chat_subreddit': True,\n",
       "  'mweb_sharing_clipboard': {'owner': 'growth',\n",
       "   'variant': 'control_1',\n",
       "   'experiment_id': 315},\n",
       "  'premium_subscriptions_table': True,\n",
       "  'mweb_xpromo_interstitial_comments_android': True,\n",
       "  'crowd_control_for_post': True,\n",
       "  'noreferrer_to_noopener': True,\n",
       "  'mweb_sharing_web_share_api': {'owner': 'growth',\n",
       "   'variant': 'control_2',\n",
       "   'experiment_id': 314},\n",
       "  'chat_group_rollout': True,\n",
       "  'resized_styles_images': True,\n",
       "  'spez_modal': True,\n",
       "  'mweb_xpromo_modal_listing_click_daily_dismissible_android': True,\n",
       "  'expensive_coins_package': True},\n",
       " 'can_edit_name': False,\n",
       " 'verified': True,\n",
       " 'new_modmail_exists': None,\n",
       " 'pref_autoplay': True,\n",
       " 'coins': 0,\n",
       " 'has_paypal_subscription': False,\n",
       " 'has_subscribed_to_premium': False,\n",
       " 'id': '252ynytw',\n",
       " 'has_stripe_subscription': False,\n",
       " 'oauth_client_id': '9wXh5oa4cfW07_eUn5Hu3A',\n",
       " 'can_create_subreddit': True,\n",
       " 'over_18': True,\n",
       " 'is_gold': False,\n",
       " 'is_mod': False,\n",
       " 'awarder_karma': 111,\n",
       " 'suspension_expiration_utc': None,\n",
       " 'has_verified_email': True,\n",
       " 'is_suspended': False,\n",
       " 'pref_video_autoplay': True,\n",
       " 'in_chat': True,\n",
       " 'has_android_subscription': False,\n",
       " 'in_redesign_beta': True,\n",
       " 'icon_img': 'https://styles.redditmedia.com/t5_3ef3ey/styles/profileIcon_snoo86ebddf0-4659-47c8-9ad6-b6ca0588943d-headshot-f.png?width=256&amp;height=256&amp;crop=256:256,smart&amp;s=86680ec95737b7ce10db712e2889672a4de8bbf1',\n",
       " 'has_mod_mail': False,\n",
       " 'pref_nightmode': False,\n",
       " 'awardee_karma': 13,\n",
       " 'hide_from_robots': True,\n",
       " 'password_set': True,\n",
       " 'link_karma': 40,\n",
       " 'force_password_reset': False,\n",
       " 'total_karma': 225,\n",
       " 'seen_give_award_tooltip': False,\n",
       " 'inbox_count': 4,\n",
       " 'seen_premium_adblock_modal': False,\n",
       " 'pref_top_karma_subreddits': False,\n",
       " 'has_mail': True,\n",
       " 'pref_show_snoovatar': False,\n",
       " 'name': 'softyarn',\n",
       " 'pref_clickgadget': 5,\n",
       " 'created': 1605193849.0,\n",
       " 'gold_creddits': 0,\n",
       " 'created_utc': 1605193849.0,\n",
       " 'has_ios_subscription': False,\n",
       " 'pref_show_twitter': False,\n",
       " 'in_beta': True,\n",
       " 'comment_karma': 61,\n",
       " 'accept_followers': False,\n",
       " 'has_subscribed': True,\n",
       " 'linked_identities': ['https://accounts.google.com'],\n",
       " 'seen_subreddit_chat_ftux': False}"
      ]
     },
     "execution_count": 5,
     "metadata": {},
     "output_type": "execute_result"
    }
   ],
   "source": [
    "# convert response to JSON and pull access_token value\n",
    "token = res.json()['access_token']\n",
    "# add authorization to our headers dictionary\n",
    "headers['Authorization'] = 'bearer {}'.format(token)\n",
    "# while the token is valid (~2 hours) we just add headers=headers to our requests. End point: GET /api/v1/me\n",
    "requests.get('https://oauth.reddit.com/api/v1/me', headers=headers).json()"
   ]
  },
  {
   "cell_type": "markdown",
   "metadata": {},
   "source": [
    "# Miscellanous scraping"
   ]
  },
  {
   "cell_type": "code",
   "execution_count": null,
   "metadata": {},
   "outputs": [],
   "source": [
    "#Get moderators of feminisms\n",
    "fds_mod= requests.get('https://oauth.reddit.com/r/femaledatingstrategy/about/moderators', headers=headers).json()"
   ]
  },
  {
   "cell_type": "code",
   "execution_count": null,
   "metadata": {},
   "outputs": [],
   "source": [
    "fds_mod_df = pd.DataFrame(fds_mod[\"data\"][\"children\"])\n",
    "fds_mod_df"
   ]
  },
  {
   "cell_type": "code",
   "execution_count": null,
   "metadata": {},
   "outputs": [],
   "source": [
    "fds_mod_df.iloc[6,]"
   ]
  },
  {
   "cell_type": "markdown",
   "metadata": {},
   "source": [
    "# Function"
   ]
  },
  {
   "cell_type": "code",
   "execution_count": 6,
   "metadata": {},
   "outputs": [],
   "source": [
    "def clean_data(source_dir, comment_bool):\n",
    "    df = pd.read_csv(source_dir)\n",
    "    df = df[[\"id\",\"body\"]]\n",
    "    if comment_bool == True:\n",
    "        df['id'] ='t1_' + df['id'].astype(str)\n",
    "    else:\n",
    "        df['id'] ='t3_' + df['id'].astype(str)\n",
    "    df[\"note\"] = np.where(df[\"body\"] == \"[removed]\", \"removed\", np.where(df[\"body\"] == \"[deleted]\", \"deleted\", \"text\"))\n",
    "    return df"
   ]
  },
  {
   "cell_type": "code",
   "execution_count": 7,
   "metadata": {},
   "outputs": [],
   "source": [
    "def get_comments(df) :\n",
    "    tic = time.time()\n",
    "    global res_df\n",
    "    res_df = []\n",
    "    i = 0\n",
    "    while i < len(df[\"id\"]):\n",
    "        j = min(len(df[\"id\"]), i + 40)\n",
    "        x = \",\".join(df[\"id\"][i:j])\n",
    "        comments = requests.get('https://oauth.reddit.com/api/info',headers=headers,params={'id': x}).json()\n",
    "        for k in range(j-i):\n",
    "            comment_df = pd.DataFrame.from_dict(comments.get(\"data\").get(\"children\")[k].get(\"data\"), orient = \"index\").transpose()\n",
    "            res_df.append(comment_df)\n",
    "        i += 40\n",
    "        if i%300 == 0:\n",
    "            time.sleep(2)\n",
    "            #now = time.localtime(time.time())\n",
    "            print('Time elapsed: ', round(time.time() - tic),' secs, i = ',i)\n",
    "            #print(time.strftime(\"Time now: %HH:%M:%S\",now),f', i = {i}')\n",
    "    return pd.concat(res_df)"
   ]
  },
  {
   "cell_type": "code",
   "execution_count": null,
   "metadata": {},
   "outputs": [],
   "source": [
    "def get_submissions(df):\n",
    "    res_df = pd.DataFrame()\n",
    "    i = 0\n",
    "    while i < len(df[\"id\"]):\n",
    "        x = \",\".join(df[\"id\"][i:i+20])\n",
    "        submissions = requests.get('https://oauth.reddit.com/by_id/names',headers=headers,params={'names': x}).json()\n",
    "        for k in range(20):\n",
    "            submission_df = pd.DataFrame.from_dict(comments.get(\"data\").get(\"children\")[k].get(\"data\"), orient = \"index\").transpose()\n",
    "            res_df.append(submission_df)\n",
    "        if i%300 == 0:\n",
    "            time.sleep(5)\n",
    "        i += 20  \n",
    "    return res_df  "
   ]
  },
  {
   "cell_type": "markdown",
   "metadata": {},
   "source": [
    "# Scraping"
   ]
  },
  {
   "cell_type": "markdown",
   "metadata": {},
   "source": [
    "# r/femaledatingstrategy"
   ]
  },
  {
   "cell_type": "code",
   "execution_count": null,
   "metadata": {},
   "outputs": [],
   "source": [
    "fds = clean_data(\"E:/gihub-data/redditbots/fds/fds_comments.csv\", comment_bool= True)"
   ]
  },
  {
   "cell_type": "code",
   "execution_count": null,
   "metadata": {},
   "outputs": [],
   "source": [
    "fds_res = get_comments(fds)"
   ]
  },
  {
   "cell_type": "code",
   "execution_count": null,
   "metadata": {},
   "outputs": [],
   "source": [
    "fds_res.to_csv('fds_comment_retrieved.csv')"
   ]
  },
  {
   "cell_type": "code",
   "execution_count": null,
   "metadata": {},
   "outputs": [],
   "source": [
    "requests.get('https://oauth.reddit.com/by_id/names',headers=headers,params={'names': 't3_cipdyg'}).json()"
   ]
  },
  {
   "cell_type": "code",
   "execution_count": null,
   "metadata": {},
   "outputs": [],
   "source": [
    "requests.get('https://oauth.reddit.com/user/')"
   ]
  },
  {
   "cell_type": "markdown",
   "metadata": {},
   "source": [
    "## r/AskReddit"
   ]
  },
  {
   "cell_type": "code",
   "execution_count": null,
   "metadata": {},
   "outputs": [],
   "source": [
    "askreddit = clean_data(\"E:/gihub-data/redditbots/control-fds/askreddit.csv\", comment_bool= True)"
   ]
  },
  {
   "cell_type": "code",
   "execution_count": null,
   "metadata": {},
   "outputs": [],
   "source": [
    "askreddit_res = get_comments(askreddit)"
   ]
  },
  {
   "cell_type": "code",
   "execution_count": null,
   "metadata": {},
   "outputs": [],
   "source": [
    "askreddit_res.to_csv('E:/gihub-data/redditbots/control-fds/askreddit_comment_retrieved.csv')"
   ]
  },
  {
   "cell_type": "markdown",
   "metadata": {},
   "source": [
    "# PurplePillDebate"
   ]
  },
  {
   "cell_type": "code",
   "execution_count": null,
   "metadata": {},
   "outputs": [],
   "source": [
    "purplepill = clean_data(\"E:/gihub-data/redditbots/control-fds/purple.csv\", comment_bool= True)"
   ]
  },
  {
   "cell_type": "code",
   "execution_count": null,
   "metadata": {},
   "outputs": [],
   "source": [
    "purple_res = get_comments(purplepill)"
   ]
  },
  {
   "cell_type": "code",
   "execution_count": null,
   "metadata": {},
   "outputs": [],
   "source": [
    "purple_res.to_csv('E:/gihub-data/redditbots/control-fds/purple_comment_retrieved.csv')"
   ]
  },
  {
   "cell_type": "markdown",
   "metadata": {},
   "source": [
    "# r/AmItheAsshole"
   ]
  },
  {
   "cell_type": "code",
   "execution_count": 8,
   "metadata": {},
   "outputs": [
    {
     "name": "stderr",
     "output_type": "stream",
     "text": [
      "C:\\Users\\nguye\\AppData\\Local\\Temp\\ipykernel_23996\\2879732105.py:2: DtypeWarning: Columns (3) have mixed types. Specify dtype option on import or set low_memory=False.\n",
      "  df = pd.read_csv(source_dir)\n"
     ]
    }
   ],
   "source": [
    "AITA = clean_data(\"E:/gihub-data/redditbots/control-fds/AITA.csv\", comment_bool= True)"
   ]
  },
  {
   "cell_type": "code",
   "execution_count": 10,
   "metadata": {},
   "outputs": [],
   "source": [
    "AITA1 = AITA.iloc[1:10]"
   ]
  },
  {
   "cell_type": "code",
   "execution_count": 11,
   "metadata": {},
   "outputs": [
    {
     "data": {
      "text/html": [
       "<div>\n",
       "<style scoped>\n",
       "    .dataframe tbody tr th:only-of-type {\n",
       "        vertical-align: middle;\n",
       "    }\n",
       "\n",
       "    .dataframe tbody tr th {\n",
       "        vertical-align: top;\n",
       "    }\n",
       "\n",
       "    .dataframe thead th {\n",
       "        text-align: right;\n",
       "    }\n",
       "</style>\n",
       "<table border=\"1\" class=\"dataframe\">\n",
       "  <thead>\n",
       "    <tr style=\"text-align: right;\">\n",
       "      <th></th>\n",
       "      <th>id</th>\n",
       "      <th>body</th>\n",
       "      <th>note</th>\n",
       "    </tr>\n",
       "  </thead>\n",
       "  <tbody>\n",
       "    <tr>\n",
       "      <th>1</th>\n",
       "      <td>t1_f35kgfm</td>\n",
       "      <td>Mocha’s not that upsetting, though lol</td>\n",
       "      <td>text</td>\n",
       "    </tr>\n",
       "    <tr>\n",
       "      <th>2</th>\n",
       "      <td>t1_f35kg4o</td>\n",
       "      <td>So like YTA but I’m not even mad? I’m even ......</td>\n",
       "      <td>text</td>\n",
       "    </tr>\n",
       "    <tr>\n",
       "      <th>3</th>\n",
       "      <td>t1_f35kg28</td>\n",
       "      <td>Pay her back just for that one game, and cut h...</td>\n",
       "      <td>text</td>\n",
       "    </tr>\n",
       "    <tr>\n",
       "      <th>4</th>\n",
       "      <td>t1_f35kfy8</td>\n",
       "      <td>A first impression is hard to break. And yes, ...</td>\n",
       "      <td>text</td>\n",
       "    </tr>\n",
       "    <tr>\n",
       "      <th>5</th>\n",
       "      <td>t1_f35kfxm</td>\n",
       "      <td>Joint. Partly to care for the kid considering ...</td>\n",
       "      <td>text</td>\n",
       "    </tr>\n",
       "    <tr>\n",
       "      <th>6</th>\n",
       "      <td>t1_f35kfv4</td>\n",
       "      <td>YTA. Hindsight is 20/20. Your parents can only...</td>\n",
       "      <td>text</td>\n",
       "    </tr>\n",
       "    <tr>\n",
       "      <th>7</th>\n",
       "      <td>t1_f35kful</td>\n",
       "      <td>I've heard up to 2 years to get a kid back onc...</td>\n",
       "      <td>text</td>\n",
       "    </tr>\n",
       "    <tr>\n",
       "      <th>8</th>\n",
       "      <td>t1_f35kfub</td>\n",
       "      <td>Would you know how to Google or call your mom ...</td>\n",
       "      <td>text</td>\n",
       "    </tr>\n",
       "    <tr>\n",
       "      <th>9</th>\n",
       "      <td>t1_f35kfu3</td>\n",
       "      <td>NTA why would you even have a drying rack if y...</td>\n",
       "      <td>text</td>\n",
       "    </tr>\n",
       "  </tbody>\n",
       "</table>\n",
       "</div>"
      ],
      "text/plain": [
       "           id                                               body  note\n",
       "1  t1_f35kgfm             Mocha’s not that upsetting, though lol  text\n",
       "2  t1_f35kg4o  So like YTA but I’m not even mad? I’m even ......  text\n",
       "3  t1_f35kg28  Pay her back just for that one game, and cut h...  text\n",
       "4  t1_f35kfy8  A first impression is hard to break. And yes, ...  text\n",
       "5  t1_f35kfxm  Joint. Partly to care for the kid considering ...  text\n",
       "6  t1_f35kfv4  YTA. Hindsight is 20/20. Your parents can only...  text\n",
       "7  t1_f35kful  I've heard up to 2 years to get a kid back onc...  text\n",
       "8  t1_f35kfub  Would you know how to Google or call your mom ...  text\n",
       "9  t1_f35kfu3  NTA why would you even have a drying rack if y...  text"
      ]
     },
     "execution_count": 11,
     "metadata": {},
     "output_type": "execute_result"
    }
   ],
   "source": [
    "AITA1"
   ]
  },
  {
   "cell_type": "code",
   "execution_count": null,
   "metadata": {},
   "outputs": [],
   "source": [
    "AITA1 = AITA.iloc[1:10]"
   ]
  },
  {
   "cell_type": "code",
   "execution_count": 13,
   "metadata": {},
   "outputs": [
    {
     "name": "stdout",
     "output_type": "stream",
     "text": [
      "Time elapsed:  8  secs, i =  600\n",
      "Time elapsed:  16  secs, i =  1200\n",
      "Time elapsed:  24  secs, i =  1800\n",
      "Time elapsed:  32  secs, i =  2400\n",
      "Time elapsed:  39  secs, i =  3000\n",
      "Time elapsed:  47  secs, i =  3600\n",
      "Time elapsed:  55  secs, i =  4200\n",
      "Time elapsed:  63  secs, i =  4800\n",
      "Time elapsed:  71  secs, i =  5400\n",
      "Time elapsed:  78  secs, i =  6000\n",
      "Time elapsed:  86  secs, i =  6600\n",
      "Time elapsed:  93  secs, i =  7200\n",
      "Time elapsed:  101  secs, i =  7800\n",
      "Time elapsed:  109  secs, i =  8400\n",
      "Time elapsed:  117  secs, i =  9000\n",
      "Time elapsed:  125  secs, i =  9600\n",
      "Time elapsed:  133  secs, i =  10200\n",
      "Time elapsed:  141  secs, i =  10800\n",
      "Time elapsed:  148  secs, i =  11400\n",
      "Time elapsed:  156  secs, i =  12000\n",
      "Time elapsed:  164  secs, i =  12600\n",
      "Time elapsed:  172  secs, i =  13200\n",
      "Time elapsed:  180  secs, i =  13800\n",
      "Time elapsed:  188  secs, i =  14400\n",
      "Time elapsed:  196  secs, i =  15000\n",
      "Time elapsed:  203  secs, i =  15600\n",
      "Time elapsed:  211  secs, i =  16200\n",
      "Time elapsed:  219  secs, i =  16800\n",
      "Time elapsed:  226  secs, i =  17400\n",
      "Time elapsed:  234  secs, i =  18000\n",
      "Time elapsed:  242  secs, i =  18600\n",
      "Time elapsed:  250  secs, i =  19200\n",
      "Time elapsed:  258  secs, i =  19800\n",
      "Time elapsed:  266  secs, i =  20400\n",
      "Time elapsed:  274  secs, i =  21000\n",
      "Time elapsed:  281  secs, i =  21600\n",
      "Time elapsed:  288  secs, i =  22200\n",
      "Time elapsed:  296  secs, i =  22800\n",
      "Time elapsed:  304  secs, i =  23400\n",
      "Time elapsed:  312  secs, i =  24000\n",
      "Time elapsed:  319  secs, i =  24600\n",
      "Time elapsed:  326  secs, i =  25200\n",
      "Time elapsed:  334  secs, i =  25800\n",
      "Time elapsed:  342  secs, i =  26400\n",
      "Time elapsed:  350  secs, i =  27000\n",
      "Time elapsed:  357  secs, i =  27600\n",
      "Time elapsed:  365  secs, i =  28200\n",
      "Time elapsed:  373  secs, i =  28800\n",
      "Time elapsed:  381  secs, i =  29400\n",
      "Time elapsed:  389  secs, i =  30000\n",
      "Time elapsed:  397  secs, i =  30600\n",
      "Time elapsed:  405  secs, i =  31200\n",
      "Time elapsed:  412  secs, i =  31800\n",
      "Time elapsed:  420  secs, i =  32400\n",
      "Time elapsed:  428  secs, i =  33000\n",
      "Time elapsed:  435  secs, i =  33600\n",
      "Time elapsed:  442  secs, i =  34200\n",
      "Time elapsed:  450  secs, i =  34800\n",
      "Time elapsed:  458  secs, i =  35400\n",
      "Time elapsed:  465  secs, i =  36000\n",
      "Time elapsed:  473  secs, i =  36600\n",
      "Time elapsed:  480  secs, i =  37200\n",
      "Time elapsed:  488  secs, i =  37800\n",
      "Time elapsed:  495  secs, i =  38400\n",
      "Time elapsed:  503  secs, i =  39000\n",
      "Time elapsed:  511  secs, i =  39600\n",
      "Time elapsed:  519  secs, i =  40200\n",
      "Time elapsed:  527  secs, i =  40800\n",
      "Time elapsed:  535  secs, i =  41400\n",
      "Time elapsed:  543  secs, i =  42000\n",
      "Time elapsed:  550  secs, i =  42600\n",
      "Time elapsed:  558  secs, i =  43200\n",
      "Time elapsed:  566  secs, i =  43800\n",
      "Time elapsed:  574  secs, i =  44400\n",
      "Time elapsed:  582  secs, i =  45000\n",
      "Time elapsed:  589  secs, i =  45600\n",
      "Time elapsed:  598  secs, i =  46200\n",
      "Time elapsed:  605  secs, i =  46800\n",
      "Time elapsed:  613  secs, i =  47400\n",
      "Time elapsed:  621  secs, i =  48000\n",
      "Time elapsed:  629  secs, i =  48600\n",
      "Time elapsed:  636  secs, i =  49200\n"
     ]
    },
    {
     "ename": "IndexError",
     "evalue": "list index out of range",
     "output_type": "error",
     "traceback": [
      "\u001b[1;31m---------------------------------------------------------------------------\u001b[0m",
      "\u001b[1;31mIndexError\u001b[0m                                Traceback (most recent call last)",
      "\u001b[1;32me:\\github\\redditbots\\reddit_api.ipynb Cell 34\u001b[0m in \u001b[0;36m<cell line: 1>\u001b[1;34m()\u001b[0m\n\u001b[1;32m----> <a href='vscode-notebook-cell:/e%3A/github/redditbots/reddit_api.ipynb#X53sZmlsZQ%3D%3D?line=0'>1</a>\u001b[0m AITA_res \u001b[39m=\u001b[39m get_comments(AITA)\n",
      "\u001b[1;32me:\\github\\redditbots\\reddit_api.ipynb Cell 34\u001b[0m in \u001b[0;36mget_comments\u001b[1;34m(df)\u001b[0m\n\u001b[0;32m      <a href='vscode-notebook-cell:/e%3A/github/redditbots/reddit_api.ipynb#X53sZmlsZQ%3D%3D?line=8'>9</a>\u001b[0m comments \u001b[39m=\u001b[39m requests\u001b[39m.\u001b[39mget(\u001b[39m'\u001b[39m\u001b[39mhttps://oauth.reddit.com/api/info\u001b[39m\u001b[39m'\u001b[39m,headers\u001b[39m=\u001b[39mheaders,params\u001b[39m=\u001b[39m{\u001b[39m'\u001b[39m\u001b[39mid\u001b[39m\u001b[39m'\u001b[39m: x})\u001b[39m.\u001b[39mjson()\n\u001b[0;32m     <a href='vscode-notebook-cell:/e%3A/github/redditbots/reddit_api.ipynb#X53sZmlsZQ%3D%3D?line=9'>10</a>\u001b[0m \u001b[39mfor\u001b[39;00m k \u001b[39min\u001b[39;00m \u001b[39mrange\u001b[39m(j\u001b[39m-\u001b[39mi):\n\u001b[1;32m---> <a href='vscode-notebook-cell:/e%3A/github/redditbots/reddit_api.ipynb#X53sZmlsZQ%3D%3D?line=10'>11</a>\u001b[0m     comment_df \u001b[39m=\u001b[39m pd\u001b[39m.\u001b[39mDataFrame\u001b[39m.\u001b[39mfrom_dict(comments\u001b[39m.\u001b[39;49mget(\u001b[39m\"\u001b[39;49m\u001b[39mdata\u001b[39;49m\u001b[39m\"\u001b[39;49m)\u001b[39m.\u001b[39;49mget(\u001b[39m\"\u001b[39;49m\u001b[39mchildren\u001b[39;49m\u001b[39m\"\u001b[39;49m)[k]\u001b[39m.\u001b[39mget(\u001b[39m\"\u001b[39m\u001b[39mdata\u001b[39m\u001b[39m\"\u001b[39m), orient \u001b[39m=\u001b[39m \u001b[39m\"\u001b[39m\u001b[39mindex\u001b[39m\u001b[39m\"\u001b[39m)\u001b[39m.\u001b[39mtranspose()\n\u001b[0;32m     <a href='vscode-notebook-cell:/e%3A/github/redditbots/reddit_api.ipynb#X53sZmlsZQ%3D%3D?line=11'>12</a>\u001b[0m     res_df\u001b[39m.\u001b[39mappend(comment_df)\n\u001b[0;32m     <a href='vscode-notebook-cell:/e%3A/github/redditbots/reddit_api.ipynb#X53sZmlsZQ%3D%3D?line=12'>13</a>\u001b[0m i \u001b[39m+\u001b[39m\u001b[39m=\u001b[39m \u001b[39m40\u001b[39m\n",
      "\u001b[1;31mIndexError\u001b[0m: list index out of range"
     ]
    }
   ],
   "source": [
    "AITA_res = get_comments(AITA)"
   ]
  },
  {
   "cell_type": "code",
   "execution_count": 15,
   "metadata": {},
   "outputs": [],
   "source": [
    "AITA_s = AITA.iloc[49200:49800]"
   ]
  }
 ],
 "metadata": {
  "kernelspec": {
   "display_name": "Python 3.10.4 ('redditbots')",
   "language": "python",
   "name": "python3"
  },
  "language_info": {
   "codemirror_mode": {
    "name": "ipython",
    "version": 3
   },
   "file_extension": ".py",
   "mimetype": "text/x-python",
   "name": "python",
   "nbconvert_exporter": "python",
   "pygments_lexer": "ipython3",
   "version": "3.10.4"
  },
  "orig_nbformat": 4,
  "vscode": {
   "interpreter": {
    "hash": "2b2a55f9055c2400523b349fd3301d5efeb6493fd652ed128c88c237df22f590"
   }
  }
 },
 "nbformat": 4,
 "nbformat_minor": 2
}
